{
 "cells": [
  {
   "cell_type": "code",
   "execution_count": 1,
   "metadata": {},
   "outputs": [],
   "source": [
    "import torch\n",
    "import torch.nn as nn\n",
    "import torch.optim as optim\n",
    "from torch.utils.data import DataLoader\n",
    "from torchvision import datasets\n",
    "from transformers import ViTForImageClassification, ViTFeatureExtractor\n",
    "from tqdm import tqdm\n",
    "import pandas as pd\n",
    "import os\n",
    "from datasets import DatasetDict, Dataset\n",
    "from transformers import AutoImageProcessor\n",
    "from sklearn.model_selection import train_test_split\n",
    "from torch.utils.data import DataLoader, random_split\n",
    "from torchvision import datasets, transforms\n",
    "from transformers import SwinForImageClassification, AutoImageProcessor  # Updated import"
   ]
  },
  {
   "cell_type": "code",
   "execution_count": 2,
   "metadata": {},
   "outputs": [],
   "source": [
    "# Define the path to your dataset\n",
    "data_dir = \"C:/Users/Amir/Desktop/messier classification/gamma-correct\"  # Replace with the path to your dataset"
   ]
  },
  {
   "cell_type": "code",
   "execution_count": 8,
   "metadata": {},
   "outputs": [
    {
     "name": "stdout",
     "output_type": "stream",
     "text": [
      "Number of classes: 7\n"
     ]
    }
   ],
   "source": [
    "# Load the ViT feature extractor\n",
    "model_name = \"microsoft/swin-tiny-patch4-window7-224\"\n",
    "feature_extractor = AutoImageProcessor.from_pretrained(model_name, use_fast=True)\n",
    "\n",
    "\n",
    "# Hybrid approach (augmentations + feature extractor)\n",
    "augmentations = transforms.Compose([\n",
    "    transforms.RandomResizedCrop(224),\n",
    "    transforms.RandomHorizontalFlip(),\n",
    "    transforms.RandomRotation(10),\n",
    "])\n",
    "\n",
    "\n",
    "# CORRECTED PREPROCESSING FUNCTION\n",
    "def preprocess_image(image):\n",
    "    \"\"\" Apply augmentations and Swin-specific preprocessing. \"\"\"\n",
    "    augmented = augmentations(image)  # 1. Apply PIL-based augmentations\n",
    "    \n",
    "    # 2. Convert to tensor and apply Swin's normalization\n",
    "    processed = feature_extractor(\n",
    "        augmented, \n",
    "        return_tensors=\"pt\"\n",
    "    )[\"pixel_values\"][0]  # Extract first element to maintain shape\n",
    "    \n",
    "    return processed\n",
    "\n",
    "\n",
    "# Load the dataset\n",
    "dataset = datasets.ImageFolder(data_dir, transform=preprocess_image)\n",
    "# Load datasets with ViT preprocessing\n",
    "#train_dataset = datasets.ImageFolder(train_data_dir, transform=preprocess_image)\n",
    "#test_dataset = datasets.ImageFolder(test_data_dir, transform=preprocess_image)\n",
    "\n",
    "# Check the number of classes\n",
    "num_classes = len(dataset.classes)\n",
    "print(f\"Number of classes: {num_classes}\")  # Should be 21\n",
    "\n",
    "# Split the dataset into training and validation sets\n",
    "train_size = int(0.8 * len(dataset))  # 80% for training\n",
    "val_size = len(dataset) - train_size  # 20% for validation\n",
    "train_dataset, val_dataset = random_split(dataset, [train_size, val_size])\n",
    "\n",
    "# Create data loaders\n",
    "train_loader = DataLoader(train_dataset, batch_size=32, shuffle=True)\n",
    "val_loader = DataLoader(val_dataset, batch_size=32, shuffle=False)"
   ]
  },
  {
   "cell_type": "code",
   "execution_count": 9,
   "metadata": {},
   "outputs": [
    {
     "data": {
      "text/plain": [
       "['M1', 'M16', 'M17', 'M2', 'M27', 'M31', 'M8']"
      ]
     },
     "execution_count": 9,
     "metadata": {},
     "output_type": "execute_result"
    }
   ],
   "source": [
    "dataset.classes"
   ]
  },
  {
   "cell_type": "code",
   "execution_count": 10,
   "metadata": {},
   "outputs": [
    {
     "name": "stderr",
     "output_type": "stream",
     "text": [
      "Some weights of SwinForImageClassification were not initialized from the model checkpoint at microsoft/swin-tiny-patch4-window7-224 and are newly initialized because the shapes did not match:\n",
      "- classifier.bias: found shape torch.Size([1000]) in the checkpoint and torch.Size([7]) in the model instantiated\n",
      "- classifier.weight: found shape torch.Size([1000, 768]) in the checkpoint and torch.Size([7, 768]) in the model instantiated\n",
      "You should probably TRAIN this model on a down-stream task to be able to use it for predictions and inference.\n"
     ]
    }
   ],
   "source": [
    "model = SwinForImageClassification.from_pretrained(\n",
    "    model_name,\n",
    "    num_labels=num_classes,\n",
    "    ignore_mismatched_sizes=True\n",
    ")\n",
    "\n",
    "# Add custom classifier head\n",
    "model.classifier = nn.Sequential(\n",
    "    nn.LayerNorm(model.config.hidden_size),\n",
    "    nn.Dropout(0.5),\n",
    "    nn.Linear(model.config.hidden_size, num_classes)\n",
    ")"
   ]
  },
  {
   "cell_type": "code",
   "execution_count": 11,
   "metadata": {},
   "outputs": [
    {
     "data": {
      "text/plain": [
       "SwinForImageClassification(\n",
       "  (swin): SwinModel(\n",
       "    (embeddings): SwinEmbeddings(\n",
       "      (patch_embeddings): SwinPatchEmbeddings(\n",
       "        (projection): Conv2d(3, 96, kernel_size=(4, 4), stride=(4, 4))\n",
       "      )\n",
       "      (norm): LayerNorm((96,), eps=1e-05, elementwise_affine=True)\n",
       "      (dropout): Dropout(p=0.0, inplace=False)\n",
       "    )\n",
       "    (encoder): SwinEncoder(\n",
       "      (layers): ModuleList(\n",
       "        (0): SwinStage(\n",
       "          (blocks): ModuleList(\n",
       "            (0): SwinLayer(\n",
       "              (layernorm_before): LayerNorm((96,), eps=1e-05, elementwise_affine=True)\n",
       "              (attention): SwinAttention(\n",
       "                (self): SwinSelfAttention(\n",
       "                  (query): Linear(in_features=96, out_features=96, bias=True)\n",
       "                  (key): Linear(in_features=96, out_features=96, bias=True)\n",
       "                  (value): Linear(in_features=96, out_features=96, bias=True)\n",
       "                  (dropout): Dropout(p=0.0, inplace=False)\n",
       "                )\n",
       "                (output): SwinSelfOutput(\n",
       "                  (dense): Linear(in_features=96, out_features=96, bias=True)\n",
       "                  (dropout): Dropout(p=0.0, inplace=False)\n",
       "                )\n",
       "              )\n",
       "              (drop_path): Identity()\n",
       "              (layernorm_after): LayerNorm((96,), eps=1e-05, elementwise_affine=True)\n",
       "              (intermediate): SwinIntermediate(\n",
       "                (dense): Linear(in_features=96, out_features=384, bias=True)\n",
       "                (intermediate_act_fn): GELUActivation()\n",
       "              )\n",
       "              (output): SwinOutput(\n",
       "                (dense): Linear(in_features=384, out_features=96, bias=True)\n",
       "                (dropout): Dropout(p=0.0, inplace=False)\n",
       "              )\n",
       "            )\n",
       "            (1): SwinLayer(\n",
       "              (layernorm_before): LayerNorm((96,), eps=1e-05, elementwise_affine=True)\n",
       "              (attention): SwinAttention(\n",
       "                (self): SwinSelfAttention(\n",
       "                  (query): Linear(in_features=96, out_features=96, bias=True)\n",
       "                  (key): Linear(in_features=96, out_features=96, bias=True)\n",
       "                  (value): Linear(in_features=96, out_features=96, bias=True)\n",
       "                  (dropout): Dropout(p=0.0, inplace=False)\n",
       "                )\n",
       "                (output): SwinSelfOutput(\n",
       "                  (dense): Linear(in_features=96, out_features=96, bias=True)\n",
       "                  (dropout): Dropout(p=0.0, inplace=False)\n",
       "                )\n",
       "              )\n",
       "              (drop_path): SwinDropPath(p=0.00909090880304575)\n",
       "              (layernorm_after): LayerNorm((96,), eps=1e-05, elementwise_affine=True)\n",
       "              (intermediate): SwinIntermediate(\n",
       "                (dense): Linear(in_features=96, out_features=384, bias=True)\n",
       "                (intermediate_act_fn): GELUActivation()\n",
       "              )\n",
       "              (output): SwinOutput(\n",
       "                (dense): Linear(in_features=384, out_features=96, bias=True)\n",
       "                (dropout): Dropout(p=0.0, inplace=False)\n",
       "              )\n",
       "            )\n",
       "          )\n",
       "          (downsample): SwinPatchMerging(\n",
       "            (reduction): Linear(in_features=384, out_features=192, bias=False)\n",
       "            (norm): LayerNorm((384,), eps=1e-05, elementwise_affine=True)\n",
       "          )\n",
       "        )\n",
       "        (1): SwinStage(\n",
       "          (blocks): ModuleList(\n",
       "            (0): SwinLayer(\n",
       "              (layernorm_before): LayerNorm((192,), eps=1e-05, elementwise_affine=True)\n",
       "              (attention): SwinAttention(\n",
       "                (self): SwinSelfAttention(\n",
       "                  (query): Linear(in_features=192, out_features=192, bias=True)\n",
       "                  (key): Linear(in_features=192, out_features=192, bias=True)\n",
       "                  (value): Linear(in_features=192, out_features=192, bias=True)\n",
       "                  (dropout): Dropout(p=0.0, inplace=False)\n",
       "                )\n",
       "                (output): SwinSelfOutput(\n",
       "                  (dense): Linear(in_features=192, out_features=192, bias=True)\n",
       "                  (dropout): Dropout(p=0.0, inplace=False)\n",
       "                )\n",
       "              )\n",
       "              (drop_path): SwinDropPath(p=0.0181818176060915)\n",
       "              (layernorm_after): LayerNorm((192,), eps=1e-05, elementwise_affine=True)\n",
       "              (intermediate): SwinIntermediate(\n",
       "                (dense): Linear(in_features=192, out_features=768, bias=True)\n",
       "                (intermediate_act_fn): GELUActivation()\n",
       "              )\n",
       "              (output): SwinOutput(\n",
       "                (dense): Linear(in_features=768, out_features=192, bias=True)\n",
       "                (dropout): Dropout(p=0.0, inplace=False)\n",
       "              )\n",
       "            )\n",
       "            (1): SwinLayer(\n",
       "              (layernorm_before): LayerNorm((192,), eps=1e-05, elementwise_affine=True)\n",
       "              (attention): SwinAttention(\n",
       "                (self): SwinSelfAttention(\n",
       "                  (query): Linear(in_features=192, out_features=192, bias=True)\n",
       "                  (key): Linear(in_features=192, out_features=192, bias=True)\n",
       "                  (value): Linear(in_features=192, out_features=192, bias=True)\n",
       "                  (dropout): Dropout(p=0.0, inplace=False)\n",
       "                )\n",
       "                (output): SwinSelfOutput(\n",
       "                  (dense): Linear(in_features=192, out_features=192, bias=True)\n",
       "                  (dropout): Dropout(p=0.0, inplace=False)\n",
       "                )\n",
       "              )\n",
       "              (drop_path): SwinDropPath(p=0.027272727340459824)\n",
       "              (layernorm_after): LayerNorm((192,), eps=1e-05, elementwise_affine=True)\n",
       "              (intermediate): SwinIntermediate(\n",
       "                (dense): Linear(in_features=192, out_features=768, bias=True)\n",
       "                (intermediate_act_fn): GELUActivation()\n",
       "              )\n",
       "              (output): SwinOutput(\n",
       "                (dense): Linear(in_features=768, out_features=192, bias=True)\n",
       "                (dropout): Dropout(p=0.0, inplace=False)\n",
       "              )\n",
       "            )\n",
       "          )\n",
       "          (downsample): SwinPatchMerging(\n",
       "            (reduction): Linear(in_features=768, out_features=384, bias=False)\n",
       "            (norm): LayerNorm((768,), eps=1e-05, elementwise_affine=True)\n",
       "          )\n",
       "        )\n",
       "        (2): SwinStage(\n",
       "          (blocks): ModuleList(\n",
       "            (0): SwinLayer(\n",
       "              (layernorm_before): LayerNorm((384,), eps=1e-05, elementwise_affine=True)\n",
       "              (attention): SwinAttention(\n",
       "                (self): SwinSelfAttention(\n",
       "                  (query): Linear(in_features=384, out_features=384, bias=True)\n",
       "                  (key): Linear(in_features=384, out_features=384, bias=True)\n",
       "                  (value): Linear(in_features=384, out_features=384, bias=True)\n",
       "                  (dropout): Dropout(p=0.0, inplace=False)\n",
       "                )\n",
       "                (output): SwinSelfOutput(\n",
       "                  (dense): Linear(in_features=384, out_features=384, bias=True)\n",
       "                  (dropout): Dropout(p=0.0, inplace=False)\n",
       "                )\n",
       "              )\n",
       "              (drop_path): SwinDropPath(p=0.036363635212183)\n",
       "              (layernorm_after): LayerNorm((384,), eps=1e-05, elementwise_affine=True)\n",
       "              (intermediate): SwinIntermediate(\n",
       "                (dense): Linear(in_features=384, out_features=1536, bias=True)\n",
       "                (intermediate_act_fn): GELUActivation()\n",
       "              )\n",
       "              (output): SwinOutput(\n",
       "                (dense): Linear(in_features=1536, out_features=384, bias=True)\n",
       "                (dropout): Dropout(p=0.0, inplace=False)\n",
       "              )\n",
       "            )\n",
       "            (1): SwinLayer(\n",
       "              (layernorm_before): LayerNorm((384,), eps=1e-05, elementwise_affine=True)\n",
       "              (attention): SwinAttention(\n",
       "                (self): SwinSelfAttention(\n",
       "                  (query): Linear(in_features=384, out_features=384, bias=True)\n",
       "                  (key): Linear(in_features=384, out_features=384, bias=True)\n",
       "                  (value): Linear(in_features=384, out_features=384, bias=True)\n",
       "                  (dropout): Dropout(p=0.0, inplace=False)\n",
       "                )\n",
       "                (output): SwinSelfOutput(\n",
       "                  (dense): Linear(in_features=384, out_features=384, bias=True)\n",
       "                  (dropout): Dropout(p=0.0, inplace=False)\n",
       "                )\n",
       "              )\n",
       "              (drop_path): SwinDropPath(p=0.045454543083906174)\n",
       "              (layernorm_after): LayerNorm((384,), eps=1e-05, elementwise_affine=True)\n",
       "              (intermediate): SwinIntermediate(\n",
       "                (dense): Linear(in_features=384, out_features=1536, bias=True)\n",
       "                (intermediate_act_fn): GELUActivation()\n",
       "              )\n",
       "              (output): SwinOutput(\n",
       "                (dense): Linear(in_features=1536, out_features=384, bias=True)\n",
       "                (dropout): Dropout(p=0.0, inplace=False)\n",
       "              )\n",
       "            )\n",
       "            (2): SwinLayer(\n",
       "              (layernorm_before): LayerNorm((384,), eps=1e-05, elementwise_affine=True)\n",
       "              (attention): SwinAttention(\n",
       "                (self): SwinSelfAttention(\n",
       "                  (query): Linear(in_features=384, out_features=384, bias=True)\n",
       "                  (key): Linear(in_features=384, out_features=384, bias=True)\n",
       "                  (value): Linear(in_features=384, out_features=384, bias=True)\n",
       "                  (dropout): Dropout(p=0.0, inplace=False)\n",
       "                )\n",
       "                (output): SwinSelfOutput(\n",
       "                  (dense): Linear(in_features=384, out_features=384, bias=True)\n",
       "                  (dropout): Dropout(p=0.0, inplace=False)\n",
       "                )\n",
       "              )\n",
       "              (drop_path): SwinDropPath(p=0.054545458406209946)\n",
       "              (layernorm_after): LayerNorm((384,), eps=1e-05, elementwise_affine=True)\n",
       "              (intermediate): SwinIntermediate(\n",
       "                (dense): Linear(in_features=384, out_features=1536, bias=True)\n",
       "                (intermediate_act_fn): GELUActivation()\n",
       "              )\n",
       "              (output): SwinOutput(\n",
       "                (dense): Linear(in_features=1536, out_features=384, bias=True)\n",
       "                (dropout): Dropout(p=0.0, inplace=False)\n",
       "              )\n",
       "            )\n",
       "            (3): SwinLayer(\n",
       "              (layernorm_before): LayerNorm((384,), eps=1e-05, elementwise_affine=True)\n",
       "              (attention): SwinAttention(\n",
       "                (self): SwinSelfAttention(\n",
       "                  (query): Linear(in_features=384, out_features=384, bias=True)\n",
       "                  (key): Linear(in_features=384, out_features=384, bias=True)\n",
       "                  (value): Linear(in_features=384, out_features=384, bias=True)\n",
       "                  (dropout): Dropout(p=0.0, inplace=False)\n",
       "                )\n",
       "                (output): SwinSelfOutput(\n",
       "                  (dense): Linear(in_features=384, out_features=384, bias=True)\n",
       "                  (dropout): Dropout(p=0.0, inplace=False)\n",
       "                )\n",
       "              )\n",
       "              (drop_path): SwinDropPath(p=0.06363636255264282)\n",
       "              (layernorm_after): LayerNorm((384,), eps=1e-05, elementwise_affine=True)\n",
       "              (intermediate): SwinIntermediate(\n",
       "                (dense): Linear(in_features=384, out_features=1536, bias=True)\n",
       "                (intermediate_act_fn): GELUActivation()\n",
       "              )\n",
       "              (output): SwinOutput(\n",
       "                (dense): Linear(in_features=1536, out_features=384, bias=True)\n",
       "                (dropout): Dropout(p=0.0, inplace=False)\n",
       "              )\n",
       "            )\n",
       "            (4): SwinLayer(\n",
       "              (layernorm_before): LayerNorm((384,), eps=1e-05, elementwise_affine=True)\n",
       "              (attention): SwinAttention(\n",
       "                (self): SwinSelfAttention(\n",
       "                  (query): Linear(in_features=384, out_features=384, bias=True)\n",
       "                  (key): Linear(in_features=384, out_features=384, bias=True)\n",
       "                  (value): Linear(in_features=384, out_features=384, bias=True)\n",
       "                  (dropout): Dropout(p=0.0, inplace=False)\n",
       "                )\n",
       "                (output): SwinSelfOutput(\n",
       "                  (dense): Linear(in_features=384, out_features=384, bias=True)\n",
       "                  (dropout): Dropout(p=0.0, inplace=False)\n",
       "                )\n",
       "              )\n",
       "              (drop_path): SwinDropPath(p=0.0727272778749466)\n",
       "              (layernorm_after): LayerNorm((384,), eps=1e-05, elementwise_affine=True)\n",
       "              (intermediate): SwinIntermediate(\n",
       "                (dense): Linear(in_features=384, out_features=1536, bias=True)\n",
       "                (intermediate_act_fn): GELUActivation()\n",
       "              )\n",
       "              (output): SwinOutput(\n",
       "                (dense): Linear(in_features=1536, out_features=384, bias=True)\n",
       "                (dropout): Dropout(p=0.0, inplace=False)\n",
       "              )\n",
       "            )\n",
       "            (5): SwinLayer(\n",
       "              (layernorm_before): LayerNorm((384,), eps=1e-05, elementwise_affine=True)\n",
       "              (attention): SwinAttention(\n",
       "                (self): SwinSelfAttention(\n",
       "                  (query): Linear(in_features=384, out_features=384, bias=True)\n",
       "                  (key): Linear(in_features=384, out_features=384, bias=True)\n",
       "                  (value): Linear(in_features=384, out_features=384, bias=True)\n",
       "                  (dropout): Dropout(p=0.0, inplace=False)\n",
       "                )\n",
       "                (output): SwinSelfOutput(\n",
       "                  (dense): Linear(in_features=384, out_features=384, bias=True)\n",
       "                  (dropout): Dropout(p=0.0, inplace=False)\n",
       "                )\n",
       "              )\n",
       "              (drop_path): SwinDropPath(p=0.08181818574666977)\n",
       "              (layernorm_after): LayerNorm((384,), eps=1e-05, elementwise_affine=True)\n",
       "              (intermediate): SwinIntermediate(\n",
       "                (dense): Linear(in_features=384, out_features=1536, bias=True)\n",
       "                (intermediate_act_fn): GELUActivation()\n",
       "              )\n",
       "              (output): SwinOutput(\n",
       "                (dense): Linear(in_features=1536, out_features=384, bias=True)\n",
       "                (dropout): Dropout(p=0.0, inplace=False)\n",
       "              )\n",
       "            )\n",
       "          )\n",
       "          (downsample): SwinPatchMerging(\n",
       "            (reduction): Linear(in_features=1536, out_features=768, bias=False)\n",
       "            (norm): LayerNorm((1536,), eps=1e-05, elementwise_affine=True)\n",
       "          )\n",
       "        )\n",
       "        (3): SwinStage(\n",
       "          (blocks): ModuleList(\n",
       "            (0): SwinLayer(\n",
       "              (layernorm_before): LayerNorm((768,), eps=1e-05, elementwise_affine=True)\n",
       "              (attention): SwinAttention(\n",
       "                (self): SwinSelfAttention(\n",
       "                  (query): Linear(in_features=768, out_features=768, bias=True)\n",
       "                  (key): Linear(in_features=768, out_features=768, bias=True)\n",
       "                  (value): Linear(in_features=768, out_features=768, bias=True)\n",
       "                  (dropout): Dropout(p=0.0, inplace=False)\n",
       "                )\n",
       "                (output): SwinSelfOutput(\n",
       "                  (dense): Linear(in_features=768, out_features=768, bias=True)\n",
       "                  (dropout): Dropout(p=0.0, inplace=False)\n",
       "                )\n",
       "              )\n",
       "              (drop_path): SwinDropPath(p=0.09090909361839294)\n",
       "              (layernorm_after): LayerNorm((768,), eps=1e-05, elementwise_affine=True)\n",
       "              (intermediate): SwinIntermediate(\n",
       "                (dense): Linear(in_features=768, out_features=3072, bias=True)\n",
       "                (intermediate_act_fn): GELUActivation()\n",
       "              )\n",
       "              (output): SwinOutput(\n",
       "                (dense): Linear(in_features=3072, out_features=768, bias=True)\n",
       "                (dropout): Dropout(p=0.0, inplace=False)\n",
       "              )\n",
       "            )\n",
       "            (1): SwinLayer(\n",
       "              (layernorm_before): LayerNorm((768,), eps=1e-05, elementwise_affine=True)\n",
       "              (attention): SwinAttention(\n",
       "                (self): SwinSelfAttention(\n",
       "                  (query): Linear(in_features=768, out_features=768, bias=True)\n",
       "                  (key): Linear(in_features=768, out_features=768, bias=True)\n",
       "                  (value): Linear(in_features=768, out_features=768, bias=True)\n",
       "                  (dropout): Dropout(p=0.0, inplace=False)\n",
       "                )\n",
       "                (output): SwinSelfOutput(\n",
       "                  (dense): Linear(in_features=768, out_features=768, bias=True)\n",
       "                  (dropout): Dropout(p=0.0, inplace=False)\n",
       "                )\n",
       "              )\n",
       "              (drop_path): SwinDropPath(p=0.10000000149011612)\n",
       "              (layernorm_after): LayerNorm((768,), eps=1e-05, elementwise_affine=True)\n",
       "              (intermediate): SwinIntermediate(\n",
       "                (dense): Linear(in_features=768, out_features=3072, bias=True)\n",
       "                (intermediate_act_fn): GELUActivation()\n",
       "              )\n",
       "              (output): SwinOutput(\n",
       "                (dense): Linear(in_features=3072, out_features=768, bias=True)\n",
       "                (dropout): Dropout(p=0.0, inplace=False)\n",
       "              )\n",
       "            )\n",
       "          )\n",
       "        )\n",
       "      )\n",
       "    )\n",
       "    (layernorm): LayerNorm((768,), eps=1e-05, elementwise_affine=True)\n",
       "    (pooler): AdaptiveAvgPool1d(output_size=1)\n",
       "  )\n",
       "  (classifier): Sequential(\n",
       "    (0): LayerNorm((768,), eps=1e-05, elementwise_affine=True)\n",
       "    (1): Dropout(p=0.5, inplace=False)\n",
       "    (2): Linear(in_features=768, out_features=7, bias=True)\n",
       "  )\n",
       ")"
      ]
     },
     "execution_count": 11,
     "metadata": {},
     "output_type": "execute_result"
    }
   ],
   "source": [
    "# Move the model to the GPU if available\n",
    "device = torch.device(\"cuda\" if torch.cuda.is_available() else \"cpu\")\n",
    "model.to(device)"
   ]
  },
  {
   "cell_type": "code",
   "execution_count": 7,
   "metadata": {},
   "outputs": [
    {
     "name": "stderr",
     "output_type": "stream",
     "text": [
      "Epoch [1/100] Training: 100%|██████████| 70/70 [00:25<00:00,  2.76it/s, accuracy=73.9, loss=0.324] \n"
     ]
    },
    {
     "name": "stdout",
     "output_type": "stream",
     "text": [
      "Epoch [1/100], Train Loss: 0.7361, Train Accuracy: 73.93%\n"
     ]
    },
    {
     "name": "stderr",
     "output_type": "stream",
     "text": [
      "Epoch [1/100] Validation: 100%|██████████| 18/18 [00:02<00:00,  6.36it/s, accuracy=88.6, loss=0.141]\n"
     ]
    },
    {
     "name": "stdout",
     "output_type": "stream",
     "text": [
      "Epoch [1/100], Val Loss: 0.3234, Val Accuracy: 88.57%\n"
     ]
    },
    {
     "name": "stderr",
     "output_type": "stream",
     "text": [
      "Epoch [2/100] Training: 100%|██████████| 70/70 [00:23<00:00,  2.94it/s, accuracy=90.8, loss=0.135] \n"
     ]
    },
    {
     "name": "stdout",
     "output_type": "stream",
     "text": [
      "Epoch [2/100], Train Loss: 0.2614, Train Accuracy: 90.85%\n"
     ]
    },
    {
     "name": "stderr",
     "output_type": "stream",
     "text": [
      "Epoch [2/100] Validation: 100%|██████████| 18/18 [00:02<00:00,  6.36it/s, accuracy=90.9, loss=0.0443]\n"
     ]
    },
    {
     "name": "stdout",
     "output_type": "stream",
     "text": [
      "Epoch [2/100], Val Loss: 0.2324, Val Accuracy: 90.89%\n"
     ]
    },
    {
     "name": "stderr",
     "output_type": "stream",
     "text": [
      "Epoch [3/100] Training: 100%|██████████| 70/70 [00:23<00:00,  2.96it/s, accuracy=93.4, loss=0.252] \n"
     ]
    },
    {
     "name": "stdout",
     "output_type": "stream",
     "text": [
      "Epoch [3/100], Train Loss: 0.1949, Train Accuracy: 93.39%\n"
     ]
    },
    {
     "name": "stderr",
     "output_type": "stream",
     "text": [
      "Epoch [3/100] Validation: 100%|██████████| 18/18 [00:02<00:00,  6.34it/s, accuracy=92.9, loss=0.205] \n"
     ]
    },
    {
     "name": "stdout",
     "output_type": "stream",
     "text": [
      "Epoch [3/100], Val Loss: 0.2088, Val Accuracy: 92.86%\n"
     ]
    },
    {
     "name": "stderr",
     "output_type": "stream",
     "text": [
      "Epoch [4/100] Training: 100%|██████████| 70/70 [00:24<00:00,  2.91it/s, accuracy=93.6, loss=0.493] \n"
     ]
    },
    {
     "name": "stdout",
     "output_type": "stream",
     "text": [
      "Epoch [4/100], Train Loss: 0.1883, Train Accuracy: 93.62%\n"
     ]
    },
    {
     "name": "stderr",
     "output_type": "stream",
     "text": [
      "Epoch [4/100] Validation: 100%|██████████| 18/18 [00:03<00:00,  5.97it/s, accuracy=92.3, loss=0.143] \n"
     ]
    },
    {
     "name": "stdout",
     "output_type": "stream",
     "text": [
      "Epoch [4/100], Val Loss: 0.1887, Val Accuracy: 92.32%\n"
     ]
    },
    {
     "name": "stderr",
     "output_type": "stream",
     "text": [
      "Epoch [5/100] Training: 100%|██████████| 70/70 [00:24<00:00,  2.81it/s, accuracy=94.8, loss=0.0702]\n"
     ]
    },
    {
     "name": "stdout",
     "output_type": "stream",
     "text": [
      "Epoch [5/100], Train Loss: 0.1507, Train Accuracy: 94.78%\n"
     ]
    },
    {
     "name": "stderr",
     "output_type": "stream",
     "text": [
      "Epoch [5/100] Validation: 100%|██████████| 18/18 [00:02<00:00,  6.07it/s, accuracy=92.7, loss=0.135] \n"
     ]
    },
    {
     "name": "stdout",
     "output_type": "stream",
     "text": [
      "Epoch [5/100], Val Loss: 0.1806, Val Accuracy: 92.68%\n"
     ]
    },
    {
     "name": "stderr",
     "output_type": "stream",
     "text": [
      "Epoch [6/100] Training: 100%|██████████| 70/70 [00:24<00:00,  2.88it/s, accuracy=95.1, loss=0.155] \n"
     ]
    },
    {
     "name": "stdout",
     "output_type": "stream",
     "text": [
      "Epoch [6/100], Train Loss: 0.1445, Train Accuracy: 95.13%\n"
     ]
    },
    {
     "name": "stderr",
     "output_type": "stream",
     "text": [
      "Epoch [6/100] Validation: 100%|██████████| 18/18 [00:03<00:00,  5.98it/s, accuracy=91.2, loss=0.213] \n"
     ]
    },
    {
     "name": "stdout",
     "output_type": "stream",
     "text": [
      "Epoch [6/100], Val Loss: 0.2529, Val Accuracy: 91.25%\n"
     ]
    },
    {
     "name": "stderr",
     "output_type": "stream",
     "text": [
      "Epoch [7/100] Training: 100%|██████████| 70/70 [00:24<00:00,  2.86it/s, accuracy=95.2, loss=0.15]  \n"
     ]
    },
    {
     "name": "stdout",
     "output_type": "stream",
     "text": [
      "Epoch [7/100], Train Loss: 0.1469, Train Accuracy: 95.22%\n"
     ]
    },
    {
     "name": "stderr",
     "output_type": "stream",
     "text": [
      "Epoch [7/100] Validation: 100%|██████████| 18/18 [00:02<00:00,  6.13it/s, accuracy=93.8, loss=0.369] \n"
     ]
    },
    {
     "name": "stdout",
     "output_type": "stream",
     "text": [
      "Epoch [7/100], Val Loss: 0.1850, Val Accuracy: 93.75%\n"
     ]
    },
    {
     "name": "stderr",
     "output_type": "stream",
     "text": [
      "Epoch [8/100] Training: 100%|██████████| 70/70 [00:24<00:00,  2.87it/s, accuracy=96.3, loss=0.0764] \n"
     ]
    },
    {
     "name": "stdout",
     "output_type": "stream",
     "text": [
      "Epoch [8/100], Train Loss: 0.1247, Train Accuracy: 96.29%\n"
     ]
    },
    {
     "name": "stderr",
     "output_type": "stream",
     "text": [
      "Epoch [8/100] Validation: 100%|██████████| 18/18 [00:02<00:00,  6.09it/s, accuracy=94.3, loss=0.201] \n"
     ]
    },
    {
     "name": "stdout",
     "output_type": "stream",
     "text": [
      "Epoch [8/100], Val Loss: 0.1696, Val Accuracy: 94.29%\n"
     ]
    },
    {
     "name": "stderr",
     "output_type": "stream",
     "text": [
      "Epoch [9/100] Training: 100%|██████████| 70/70 [00:24<00:00,  2.84it/s, accuracy=96.6, loss=0.0382] \n"
     ]
    },
    {
     "name": "stdout",
     "output_type": "stream",
     "text": [
      "Epoch [9/100], Train Loss: 0.1002, Train Accuracy: 96.56%\n"
     ]
    },
    {
     "name": "stderr",
     "output_type": "stream",
     "text": [
      "Epoch [9/100] Validation: 100%|██████████| 18/18 [00:02<00:00,  6.08it/s, accuracy=93.4, loss=0.169]\n"
     ]
    },
    {
     "name": "stdout",
     "output_type": "stream",
     "text": [
      "Epoch [9/100], Val Loss: 0.2123, Val Accuracy: 93.39%\n"
     ]
    },
    {
     "name": "stderr",
     "output_type": "stream",
     "text": [
      "Epoch [10/100] Training: 100%|██████████| 70/70 [00:24<00:00,  2.86it/s, accuracy=96.3, loss=0.0155] \n"
     ]
    },
    {
     "name": "stdout",
     "output_type": "stream",
     "text": [
      "Epoch [10/100], Train Loss: 0.1261, Train Accuracy: 96.34%\n"
     ]
    },
    {
     "name": "stderr",
     "output_type": "stream",
     "text": [
      "Epoch [10/100] Validation: 100%|██████████| 18/18 [00:02<00:00,  6.04it/s, accuracy=94.5, loss=0.432] \n"
     ]
    },
    {
     "name": "stdout",
     "output_type": "stream",
     "text": [
      "Epoch [10/100], Val Loss: 0.2295, Val Accuracy: 94.46%\n"
     ]
    },
    {
     "name": "stderr",
     "output_type": "stream",
     "text": [
      "Epoch [11/100] Training: 100%|██████████| 70/70 [00:24<00:00,  2.84it/s, accuracy=96.1, loss=0.18]   \n"
     ]
    },
    {
     "name": "stdout",
     "output_type": "stream",
     "text": [
      "Epoch [11/100], Train Loss: 0.1216, Train Accuracy: 96.12%\n"
     ]
    },
    {
     "name": "stderr",
     "output_type": "stream",
     "text": [
      "Epoch [11/100] Validation: 100%|██████████| 18/18 [00:02<00:00,  6.02it/s, accuracy=95.2, loss=0.241] \n"
     ]
    },
    {
     "name": "stdout",
     "output_type": "stream",
     "text": [
      "Epoch [11/100], Val Loss: 0.1873, Val Accuracy: 95.18%\n"
     ]
    },
    {
     "name": "stderr",
     "output_type": "stream",
     "text": [
      "Epoch [12/100] Training: 100%|██████████| 70/70 [00:24<00:00,  2.84it/s, accuracy=97.1, loss=0.0267] \n"
     ]
    },
    {
     "name": "stdout",
     "output_type": "stream",
     "text": [
      "Epoch [12/100], Train Loss: 0.0929, Train Accuracy: 97.05%\n"
     ]
    },
    {
     "name": "stderr",
     "output_type": "stream",
     "text": [
      "Epoch [12/100] Validation: 100%|██████████| 18/18 [00:03<00:00,  5.92it/s, accuracy=93.6, loss=0.176] \n"
     ]
    },
    {
     "name": "stdout",
     "output_type": "stream",
     "text": [
      "Epoch [12/100], Val Loss: 0.1975, Val Accuracy: 93.57%\n"
     ]
    },
    {
     "name": "stderr",
     "output_type": "stream",
     "text": [
      "Epoch [13/100] Training: 100%|██████████| 70/70 [00:24<00:00,  2.86it/s, accuracy=96.8, loss=0.193]  \n"
     ]
    },
    {
     "name": "stdout",
     "output_type": "stream",
     "text": [
      "Epoch [13/100], Train Loss: 0.0906, Train Accuracy: 96.83%\n"
     ]
    },
    {
     "name": "stderr",
     "output_type": "stream",
     "text": [
      "Epoch [13/100] Validation: 100%|██████████| 18/18 [00:02<00:00,  6.09it/s, accuracy=91.4, loss=0.522] \n"
     ]
    },
    {
     "name": "stdout",
     "output_type": "stream",
     "text": [
      "Epoch [13/100], Val Loss: 0.3237, Val Accuracy: 91.43%\n"
     ]
    },
    {
     "name": "stderr",
     "output_type": "stream",
     "text": [
      "Epoch [14/100] Training: 100%|██████████| 70/70 [00:24<00:00,  2.84it/s, accuracy=96.7, loss=0.0594] \n"
     ]
    },
    {
     "name": "stdout",
     "output_type": "stream",
     "text": [
      "Epoch [14/100], Train Loss: 0.1075, Train Accuracy: 96.70%\n"
     ]
    },
    {
     "name": "stderr",
     "output_type": "stream",
     "text": [
      "Epoch [14/100] Validation: 100%|██████████| 18/18 [00:02<00:00,  6.17it/s, accuracy=92.3, loss=0.0865]\n"
     ]
    },
    {
     "name": "stdout",
     "output_type": "stream",
     "text": [
      "Epoch [14/100], Val Loss: 0.2641, Val Accuracy: 92.32%\n"
     ]
    },
    {
     "name": "stderr",
     "output_type": "stream",
     "text": [
      "Epoch [15/100] Training: 100%|██████████| 70/70 [00:24<00:00,  2.86it/s, accuracy=97.9, loss=0.00195]\n"
     ]
    },
    {
     "name": "stdout",
     "output_type": "stream",
     "text": [
      "Epoch [15/100], Train Loss: 0.0679, Train Accuracy: 97.86%\n"
     ]
    },
    {
     "name": "stderr",
     "output_type": "stream",
     "text": [
      "Epoch [15/100] Validation: 100%|██████████| 18/18 [00:02<00:00,  6.10it/s, accuracy=94.3, loss=0.288] \n"
     ]
    },
    {
     "name": "stdout",
     "output_type": "stream",
     "text": [
      "Epoch [15/100], Val Loss: 0.1834, Val Accuracy: 94.29%\n"
     ]
    },
    {
     "name": "stderr",
     "output_type": "stream",
     "text": [
      "Epoch [16/100] Training: 100%|██████████| 70/70 [00:24<00:00,  2.86it/s, accuracy=98.3, loss=0.0702] \n"
     ]
    },
    {
     "name": "stdout",
     "output_type": "stream",
     "text": [
      "Epoch [16/100], Train Loss: 0.0571, Train Accuracy: 98.30%\n"
     ]
    },
    {
     "name": "stderr",
     "output_type": "stream",
     "text": [
      "Epoch [16/100] Validation: 100%|██████████| 18/18 [00:02<00:00,  6.11it/s, accuracy=94.5, loss=0.11]  \n"
     ]
    },
    {
     "name": "stdout",
     "output_type": "stream",
     "text": [
      "Epoch [16/100], Val Loss: 0.2030, Val Accuracy: 94.46%\n"
     ]
    },
    {
     "name": "stderr",
     "output_type": "stream",
     "text": [
      "Epoch [17/100] Training: 100%|██████████| 70/70 [00:24<00:00,  2.85it/s, accuracy=98.4, loss=0.00591]\n"
     ]
    },
    {
     "name": "stdout",
     "output_type": "stream",
     "text": [
      "Epoch [17/100], Train Loss: 0.0631, Train Accuracy: 98.44%\n"
     ]
    },
    {
     "name": "stderr",
     "output_type": "stream",
     "text": [
      "Epoch [17/100] Validation: 100%|██████████| 18/18 [00:02<00:00,  6.10it/s, accuracy=95.9, loss=0.039]  \n"
     ]
    },
    {
     "name": "stdout",
     "output_type": "stream",
     "text": [
      "Epoch [17/100], Val Loss: 0.1603, Val Accuracy: 95.89%\n"
     ]
    },
    {
     "name": "stderr",
     "output_type": "stream",
     "text": [
      "Epoch [18/100] Training: 100%|██████████| 70/70 [00:24<00:00,  2.86it/s, accuracy=98.8, loss=0.000887]\n"
     ]
    },
    {
     "name": "stdout",
     "output_type": "stream",
     "text": [
      "Epoch [18/100], Train Loss: 0.0444, Train Accuracy: 98.84%\n"
     ]
    },
    {
     "name": "stderr",
     "output_type": "stream",
     "text": [
      "Epoch [18/100] Validation: 100%|██████████| 18/18 [00:02<00:00,  6.07it/s, accuracy=95, loss=0.334]    \n"
     ]
    },
    {
     "name": "stdout",
     "output_type": "stream",
     "text": [
      "Epoch [18/100], Val Loss: 0.2146, Val Accuracy: 95.00%\n"
     ]
    },
    {
     "name": "stderr",
     "output_type": "stream",
     "text": [
      "Epoch [19/100] Training: 100%|██████████| 70/70 [00:24<00:00,  2.84it/s, accuracy=98.9, loss=0.0681] \n"
     ]
    },
    {
     "name": "stdout",
     "output_type": "stream",
     "text": [
      "Epoch [19/100], Train Loss: 0.0318, Train Accuracy: 98.93%\n"
     ]
    },
    {
     "name": "stderr",
     "output_type": "stream",
     "text": [
      "Epoch [19/100] Validation: 100%|██████████| 18/18 [00:02<00:00,  6.01it/s, accuracy=93.6, loss=0.206] \n"
     ]
    },
    {
     "name": "stdout",
     "output_type": "stream",
     "text": [
      "Epoch [19/100], Val Loss: 0.2222, Val Accuracy: 93.57%\n"
     ]
    },
    {
     "name": "stderr",
     "output_type": "stream",
     "text": [
      "Epoch [20/100] Training: 100%|██████████| 70/70 [00:24<00:00,  2.84it/s, accuracy=98.9, loss=0.00268] \n"
     ]
    },
    {
     "name": "stdout",
     "output_type": "stream",
     "text": [
      "Epoch [20/100], Train Loss: 0.0339, Train Accuracy: 98.93%\n"
     ]
    },
    {
     "name": "stderr",
     "output_type": "stream",
     "text": [
      "Epoch [20/100] Validation: 100%|██████████| 18/18 [00:03<00:00,  5.98it/s, accuracy=95, loss=0.0231]   \n"
     ]
    },
    {
     "name": "stdout",
     "output_type": "stream",
     "text": [
      "Epoch [20/100], Val Loss: 0.1929, Val Accuracy: 95.00%\n"
     ]
    },
    {
     "name": "stderr",
     "output_type": "stream",
     "text": [
      "Epoch [21/100] Training: 100%|██████████| 70/70 [00:24<00:00,  2.86it/s, accuracy=99, loss=0.00206]   \n"
     ]
    },
    {
     "name": "stdout",
     "output_type": "stream",
     "text": [
      "Epoch [21/100], Train Loss: 0.0433, Train Accuracy: 99.02%\n"
     ]
    },
    {
     "name": "stderr",
     "output_type": "stream",
     "text": [
      "Epoch [21/100] Validation: 100%|██████████| 18/18 [00:02<00:00,  6.02it/s, accuracy=92.9, loss=0.00236]\n"
     ]
    },
    {
     "name": "stdout",
     "output_type": "stream",
     "text": [
      "Epoch [21/100], Val Loss: 0.2364, Val Accuracy: 92.86%\n"
     ]
    },
    {
     "name": "stderr",
     "output_type": "stream",
     "text": [
      "Epoch [22/100] Training: 100%|██████████| 70/70 [00:24<00:00,  2.86it/s, accuracy=98.9, loss=0.00404] \n"
     ]
    },
    {
     "name": "stdout",
     "output_type": "stream",
     "text": [
      "Epoch [22/100], Train Loss: 0.0343, Train Accuracy: 98.93%\n"
     ]
    },
    {
     "name": "stderr",
     "output_type": "stream",
     "text": [
      "Epoch [22/100] Validation: 100%|██████████| 18/18 [00:02<00:00,  6.11it/s, accuracy=95.2, loss=0.261] \n"
     ]
    },
    {
     "name": "stdout",
     "output_type": "stream",
     "text": [
      "Epoch [22/100], Val Loss: 0.1684, Val Accuracy: 95.18%\n"
     ]
    },
    {
     "name": "stderr",
     "output_type": "stream",
     "text": [
      "Epoch [23/100] Training: 100%|██████████| 70/70 [00:24<00:00,  2.85it/s, accuracy=99.1, loss=0.0121]  \n"
     ]
    },
    {
     "name": "stdout",
     "output_type": "stream",
     "text": [
      "Epoch [23/100], Train Loss: 0.0356, Train Accuracy: 99.06%\n"
     ]
    },
    {
     "name": "stderr",
     "output_type": "stream",
     "text": [
      "Epoch [23/100] Validation: 100%|██████████| 18/18 [00:03<00:00,  5.96it/s, accuracy=96.2, loss=0.47]   \n"
     ]
    },
    {
     "name": "stdout",
     "output_type": "stream",
     "text": [
      "Epoch [23/100], Val Loss: 0.1573, Val Accuracy: 96.25%\n"
     ]
    },
    {
     "name": "stderr",
     "output_type": "stream",
     "text": [
      "Epoch [24/100] Training: 100%|██████████| 70/70 [00:24<00:00,  2.86it/s, accuracy=98.8, loss=0.0746]  \n"
     ]
    },
    {
     "name": "stdout",
     "output_type": "stream",
     "text": [
      "Epoch [24/100], Train Loss: 0.0378, Train Accuracy: 98.84%\n"
     ]
    },
    {
     "name": "stderr",
     "output_type": "stream",
     "text": [
      "Epoch [24/100] Validation: 100%|██████████| 18/18 [00:02<00:00,  6.07it/s, accuracy=93.8, loss=0.114] \n"
     ]
    },
    {
     "name": "stdout",
     "output_type": "stream",
     "text": [
      "Epoch [24/100], Val Loss: 0.2163, Val Accuracy: 93.75%\n"
     ]
    },
    {
     "name": "stderr",
     "output_type": "stream",
     "text": [
      "Epoch [25/100] Training: 100%|██████████| 70/70 [00:24<00:00,  2.85it/s, accuracy=99.1, loss=0.00173] \n"
     ]
    },
    {
     "name": "stdout",
     "output_type": "stream",
     "text": [
      "Epoch [25/100], Train Loss: 0.0381, Train Accuracy: 99.11%\n"
     ]
    },
    {
     "name": "stderr",
     "output_type": "stream",
     "text": [
      "Epoch [25/100] Validation: 100%|██████████| 18/18 [00:02<00:00,  6.07it/s, accuracy=93, loss=0.549]  \n"
     ]
    },
    {
     "name": "stdout",
     "output_type": "stream",
     "text": [
      "Epoch [25/100], Val Loss: 0.2734, Val Accuracy: 93.04%\n"
     ]
    },
    {
     "name": "stderr",
     "output_type": "stream",
     "text": [
      "Epoch [26/100] Training: 100%|██████████| 70/70 [00:24<00:00,  2.85it/s, accuracy=98.7, loss=0.00268] \n"
     ]
    },
    {
     "name": "stdout",
     "output_type": "stream",
     "text": [
      "Epoch [26/100], Train Loss: 0.0492, Train Accuracy: 98.71%\n"
     ]
    },
    {
     "name": "stderr",
     "output_type": "stream",
     "text": [
      "Epoch [26/100] Validation: 100%|██████████| 18/18 [00:02<00:00,  6.12it/s, accuracy=95, loss=0.612]    \n"
     ]
    },
    {
     "name": "stdout",
     "output_type": "stream",
     "text": [
      "Epoch [26/100], Val Loss: 0.2533, Val Accuracy: 95.00%\n"
     ]
    },
    {
     "name": "stderr",
     "output_type": "stream",
     "text": [
      "Epoch [27/100] Training: 100%|██████████| 70/70 [00:24<00:00,  2.87it/s, accuracy=98.9, loss=0.0321]  \n"
     ]
    },
    {
     "name": "stdout",
     "output_type": "stream",
     "text": [
      "Epoch [27/100], Train Loss: 0.0343, Train Accuracy: 98.93%\n"
     ]
    },
    {
     "name": "stderr",
     "output_type": "stream",
     "text": [
      "Epoch [27/100] Validation: 100%|██████████| 18/18 [00:02<00:00,  6.18it/s, accuracy=94.5, loss=0.18]  \n"
     ]
    },
    {
     "name": "stdout",
     "output_type": "stream",
     "text": [
      "Epoch [27/100], Val Loss: 0.1808, Val Accuracy: 94.46%\n"
     ]
    },
    {
     "name": "stderr",
     "output_type": "stream",
     "text": [
      "Epoch [28/100] Training: 100%|██████████| 70/70 [00:24<00:00,  2.87it/s, accuracy=98.9, loss=0.00222] \n"
     ]
    },
    {
     "name": "stdout",
     "output_type": "stream",
     "text": [
      "Epoch [28/100], Train Loss: 0.0361, Train Accuracy: 98.93%\n"
     ]
    },
    {
     "name": "stderr",
     "output_type": "stream",
     "text": [
      "Epoch [28/100] Validation: 100%|██████████| 18/18 [00:02<00:00,  6.09it/s, accuracy=95.2, loss=0.236]  \n"
     ]
    },
    {
     "name": "stdout",
     "output_type": "stream",
     "text": [
      "Epoch [28/100], Val Loss: 0.1985, Val Accuracy: 95.18%\n"
     ]
    },
    {
     "name": "stderr",
     "output_type": "stream",
     "text": [
      "Epoch [29/100] Training: 100%|██████████| 70/70 [00:24<00:00,  2.85it/s, accuracy=98.7, loss=0.00151] \n"
     ]
    },
    {
     "name": "stdout",
     "output_type": "stream",
     "text": [
      "Epoch [29/100], Train Loss: 0.0362, Train Accuracy: 98.66%\n"
     ]
    },
    {
     "name": "stderr",
     "output_type": "stream",
     "text": [
      "Epoch [29/100] Validation: 100%|██████████| 18/18 [00:02<00:00,  6.10it/s, accuracy=96.1, loss=0.0012] \n"
     ]
    },
    {
     "name": "stdout",
     "output_type": "stream",
     "text": [
      "Epoch [29/100], Val Loss: 0.1467, Val Accuracy: 96.07%\n"
     ]
    },
    {
     "name": "stderr",
     "output_type": "stream",
     "text": [
      "Epoch [30/100] Training: 100%|██████████| 70/70 [00:24<00:00,  2.86it/s, accuracy=98.8, loss=0.000851]\n"
     ]
    },
    {
     "name": "stdout",
     "output_type": "stream",
     "text": [
      "Epoch [30/100], Train Loss: 0.0358, Train Accuracy: 98.79%\n"
     ]
    },
    {
     "name": "stderr",
     "output_type": "stream",
     "text": [
      "Epoch [30/100] Validation: 100%|██████████| 18/18 [00:02<00:00,  6.08it/s, accuracy=95.5, loss=0.357] \n"
     ]
    },
    {
     "name": "stdout",
     "output_type": "stream",
     "text": [
      "Epoch [30/100], Val Loss: 0.1571, Val Accuracy: 95.54%\n"
     ]
    },
    {
     "name": "stderr",
     "output_type": "stream",
     "text": [
      "Epoch [31/100] Training: 100%|██████████| 70/70 [00:24<00:00,  2.87it/s, accuracy=99.1, loss=0.052]   \n"
     ]
    },
    {
     "name": "stdout",
     "output_type": "stream",
     "text": [
      "Epoch [31/100], Train Loss: 0.0281, Train Accuracy: 99.11%\n"
     ]
    },
    {
     "name": "stderr",
     "output_type": "stream",
     "text": [
      "Epoch [31/100] Validation: 100%|██████████| 18/18 [00:02<00:00,  6.11it/s, accuracy=95, loss=0.016]    \n"
     ]
    },
    {
     "name": "stdout",
     "output_type": "stream",
     "text": [
      "Epoch [31/100], Val Loss: 0.1706, Val Accuracy: 95.00%\n"
     ]
    },
    {
     "name": "stderr",
     "output_type": "stream",
     "text": [
      "Epoch [32/100] Training: 100%|██████████| 70/70 [00:24<00:00,  2.85it/s, accuracy=99.2, loss=0.000241]\n"
     ]
    },
    {
     "name": "stdout",
     "output_type": "stream",
     "text": [
      "Epoch [32/100], Train Loss: 0.0323, Train Accuracy: 99.15%\n"
     ]
    },
    {
     "name": "stderr",
     "output_type": "stream",
     "text": [
      "Epoch [32/100] Validation: 100%|██████████| 18/18 [00:03<00:00,  6.00it/s, accuracy=95.9, loss=0.278]  \n"
     ]
    },
    {
     "name": "stdout",
     "output_type": "stream",
     "text": [
      "Epoch [32/100], Val Loss: 0.1783, Val Accuracy: 95.89%\n"
     ]
    },
    {
     "name": "stderr",
     "output_type": "stream",
     "text": [
      "Epoch [33/100] Training: 100%|██████████| 70/70 [00:24<00:00,  2.83it/s, accuracy=99.3, loss=0.00206] \n"
     ]
    },
    {
     "name": "stdout",
     "output_type": "stream",
     "text": [
      "Epoch [33/100], Train Loss: 0.0237, Train Accuracy: 99.29%\n"
     ]
    },
    {
     "name": "stderr",
     "output_type": "stream",
     "text": [
      "Epoch [33/100] Validation: 100%|██████████| 18/18 [00:03<00:00,  5.98it/s, accuracy=94.6, loss=0.108] \n"
     ]
    },
    {
     "name": "stdout",
     "output_type": "stream",
     "text": [
      "Epoch [33/100], Val Loss: 0.1597, Val Accuracy: 94.64%\n"
     ]
    },
    {
     "name": "stderr",
     "output_type": "stream",
     "text": [
      "Epoch [34/100] Training: 100%|██████████| 70/70 [00:24<00:00,  2.81it/s, accuracy=98.9, loss=0.00165] \n"
     ]
    },
    {
     "name": "stdout",
     "output_type": "stream",
     "text": [
      "Epoch [34/100], Train Loss: 0.0376, Train Accuracy: 98.93%\n"
     ]
    },
    {
     "name": "stderr",
     "output_type": "stream",
     "text": [
      "Epoch [34/100] Validation: 100%|██████████| 18/18 [00:03<00:00,  5.98it/s, accuracy=94.3, loss=0.231]  \n"
     ]
    },
    {
     "name": "stdout",
     "output_type": "stream",
     "text": [
      "Epoch [34/100], Val Loss: 0.2318, Val Accuracy: 94.29%\n"
     ]
    },
    {
     "name": "stderr",
     "output_type": "stream",
     "text": [
      "Epoch [35/100] Training: 100%|██████████| 70/70 [00:24<00:00,  2.89it/s, accuracy=99.2, loss=0.00127] \n"
     ]
    },
    {
     "name": "stdout",
     "output_type": "stream",
     "text": [
      "Epoch [35/100], Train Loss: 0.0252, Train Accuracy: 99.24%\n"
     ]
    },
    {
     "name": "stderr",
     "output_type": "stream",
     "text": [
      "Epoch [35/100] Validation: 100%|██████████| 18/18 [00:02<00:00,  6.14it/s, accuracy=94.6, loss=0.108] \n"
     ]
    },
    {
     "name": "stdout",
     "output_type": "stream",
     "text": [
      "Epoch [35/100], Val Loss: 0.1695, Val Accuracy: 94.64%\n"
     ]
    },
    {
     "name": "stderr",
     "output_type": "stream",
     "text": [
      "Epoch [36/100] Training: 100%|██████████| 70/70 [00:24<00:00,  2.89it/s, accuracy=99.1, loss=0.019]   \n"
     ]
    },
    {
     "name": "stdout",
     "output_type": "stream",
     "text": [
      "Epoch [36/100], Train Loss: 0.0340, Train Accuracy: 99.06%\n"
     ]
    },
    {
     "name": "stderr",
     "output_type": "stream",
     "text": [
      "Epoch [36/100] Validation: 100%|██████████| 18/18 [00:02<00:00,  6.06it/s, accuracy=95.2, loss=0.243] \n"
     ]
    },
    {
     "name": "stdout",
     "output_type": "stream",
     "text": [
      "Epoch [36/100], Val Loss: 0.1937, Val Accuracy: 95.18%\n"
     ]
    },
    {
     "name": "stderr",
     "output_type": "stream",
     "text": [
      "Epoch [37/100] Training: 100%|██████████| 70/70 [00:24<00:00,  2.89it/s, accuracy=99.5, loss=0.0269]  \n"
     ]
    },
    {
     "name": "stdout",
     "output_type": "stream",
     "text": [
      "Epoch [37/100], Train Loss: 0.0174, Train Accuracy: 99.46%\n"
     ]
    },
    {
     "name": "stderr",
     "output_type": "stream",
     "text": [
      "Epoch [37/100] Validation: 100%|██████████| 18/18 [00:02<00:00,  6.11it/s, accuracy=95.2, loss=0.00904]\n"
     ]
    },
    {
     "name": "stdout",
     "output_type": "stream",
     "text": [
      "Epoch [37/100], Val Loss: 0.1651, Val Accuracy: 95.18%\n"
     ]
    },
    {
     "name": "stderr",
     "output_type": "stream",
     "text": [
      "Epoch [38/100] Training: 100%|██████████| 70/70 [00:25<00:00,  2.80it/s, accuracy=99.1, loss=0.127]   \n"
     ]
    },
    {
     "name": "stdout",
     "output_type": "stream",
     "text": [
      "Epoch [38/100], Train Loss: 0.0237, Train Accuracy: 99.06%\n"
     ]
    },
    {
     "name": "stderr",
     "output_type": "stream",
     "text": [
      "Epoch [38/100] Validation: 100%|██████████| 18/18 [00:03<00:00,  6.00it/s, accuracy=95.2, loss=0.165]  \n"
     ]
    },
    {
     "name": "stdout",
     "output_type": "stream",
     "text": [
      "Epoch [38/100], Val Loss: 0.1907, Val Accuracy: 95.18%\n"
     ]
    },
    {
     "name": "stderr",
     "output_type": "stream",
     "text": [
      "Epoch [39/100] Training: 100%|██████████| 70/70 [00:24<00:00,  2.80it/s, accuracy=99.1, loss=0.0438]  \n"
     ]
    },
    {
     "name": "stdout",
     "output_type": "stream",
     "text": [
      "Epoch [39/100], Train Loss: 0.0294, Train Accuracy: 99.06%\n"
     ]
    },
    {
     "name": "stderr",
     "output_type": "stream",
     "text": [
      "Epoch [39/100] Validation: 100%|██████████| 18/18 [00:03<00:00,  5.85it/s, accuracy=96.4, loss=0.0149] \n"
     ]
    },
    {
     "name": "stdout",
     "output_type": "stream",
     "text": [
      "Epoch [39/100], Val Loss: 0.1452, Val Accuracy: 96.43%\n"
     ]
    },
    {
     "name": "stderr",
     "output_type": "stream",
     "text": [
      "Epoch [40/100] Training: 100%|██████████| 70/70 [00:25<00:00,  2.78it/s, accuracy=98.6, loss=0.000217]\n"
     ]
    },
    {
     "name": "stdout",
     "output_type": "stream",
     "text": [
      "Epoch [40/100], Train Loss: 0.0384, Train Accuracy: 98.62%\n"
     ]
    },
    {
     "name": "stderr",
     "output_type": "stream",
     "text": [
      "Epoch [40/100] Validation: 100%|██████████| 18/18 [00:03<00:00,  5.69it/s, accuracy=95.4, loss=0.0946] \n"
     ]
    },
    {
     "name": "stdout",
     "output_type": "stream",
     "text": [
      "Epoch [40/100], Val Loss: 0.1373, Val Accuracy: 95.36%\n"
     ]
    },
    {
     "name": "stderr",
     "output_type": "stream",
     "text": [
      "Epoch [41/100] Training: 100%|██████████| 70/70 [00:24<00:00,  2.86it/s, accuracy=99.1, loss=0.000264]\n"
     ]
    },
    {
     "name": "stdout",
     "output_type": "stream",
     "text": [
      "Epoch [41/100], Train Loss: 0.0370, Train Accuracy: 99.06%\n"
     ]
    },
    {
     "name": "stderr",
     "output_type": "stream",
     "text": [
      "Epoch [41/100] Validation: 100%|██████████| 18/18 [00:02<00:00,  6.09it/s, accuracy=95.4, loss=0.0403] \n"
     ]
    },
    {
     "name": "stdout",
     "output_type": "stream",
     "text": [
      "Epoch [41/100], Val Loss: 0.1613, Val Accuracy: 95.36%\n"
     ]
    },
    {
     "name": "stderr",
     "output_type": "stream",
     "text": [
      "Epoch [42/100] Training: 100%|██████████| 70/70 [00:24<00:00,  2.88it/s, accuracy=99.3, loss=0.000568]\n"
     ]
    },
    {
     "name": "stdout",
     "output_type": "stream",
     "text": [
      "Epoch [42/100], Train Loss: 0.0307, Train Accuracy: 99.33%\n"
     ]
    },
    {
     "name": "stderr",
     "output_type": "stream",
     "text": [
      "Epoch [42/100] Validation: 100%|██████████| 18/18 [00:02<00:00,  6.04it/s, accuracy=95.4, loss=0.154] \n"
     ]
    },
    {
     "name": "stdout",
     "output_type": "stream",
     "text": [
      "Epoch [42/100], Val Loss: 0.1835, Val Accuracy: 95.36%\n"
     ]
    },
    {
     "name": "stderr",
     "output_type": "stream",
     "text": [
      "Epoch [43/100] Training: 100%|██████████| 70/70 [00:24<00:00,  2.83it/s, accuracy=99.3, loss=0.119]   \n"
     ]
    },
    {
     "name": "stdout",
     "output_type": "stream",
     "text": [
      "Epoch [43/100], Train Loss: 0.0245, Train Accuracy: 99.29%\n"
     ]
    },
    {
     "name": "stderr",
     "output_type": "stream",
     "text": [
      "Epoch [43/100] Validation: 100%|██████████| 18/18 [00:03<00:00,  5.85it/s, accuracy=96.1, loss=0.113]  \n"
     ]
    },
    {
     "name": "stdout",
     "output_type": "stream",
     "text": [
      "Epoch [43/100], Val Loss: 0.1217, Val Accuracy: 96.07%\n"
     ]
    },
    {
     "name": "stderr",
     "output_type": "stream",
     "text": [
      "Epoch [44/100] Training: 100%|██████████| 70/70 [00:25<00:00,  2.75it/s, accuracy=99.4, loss=0.000742]\n"
     ]
    },
    {
     "name": "stdout",
     "output_type": "stream",
     "text": [
      "Epoch [44/100], Train Loss: 0.0212, Train Accuracy: 99.38%\n"
     ]
    },
    {
     "name": "stderr",
     "output_type": "stream",
     "text": [
      "Epoch [44/100] Validation: 100%|██████████| 18/18 [00:03<00:00,  5.96it/s, accuracy=95.9, loss=0.0383] \n"
     ]
    },
    {
     "name": "stdout",
     "output_type": "stream",
     "text": [
      "Epoch [44/100], Val Loss: 0.1593, Val Accuracy: 95.89%\n"
     ]
    },
    {
     "name": "stderr",
     "output_type": "stream",
     "text": [
      "Epoch [45/100] Training: 100%|██████████| 70/70 [00:25<00:00,  2.79it/s, accuracy=99.1, loss=0.00188] \n"
     ]
    },
    {
     "name": "stdout",
     "output_type": "stream",
     "text": [
      "Epoch [45/100], Train Loss: 0.0387, Train Accuracy: 99.06%\n"
     ]
    },
    {
     "name": "stderr",
     "output_type": "stream",
     "text": [
      "Epoch [45/100] Validation: 100%|██████████| 18/18 [00:03<00:00,  5.88it/s, accuracy=95.7, loss=0.0024] \n"
     ]
    },
    {
     "name": "stdout",
     "output_type": "stream",
     "text": [
      "Epoch [45/100], Val Loss: 0.1806, Val Accuracy: 95.71%\n"
     ]
    },
    {
     "name": "stderr",
     "output_type": "stream",
     "text": [
      "Epoch [46/100] Training: 100%|██████████| 70/70 [00:25<00:00,  2.78it/s, accuracy=99.4, loss=0.00143] \n"
     ]
    },
    {
     "name": "stdout",
     "output_type": "stream",
     "text": [
      "Epoch [46/100], Train Loss: 0.0220, Train Accuracy: 99.38%\n"
     ]
    },
    {
     "name": "stderr",
     "output_type": "stream",
     "text": [
      "Epoch [46/100] Validation: 100%|██████████| 18/18 [00:03<00:00,  5.88it/s, accuracy=95.4, loss=0.419]  \n"
     ]
    },
    {
     "name": "stdout",
     "output_type": "stream",
     "text": [
      "Epoch [46/100], Val Loss: 0.2204, Val Accuracy: 95.36%\n"
     ]
    },
    {
     "name": "stderr",
     "output_type": "stream",
     "text": [
      "Epoch [47/100] Training: 100%|██████████| 70/70 [00:25<00:00,  2.78it/s, accuracy=99.2, loss=0.00176] \n"
     ]
    },
    {
     "name": "stdout",
     "output_type": "stream",
     "text": [
      "Epoch [47/100], Train Loss: 0.0285, Train Accuracy: 99.20%\n"
     ]
    },
    {
     "name": "stderr",
     "output_type": "stream",
     "text": [
      "Epoch [47/100] Validation: 100%|██████████| 18/18 [00:03<00:00,  5.82it/s, accuracy=94.5, loss=0.141]  \n"
     ]
    },
    {
     "name": "stdout",
     "output_type": "stream",
     "text": [
      "Epoch [47/100], Val Loss: 0.2011, Val Accuracy: 94.46%\n"
     ]
    },
    {
     "name": "stderr",
     "output_type": "stream",
     "text": [
      "Epoch [48/100] Training: 100%|██████████| 70/70 [00:24<00:00,  2.84it/s, accuracy=99.2, loss=0.203]   \n"
     ]
    },
    {
     "name": "stdout",
     "output_type": "stream",
     "text": [
      "Epoch [48/100], Train Loss: 0.0335, Train Accuracy: 99.20%\n"
     ]
    },
    {
     "name": "stderr",
     "output_type": "stream",
     "text": [
      "Epoch [48/100] Validation: 100%|██████████| 18/18 [00:03<00:00,  5.91it/s, accuracy=95.4, loss=0.0168] \n"
     ]
    },
    {
     "name": "stdout",
     "output_type": "stream",
     "text": [
      "Epoch [48/100], Val Loss: 0.1781, Val Accuracy: 95.36%\n"
     ]
    },
    {
     "name": "stderr",
     "output_type": "stream",
     "text": [
      "Epoch [49/100] Training: 100%|██████████| 70/70 [00:24<00:00,  2.82it/s, accuracy=99.1, loss=0.000832]\n"
     ]
    },
    {
     "name": "stdout",
     "output_type": "stream",
     "text": [
      "Epoch [49/100], Train Loss: 0.0368, Train Accuracy: 99.11%\n"
     ]
    },
    {
     "name": "stderr",
     "output_type": "stream",
     "text": [
      "Epoch [49/100] Validation: 100%|██████████| 18/18 [00:03<00:00,  5.97it/s, accuracy=94.6, loss=0.14]   \n"
     ]
    },
    {
     "name": "stdout",
     "output_type": "stream",
     "text": [
      "Epoch [49/100], Val Loss: 0.1689, Val Accuracy: 94.64%\n"
     ]
    },
    {
     "name": "stderr",
     "output_type": "stream",
     "text": [
      "Epoch [50/100] Training: 100%|██████████| 70/70 [00:24<00:00,  2.81it/s, accuracy=99.4, loss=0.00205] \n"
     ]
    },
    {
     "name": "stdout",
     "output_type": "stream",
     "text": [
      "Epoch [50/100], Train Loss: 0.0268, Train Accuracy: 99.38%\n"
     ]
    },
    {
     "name": "stderr",
     "output_type": "stream",
     "text": [
      "Epoch [50/100] Validation: 100%|██████████| 18/18 [00:03<00:00,  5.91it/s, accuracy=96.2, loss=0.00112] \n"
     ]
    },
    {
     "name": "stdout",
     "output_type": "stream",
     "text": [
      "Epoch [50/100], Val Loss: 0.1917, Val Accuracy: 96.25%\n"
     ]
    },
    {
     "name": "stderr",
     "output_type": "stream",
     "text": [
      "Epoch [51/100] Training: 100%|██████████| 70/70 [00:24<00:00,  2.81it/s, accuracy=99.1, loss=0.0637]  \n"
     ]
    },
    {
     "name": "stdout",
     "output_type": "stream",
     "text": [
      "Epoch [51/100], Train Loss: 0.0252, Train Accuracy: 99.11%\n"
     ]
    },
    {
     "name": "stderr",
     "output_type": "stream",
     "text": [
      "Epoch [51/100] Validation: 100%|██████████| 18/18 [00:03<00:00,  5.97it/s, accuracy=97.5, loss=0.00104]\n"
     ]
    },
    {
     "name": "stdout",
     "output_type": "stream",
     "text": [
      "Epoch [51/100], Val Loss: 0.1227, Val Accuracy: 97.50%\n"
     ]
    },
    {
     "name": "stderr",
     "output_type": "stream",
     "text": [
      "Epoch [52/100] Training: 100%|██████████| 70/70 [00:24<00:00,  2.83it/s, accuracy=99, loss=0.0554]    \n"
     ]
    },
    {
     "name": "stdout",
     "output_type": "stream",
     "text": [
      "Epoch [52/100], Train Loss: 0.0437, Train Accuracy: 99.02%\n"
     ]
    },
    {
     "name": "stderr",
     "output_type": "stream",
     "text": [
      "Epoch [52/100] Validation: 100%|██████████| 18/18 [00:02<00:00,  6.01it/s, accuracy=95.7, loss=0.561]  \n"
     ]
    },
    {
     "name": "stdout",
     "output_type": "stream",
     "text": [
      "Epoch [52/100], Val Loss: 0.1680, Val Accuracy: 95.71%\n"
     ]
    },
    {
     "name": "stderr",
     "output_type": "stream",
     "text": [
      "Epoch [53/100] Training: 100%|██████████| 70/70 [00:24<00:00,  2.81it/s, accuracy=99.4, loss=0.000406]\n"
     ]
    },
    {
     "name": "stdout",
     "output_type": "stream",
     "text": [
      "Epoch [53/100], Train Loss: 0.0213, Train Accuracy: 99.42%\n"
     ]
    },
    {
     "name": "stderr",
     "output_type": "stream",
     "text": [
      "Epoch [53/100] Validation: 100%|██████████| 18/18 [00:03<00:00,  5.76it/s, accuracy=96.4, loss=0.0687]\n"
     ]
    },
    {
     "name": "stdout",
     "output_type": "stream",
     "text": [
      "Epoch [53/100], Val Loss: 0.1594, Val Accuracy: 96.43%\n"
     ]
    },
    {
     "name": "stderr",
     "output_type": "stream",
     "text": [
      "Epoch [54/100] Training: 100%|██████████| 70/70 [00:24<00:00,  2.83it/s, accuracy=99.2, loss=0.00215] \n"
     ]
    },
    {
     "name": "stdout",
     "output_type": "stream",
     "text": [
      "Epoch [54/100], Train Loss: 0.0285, Train Accuracy: 99.24%\n"
     ]
    },
    {
     "name": "stderr",
     "output_type": "stream",
     "text": [
      "Epoch [54/100] Validation: 100%|██████████| 18/18 [00:02<00:00,  6.02it/s, accuracy=95.9, loss=0.541]   \n"
     ]
    },
    {
     "name": "stdout",
     "output_type": "stream",
     "text": [
      "Epoch [54/100], Val Loss: 0.1640, Val Accuracy: 95.89%\n"
     ]
    },
    {
     "name": "stderr",
     "output_type": "stream",
     "text": [
      "Epoch [55/100] Training: 100%|██████████| 70/70 [00:25<00:00,  2.79it/s, accuracy=98.9, loss=0.207]   \n"
     ]
    },
    {
     "name": "stdout",
     "output_type": "stream",
     "text": [
      "Epoch [55/100], Train Loss: 0.0450, Train Accuracy: 98.93%\n"
     ]
    },
    {
     "name": "stderr",
     "output_type": "stream",
     "text": [
      "Epoch [55/100] Validation: 100%|██████████| 18/18 [00:02<00:00,  6.02it/s, accuracy=95.7, loss=0.222]  \n"
     ]
    },
    {
     "name": "stdout",
     "output_type": "stream",
     "text": [
      "Epoch [55/100], Val Loss: 0.1866, Val Accuracy: 95.71%\n"
     ]
    },
    {
     "name": "stderr",
     "output_type": "stream",
     "text": [
      "Epoch [56/100] Training: 100%|██████████| 70/70 [00:24<00:00,  2.85it/s, accuracy=99.1, loss=0.0995]  \n"
     ]
    },
    {
     "name": "stdout",
     "output_type": "stream",
     "text": [
      "Epoch [56/100], Train Loss: 0.0273, Train Accuracy: 99.11%\n"
     ]
    },
    {
     "name": "stderr",
     "output_type": "stream",
     "text": [
      "Epoch [56/100] Validation: 100%|██████████| 18/18 [00:02<00:00,  6.07it/s, accuracy=95.7, loss=0.0263] \n"
     ]
    },
    {
     "name": "stdout",
     "output_type": "stream",
     "text": [
      "Epoch [56/100], Val Loss: 0.1348, Val Accuracy: 95.71%\n"
     ]
    },
    {
     "name": "stderr",
     "output_type": "stream",
     "text": [
      "Epoch [57/100] Training: 100%|██████████| 70/70 [00:24<00:00,  2.84it/s, accuracy=99.6, loss=0.000517]\n"
     ]
    },
    {
     "name": "stdout",
     "output_type": "stream",
     "text": [
      "Epoch [57/100], Train Loss: 0.0186, Train Accuracy: 99.55%\n"
     ]
    },
    {
     "name": "stderr",
     "output_type": "stream",
     "text": [
      "Epoch [57/100] Validation: 100%|██████████| 18/18 [00:03<00:00,  5.78it/s, accuracy=95.4, loss=0.39]  \n"
     ]
    },
    {
     "name": "stdout",
     "output_type": "stream",
     "text": [
      "Epoch [57/100], Val Loss: 0.1658, Val Accuracy: 95.36%\n"
     ]
    },
    {
     "name": "stderr",
     "output_type": "stream",
     "text": [
      "Epoch [58/100] Training: 100%|██████████| 70/70 [00:24<00:00,  2.81it/s, accuracy=99.2, loss=0.0507]  \n"
     ]
    },
    {
     "name": "stdout",
     "output_type": "stream",
     "text": [
      "Epoch [58/100], Train Loss: 0.0209, Train Accuracy: 99.24%\n"
     ]
    },
    {
     "name": "stderr",
     "output_type": "stream",
     "text": [
      "Epoch [58/100] Validation: 100%|██████████| 18/18 [00:03<00:00,  5.80it/s, accuracy=95.7, loss=0.41]  \n"
     ]
    },
    {
     "name": "stdout",
     "output_type": "stream",
     "text": [
      "Epoch [58/100], Val Loss: 0.1395, Val Accuracy: 95.71%\n"
     ]
    },
    {
     "name": "stderr",
     "output_type": "stream",
     "text": [
      "Epoch [59/100] Training: 100%|██████████| 70/70 [00:24<00:00,  2.81it/s, accuracy=99.1, loss=0.00974] \n"
     ]
    },
    {
     "name": "stdout",
     "output_type": "stream",
     "text": [
      "Epoch [59/100], Train Loss: 0.0416, Train Accuracy: 99.06%\n"
     ]
    },
    {
     "name": "stderr",
     "output_type": "stream",
     "text": [
      "Epoch [59/100] Validation: 100%|██████████| 18/18 [00:03<00:00,  5.88it/s, accuracy=95.9, loss=0.612]   \n"
     ]
    },
    {
     "name": "stdout",
     "output_type": "stream",
     "text": [
      "Epoch [59/100], Val Loss: 0.1839, Val Accuracy: 95.89%\n"
     ]
    },
    {
     "name": "stderr",
     "output_type": "stream",
     "text": [
      "Epoch [60/100] Training: 100%|██████████| 70/70 [00:25<00:00,  2.80it/s, accuracy=99.2, loss=0.317]   \n"
     ]
    },
    {
     "name": "stdout",
     "output_type": "stream",
     "text": [
      "Epoch [60/100], Train Loss: 0.0254, Train Accuracy: 99.24%\n"
     ]
    },
    {
     "name": "stderr",
     "output_type": "stream",
     "text": [
      "Epoch [60/100] Validation: 100%|██████████| 18/18 [00:03<00:00,  5.93it/s, accuracy=96.6, loss=0.306]  \n"
     ]
    },
    {
     "name": "stdout",
     "output_type": "stream",
     "text": [
      "Epoch [60/100], Val Loss: 0.1372, Val Accuracy: 96.61%\n"
     ]
    },
    {
     "name": "stderr",
     "output_type": "stream",
     "text": [
      "Epoch [61/100] Training: 100%|██████████| 70/70 [00:24<00:00,  2.82it/s, accuracy=99, loss=0.001]     \n"
     ]
    },
    {
     "name": "stdout",
     "output_type": "stream",
     "text": [
      "Epoch [61/100], Train Loss: 0.0351, Train Accuracy: 98.97%\n"
     ]
    },
    {
     "name": "stderr",
     "output_type": "stream",
     "text": [
      "Epoch [61/100] Validation: 100%|██████████| 18/18 [00:03<00:00,  5.93it/s, accuracy=95.4, loss=0.0348] \n"
     ]
    },
    {
     "name": "stdout",
     "output_type": "stream",
     "text": [
      "Epoch [61/100], Val Loss: 0.1868, Val Accuracy: 95.36%\n"
     ]
    },
    {
     "name": "stderr",
     "output_type": "stream",
     "text": [
      "Epoch [62/100] Training: 100%|██████████| 70/70 [00:24<00:00,  2.81it/s, accuracy=99.4, loss=0.000214]\n"
     ]
    },
    {
     "name": "stdout",
     "output_type": "stream",
     "text": [
      "Epoch [62/100], Train Loss: 0.0232, Train Accuracy: 99.42%\n"
     ]
    },
    {
     "name": "stderr",
     "output_type": "stream",
     "text": [
      "Epoch [62/100] Validation: 100%|██████████| 18/18 [00:03<00:00,  5.76it/s, accuracy=95.5, loss=0.285]  \n"
     ]
    },
    {
     "name": "stdout",
     "output_type": "stream",
     "text": [
      "Epoch [62/100], Val Loss: 0.1749, Val Accuracy: 95.54%\n"
     ]
    },
    {
     "name": "stderr",
     "output_type": "stream",
     "text": [
      "Epoch [63/100] Training: 100%|██████████| 70/70 [00:24<00:00,  2.80it/s, accuracy=99.4, loss=0.00181] \n"
     ]
    },
    {
     "name": "stdout",
     "output_type": "stream",
     "text": [
      "Epoch [63/100], Train Loss: 0.0261, Train Accuracy: 99.42%\n"
     ]
    },
    {
     "name": "stderr",
     "output_type": "stream",
     "text": [
      "Epoch [63/100] Validation: 100%|██████████| 18/18 [00:03<00:00,  6.00it/s, accuracy=95, loss=0.403]   \n"
     ]
    },
    {
     "name": "stdout",
     "output_type": "stream",
     "text": [
      "Epoch [63/100], Val Loss: 0.1951, Val Accuracy: 95.00%\n"
     ]
    },
    {
     "name": "stderr",
     "output_type": "stream",
     "text": [
      "Epoch [64/100] Training: 100%|██████████| 70/70 [00:24<00:00,  2.81it/s, accuracy=99.6, loss=0.114]   \n"
     ]
    },
    {
     "name": "stdout",
     "output_type": "stream",
     "text": [
      "Epoch [64/100], Train Loss: 0.0160, Train Accuracy: 99.60%\n"
     ]
    },
    {
     "name": "stderr",
     "output_type": "stream",
     "text": [
      "Epoch [64/100] Validation: 100%|██████████| 18/18 [00:02<00:00,  6.02it/s, accuracy=96.6, loss=0.375]   \n"
     ]
    },
    {
     "name": "stdout",
     "output_type": "stream",
     "text": [
      "Epoch [64/100], Val Loss: 0.1525, Val Accuracy: 96.61%\n"
     ]
    },
    {
     "name": "stderr",
     "output_type": "stream",
     "text": [
      "Epoch [65/100] Training: 100%|██████████| 70/70 [00:24<00:00,  2.82it/s, accuracy=99, loss=0.00567]   \n"
     ]
    },
    {
     "name": "stdout",
     "output_type": "stream",
     "text": [
      "Epoch [65/100], Train Loss: 0.0408, Train Accuracy: 99.02%\n"
     ]
    },
    {
     "name": "stderr",
     "output_type": "stream",
     "text": [
      "Epoch [65/100] Validation: 100%|██████████| 18/18 [00:03<00:00,  5.75it/s, accuracy=96.1, loss=0.0135]  \n"
     ]
    },
    {
     "name": "stdout",
     "output_type": "stream",
     "text": [
      "Epoch [65/100], Val Loss: 0.1262, Val Accuracy: 96.07%\n"
     ]
    },
    {
     "name": "stderr",
     "output_type": "stream",
     "text": [
      "Epoch [66/100] Training: 100%|██████████| 70/70 [00:24<00:00,  2.85it/s, accuracy=99.3, loss=0.00919] \n"
     ]
    },
    {
     "name": "stdout",
     "output_type": "stream",
     "text": [
      "Epoch [66/100], Train Loss: 0.0382, Train Accuracy: 99.29%\n"
     ]
    },
    {
     "name": "stderr",
     "output_type": "stream",
     "text": [
      "Epoch [66/100] Validation: 100%|██████████| 18/18 [00:02<00:00,  6.10it/s, accuracy=96.1, loss=0.249]  \n"
     ]
    },
    {
     "name": "stdout",
     "output_type": "stream",
     "text": [
      "Epoch [66/100], Val Loss: 0.1599, Val Accuracy: 96.07%\n"
     ]
    },
    {
     "name": "stderr",
     "output_type": "stream",
     "text": [
      "Epoch [67/100] Training: 100%|██████████| 70/70 [00:24<00:00,  2.84it/s, accuracy=99.3, loss=0.000424]\n"
     ]
    },
    {
     "name": "stdout",
     "output_type": "stream",
     "text": [
      "Epoch [67/100], Train Loss: 0.0219, Train Accuracy: 99.29%\n"
     ]
    },
    {
     "name": "stderr",
     "output_type": "stream",
     "text": [
      "Epoch [67/100] Validation: 100%|██████████| 18/18 [00:03<00:00,  5.83it/s, accuracy=95, loss=0.186]   \n"
     ]
    },
    {
     "name": "stdout",
     "output_type": "stream",
     "text": [
      "Epoch [67/100], Val Loss: 0.1806, Val Accuracy: 95.00%\n"
     ]
    },
    {
     "name": "stderr",
     "output_type": "stream",
     "text": [
      "Epoch [68/100] Training: 100%|██████████| 70/70 [00:25<00:00,  2.77it/s, accuracy=99.6, loss=0.001]   \n"
     ]
    },
    {
     "name": "stdout",
     "output_type": "stream",
     "text": [
      "Epoch [68/100], Train Loss: 0.0197, Train Accuracy: 99.55%\n"
     ]
    },
    {
     "name": "stderr",
     "output_type": "stream",
     "text": [
      "Epoch [68/100] Validation: 100%|██████████| 18/18 [00:02<00:00,  6.07it/s, accuracy=96.1, loss=0.252] \n"
     ]
    },
    {
     "name": "stdout",
     "output_type": "stream",
     "text": [
      "Epoch [68/100], Val Loss: 0.1793, Val Accuracy: 96.07%\n"
     ]
    },
    {
     "name": "stderr",
     "output_type": "stream",
     "text": [
      "Epoch [69/100] Training: 100%|██████████| 70/70 [00:24<00:00,  2.86it/s, accuracy=99, loss=0.000316]  \n"
     ]
    },
    {
     "name": "stdout",
     "output_type": "stream",
     "text": [
      "Epoch [69/100], Train Loss: 0.0338, Train Accuracy: 99.02%\n"
     ]
    },
    {
     "name": "stderr",
     "output_type": "stream",
     "text": [
      "Epoch [69/100] Validation: 100%|██████████| 18/18 [00:02<00:00,  6.05it/s, accuracy=94.8, loss=0.0116] \n"
     ]
    },
    {
     "name": "stdout",
     "output_type": "stream",
     "text": [
      "Epoch [69/100], Val Loss: 0.1822, Val Accuracy: 94.82%\n"
     ]
    },
    {
     "name": "stderr",
     "output_type": "stream",
     "text": [
      "Epoch [70/100] Training: 100%|██████████| 70/70 [00:24<00:00,  2.86it/s, accuracy=99.2, loss=0.0544]  \n"
     ]
    },
    {
     "name": "stdout",
     "output_type": "stream",
     "text": [
      "Epoch [70/100], Train Loss: 0.0247, Train Accuracy: 99.24%\n"
     ]
    },
    {
     "name": "stderr",
     "output_type": "stream",
     "text": [
      "Epoch [70/100] Validation: 100%|██████████| 18/18 [00:03<00:00,  6.00it/s, accuracy=95.4, loss=0.0927]\n"
     ]
    },
    {
     "name": "stdout",
     "output_type": "stream",
     "text": [
      "Epoch [70/100], Val Loss: 0.1923, Val Accuracy: 95.36%\n"
     ]
    },
    {
     "name": "stderr",
     "output_type": "stream",
     "text": [
      "Epoch [71/100] Training: 100%|██████████| 70/70 [00:24<00:00,  2.85it/s, accuracy=98.8, loss=0.0545]  \n"
     ]
    },
    {
     "name": "stdout",
     "output_type": "stream",
     "text": [
      "Epoch [71/100], Train Loss: 0.0383, Train Accuracy: 98.79%\n"
     ]
    },
    {
     "name": "stderr",
     "output_type": "stream",
     "text": [
      "Epoch [71/100] Validation: 100%|██████████| 18/18 [00:03<00:00,  5.94it/s, accuracy=95, loss=0.065]    \n"
     ]
    },
    {
     "name": "stdout",
     "output_type": "stream",
     "text": [
      "Epoch [71/100], Val Loss: 0.1795, Val Accuracy: 95.00%\n"
     ]
    },
    {
     "name": "stderr",
     "output_type": "stream",
     "text": [
      "Epoch [72/100] Training: 100%|██████████| 70/70 [00:24<00:00,  2.87it/s, accuracy=98.8, loss=0.0366]  \n"
     ]
    },
    {
     "name": "stdout",
     "output_type": "stream",
     "text": [
      "Epoch [72/100], Train Loss: 0.0361, Train Accuracy: 98.84%\n"
     ]
    },
    {
     "name": "stderr",
     "output_type": "stream",
     "text": [
      "Epoch [72/100] Validation: 100%|██████████| 18/18 [00:02<00:00,  6.04it/s, accuracy=95.9, loss=0.332] \n"
     ]
    },
    {
     "name": "stdout",
     "output_type": "stream",
     "text": [
      "Epoch [72/100], Val Loss: 0.1683, Val Accuracy: 95.89%\n"
     ]
    },
    {
     "name": "stderr",
     "output_type": "stream",
     "text": [
      "Epoch [73/100] Training: 100%|██████████| 70/70 [00:24<00:00,  2.84it/s, accuracy=99.3, loss=0.129]   \n"
     ]
    },
    {
     "name": "stdout",
     "output_type": "stream",
     "text": [
      "Epoch [73/100], Train Loss: 0.0173, Train Accuracy: 99.33%\n"
     ]
    },
    {
     "name": "stderr",
     "output_type": "stream",
     "text": [
      "Epoch [73/100] Validation: 100%|██████████| 18/18 [00:03<00:00,  5.92it/s, accuracy=95.9, loss=0.142]  \n"
     ]
    },
    {
     "name": "stdout",
     "output_type": "stream",
     "text": [
      "Epoch [73/100], Val Loss: 0.1519, Val Accuracy: 95.89%\n"
     ]
    },
    {
     "name": "stderr",
     "output_type": "stream",
     "text": [
      "Epoch [74/100] Training: 100%|██████████| 70/70 [00:24<00:00,  2.81it/s, accuracy=99.2, loss=0.0301]  \n"
     ]
    },
    {
     "name": "stdout",
     "output_type": "stream",
     "text": [
      "Epoch [74/100], Train Loss: 0.0381, Train Accuracy: 99.24%\n"
     ]
    },
    {
     "name": "stderr",
     "output_type": "stream",
     "text": [
      "Epoch [74/100] Validation: 100%|██████████| 18/18 [00:02<00:00,  6.03it/s, accuracy=94.8, loss=0.379]  \n"
     ]
    },
    {
     "name": "stdout",
     "output_type": "stream",
     "text": [
      "Epoch [74/100], Val Loss: 0.2240, Val Accuracy: 94.82%\n"
     ]
    },
    {
     "name": "stderr",
     "output_type": "stream",
     "text": [
      "Epoch [75/100] Training: 100%|██████████| 70/70 [00:24<00:00,  2.84it/s, accuracy=99.2, loss=0.00101] \n"
     ]
    },
    {
     "name": "stdout",
     "output_type": "stream",
     "text": [
      "Epoch [75/100], Train Loss: 0.0322, Train Accuracy: 99.20%\n"
     ]
    },
    {
     "name": "stderr",
     "output_type": "stream",
     "text": [
      "Epoch [75/100] Validation: 100%|██████████| 18/18 [00:02<00:00,  6.02it/s, accuracy=96.1, loss=0.297] \n"
     ]
    },
    {
     "name": "stdout",
     "output_type": "stream",
     "text": [
      "Epoch [75/100], Val Loss: 0.1501, Val Accuracy: 96.07%\n"
     ]
    },
    {
     "name": "stderr",
     "output_type": "stream",
     "text": [
      "Epoch [76/100] Training: 100%|██████████| 70/70 [00:24<00:00,  2.82it/s, accuracy=99, loss=0.000481]  \n"
     ]
    },
    {
     "name": "stdout",
     "output_type": "stream",
     "text": [
      "Epoch [76/100], Train Loss: 0.0370, Train Accuracy: 99.02%\n"
     ]
    },
    {
     "name": "stderr",
     "output_type": "stream",
     "text": [
      "Epoch [76/100] Validation: 100%|██████████| 18/18 [00:03<00:00,  5.57it/s, accuracy=96.2, loss=0.122]  \n"
     ]
    },
    {
     "name": "stdout",
     "output_type": "stream",
     "text": [
      "Epoch [76/100], Val Loss: 0.1615, Val Accuracy: 96.25%\n"
     ]
    },
    {
     "name": "stderr",
     "output_type": "stream",
     "text": [
      "Epoch [77/100] Training: 100%|██████████| 70/70 [00:26<00:00,  2.60it/s, accuracy=99.6, loss=0.000567]\n"
     ]
    },
    {
     "name": "stdout",
     "output_type": "stream",
     "text": [
      "Epoch [77/100], Train Loss: 0.0154, Train Accuracy: 99.55%\n"
     ]
    },
    {
     "name": "stderr",
     "output_type": "stream",
     "text": [
      "Epoch [77/100] Validation: 100%|██████████| 18/18 [00:03<00:00,  5.31it/s, accuracy=95.7, loss=0.51]   \n"
     ]
    },
    {
     "name": "stdout",
     "output_type": "stream",
     "text": [
      "Epoch [77/100], Val Loss: 0.1741, Val Accuracy: 95.71%\n"
     ]
    },
    {
     "name": "stderr",
     "output_type": "stream",
     "text": [
      "Epoch [78/100] Training: 100%|██████████| 70/70 [00:25<00:00,  2.75it/s, accuracy=99.2, loss=0.0957]  \n"
     ]
    },
    {
     "name": "stdout",
     "output_type": "stream",
     "text": [
      "Epoch [78/100], Train Loss: 0.0235, Train Accuracy: 99.20%\n"
     ]
    },
    {
     "name": "stderr",
     "output_type": "stream",
     "text": [
      "Epoch [78/100] Validation: 100%|██████████| 18/18 [00:03<00:00,  5.74it/s, accuracy=95.7, loss=0.0835] \n"
     ]
    },
    {
     "name": "stdout",
     "output_type": "stream",
     "text": [
      "Epoch [78/100], Val Loss: 0.1812, Val Accuracy: 95.71%\n"
     ]
    },
    {
     "name": "stderr",
     "output_type": "stream",
     "text": [
      "Epoch [79/100] Training: 100%|██████████| 70/70 [00:25<00:00,  2.75it/s, accuracy=99.4, loss=0.00253] \n"
     ]
    },
    {
     "name": "stdout",
     "output_type": "stream",
     "text": [
      "Epoch [79/100], Train Loss: 0.0207, Train Accuracy: 99.38%\n"
     ]
    },
    {
     "name": "stderr",
     "output_type": "stream",
     "text": [
      "Epoch [79/100] Validation: 100%|██████████| 18/18 [00:03<00:00,  5.70it/s, accuracy=94.8, loss=0.0423]\n"
     ]
    },
    {
     "name": "stdout",
     "output_type": "stream",
     "text": [
      "Epoch [79/100], Val Loss: 0.1736, Val Accuracy: 94.82%\n"
     ]
    },
    {
     "name": "stderr",
     "output_type": "stream",
     "text": [
      "Epoch [80/100] Training: 100%|██████████| 70/70 [00:25<00:00,  2.75it/s, accuracy=98.9, loss=0.0717]  \n"
     ]
    },
    {
     "name": "stdout",
     "output_type": "stream",
     "text": [
      "Epoch [80/100], Train Loss: 0.0494, Train Accuracy: 98.88%\n"
     ]
    },
    {
     "name": "stderr",
     "output_type": "stream",
     "text": [
      "Epoch [80/100] Validation: 100%|██████████| 18/18 [00:02<00:00,  6.04it/s, accuracy=96.2, loss=0.373]  \n"
     ]
    },
    {
     "name": "stdout",
     "output_type": "stream",
     "text": [
      "Epoch [80/100], Val Loss: 0.1742, Val Accuracy: 96.25%\n"
     ]
    },
    {
     "name": "stderr",
     "output_type": "stream",
     "text": [
      "Epoch [81/100] Training: 100%|██████████| 70/70 [00:25<00:00,  2.73it/s, accuracy=99.4, loss=0.00156] \n"
     ]
    },
    {
     "name": "stdout",
     "output_type": "stream",
     "text": [
      "Epoch [81/100], Train Loss: 0.0275, Train Accuracy: 99.38%\n"
     ]
    },
    {
     "name": "stderr",
     "output_type": "stream",
     "text": [
      "Epoch [81/100] Validation: 100%|██████████| 18/18 [00:03<00:00,  5.59it/s, accuracy=95.9, loss=0.065]  \n"
     ]
    },
    {
     "name": "stdout",
     "output_type": "stream",
     "text": [
      "Epoch [81/100], Val Loss: 0.1841, Val Accuracy: 95.89%\n"
     ]
    },
    {
     "name": "stderr",
     "output_type": "stream",
     "text": [
      "Epoch [82/100] Training: 100%|██████████| 70/70 [00:25<00:00,  2.71it/s, accuracy=99.3, loss=0.00473] \n"
     ]
    },
    {
     "name": "stdout",
     "output_type": "stream",
     "text": [
      "Epoch [82/100], Train Loss: 0.0230, Train Accuracy: 99.29%\n"
     ]
    },
    {
     "name": "stderr",
     "output_type": "stream",
     "text": [
      "Epoch [82/100] Validation: 100%|██████████| 18/18 [00:03<00:00,  5.61it/s, accuracy=96.2, loss=0.0921]\n"
     ]
    },
    {
     "name": "stdout",
     "output_type": "stream",
     "text": [
      "Epoch [82/100], Val Loss: 0.1346, Val Accuracy: 96.25%\n"
     ]
    },
    {
     "name": "stderr",
     "output_type": "stream",
     "text": [
      "Epoch [83/100] Training: 100%|██████████| 70/70 [00:25<00:00,  2.76it/s, accuracy=99.3, loss=0.0122]  \n"
     ]
    },
    {
     "name": "stdout",
     "output_type": "stream",
     "text": [
      "Epoch [83/100], Train Loss: 0.0279, Train Accuracy: 99.33%\n"
     ]
    },
    {
     "name": "stderr",
     "output_type": "stream",
     "text": [
      "Epoch [83/100] Validation: 100%|██████████| 18/18 [00:03<00:00,  5.84it/s, accuracy=96.1, loss=0.27]   \n"
     ]
    },
    {
     "name": "stdout",
     "output_type": "stream",
     "text": [
      "Epoch [83/100], Val Loss: 0.1561, Val Accuracy: 96.07%\n"
     ]
    },
    {
     "name": "stderr",
     "output_type": "stream",
     "text": [
      "Epoch [84/100] Training: 100%|██████████| 70/70 [00:25<00:00,  2.78it/s, accuracy=99.2, loss=0.000628]\n"
     ]
    },
    {
     "name": "stdout",
     "output_type": "stream",
     "text": [
      "Epoch [84/100], Train Loss: 0.0258, Train Accuracy: 99.24%\n"
     ]
    },
    {
     "name": "stderr",
     "output_type": "stream",
     "text": [
      "Epoch [84/100] Validation: 100%|██████████| 18/18 [00:03<00:00,  5.79it/s, accuracy=95.2, loss=0.00557]\n"
     ]
    },
    {
     "name": "stdout",
     "output_type": "stream",
     "text": [
      "Epoch [84/100], Val Loss: 0.1711, Val Accuracy: 95.18%\n"
     ]
    },
    {
     "name": "stderr",
     "output_type": "stream",
     "text": [
      "Epoch [85/100] Training: 100%|██████████| 70/70 [00:24<00:00,  2.82it/s, accuracy=99.3, loss=0.124]   \n"
     ]
    },
    {
     "name": "stdout",
     "output_type": "stream",
     "text": [
      "Epoch [85/100], Train Loss: 0.0244, Train Accuracy: 99.33%\n"
     ]
    },
    {
     "name": "stderr",
     "output_type": "stream",
     "text": [
      "Epoch [85/100] Validation: 100%|██████████| 18/18 [00:02<00:00,  6.07it/s, accuracy=95.7, loss=0.236]  \n"
     ]
    },
    {
     "name": "stdout",
     "output_type": "stream",
     "text": [
      "Epoch [85/100], Val Loss: 0.1693, Val Accuracy: 95.71%\n"
     ]
    },
    {
     "name": "stderr",
     "output_type": "stream",
     "text": [
      "Epoch [86/100] Training: 100%|██████████| 70/70 [00:24<00:00,  2.85it/s, accuracy=99.5, loss=0.0229]  \n"
     ]
    },
    {
     "name": "stdout",
     "output_type": "stream",
     "text": [
      "Epoch [86/100], Train Loss: 0.0213, Train Accuracy: 99.46%\n"
     ]
    },
    {
     "name": "stderr",
     "output_type": "stream",
     "text": [
      "Epoch [86/100] Validation: 100%|██████████| 18/18 [00:03<00:00,  5.97it/s, accuracy=95.7, loss=0.124] \n"
     ]
    },
    {
     "name": "stdout",
     "output_type": "stream",
     "text": [
      "Epoch [86/100], Val Loss: 0.1929, Val Accuracy: 95.71%\n"
     ]
    },
    {
     "name": "stderr",
     "output_type": "stream",
     "text": [
      "Epoch [87/100] Training: 100%|██████████| 70/70 [00:24<00:00,  2.83it/s, accuracy=99, loss=0.000706]  \n"
     ]
    },
    {
     "name": "stdout",
     "output_type": "stream",
     "text": [
      "Epoch [87/100], Train Loss: 0.0308, Train Accuracy: 99.02%\n"
     ]
    },
    {
     "name": "stderr",
     "output_type": "stream",
     "text": [
      "Epoch [87/100] Validation: 100%|██████████| 18/18 [00:03<00:00,  5.91it/s, accuracy=95.5, loss=0.295] \n"
     ]
    },
    {
     "name": "stdout",
     "output_type": "stream",
     "text": [
      "Epoch [87/100], Val Loss: 0.1657, Val Accuracy: 95.54%\n"
     ]
    },
    {
     "name": "stderr",
     "output_type": "stream",
     "text": [
      "Epoch [88/100] Training: 100%|██████████| 70/70 [00:24<00:00,  2.82it/s, accuracy=99.2, loss=0.00978] \n"
     ]
    },
    {
     "name": "stdout",
     "output_type": "stream",
     "text": [
      "Epoch [88/100], Train Loss: 0.0294, Train Accuracy: 99.20%\n"
     ]
    },
    {
     "name": "stderr",
     "output_type": "stream",
     "text": [
      "Epoch [88/100] Validation: 100%|██████████| 18/18 [00:03<00:00,  5.99it/s, accuracy=96.6, loss=0.0136] \n"
     ]
    },
    {
     "name": "stdout",
     "output_type": "stream",
     "text": [
      "Epoch [88/100], Val Loss: 0.1138, Val Accuracy: 96.61%\n"
     ]
    },
    {
     "name": "stderr",
     "output_type": "stream",
     "text": [
      "Epoch [89/100] Training: 100%|██████████| 70/70 [00:24<00:00,  2.86it/s, accuracy=99.1, loss=0.000296]\n"
     ]
    },
    {
     "name": "stdout",
     "output_type": "stream",
     "text": [
      "Epoch [89/100], Train Loss: 0.0365, Train Accuracy: 99.11%\n"
     ]
    },
    {
     "name": "stderr",
     "output_type": "stream",
     "text": [
      "Epoch [89/100] Validation: 100%|██████████| 18/18 [00:02<00:00,  6.09it/s, accuracy=96.1, loss=0.0514]\n"
     ]
    },
    {
     "name": "stdout",
     "output_type": "stream",
     "text": [
      "Epoch [89/100], Val Loss: 0.1394, Val Accuracy: 96.07%\n"
     ]
    },
    {
     "name": "stderr",
     "output_type": "stream",
     "text": [
      "Epoch [90/100] Training: 100%|██████████| 70/70 [00:24<00:00,  2.87it/s, accuracy=99.3, loss=0.00402] \n"
     ]
    },
    {
     "name": "stdout",
     "output_type": "stream",
     "text": [
      "Epoch [90/100], Train Loss: 0.0221, Train Accuracy: 99.29%\n"
     ]
    },
    {
     "name": "stderr",
     "output_type": "stream",
     "text": [
      "Epoch [90/100] Validation: 100%|██████████| 18/18 [00:02<00:00,  6.03it/s, accuracy=96.6, loss=0.0492] \n"
     ]
    },
    {
     "name": "stdout",
     "output_type": "stream",
     "text": [
      "Epoch [90/100], Val Loss: 0.1550, Val Accuracy: 96.61%\n"
     ]
    },
    {
     "name": "stderr",
     "output_type": "stream",
     "text": [
      "Epoch [91/100] Training: 100%|██████████| 70/70 [00:24<00:00,  2.84it/s, accuracy=99.3, loss=0.000756]\n"
     ]
    },
    {
     "name": "stdout",
     "output_type": "stream",
     "text": [
      "Epoch [91/100], Train Loss: 0.0283, Train Accuracy: 99.29%\n"
     ]
    },
    {
     "name": "stderr",
     "output_type": "stream",
     "text": [
      "Epoch [91/100] Validation: 100%|██████████| 18/18 [00:03<00:00,  5.77it/s, accuracy=94.8, loss=0.363]  \n"
     ]
    },
    {
     "name": "stdout",
     "output_type": "stream",
     "text": [
      "Epoch [91/100], Val Loss: 0.1957, Val Accuracy: 94.82%\n"
     ]
    },
    {
     "name": "stderr",
     "output_type": "stream",
     "text": [
      "Epoch [92/100] Training: 100%|██████████| 70/70 [00:25<00:00,  2.78it/s, accuracy=99.2, loss=0.00309] \n"
     ]
    },
    {
     "name": "stdout",
     "output_type": "stream",
     "text": [
      "Epoch [92/100], Train Loss: 0.0281, Train Accuracy: 99.24%\n"
     ]
    },
    {
     "name": "stderr",
     "output_type": "stream",
     "text": [
      "Epoch [92/100] Validation: 100%|██████████| 18/18 [00:03<00:00,  5.85it/s, accuracy=94.8, loss=0.0324]\n"
     ]
    },
    {
     "name": "stdout",
     "output_type": "stream",
     "text": [
      "Epoch [92/100], Val Loss: 0.1891, Val Accuracy: 94.82%\n"
     ]
    },
    {
     "name": "stderr",
     "output_type": "stream",
     "text": [
      "Epoch [93/100] Training: 100%|██████████| 70/70 [00:25<00:00,  2.78it/s, accuracy=99.2, loss=0.00948] \n"
     ]
    },
    {
     "name": "stdout",
     "output_type": "stream",
     "text": [
      "Epoch [93/100], Train Loss: 0.0304, Train Accuracy: 99.24%\n"
     ]
    },
    {
     "name": "stderr",
     "output_type": "stream",
     "text": [
      "Epoch [93/100] Validation: 100%|██████████| 18/18 [00:03<00:00,  5.88it/s, accuracy=96.1, loss=0.332] \n"
     ]
    },
    {
     "name": "stdout",
     "output_type": "stream",
     "text": [
      "Epoch [93/100], Val Loss: 0.1623, Val Accuracy: 96.07%\n"
     ]
    },
    {
     "name": "stderr",
     "output_type": "stream",
     "text": [
      "Epoch [94/100] Training: 100%|██████████| 70/70 [00:25<00:00,  2.80it/s, accuracy=99.1, loss=0.00674] \n"
     ]
    },
    {
     "name": "stdout",
     "output_type": "stream",
     "text": [
      "Epoch [94/100], Train Loss: 0.0290, Train Accuracy: 99.11%\n"
     ]
    },
    {
     "name": "stderr",
     "output_type": "stream",
     "text": [
      "Epoch [94/100] Validation: 100%|██████████| 18/18 [00:03<00:00,  5.98it/s, accuracy=95.9, loss=0.00962]\n"
     ]
    },
    {
     "name": "stdout",
     "output_type": "stream",
     "text": [
      "Epoch [94/100], Val Loss: 0.1879, Val Accuracy: 95.89%\n"
     ]
    },
    {
     "name": "stderr",
     "output_type": "stream",
     "text": [
      "Epoch [95/100] Training: 100%|██████████| 70/70 [00:24<00:00,  2.86it/s, accuracy=99.3, loss=0.00029] \n"
     ]
    },
    {
     "name": "stdout",
     "output_type": "stream",
     "text": [
      "Epoch [95/100], Train Loss: 0.0326, Train Accuracy: 99.29%\n"
     ]
    },
    {
     "name": "stderr",
     "output_type": "stream",
     "text": [
      "Epoch [95/100] Validation: 100%|██████████| 18/18 [00:03<00:00,  5.98it/s, accuracy=96.8, loss=0.143]  \n"
     ]
    },
    {
     "name": "stdout",
     "output_type": "stream",
     "text": [
      "Epoch [95/100], Val Loss: 0.1345, Val Accuracy: 96.79%\n"
     ]
    },
    {
     "name": "stderr",
     "output_type": "stream",
     "text": [
      "Epoch [96/100] Training: 100%|██████████| 70/70 [00:24<00:00,  2.83it/s, accuracy=99.1, loss=0.0898]  \n"
     ]
    },
    {
     "name": "stdout",
     "output_type": "stream",
     "text": [
      "Epoch [96/100], Train Loss: 0.0356, Train Accuracy: 99.06%\n"
     ]
    },
    {
     "name": "stderr",
     "output_type": "stream",
     "text": [
      "Epoch [96/100] Validation: 100%|██████████| 18/18 [00:03<00:00,  5.84it/s, accuracy=96.2, loss=0.00981]\n"
     ]
    },
    {
     "name": "stdout",
     "output_type": "stream",
     "text": [
      "Epoch [96/100], Val Loss: 0.1504, Val Accuracy: 96.25%\n"
     ]
    },
    {
     "name": "stderr",
     "output_type": "stream",
     "text": [
      "Epoch [97/100] Training: 100%|██████████| 70/70 [00:24<00:00,  2.82it/s, accuracy=99.6, loss=0.00635] \n"
     ]
    },
    {
     "name": "stdout",
     "output_type": "stream",
     "text": [
      "Epoch [97/100], Train Loss: 0.0190, Train Accuracy: 99.60%\n"
     ]
    },
    {
     "name": "stderr",
     "output_type": "stream",
     "text": [
      "Epoch [97/100] Validation: 100%|██████████| 18/18 [00:03<00:00,  5.97it/s, accuracy=95.7, loss=0.102] \n"
     ]
    },
    {
     "name": "stdout",
     "output_type": "stream",
     "text": [
      "Epoch [97/100], Val Loss: 0.1638, Val Accuracy: 95.71%\n"
     ]
    },
    {
     "name": "stderr",
     "output_type": "stream",
     "text": [
      "Epoch [98/100] Training: 100%|██████████| 70/70 [00:25<00:00,  2.74it/s, accuracy=99.1, loss=0.000971]\n"
     ]
    },
    {
     "name": "stdout",
     "output_type": "stream",
     "text": [
      "Epoch [98/100], Train Loss: 0.0373, Train Accuracy: 99.11%\n"
     ]
    },
    {
     "name": "stderr",
     "output_type": "stream",
     "text": [
      "Epoch [98/100] Validation: 100%|██████████| 18/18 [00:03<00:00,  5.97it/s, accuracy=96.1, loss=0.179]  \n"
     ]
    },
    {
     "name": "stdout",
     "output_type": "stream",
     "text": [
      "Epoch [98/100], Val Loss: 0.1760, Val Accuracy: 96.07%\n"
     ]
    },
    {
     "name": "stderr",
     "output_type": "stream",
     "text": [
      "Epoch [99/100] Training: 100%|██████████| 70/70 [00:25<00:00,  2.79it/s, accuracy=99.2, loss=0.211]   \n"
     ]
    },
    {
     "name": "stdout",
     "output_type": "stream",
     "text": [
      "Epoch [99/100], Train Loss: 0.0386, Train Accuracy: 99.15%\n"
     ]
    },
    {
     "name": "stderr",
     "output_type": "stream",
     "text": [
      "Epoch [99/100] Validation: 100%|██████████| 18/18 [00:03<00:00,  5.95it/s, accuracy=95.9, loss=0.345] \n"
     ]
    },
    {
     "name": "stdout",
     "output_type": "stream",
     "text": [
      "Epoch [99/100], Val Loss: 0.1329, Val Accuracy: 95.89%\n"
     ]
    },
    {
     "name": "stderr",
     "output_type": "stream",
     "text": [
      "Epoch [100/100] Training: 100%|██████████| 70/70 [00:25<00:00,  2.79it/s, accuracy=99.2, loss=0.000215]\n"
     ]
    },
    {
     "name": "stdout",
     "output_type": "stream",
     "text": [
      "Epoch [100/100], Train Loss: 0.0372, Train Accuracy: 99.24%\n"
     ]
    },
    {
     "name": "stderr",
     "output_type": "stream",
     "text": [
      "Epoch [100/100] Validation: 100%|██████████| 18/18 [00:03<00:00,  5.99it/s, accuracy=95.2, loss=0.414]   "
     ]
    },
    {
     "name": "stdout",
     "output_type": "stream",
     "text": [
      "Epoch [100/100], Val Loss: 0.1735, Val Accuracy: 95.18%\n"
     ]
    },
    {
     "name": "stderr",
     "output_type": "stream",
     "text": [
      "\n"
     ]
    }
   ],
   "source": [
    "import torch\n",
    "import torch.optim as optim\n",
    "import pandas as pd\n",
    "from torch.optim.lr_scheduler import ReduceLROnPlateau\n",
    "from tqdm import tqdm\n",
    "import torch.nn as nn\n",
    "from transformers import SwinForImageClassification\n",
    "\n",
    "# Define the criterion\n",
    "criterion = nn.CrossEntropyLoss()\n",
    "\n",
    "# Define the optimizer with weight decay (L2 regularization)\n",
    "optimizer = optim.AdamW(model.parameters(), lr=5e-5, weight_decay=0.05)\n",
    "\n",
    "\n",
    "# Define the optimizer with weight decay (L2 regularization)\n",
    "#optimizer = optim.AdamW(model.parameters(), lr=0.001, weight_decay=1e-5)\n",
    "\n",
    "# Define the learning rate scheduler\n",
    "scheduler = ReduceLROnPlateau(optimizer, mode='min', factor=0.1, patience=5, verbose=True)\n",
    "\n",
    "\n",
    "\n",
    "\n",
    "\n",
    "\n",
    "\n",
    "# Training loop settings\n",
    "num_epochs = 100\n",
    "train_losses, val_losses = [], []\n",
    "train_accuracies, val_accuracies = [], []\n",
    "\n",
    "# CSV file for logging training metrics\n",
    "csv_filename = \"training_metrics.csv\"\n",
    "df = pd.DataFrame(columns=[\"Epoch\", \"Train Loss\", \"Train Accuracy\", \"Val Loss\", \"Val Accuracy\"])\n",
    "df.to_csv(csv_filename, index=False)  # Initialize the CSV file\n",
    "\n",
    "# Training loop\n",
    "for epoch in range(num_epochs):\n",
    "    # Training phase\n",
    "    model.train()\n",
    "    running_loss = 0.0\n",
    "    correct, total = 0, 0\n",
    "\n",
    "    train_loop = tqdm(train_loader, desc=f\"Epoch [{epoch+1}/{num_epochs}] Training\")\n",
    "    for images, labels in train_loop:\n",
    "        images, labels = images.to(device), labels.to(device)\n",
    "        optimizer.zero_grad()\n",
    "\n",
    "        # Forward pass\n",
    "        outputs = model(images)\n",
    "        logits = outputs.logits  # Extract logits\n",
    "        loss = criterion(logits, labels)\n",
    "\n",
    "        # Backward pass\n",
    "        loss.backward()\n",
    "\n",
    "        # Apply gradient clipping\n",
    "        torch.nn.utils.clip_grad_norm_(model.parameters(), max_norm=1.0)\n",
    "\n",
    "        # Optimizer step\n",
    "        optimizer.step()\n",
    "\n",
    "        # Track loss and accuracy\n",
    "        running_loss += loss.item()\n",
    "        _, predicted = torch.max(logits, 1)\n",
    "        total += labels.size(0)\n",
    "        correct += (predicted == labels).sum().item()\n",
    "\n",
    "        # Update progress bar\n",
    "        train_loop.set_postfix(loss=loss.item(), accuracy=(correct / total) * 100)\n",
    "    \n",
    "    # Compute epoch-level metrics\n",
    "    train_loss = running_loss / len(train_loader)\n",
    "    train_accuracy = 100 * correct / total\n",
    "    train_losses.append(train_loss)\n",
    "    train_accuracies.append(train_accuracy)\n",
    "    print(f\"Epoch [{epoch+1}/{num_epochs}], Train Loss: {train_loss:.4f}, Train Accuracy: {train_accuracy:.2f}%\")\n",
    "\n",
    "    # Validation phase\n",
    "    model.eval()\n",
    "    val_running_loss = 0.0\n",
    "    correct, total = 0, 0\n",
    "\n",
    "    val_loop = tqdm(val_loader, desc=f\"Epoch [{epoch+1}/{num_epochs}] Validation\")\n",
    "    with torch.no_grad():\n",
    "        for images, labels in val_loop:\n",
    "            images, labels = images.to(device), labels.to(device)\n",
    "            outputs = model(images)\n",
    "            logits = outputs.logits\n",
    "            loss = criterion(logits, labels)\n",
    "\n",
    "            val_running_loss += loss.item()\n",
    "            _, predicted = torch.max(logits, 1)\n",
    "            total += labels.size(0)\n",
    "            correct += (predicted == labels).sum().item()\n",
    "\n",
    "            # Update progress bar\n",
    "            val_loop.set_postfix(loss=loss.item(), accuracy=(correct / total) * 100)\n",
    "\n",
    "    # Compute epoch-level validation metrics\n",
    "    val_loss = val_running_loss / len(val_loader)\n",
    "    val_accuracy = 100 * correct / total\n",
    "    val_losses.append(val_loss)\n",
    "    val_accuracies.append(val_accuracy)\n",
    "    print(f\"Epoch [{epoch+1}/{num_epochs}], Val Loss: {val_loss:.4f}, Val Accuracy: {val_accuracy:.2f}%\")\n",
    "\n",
    "    # Update learning rate scheduler\n",
    "    scheduler.step(val_loss)\n",
    "\n",
    "    # Save metrics to CSV file\n",
    "    df = pd.DataFrame([[epoch + 1, train_loss, train_accuracy, val_loss, val_accuracy]],\n",
    "                      columns=[\"Epoch\", \"Train Loss\", \"Train Accuracy\", \"Val Loss\", \"Val Accuracy\"])\n",
    "    df.to_csv(csv_filename, mode='a', header=False, index=False)\n"
   ]
  },
  {
   "cell_type": "code",
   "execution_count": 8,
   "metadata": {},
   "outputs": [
    {
     "name": "stdout",
     "output_type": "stream",
     "text": [
      "Model saved successfully!\n"
     ]
    }
   ],
   "source": [
    "# Save the model's state dictionary\n",
    "torch.save(model.state_dict(), \"messier-SwinViT.pth\")\n",
    "\n",
    "print(\"Model saved successfully!\")"
   ]
  },
  {
   "cell_type": "code",
   "execution_count": 9,
   "metadata": {},
   "outputs": [
    {
     "data": {
      "image/png": "[encoded data removed]",
      "text/plain": [
       "<Figure size 1000x500 with 1 Axes>"
      ]
     },
     "metadata": {},
     "output_type": "display_data"
    },
    {
     "data": {
      "image/png": "[encoded data removed]",
      "text/plain": [
       "<Figure size 1000x500 with 1 Axes>"
      ]
     },
     "metadata": {},
     "output_type": "display_data"
    }
   ],
   "source": [
    "import matplotlib.pyplot as plt\n",
    "\n",
    "# Plot training and validation loss\n",
    "plt.figure(figsize=(10, 5))\n",
    "plt.plot(train_losses, label='Training Loss')\n",
    "plt.plot(val_losses, label='Validation Loss')\n",
    "plt.xlabel('Epoch')\n",
    "plt.ylabel('Loss')\n",
    "plt.legend()\n",
    "plt.title('Loss Curves')\n",
    "plt.show()\n",
    "\n",
    "# Plot training and validation accuracy\n",
    "plt.figure(figsize=(10, 5))\n",
    "plt.plot(train_accuracies, label='Training Accuracy')\n",
    "plt.plot(val_accuracies, label='Validation Accuracy')\n",
    "plt.xlabel('Epoch')\n",
    "plt.ylabel('Accuracy')\n",
    "plt.legend()\n",
    "plt.title('Accuracy Curves')\n",
    "plt.show()"
   ]
  },
  {
   "cell_type": "code",
   "execution_count": 11,
   "metadata": {},
   "outputs": [
    {
     "name": "stderr",
     "output_type": "stream",
     "text": [
      "Testing SwinViT: 100%|███████████████████| 18/18 [00:03<00:00,  5.42it/s, accuracy=97.1, loss=0.125]"
     ]
    },
    {
     "name": "stdout",
     "output_type": "stream",
     "text": [
      "Test Loss: 0.1255, Test Accuracy: 97.14%\n"
     ]
    },
    {
     "name": "stderr",
     "output_type": "stream",
     "text": [
      "\n"
     ]
    }
   ],
   "source": [
    "# Ensure the model is in evaluation mode\n",
    "model.eval()\n",
    "\n",
    "# Initialize variables to track test loss and accuracy\n",
    "test_loss = 0.0\n",
    "correct = 0\n",
    "total = 0\n",
    "\n",
    "# Disable gradient computation for testing\n",
    "with torch.no_grad():\n",
    "    # Wrap test_loader with tqdm for a progress bar\n",
    "    test_loop = tqdm(val_loader, desc=\"Testing SwinViT\", ncols=100)\n",
    "    for images, labels in test_loop:\n",
    "        images, labels = images.to(device), labels.to(device)\n",
    "\n",
    "        # Forward pass through the Vision Transformer model\n",
    "        outputs = model(images)  # This will return an object, not just the logits\n",
    "        \n",
    "        # Access the logits from the model's output object\n",
    "        logits = outputs.logits  \n",
    "\n",
    "        # Compute loss\n",
    "        loss = criterion(logits, labels)\n",
    "\n",
    "        # Accumulate loss\n",
    "        test_loss += loss.item() * images.size(0)  # Scale loss by batch size\n",
    "\n",
    "        # Compute accuracy\n",
    "        _, predicted = torch.max(logits.detach(), 1)  # Use .detach() instead of .data\n",
    "        total += labels.size(0)\n",
    "        correct += (predicted == labels).sum().item()\n",
    "\n",
    "        # Update the progress bar with loss and accuracy\n",
    "        test_loop.set_postfix(loss=test_loss / total, accuracy=(correct / total) * 100)\n",
    "\n",
    "# Compute final test loss and accuracy\n",
    "test_loss /= total  # Normalize loss properly\n",
    "test_accuracy = 100 * correct / total\n",
    "\n",
    "# Print the results\n",
    "print(f\"Test Loss: {test_loss:.4f}, Test Accuracy: {test_accuracy:.2f}%\")\n"
   ]
  },
  {
   "cell_type": "code",
   "execution_count": 12,
   "metadata": {},
   "outputs": [
    {
     "data": {
      "image/png": "[encoded data removed]",
      "text/plain": [
       "<Figure size 1000x500 with 1 Axes>"
      ]
     },
     "metadata": {},
     "output_type": "display_data"
    },
    {
     "data": {
      "image/png": "[encoded data removed]",
      "text/plain": [
       "<Figure size 1000x500 with 1 Axes>"
      ]
     },
     "metadata": {},
     "output_type": "display_data"
    }
   ],
   "source": [
    "import matplotlib.pyplot as plt\n",
    "\n",
    "# Plot training, validation, and test loss\n",
    "plt.figure(figsize=(10, 5))\n",
    "plt.plot(train_losses, label='Training Loss')\n",
    "plt.plot(val_losses, label='Validation Loss')\n",
    "plt.axhline(y=test_loss, color='r', linestyle='--', label='Test Loss')  # Add test loss as a horizontal line\n",
    "plt.xlabel('Epoch')\n",
    "plt.ylabel('Loss')\n",
    "plt.legend()\n",
    "plt.title('Loss Curves')\n",
    "plt.show()\n",
    "\n",
    "# Plot training, validation, and test accuracy\n",
    "plt.figure(figsize=(10, 5))\n",
    "plt.plot(train_accuracies, label='Training Accuracy')\n",
    "plt.plot(val_accuracies, label='Validation Accuracy')\n",
    "plt.axhline(y=test_accuracy, color='r', linestyle='--', label='Test Accuracy')  # Add test accuracy as a horizontal line\n",
    "plt.xlabel('Epoch')\n",
    "plt.ylabel('Accuracy')\n",
    "plt.legend()\n",
    "plt.title('Accuracy Curves')\n",
    "plt.show()"
   ]
  },
  {
   "cell_type": "code",
   "execution_count": 20,
   "metadata": {},
   "outputs": [
    {
     "data": {
      "image/png": "[encoded data removed]",
      "text/plain": [
       "<Figure size 1000x800 with 2 Axes>"
      ]
     },
     "metadata": {},
     "output_type": "display_data"
    }
   ],
   "source": [
    "import numpy as np\n",
    "import matplotlib.pyplot as plt\n",
    "from sklearn.metrics import confusion_matrix\n",
    "import seaborn as sns\n",
    "import torch\n",
    "\n",
    "# Ensure the model is in evaluation mode\n",
    "model.eval()\n",
    "\n",
    "# Initialize lists to store predictions and labels\n",
    "all_preds = []\n",
    "all_labels = []\n",
    "\n",
    "# Disable gradient computation for evaluation\n",
    "with torch.no_grad():\n",
    "    for images, labels in train_loader:  # Use test_loader for unseen data\n",
    "        images, labels = images.to(device), labels.to(device)\n",
    "\n",
    "        # Forward pass through the Swin Transformer model\n",
    "        outputs = model(images)\n",
    "        \n",
    "        # Extract logits\n",
    "        logits = outputs.logits\n",
    "\n",
    "        # Get predicted class\n",
    "        _, preds = torch.max(logits, 1)\n",
    "\n",
    "        # Store predictions and labels\n",
    "        all_preds.extend(preds.cpu().numpy())\n",
    "        all_labels.extend(labels.cpu().numpy())\n",
    "\n",
    "# Compute the confusion matrix\n",
    "cm = confusion_matrix(all_labels, all_preds)\n",
    "\n",
    "# Plot the confusion matrix\n",
    "plt.figure(figsize=(10, 8))\n",
    "sns.heatmap(cm, annot=True, fmt='d', cmap='Blues', xticklabels=dataset.classes, yticklabels=dataset.classes)\n",
    "plt.xlabel('Predicted Labels')\n",
    "plt.ylabel('True Labels')\n",
    "plt.title('Confusion Matrix for Swin Transformer on Test Data')\n",
    "plt.show()\n"
   ]
  },
  {
   "cell_type": "code",
   "execution_count": 23,
   "metadata": {},
   "outputs": [
    {
     "data": {
      "image/png": "[encoded data removed]",
      "text/plain": [
       "<Figure size 1000x800 with 2 Axes>"
      ]
     },
     "metadata": {},
     "output_type": "display_data"
    }
   ],
   "source": [
    "import numpy as np\n",
    "import matplotlib.pyplot as plt\n",
    "from sklearn.metrics import confusion_matrix\n",
    "import seaborn as sns\n",
    "import torch\n",
    "\n",
    "# Ensure the model is in evaluation mode\n",
    "model.eval()\n",
    "\n",
    "# Initialize lists to store predictions and labels for test data\n",
    "all_preds_test = []\n",
    "all_labels_test = []\n",
    "\n",
    "# Disable gradient computation for test set evaluation\n",
    "with torch.no_grad():\n",
    "    for images, labels in val_loader:  # Use test_loader\n",
    "        images, labels = images.to(device), labels.to(device)\n",
    "\n",
    "        # Forward pass through the Swin Transformer model\n",
    "        outputs = model(images)  # Returns an object, not just logits\n",
    "        \n",
    "        # Extract logits from the model's output object\n",
    "        logits = outputs.logits\n",
    "\n",
    "        # Get predicted class\n",
    "        _, preds = torch.max(logits, 1)\n",
    "\n",
    "        # Store predictions and labels\n",
    "        all_preds_test.extend(preds.cpu().numpy())\n",
    "        all_labels_test.extend(labels.cpu().numpy())\n",
    "\n",
    "# Compute the confusion matrix for test data\n",
    "cm_test = confusion_matrix(all_labels_test, all_preds_test)\n",
    "\n",
    "# Check if test_dataset has class names\n",
    "class_names = val_dataset.classes if hasattr(val_dataset, 'classes') else [str(i) for i in range(len(cm_test))]\n",
    "\n",
    "# Plot the confusion matrix for test data\n",
    "plt.figure(figsize=(10, 8))\n",
    "sns.heatmap(cm_test, annot=True, fmt='d', cmap='Blues', xticklabels=dataset.classes, yticklabels=dataset.classes)\n",
    "plt.xlabel('Predicted Labels')\n",
    "plt.ylabel('True Labels')\n",
    "plt.title('Confusion Matrix (Test Set)')\n",
    "plt.show()\n"
   ]
  },
  {
   "cell_type": "code",
   "execution_count": 21,
   "metadata": {},
   "outputs": [
    {
     "name": "stdout",
     "output_type": "stream",
     "text": [
      "Training F1 Score: 0.9924\n",
      "Training Precision: 0.9924\n",
      "Training Recall: 0.9924\n"
     ]
    }
   ],
   "source": [
    "from sklearn.metrics import f1_score, precision_score, recall_score\n",
    "\n",
    "# Ensure the model is in evaluation mode\n",
    "model.eval()\n",
    "\n",
    "# Initialize lists to store predictions and labels for training data\n",
    "all_preds_train = []\n",
    "all_labels_train = []\n",
    "\n",
    "# Disable gradient computation for training set evaluation\n",
    "with torch.no_grad():\n",
    "    for images, labels in train_loader:  # Use train_loader\n",
    "        images, labels = images.to(device), labels.to(device)\n",
    "\n",
    "        # Forward pass through the Swin Transformer model\n",
    "        outputs = model(images)  # This will return an object, not just logits\n",
    "        \n",
    "        # Extract logits (adjust depending on model output structure)\n",
    "        logits = outputs.logits  \n",
    "\n",
    "        # Get predicted class\n",
    "        _, preds = torch.max(logits, 1)\n",
    "\n",
    "        # Store predictions and labels\n",
    "        all_preds_train.extend(preds.cpu().numpy())\n",
    "        all_labels_train.extend(labels.cpu().numpy())\n",
    "\n",
    "# Compute F1-score, precision, and recall for training set\n",
    "f1_train = f1_score(all_labels_train, all_preds_train, average='weighted')  # Use 'macro' for equal class weighting\n",
    "precision_train = precision_score(all_labels_train, all_preds_train, average='weighted')\n",
    "recall_train = recall_score(all_labels_train, all_preds_train, average='weighted')\n",
    "\n",
    "# Print the results\n",
    "print(f\"Training F1 Score: {f1_train:.4f}\")\n",
    "print(f\"Training Precision: {precision_train:.4f}\")\n",
    "print(f\"Training Recall: {recall_train:.4f}\")\n"
   ]
  },
  {
   "cell_type": "code",
   "execution_count": 22,
   "metadata": {},
   "outputs": [
    {
     "name": "stdout",
     "output_type": "stream",
     "text": [
      "Test F1 Score: 0.9642\n",
      "Test Precision: 0.9646\n",
      "Test Recall: 0.9643\n"
     ]
    }
   ],
   "source": [
    "from sklearn.metrics import f1_score, precision_score, recall_score\n",
    "\n",
    "# Ensure the model is in evaluation mode\n",
    "model.eval()\n",
    "\n",
    "# Initialize lists to store predictions and labels for test data\n",
    "all_preds_test = []\n",
    "all_labels_test = []\n",
    "\n",
    "# Disable gradient computation for test set evaluation\n",
    "with torch.no_grad():\n",
    "    for images, labels in val_loader:  # Use test_loader\n",
    "        images, labels = images.to(device), labels.to(device)\n",
    "\n",
    "        # Forward pass through the Swin Transformer model\n",
    "        outputs = model(images)  # This returns an object, not just logits\n",
    "        \n",
    "        # Extract logits from the model's output object\n",
    "        logits = outputs.logits  \n",
    "\n",
    "        # Get predicted class\n",
    "        _, preds = torch.max(logits, 1)\n",
    "\n",
    "        # Store predictions and labels\n",
    "        all_preds_test.extend(preds.cpu().numpy())\n",
    "        all_labels_test.extend(labels.cpu().numpy())\n",
    "\n",
    "# Compute F1-score, precision, and recall for the test set\n",
    "f1_test = f1_score(all_labels_test, all_preds_test, average='weighted')  # Change to 'macro' if needed\n",
    "precision_test = precision_score(all_labels_test, all_preds_test, average='weighted')\n",
    "recall_test = recall_score(all_labels_test, all_preds_test, average='weighted')\n",
    "\n",
    "# Print the results\n",
    "print(f\"Test F1 Score: {f1_test:.4f}\")\n",
    "print(f\"Test Precision: {precision_test:.4f}\")\n",
    "print(f\"Test Recall: {recall_test:.4f}\")\n"
   ]
  },
  {
   "cell_type": "code",
   "execution_count": 12,
   "metadata": {},
   "outputs": [
    {
     "name": "stderr",
     "output_type": "stream",
     "text": [
      "Computing MCCS: 100%|██████████| 18/18 [00:03<00:00,  4.92it/s]"
     ]
    },
    {
     "name": "stdout",
     "output_type": "stream",
     "text": [
      "MCCS computation complete! Scores saved to 'mccs_scores.csv'.\n"
     ]
    },
    {
     "name": "stderr",
     "output_type": "stream",
     "text": [
      "\n"
     ]
    }
   ],
   "source": [
    "import torch.nn.functional as F\n",
    "# Function to compute MCCS for the entire dataset\n",
    "def compute_mccs(model, dataloader, device):\n",
    "    model.eval()\n",
    "    mccs_scores = []\n",
    "\n",
    "    with torch.no_grad():\n",
    "        for images, labels in tqdm(dataloader, desc=\"Computing MCCS\"):\n",
    "            images = images.to(device)\n",
    "            \n",
    "            # Forward pass\n",
    "            outputs = model(images)\n",
    "            logits = outputs.logits  # Extract logits\n",
    "\n",
    "            # Compute softmax probabilities\n",
    "            probabilities = F.softmax(logits, dim=1)\n",
    "\n",
    "            # Compute MCCS (maximum probability of the predicted class)\n",
    "            mccs = torch.max(probabilities, dim=1).values\n",
    "            mccs_scores.extend(mccs.cpu().numpy())  # Store in a list\n",
    "\n",
    "    return mccs_scores\n",
    "\n",
    "# Compute MCCS scores\n",
    "mccs_scores = compute_mccs(model, val_loader, device)\n",
    "\n",
    "# Save MCCS scores to a CSV file\n",
    "import pandas as pd\n",
    "df_mccs = pd.DataFrame({\"MCCS Score\": mccs_scores})\n",
    "df_mccs.to_csv(\"mccs_scores.csv\", index=False)\n",
    "\n",
    "print(\"MCCS computation complete! Scores saved to 'mccs_scores.csv'.\")"
   ]
  }
 ],
 "metadata": {
  "kernelspec": {
   "display_name": "base",
   "language": "python",
   "name": "python3"
  },
  "language_info": {
   "codemirror_mode": {
    "name": "ipython",
    "version": 3
   },
   "file_extension": ".py",
   "mimetype": "text/x-python",
   "name": "python",
   "nbconvert_exporter": "python",
   "pygments_lexer": "ipython3",
   "version": "3.9.13"
  }
 },
 "nbformat": 4,
 "nbformat_minor": 2
}
