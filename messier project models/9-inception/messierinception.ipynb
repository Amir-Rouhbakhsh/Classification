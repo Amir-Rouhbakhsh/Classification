{
 "cells": [
  {
   "cell_type": "code",
   "execution_count": 4,
   "metadata": {},
   "outputs": [],
   "source": [
    "import torch\n",
    "import torch.nn as nn\n",
    "import torch.optim as optim\n",
    "from torch.utils.data import DataLoader\n",
    "from torchvision import datasets\n",
    "from transformers import ViTForImageClassification, ViTFeatureExtractor\n",
    "from tqdm import tqdm\n",
    "import pandas as pd\n",
    "import os\n",
    "from datasets import DatasetDict, Dataset\n",
    "from transformers import AutoImageProcessor\n",
    "from sklearn.model_selection import train_test_split\n",
    "from torch.utils.data import DataLoader, random_split\n",
    "from torchvision import datasets, transforms\n",
    "from transformers import SwinForImageClassification, AutoImageProcessor  # Updated import\n",
    "\n",
    "from torch.utils.data import DataLoader, random_split\n",
    "from torchvision import datasets, transforms\n",
    "from tqdm import tqdm\n",
    "import pandas as pd\n",
    "import os\n",
    "from torchvision import models"
   ]
  },
  {
   "cell_type": "code",
   "execution_count": 5,
   "metadata": {},
   "outputs": [],
   "source": [
    "# Define the path to your dataset\n",
    "data_dir = \"C:/Users/Amir/Desktop/messier classification/gamma-correct\"  # Replace with the path to your dataset"
   ]
  },
  {
   "cell_type": "code",
   "execution_count": 6,
   "metadata": {},
   "outputs": [
    {
     "name": "stdout",
     "output_type": "stream",
     "text": [
      "Number of classes: 7\n"
     ]
    }
   ],
   "source": [
    "# Corrected imports\n",
    "import torch\n",
    "import torchvision.transforms as transforms\n",
    "from torchvision import datasets\n",
    "from torch.utils.data import DataLoader, random_split\n",
    "from transformers import SwinForImageClassification, AutoImageProcessor\n",
    "\n",
    "# Data transforms (apply to both train and val)\n",
    "transform = transforms.Compose([\n",
    "    transforms.Resize(299),\n",
    "    transforms.CenterCrop(299),\n",
    "    transforms.ToTensor(),\n",
    "])\n",
    "\n",
    "\n",
    "# ImageFolder applies `transform` to each image\n",
    "dataset = datasets.ImageFolder(data_dir, transform=transform)\n",
    "\n",
    "\n",
    "# Check the number of classes\n",
    "num_classes = len(dataset.classes)\n",
    "print(f\"Number of classes: {num_classes}\")  # Should be 21\n",
    "\n",
    "# Split the dataset into training and validation sets\n",
    "train_size = int(0.8 * len(dataset))  # 80% for training\n",
    "val_size = len(dataset) - train_size  # 20% for validation\n",
    "train_dataset, val_dataset = random_split(dataset, [train_size, val_size])\n",
    "\n",
    "# Create data loaders\n",
    "train_loader = DataLoader(train_dataset, batch_size=32, shuffle=True)\n",
    "val_loader = DataLoader(val_dataset, batch_size=32, shuffle=False)\n",
    "\n"
   ]
  },
  {
   "cell_type": "code",
   "execution_count": 7,
   "metadata": {},
   "outputs": [],
   "source": [
    "from torchvision import models\n",
    "import torch.nn as nn\n",
    "\n",
    "# Load pre-trained Inception v3 with aux_logits=True (required for pretrained weights)\n",
    "model = models.inception_v3(weights=models.Inception_V3_Weights.IMAGENET1K_V1, aux_logits=True)\n",
    "\n",
    "# Disable auxiliary outputs AFTER loading weights\n",
    "model.aux_logits = False  # Set to False for inference-only mode\n",
    "\n",
    "# Modify the classifier\n",
    "num_ftrs = model.fc.in_features\n",
    "model.fc = nn.Sequential(\n",
    "    nn.Dropout(0.5),\n",
    "    nn.Linear(num_ftrs, num_classes)\n",
    ")\n",
    "\n",
    "# If using 224x224 inputs instead of default 299x299:\n",
    "model.transform_input = False  # Disable automatic input scaling"
   ]
  },
  {
   "cell_type": "code",
   "execution_count": 17,
   "metadata": {},
   "outputs": [
    {
     "name": "stdout",
     "output_type": "stream",
     "text": [
      "cuda\n"
     ]
    },
    {
     "data": {
      "text/plain": [
       "Inception3(\n",
       "  (Conv2d_1a_3x3): BasicConv2d(\n",
       "    (conv): Conv2d(3, 32, kernel_size=(3, 3), stride=(2, 2), bias=False)\n",
       "    (bn): BatchNorm2d(32, eps=0.001, momentum=0.1, affine=True, track_running_stats=True)\n",
       "  )\n",
       "  (Conv2d_2a_3x3): BasicConv2d(\n",
       "    (conv): Conv2d(32, 32, kernel_size=(3, 3), stride=(1, 1), bias=False)\n",
       "    (bn): BatchNorm2d(32, eps=0.001, momentum=0.1, affine=True, track_running_stats=True)\n",
       "  )\n",
       "  (Conv2d_2b_3x3): BasicConv2d(\n",
       "    (conv): Conv2d(32, 64, kernel_size=(3, 3), stride=(1, 1), padding=(1, 1), bias=False)\n",
       "    (bn): BatchNorm2d(64, eps=0.001, momentum=0.1, affine=True, track_running_stats=True)\n",
       "  )\n",
       "  (maxpool1): MaxPool2d(kernel_size=3, stride=2, padding=0, dilation=1, ceil_mode=False)\n",
       "  (Conv2d_3b_1x1): BasicConv2d(\n",
       "    (conv): Conv2d(64, 80, kernel_size=(1, 1), stride=(1, 1), bias=False)\n",
       "    (bn): BatchNorm2d(80, eps=0.001, momentum=0.1, affine=True, track_running_stats=True)\n",
       "  )\n",
       "  (Conv2d_4a_3x3): BasicConv2d(\n",
       "    (conv): Conv2d(80, 192, kernel_size=(3, 3), stride=(1, 1), bias=False)\n",
       "    (bn): BatchNorm2d(192, eps=0.001, momentum=0.1, affine=True, track_running_stats=True)\n",
       "  )\n",
       "  (maxpool2): MaxPool2d(kernel_size=3, stride=2, padding=0, dilation=1, ceil_mode=False)\n",
       "  (Mixed_5b): InceptionA(\n",
       "    (branch1x1): BasicConv2d(\n",
       "      (conv): Conv2d(192, 64, kernel_size=(1, 1), stride=(1, 1), bias=False)\n",
       "      (bn): BatchNorm2d(64, eps=0.001, momentum=0.1, affine=True, track_running_stats=True)\n",
       "    )\n",
       "    (branch5x5_1): BasicConv2d(\n",
       "      (conv): Conv2d(192, 48, kernel_size=(1, 1), stride=(1, 1), bias=False)\n",
       "      (bn): BatchNorm2d(48, eps=0.001, momentum=0.1, affine=True, track_running_stats=True)\n",
       "    )\n",
       "    (branch5x5_2): BasicConv2d(\n",
       "      (conv): Conv2d(48, 64, kernel_size=(5, 5), stride=(1, 1), padding=(2, 2), bias=False)\n",
       "      (bn): BatchNorm2d(64, eps=0.001, momentum=0.1, affine=True, track_running_stats=True)\n",
       "    )\n",
       "    (branch3x3dbl_1): BasicConv2d(\n",
       "      (conv): Conv2d(192, 64, kernel_size=(1, 1), stride=(1, 1), bias=False)\n",
       "      (bn): BatchNorm2d(64, eps=0.001, momentum=0.1, affine=True, track_running_stats=True)\n",
       "    )\n",
       "    (branch3x3dbl_2): BasicConv2d(\n",
       "      (conv): Conv2d(64, 96, kernel_size=(3, 3), stride=(1, 1), padding=(1, 1), bias=False)\n",
       "      (bn): BatchNorm2d(96, eps=0.001, momentum=0.1, affine=True, track_running_stats=True)\n",
       "    )\n",
       "    (branch3x3dbl_3): BasicConv2d(\n",
       "      (conv): Conv2d(96, 96, kernel_size=(3, 3), stride=(1, 1), padding=(1, 1), bias=False)\n",
       "      (bn): BatchNorm2d(96, eps=0.001, momentum=0.1, affine=True, track_running_stats=True)\n",
       "    )\n",
       "    (branch_pool): BasicConv2d(\n",
       "      (conv): Conv2d(192, 32, kernel_size=(1, 1), stride=(1, 1), bias=False)\n",
       "      (bn): BatchNorm2d(32, eps=0.001, momentum=0.1, affine=True, track_running_stats=True)\n",
       "    )\n",
       "  )\n",
       "  (Mixed_5c): InceptionA(\n",
       "    (branch1x1): BasicConv2d(\n",
       "      (conv): Conv2d(256, 64, kernel_size=(1, 1), stride=(1, 1), bias=False)\n",
       "      (bn): BatchNorm2d(64, eps=0.001, momentum=0.1, affine=True, track_running_stats=True)\n",
       "    )\n",
       "    (branch5x5_1): BasicConv2d(\n",
       "      (conv): Conv2d(256, 48, kernel_size=(1, 1), stride=(1, 1), bias=False)\n",
       "      (bn): BatchNorm2d(48, eps=0.001, momentum=0.1, affine=True, track_running_stats=True)\n",
       "    )\n",
       "    (branch5x5_2): BasicConv2d(\n",
       "      (conv): Conv2d(48, 64, kernel_size=(5, 5), stride=(1, 1), padding=(2, 2), bias=False)\n",
       "      (bn): BatchNorm2d(64, eps=0.001, momentum=0.1, affine=True, track_running_stats=True)\n",
       "    )\n",
       "    (branch3x3dbl_1): BasicConv2d(\n",
       "      (conv): Conv2d(256, 64, kernel_size=(1, 1), stride=(1, 1), bias=False)\n",
       "      (bn): BatchNorm2d(64, eps=0.001, momentum=0.1, affine=True, track_running_stats=True)\n",
       "    )\n",
       "    (branch3x3dbl_2): BasicConv2d(\n",
       "      (conv): Conv2d(64, 96, kernel_size=(3, 3), stride=(1, 1), padding=(1, 1), bias=False)\n",
       "      (bn): BatchNorm2d(96, eps=0.001, momentum=0.1, affine=True, track_running_stats=True)\n",
       "    )\n",
       "    (branch3x3dbl_3): BasicConv2d(\n",
       "      (conv): Conv2d(96, 96, kernel_size=(3, 3), stride=(1, 1), padding=(1, 1), bias=False)\n",
       "      (bn): BatchNorm2d(96, eps=0.001, momentum=0.1, affine=True, track_running_stats=True)\n",
       "    )\n",
       "    (branch_pool): BasicConv2d(\n",
       "      (conv): Conv2d(256, 64, kernel_size=(1, 1), stride=(1, 1), bias=False)\n",
       "      (bn): BatchNorm2d(64, eps=0.001, momentum=0.1, affine=True, track_running_stats=True)\n",
       "    )\n",
       "  )\n",
       "  (Mixed_5d): InceptionA(\n",
       "    (branch1x1): BasicConv2d(\n",
       "      (conv): Conv2d(288, 64, kernel_size=(1, 1), stride=(1, 1), bias=False)\n",
       "      (bn): BatchNorm2d(64, eps=0.001, momentum=0.1, affine=True, track_running_stats=True)\n",
       "    )\n",
       "    (branch5x5_1): BasicConv2d(\n",
       "      (conv): Conv2d(288, 48, kernel_size=(1, 1), stride=(1, 1), bias=False)\n",
       "      (bn): BatchNorm2d(48, eps=0.001, momentum=0.1, affine=True, track_running_stats=True)\n",
       "    )\n",
       "    (branch5x5_2): BasicConv2d(\n",
       "      (conv): Conv2d(48, 64, kernel_size=(5, 5), stride=(1, 1), padding=(2, 2), bias=False)\n",
       "      (bn): BatchNorm2d(64, eps=0.001, momentum=0.1, affine=True, track_running_stats=True)\n",
       "    )\n",
       "    (branch3x3dbl_1): BasicConv2d(\n",
       "      (conv): Conv2d(288, 64, kernel_size=(1, 1), stride=(1, 1), bias=False)\n",
       "      (bn): BatchNorm2d(64, eps=0.001, momentum=0.1, affine=True, track_running_stats=True)\n",
       "    )\n",
       "    (branch3x3dbl_2): BasicConv2d(\n",
       "      (conv): Conv2d(64, 96, kernel_size=(3, 3), stride=(1, 1), padding=(1, 1), bias=False)\n",
       "      (bn): BatchNorm2d(96, eps=0.001, momentum=0.1, affine=True, track_running_stats=True)\n",
       "    )\n",
       "    (branch3x3dbl_3): BasicConv2d(\n",
       "      (conv): Conv2d(96, 96, kernel_size=(3, 3), stride=(1, 1), padding=(1, 1), bias=False)\n",
       "      (bn): BatchNorm2d(96, eps=0.001, momentum=0.1, affine=True, track_running_stats=True)\n",
       "    )\n",
       "    (branch_pool): BasicConv2d(\n",
       "      (conv): Conv2d(288, 64, kernel_size=(1, 1), stride=(1, 1), bias=False)\n",
       "      (bn): BatchNorm2d(64, eps=0.001, momentum=0.1, affine=True, track_running_stats=True)\n",
       "    )\n",
       "  )\n",
       "  (Mixed_6a): InceptionB(\n",
       "    (branch3x3): BasicConv2d(\n",
       "      (conv): Conv2d(288, 384, kernel_size=(3, 3), stride=(2, 2), bias=False)\n",
       "      (bn): BatchNorm2d(384, eps=0.001, momentum=0.1, affine=True, track_running_stats=True)\n",
       "    )\n",
       "    (branch3x3dbl_1): BasicConv2d(\n",
       "      (conv): Conv2d(288, 64, kernel_size=(1, 1), stride=(1, 1), bias=False)\n",
       "      (bn): BatchNorm2d(64, eps=0.001, momentum=0.1, affine=True, track_running_stats=True)\n",
       "    )\n",
       "    (branch3x3dbl_2): BasicConv2d(\n",
       "      (conv): Conv2d(64, 96, kernel_size=(3, 3), stride=(1, 1), padding=(1, 1), bias=False)\n",
       "      (bn): BatchNorm2d(96, eps=0.001, momentum=0.1, affine=True, track_running_stats=True)\n",
       "    )\n",
       "    (branch3x3dbl_3): BasicConv2d(\n",
       "      (conv): Conv2d(96, 96, kernel_size=(3, 3), stride=(2, 2), bias=False)\n",
       "      (bn): BatchNorm2d(96, eps=0.001, momentum=0.1, affine=True, track_running_stats=True)\n",
       "    )\n",
       "  )\n",
       "  (Mixed_6b): InceptionC(\n",
       "    (branch1x1): BasicConv2d(\n",
       "      (conv): Conv2d(768, 192, kernel_size=(1, 1), stride=(1, 1), bias=False)\n",
       "      (bn): BatchNorm2d(192, eps=0.001, momentum=0.1, affine=True, track_running_stats=True)\n",
       "    )\n",
       "    (branch7x7_1): BasicConv2d(\n",
       "      (conv): Conv2d(768, 128, kernel_size=(1, 1), stride=(1, 1), bias=False)\n",
       "      (bn): BatchNorm2d(128, eps=0.001, momentum=0.1, affine=True, track_running_stats=True)\n",
       "    )\n",
       "    (branch7x7_2): BasicConv2d(\n",
       "      (conv): Conv2d(128, 128, kernel_size=(1, 7), stride=(1, 1), padding=(0, 3), bias=False)\n",
       "      (bn): BatchNorm2d(128, eps=0.001, momentum=0.1, affine=True, track_running_stats=True)\n",
       "    )\n",
       "    (branch7x7_3): BasicConv2d(\n",
       "      (conv): Conv2d(128, 192, kernel_size=(7, 1), stride=(1, 1), padding=(3, 0), bias=False)\n",
       "      (bn): BatchNorm2d(192, eps=0.001, momentum=0.1, affine=True, track_running_stats=True)\n",
       "    )\n",
       "    (branch7x7dbl_1): BasicConv2d(\n",
       "      (conv): Conv2d(768, 128, kernel_size=(1, 1), stride=(1, 1), bias=False)\n",
       "      (bn): BatchNorm2d(128, eps=0.001, momentum=0.1, affine=True, track_running_stats=True)\n",
       "    )\n",
       "    (branch7x7dbl_2): BasicConv2d(\n",
       "      (conv): Conv2d(128, 128, kernel_size=(7, 1), stride=(1, 1), padding=(3, 0), bias=False)\n",
       "      (bn): BatchNorm2d(128, eps=0.001, momentum=0.1, affine=True, track_running_stats=True)\n",
       "    )\n",
       "    (branch7x7dbl_3): BasicConv2d(\n",
       "      (conv): Conv2d(128, 128, kernel_size=(1, 7), stride=(1, 1), padding=(0, 3), bias=False)\n",
       "      (bn): BatchNorm2d(128, eps=0.001, momentum=0.1, affine=True, track_running_stats=True)\n",
       "    )\n",
       "    (branch7x7dbl_4): BasicConv2d(\n",
       "      (conv): Conv2d(128, 128, kernel_size=(7, 1), stride=(1, 1), padding=(3, 0), bias=False)\n",
       "      (bn): BatchNorm2d(128, eps=0.001, momentum=0.1, affine=True, track_running_stats=True)\n",
       "    )\n",
       "    (branch7x7dbl_5): BasicConv2d(\n",
       "      (conv): Conv2d(128, 192, kernel_size=(1, 7), stride=(1, 1), padding=(0, 3), bias=False)\n",
       "      (bn): BatchNorm2d(192, eps=0.001, momentum=0.1, affine=True, track_running_stats=True)\n",
       "    )\n",
       "    (branch_pool): BasicConv2d(\n",
       "      (conv): Conv2d(768, 192, kernel_size=(1, 1), stride=(1, 1), bias=False)\n",
       "      (bn): BatchNorm2d(192, eps=0.001, momentum=0.1, affine=True, track_running_stats=True)\n",
       "    )\n",
       "  )\n",
       "  (Mixed_6c): InceptionC(\n",
       "    (branch1x1): BasicConv2d(\n",
       "      (conv): Conv2d(768, 192, kernel_size=(1, 1), stride=(1, 1), bias=False)\n",
       "      (bn): BatchNorm2d(192, eps=0.001, momentum=0.1, affine=True, track_running_stats=True)\n",
       "    )\n",
       "    (branch7x7_1): BasicConv2d(\n",
       "      (conv): Conv2d(768, 160, kernel_size=(1, 1), stride=(1, 1), bias=False)\n",
       "      (bn): BatchNorm2d(160, eps=0.001, momentum=0.1, affine=True, track_running_stats=True)\n",
       "    )\n",
       "    (branch7x7_2): BasicConv2d(\n",
       "      (conv): Conv2d(160, 160, kernel_size=(1, 7), stride=(1, 1), padding=(0, 3), bias=False)\n",
       "      (bn): BatchNorm2d(160, eps=0.001, momentum=0.1, affine=True, track_running_stats=True)\n",
       "    )\n",
       "    (branch7x7_3): BasicConv2d(\n",
       "      (conv): Conv2d(160, 192, kernel_size=(7, 1), stride=(1, 1), padding=(3, 0), bias=False)\n",
       "      (bn): BatchNorm2d(192, eps=0.001, momentum=0.1, affine=True, track_running_stats=True)\n",
       "    )\n",
       "    (branch7x7dbl_1): BasicConv2d(\n",
       "      (conv): Conv2d(768, 160, kernel_size=(1, 1), stride=(1, 1), bias=False)\n",
       "      (bn): BatchNorm2d(160, eps=0.001, momentum=0.1, affine=True, track_running_stats=True)\n",
       "    )\n",
       "    (branch7x7dbl_2): BasicConv2d(\n",
       "      (conv): Conv2d(160, 160, kernel_size=(7, 1), stride=(1, 1), padding=(3, 0), bias=False)\n",
       "      (bn): BatchNorm2d(160, eps=0.001, momentum=0.1, affine=True, track_running_stats=True)\n",
       "    )\n",
       "    (branch7x7dbl_3): BasicConv2d(\n",
       "      (conv): Conv2d(160, 160, kernel_size=(1, 7), stride=(1, 1), padding=(0, 3), bias=False)\n",
       "      (bn): BatchNorm2d(160, eps=0.001, momentum=0.1, affine=True, track_running_stats=True)\n",
       "    )\n",
       "    (branch7x7dbl_4): BasicConv2d(\n",
       "      (conv): Conv2d(160, 160, kernel_size=(7, 1), stride=(1, 1), padding=(3, 0), bias=False)\n",
       "      (bn): BatchNorm2d(160, eps=0.001, momentum=0.1, affine=True, track_running_stats=True)\n",
       "    )\n",
       "    (branch7x7dbl_5): BasicConv2d(\n",
       "      (conv): Conv2d(160, 192, kernel_size=(1, 7), stride=(1, 1), padding=(0, 3), bias=False)\n",
       "      (bn): BatchNorm2d(192, eps=0.001, momentum=0.1, affine=True, track_running_stats=True)\n",
       "    )\n",
       "    (branch_pool): BasicConv2d(\n",
       "      (conv): Conv2d(768, 192, kernel_size=(1, 1), stride=(1, 1), bias=False)\n",
       "      (bn): BatchNorm2d(192, eps=0.001, momentum=0.1, affine=True, track_running_stats=True)\n",
       "    )\n",
       "  )\n",
       "  (Mixed_6d): InceptionC(\n",
       "    (branch1x1): BasicConv2d(\n",
       "      (conv): Conv2d(768, 192, kernel_size=(1, 1), stride=(1, 1), bias=False)\n",
       "      (bn): BatchNorm2d(192, eps=0.001, momentum=0.1, affine=True, track_running_stats=True)\n",
       "    )\n",
       "    (branch7x7_1): BasicConv2d(\n",
       "      (conv): Conv2d(768, 160, kernel_size=(1, 1), stride=(1, 1), bias=False)\n",
       "      (bn): BatchNorm2d(160, eps=0.001, momentum=0.1, affine=True, track_running_stats=True)\n",
       "    )\n",
       "    (branch7x7_2): BasicConv2d(\n",
       "      (conv): Conv2d(160, 160, kernel_size=(1, 7), stride=(1, 1), padding=(0, 3), bias=False)\n",
       "      (bn): BatchNorm2d(160, eps=0.001, momentum=0.1, affine=True, track_running_stats=True)\n",
       "    )\n",
       "    (branch7x7_3): BasicConv2d(\n",
       "      (conv): Conv2d(160, 192, kernel_size=(7, 1), stride=(1, 1), padding=(3, 0), bias=False)\n",
       "      (bn): BatchNorm2d(192, eps=0.001, momentum=0.1, affine=True, track_running_stats=True)\n",
       "    )\n",
       "    (branch7x7dbl_1): BasicConv2d(\n",
       "      (conv): Conv2d(768, 160, kernel_size=(1, 1), stride=(1, 1), bias=False)\n",
       "      (bn): BatchNorm2d(160, eps=0.001, momentum=0.1, affine=True, track_running_stats=True)\n",
       "    )\n",
       "    (branch7x7dbl_2): BasicConv2d(\n",
       "      (conv): Conv2d(160, 160, kernel_size=(7, 1), stride=(1, 1), padding=(3, 0), bias=False)\n",
       "      (bn): BatchNorm2d(160, eps=0.001, momentum=0.1, affine=True, track_running_stats=True)\n",
       "    )\n",
       "    (branch7x7dbl_3): BasicConv2d(\n",
       "      (conv): Conv2d(160, 160, kernel_size=(1, 7), stride=(1, 1), padding=(0, 3), bias=False)\n",
       "      (bn): BatchNorm2d(160, eps=0.001, momentum=0.1, affine=True, track_running_stats=True)\n",
       "    )\n",
       "    (branch7x7dbl_4): BasicConv2d(\n",
       "      (conv): Conv2d(160, 160, kernel_size=(7, 1), stride=(1, 1), padding=(3, 0), bias=False)\n",
       "      (bn): BatchNorm2d(160, eps=0.001, momentum=0.1, affine=True, track_running_stats=True)\n",
       "    )\n",
       "    (branch7x7dbl_5): BasicConv2d(\n",
       "      (conv): Conv2d(160, 192, kernel_size=(1, 7), stride=(1, 1), padding=(0, 3), bias=False)\n",
       "      (bn): BatchNorm2d(192, eps=0.001, momentum=0.1, affine=True, track_running_stats=True)\n",
       "    )\n",
       "    (branch_pool): BasicConv2d(\n",
       "      (conv): Conv2d(768, 192, kernel_size=(1, 1), stride=(1, 1), bias=False)\n",
       "      (bn): BatchNorm2d(192, eps=0.001, momentum=0.1, affine=True, track_running_stats=True)\n",
       "    )\n",
       "  )\n",
       "  (Mixed_6e): InceptionC(\n",
       "    (branch1x1): BasicConv2d(\n",
       "      (conv): Conv2d(768, 192, kernel_size=(1, 1), stride=(1, 1), bias=False)\n",
       "      (bn): BatchNorm2d(192, eps=0.001, momentum=0.1, affine=True, track_running_stats=True)\n",
       "    )\n",
       "    (branch7x7_1): BasicConv2d(\n",
       "      (conv): Conv2d(768, 192, kernel_size=(1, 1), stride=(1, 1), bias=False)\n",
       "      (bn): BatchNorm2d(192, eps=0.001, momentum=0.1, affine=True, track_running_stats=True)\n",
       "    )\n",
       "    (branch7x7_2): BasicConv2d(\n",
       "      (conv): Conv2d(192, 192, kernel_size=(1, 7), stride=(1, 1), padding=(0, 3), bias=False)\n",
       "      (bn): BatchNorm2d(192, eps=0.001, momentum=0.1, affine=True, track_running_stats=True)\n",
       "    )\n",
       "    (branch7x7_3): BasicConv2d(\n",
       "      (conv): Conv2d(192, 192, kernel_size=(7, 1), stride=(1, 1), padding=(3, 0), bias=False)\n",
       "      (bn): BatchNorm2d(192, eps=0.001, momentum=0.1, affine=True, track_running_stats=True)\n",
       "    )\n",
       "    (branch7x7dbl_1): BasicConv2d(\n",
       "      (conv): Conv2d(768, 192, kernel_size=(1, 1), stride=(1, 1), bias=False)\n",
       "      (bn): BatchNorm2d(192, eps=0.001, momentum=0.1, affine=True, track_running_stats=True)\n",
       "    )\n",
       "    (branch7x7dbl_2): BasicConv2d(\n",
       "      (conv): Conv2d(192, 192, kernel_size=(7, 1), stride=(1, 1), padding=(3, 0), bias=False)\n",
       "      (bn): BatchNorm2d(192, eps=0.001, momentum=0.1, affine=True, track_running_stats=True)\n",
       "    )\n",
       "    (branch7x7dbl_3): BasicConv2d(\n",
       "      (conv): Conv2d(192, 192, kernel_size=(1, 7), stride=(1, 1), padding=(0, 3), bias=False)\n",
       "      (bn): BatchNorm2d(192, eps=0.001, momentum=0.1, affine=True, track_running_stats=True)\n",
       "    )\n",
       "    (branch7x7dbl_4): BasicConv2d(\n",
       "      (conv): Conv2d(192, 192, kernel_size=(7, 1), stride=(1, 1), padding=(3, 0), bias=False)\n",
       "      (bn): BatchNorm2d(192, eps=0.001, momentum=0.1, affine=True, track_running_stats=True)\n",
       "    )\n",
       "    (branch7x7dbl_5): BasicConv2d(\n",
       "      (conv): Conv2d(192, 192, kernel_size=(1, 7), stride=(1, 1), padding=(0, 3), bias=False)\n",
       "      (bn): BatchNorm2d(192, eps=0.001, momentum=0.1, affine=True, track_running_stats=True)\n",
       "    )\n",
       "    (branch_pool): BasicConv2d(\n",
       "      (conv): Conv2d(768, 192, kernel_size=(1, 1), stride=(1, 1), bias=False)\n",
       "      (bn): BatchNorm2d(192, eps=0.001, momentum=0.1, affine=True, track_running_stats=True)\n",
       "    )\n",
       "  )\n",
       "  (AuxLogits): InceptionAux(\n",
       "    (conv0): BasicConv2d(\n",
       "      (conv): Conv2d(768, 128, kernel_size=(1, 1), stride=(1, 1), bias=False)\n",
       "      (bn): BatchNorm2d(128, eps=0.001, momentum=0.1, affine=True, track_running_stats=True)\n",
       "    )\n",
       "    (conv1): BasicConv2d(\n",
       "      (conv): Conv2d(128, 768, kernel_size=(5, 5), stride=(1, 1), bias=False)\n",
       "      (bn): BatchNorm2d(768, eps=0.001, momentum=0.1, affine=True, track_running_stats=True)\n",
       "    )\n",
       "    (fc): Linear(in_features=768, out_features=1000, bias=True)\n",
       "  )\n",
       "  (Mixed_7a): InceptionD(\n",
       "    (branch3x3_1): BasicConv2d(\n",
       "      (conv): Conv2d(768, 192, kernel_size=(1, 1), stride=(1, 1), bias=False)\n",
       "      (bn): BatchNorm2d(192, eps=0.001, momentum=0.1, affine=True, track_running_stats=True)\n",
       "    )\n",
       "    (branch3x3_2): BasicConv2d(\n",
       "      (conv): Conv2d(192, 320, kernel_size=(3, 3), stride=(2, 2), bias=False)\n",
       "      (bn): BatchNorm2d(320, eps=0.001, momentum=0.1, affine=True, track_running_stats=True)\n",
       "    )\n",
       "    (branch7x7x3_1): BasicConv2d(\n",
       "      (conv): Conv2d(768, 192, kernel_size=(1, 1), stride=(1, 1), bias=False)\n",
       "      (bn): BatchNorm2d(192, eps=0.001, momentum=0.1, affine=True, track_running_stats=True)\n",
       "    )\n",
       "    (branch7x7x3_2): BasicConv2d(\n",
       "      (conv): Conv2d(192, 192, kernel_size=(1, 7), stride=(1, 1), padding=(0, 3), bias=False)\n",
       "      (bn): BatchNorm2d(192, eps=0.001, momentum=0.1, affine=True, track_running_stats=True)\n",
       "    )\n",
       "    (branch7x7x3_3): BasicConv2d(\n",
       "      (conv): Conv2d(192, 192, kernel_size=(7, 1), stride=(1, 1), padding=(3, 0), bias=False)\n",
       "      (bn): BatchNorm2d(192, eps=0.001, momentum=0.1, affine=True, track_running_stats=True)\n",
       "    )\n",
       "    (branch7x7x3_4): BasicConv2d(\n",
       "      (conv): Conv2d(192, 192, kernel_size=(3, 3), stride=(2, 2), bias=False)\n",
       "      (bn): BatchNorm2d(192, eps=0.001, momentum=0.1, affine=True, track_running_stats=True)\n",
       "    )\n",
       "  )\n",
       "  (Mixed_7b): InceptionE(\n",
       "    (branch1x1): BasicConv2d(\n",
       "      (conv): Conv2d(1280, 320, kernel_size=(1, 1), stride=(1, 1), bias=False)\n",
       "      (bn): BatchNorm2d(320, eps=0.001, momentum=0.1, affine=True, track_running_stats=True)\n",
       "    )\n",
       "    (branch3x3_1): BasicConv2d(\n",
       "      (conv): Conv2d(1280, 384, kernel_size=(1, 1), stride=(1, 1), bias=False)\n",
       "      (bn): BatchNorm2d(384, eps=0.001, momentum=0.1, affine=True, track_running_stats=True)\n",
       "    )\n",
       "    (branch3x3_2a): BasicConv2d(\n",
       "      (conv): Conv2d(384, 384, kernel_size=(1, 3), stride=(1, 1), padding=(0, 1), bias=False)\n",
       "      (bn): BatchNorm2d(384, eps=0.001, momentum=0.1, affine=True, track_running_stats=True)\n",
       "    )\n",
       "    (branch3x3_2b): BasicConv2d(\n",
       "      (conv): Conv2d(384, 384, kernel_size=(3, 1), stride=(1, 1), padding=(1, 0), bias=False)\n",
       "      (bn): BatchNorm2d(384, eps=0.001, momentum=0.1, affine=True, track_running_stats=True)\n",
       "    )\n",
       "    (branch3x3dbl_1): BasicConv2d(\n",
       "      (conv): Conv2d(1280, 448, kernel_size=(1, 1), stride=(1, 1), bias=False)\n",
       "      (bn): BatchNorm2d(448, eps=0.001, momentum=0.1, affine=True, track_running_stats=True)\n",
       "    )\n",
       "    (branch3x3dbl_2): BasicConv2d(\n",
       "      (conv): Conv2d(448, 384, kernel_size=(3, 3), stride=(1, 1), padding=(1, 1), bias=False)\n",
       "      (bn): BatchNorm2d(384, eps=0.001, momentum=0.1, affine=True, track_running_stats=True)\n",
       "    )\n",
       "    (branch3x3dbl_3a): BasicConv2d(\n",
       "      (conv): Conv2d(384, 384, kernel_size=(1, 3), stride=(1, 1), padding=(0, 1), bias=False)\n",
       "      (bn): BatchNorm2d(384, eps=0.001, momentum=0.1, affine=True, track_running_stats=True)\n",
       "    )\n",
       "    (branch3x3dbl_3b): BasicConv2d(\n",
       "      (conv): Conv2d(384, 384, kernel_size=(3, 1), stride=(1, 1), padding=(1, 0), bias=False)\n",
       "      (bn): BatchNorm2d(384, eps=0.001, momentum=0.1, affine=True, track_running_stats=True)\n",
       "    )\n",
       "    (branch_pool): BasicConv2d(\n",
       "      (conv): Conv2d(1280, 192, kernel_size=(1, 1), stride=(1, 1), bias=False)\n",
       "      (bn): BatchNorm2d(192, eps=0.001, momentum=0.1, affine=True, track_running_stats=True)\n",
       "    )\n",
       "  )\n",
       "  (Mixed_7c): InceptionE(\n",
       "    (branch1x1): BasicConv2d(\n",
       "      (conv): Conv2d(2048, 320, kernel_size=(1, 1), stride=(1, 1), bias=False)\n",
       "      (bn): BatchNorm2d(320, eps=0.001, momentum=0.1, affine=True, track_running_stats=True)\n",
       "    )\n",
       "    (branch3x3_1): BasicConv2d(\n",
       "      (conv): Conv2d(2048, 384, kernel_size=(1, 1), stride=(1, 1), bias=False)\n",
       "      (bn): BatchNorm2d(384, eps=0.001, momentum=0.1, affine=True, track_running_stats=True)\n",
       "    )\n",
       "    (branch3x3_2a): BasicConv2d(\n",
       "      (conv): Conv2d(384, 384, kernel_size=(1, 3), stride=(1, 1), padding=(0, 1), bias=False)\n",
       "      (bn): BatchNorm2d(384, eps=0.001, momentum=0.1, affine=True, track_running_stats=True)\n",
       "    )\n",
       "    (branch3x3_2b): BasicConv2d(\n",
       "      (conv): Conv2d(384, 384, kernel_size=(3, 1), stride=(1, 1), padding=(1, 0), bias=False)\n",
       "      (bn): BatchNorm2d(384, eps=0.001, momentum=0.1, affine=True, track_running_stats=True)\n",
       "    )\n",
       "    (branch3x3dbl_1): BasicConv2d(\n",
       "      (conv): Conv2d(2048, 448, kernel_size=(1, 1), stride=(1, 1), bias=False)\n",
       "      (bn): BatchNorm2d(448, eps=0.001, momentum=0.1, affine=True, track_running_stats=True)\n",
       "    )\n",
       "    (branch3x3dbl_2): BasicConv2d(\n",
       "      (conv): Conv2d(448, 384, kernel_size=(3, 3), stride=(1, 1), padding=(1, 1), bias=False)\n",
       "      (bn): BatchNorm2d(384, eps=0.001, momentum=0.1, affine=True, track_running_stats=True)\n",
       "    )\n",
       "    (branch3x3dbl_3a): BasicConv2d(\n",
       "      (conv): Conv2d(384, 384, kernel_size=(1, 3), stride=(1, 1), padding=(0, 1), bias=False)\n",
       "      (bn): BatchNorm2d(384, eps=0.001, momentum=0.1, affine=True, track_running_stats=True)\n",
       "    )\n",
       "    (branch3x3dbl_3b): BasicConv2d(\n",
       "      (conv): Conv2d(384, 384, kernel_size=(3, 1), stride=(1, 1), padding=(1, 0), bias=False)\n",
       "      (bn): BatchNorm2d(384, eps=0.001, momentum=0.1, affine=True, track_running_stats=True)\n",
       "    )\n",
       "    (branch_pool): BasicConv2d(\n",
       "      (conv): Conv2d(2048, 192, kernel_size=(1, 1), stride=(1, 1), bias=False)\n",
       "      (bn): BatchNorm2d(192, eps=0.001, momentum=0.1, affine=True, track_running_stats=True)\n",
       "    )\n",
       "  )\n",
       "  (avgpool): AdaptiveAvgPool2d(output_size=(1, 1))\n",
       "  (dropout): Dropout(p=0.5, inplace=False)\n",
       "  (fc): Sequential(\n",
       "    (0): Dropout(p=0.5, inplace=False)\n",
       "    (1): Linear(in_features=2048, out_features=7, bias=True)\n",
       "  )\n",
       ")"
      ]
     },
     "execution_count": 17,
     "metadata": {},
     "output_type": "execute_result"
    }
   ],
   "source": [
    "# Move the model to the GPU if available\n",
    "device = torch.device(\"cuda\" if torch.cuda.is_available() else \"cpu\")\n",
    "print(device)\n",
    "model.to(device)"
   ]
  },
  {
   "cell_type": "code",
   "execution_count": 18,
   "metadata": {},
   "outputs": [
    {
     "name": "stderr",
     "output_type": "stream",
     "text": [
      "Epoch [1/100] Training: 100%|██████████| 70/70 [00:29<00:00,  2.38it/s, accuracy=70.4, loss=0.396]\n",
      "Epoch [1/100] Validation: 100%|██████████| 18/18 [00:03<00:00,  5.74it/s, accuracy=91.8, loss=0.452]\n"
     ]
    },
    {
     "name": "stdout",
     "output_type": "stream",
     "text": [
      "Epoch 1/100\n",
      "Train Loss: 0.9077 | Train Acc: 70.40%\n",
      "Val Loss: 0.2700 | Val Acc: 91.79%\n"
     ]
    },
    {
     "name": "stderr",
     "output_type": "stream",
     "text": [
      "Epoch [2/100] Training: 100%|██████████| 70/70 [00:28<00:00,  2.44it/s, accuracy=92.2, loss=0.317] \n",
      "Epoch [2/100] Validation: 100%|██████████| 18/18 [00:03<00:00,  5.94it/s, accuracy=93.4, loss=0.434] \n"
     ]
    },
    {
     "name": "stdout",
     "output_type": "stream",
     "text": [
      "Epoch 2/100\n",
      "Train Loss: 0.2414 | Train Acc: 92.23%\n",
      "Val Loss: 0.2165 | Val Acc: 93.39%\n"
     ]
    },
    {
     "name": "stderr",
     "output_type": "stream",
     "text": [
      "Epoch [3/100] Training: 100%|██████████| 70/70 [00:28<00:00,  2.49it/s, accuracy=97.1, loss=0.148] \n",
      "Epoch [3/100] Validation: 100%|██████████| 18/18 [00:03<00:00,  5.96it/s, accuracy=94.3, loss=0.571] \n"
     ]
    },
    {
     "name": "stdout",
     "output_type": "stream",
     "text": [
      "Epoch 3/100\n",
      "Train Loss: 0.1192 | Train Acc: 97.10%\n",
      "Val Loss: 0.1953 | Val Acc: 94.29%\n"
     ]
    },
    {
     "name": "stderr",
     "output_type": "stream",
     "text": [
      "Epoch [4/100] Training: 100%|██████████| 70/70 [00:28<00:00,  2.49it/s, accuracy=97.1, loss=0.171] \n",
      "Epoch [4/100] Validation: 100%|██████████| 18/18 [00:03<00:00,  5.84it/s, accuracy=94.5, loss=0.455] \n"
     ]
    },
    {
     "name": "stdout",
     "output_type": "stream",
     "text": [
      "Epoch 4/100\n",
      "Train Loss: 0.0945 | Train Acc: 97.14%\n",
      "Val Loss: 0.1684 | Val Acc: 94.46%\n"
     ]
    },
    {
     "name": "stderr",
     "output_type": "stream",
     "text": [
      "Epoch [5/100] Training: 100%|██████████| 70/70 [00:31<00:00,  2.25it/s, accuracy=98.5, loss=0.0485] \n",
      "Epoch [5/100] Validation: 100%|██████████| 18/18 [00:03<00:00,  5.42it/s, accuracy=93.8, loss=0.445] \n"
     ]
    },
    {
     "name": "stdout",
     "output_type": "stream",
     "text": [
      "Epoch 5/100\n",
      "Train Loss: 0.0610 | Train Acc: 98.48%\n",
      "Val Loss: 0.1964 | Val Acc: 93.75%\n"
     ]
    },
    {
     "name": "stderr",
     "output_type": "stream",
     "text": [
      "Epoch [6/100] Training: 100%|██████████| 70/70 [00:28<00:00,  2.41it/s, accuracy=99.2, loss=0.0238] \n",
      "Epoch [6/100] Validation: 100%|██████████| 18/18 [00:03<00:00,  5.66it/s, accuracy=94.3, loss=0.257] \n"
     ]
    },
    {
     "name": "stdout",
     "output_type": "stream",
     "text": [
      "Epoch 6/100\n",
      "Train Loss: 0.0424 | Train Acc: 99.15%\n",
      "Val Loss: 0.1628 | Val Acc: 94.29%\n"
     ]
    },
    {
     "name": "stderr",
     "output_type": "stream",
     "text": [
      "Epoch [7/100] Training: 100%|██████████| 70/70 [00:28<00:00,  2.44it/s, accuracy=98.8, loss=0.044]  \n",
      "Epoch [7/100] Validation: 100%|██████████| 18/18 [00:02<00:00,  6.07it/s, accuracy=94.8, loss=0.408] \n"
     ]
    },
    {
     "name": "stdout",
     "output_type": "stream",
     "text": [
      "Epoch 7/100\n",
      "Train Loss: 0.0481 | Train Acc: 98.79%\n",
      "Val Loss: 0.1696 | Val Acc: 94.82%\n"
     ]
    },
    {
     "name": "stderr",
     "output_type": "stream",
     "text": [
      "Epoch [8/100] Training: 100%|██████████| 70/70 [00:27<00:00,  2.55it/s, accuracy=98.6, loss=0.0129] \n",
      "Epoch [8/100] Validation: 100%|██████████| 18/18 [00:03<00:00,  5.99it/s, accuracy=95.2, loss=0.278] \n"
     ]
    },
    {
     "name": "stdout",
     "output_type": "stream",
     "text": [
      "Epoch 8/100\n",
      "Train Loss: 0.0473 | Train Acc: 98.62%\n",
      "Val Loss: 0.1882 | Val Acc: 95.18%\n"
     ]
    },
    {
     "name": "stderr",
     "output_type": "stream",
     "text": [
      "Epoch [9/100] Training: 100%|██████████| 70/70 [00:27<00:00,  2.51it/s, accuracy=99.3, loss=0.0216] \n",
      "Epoch [9/100] Validation: 100%|██████████| 18/18 [00:03<00:00,  5.89it/s, accuracy=93, loss=0.422]   \n"
     ]
    },
    {
     "name": "stdout",
     "output_type": "stream",
     "text": [
      "Epoch 9/100\n",
      "Train Loss: 0.0294 | Train Acc: 99.33%\n",
      "Val Loss: 0.2320 | Val Acc: 93.04%\n"
     ]
    },
    {
     "name": "stderr",
     "output_type": "stream",
     "text": [
      "Epoch [10/100] Training: 100%|██████████| 70/70 [00:28<00:00,  2.49it/s, accuracy=98.6, loss=0.012]  \n",
      "Epoch [10/100] Validation: 100%|██████████| 18/18 [00:03<00:00,  5.74it/s, accuracy=95, loss=0.397]   \n"
     ]
    },
    {
     "name": "stdout",
     "output_type": "stream",
     "text": [
      "Epoch 10/100\n",
      "Train Loss: 0.0467 | Train Acc: 98.57%\n",
      "Val Loss: 0.1486 | Val Acc: 95.00%\n"
     ]
    },
    {
     "name": "stderr",
     "output_type": "stream",
     "text": [
      "Epoch [11/100] Training: 100%|██████████| 70/70 [00:28<00:00,  2.45it/s, accuracy=99.4, loss=0.00462]\n",
      "Epoch [11/100] Validation: 100%|██████████| 18/18 [00:03<00:00,  6.00it/s, accuracy=95.5, loss=0.285]  \n"
     ]
    },
    {
     "name": "stdout",
     "output_type": "stream",
     "text": [
      "Epoch 11/100\n",
      "Train Loss: 0.0251 | Train Acc: 99.38%\n",
      "Val Loss: 0.1458 | Val Acc: 95.54%\n"
     ]
    },
    {
     "name": "stderr",
     "output_type": "stream",
     "text": [
      "Epoch [12/100] Training: 100%|██████████| 70/70 [00:28<00:00,  2.49it/s, accuracy=99.5, loss=0.00237]\n",
      "Epoch [12/100] Validation: 100%|██████████| 18/18 [00:03<00:00,  5.37it/s, accuracy=94.8, loss=0.3]   \n"
     ]
    },
    {
     "name": "stdout",
     "output_type": "stream",
     "text": [
      "Epoch 12/100\n",
      "Train Loss: 0.0267 | Train Acc: 99.46%\n",
      "Val Loss: 0.1497 | Val Acc: 94.82%\n"
     ]
    },
    {
     "name": "stderr",
     "output_type": "stream",
     "text": [
      "Epoch [13/100] Training: 100%|██████████| 70/70 [00:29<00:00,  2.41it/s, accuracy=99.5, loss=0.0454] \n",
      "Epoch [13/100] Validation: 100%|██████████| 18/18 [00:02<00:00,  6.04it/s, accuracy=91.8, loss=0.259] \n"
     ]
    },
    {
     "name": "stdout",
     "output_type": "stream",
     "text": [
      "Epoch 13/100\n",
      "Train Loss: 0.0234 | Train Acc: 99.51%\n",
      "Val Loss: 0.2290 | Val Acc: 91.79%\n"
     ]
    },
    {
     "name": "stderr",
     "output_type": "stream",
     "text": [
      "Epoch [14/100] Training: 100%|██████████| 70/70 [00:28<00:00,  2.48it/s, accuracy=99.5, loss=0.00153]\n",
      "Epoch [14/100] Validation: 100%|██████████| 18/18 [00:03<00:00,  5.98it/s, accuracy=95.2, loss=0.434] \n"
     ]
    },
    {
     "name": "stdout",
     "output_type": "stream",
     "text": [
      "Epoch 14/100\n",
      "Train Loss: 0.0188 | Train Acc: 99.51%\n",
      "Val Loss: 0.1606 | Val Acc: 95.18%\n"
     ]
    },
    {
     "name": "stderr",
     "output_type": "stream",
     "text": [
      "Epoch [15/100] Training: 100%|██████████| 70/70 [00:28<00:00,  2.42it/s, accuracy=99.8, loss=0.0229]  \n",
      "Epoch [15/100] Validation: 100%|██████████| 18/18 [00:03<00:00,  5.67it/s, accuracy=96.8, loss=0.417] \n"
     ]
    },
    {
     "name": "stdout",
     "output_type": "stream",
     "text": [
      "Epoch 15/100\n",
      "Train Loss: 0.0088 | Train Acc: 99.82%\n",
      "Val Loss: 0.1156 | Val Acc: 96.79%\n"
     ]
    },
    {
     "name": "stderr",
     "output_type": "stream",
     "text": [
      "Epoch [16/100] Training: 100%|██████████| 70/70 [00:28<00:00,  2.41it/s, accuracy=99.8, loss=0.0103]  \n",
      "Epoch [16/100] Validation: 100%|██████████| 18/18 [00:03<00:00,  5.96it/s, accuracy=95.5, loss=0.497] \n"
     ]
    },
    {
     "name": "stdout",
     "output_type": "stream",
     "text": [
      "Epoch 16/100\n",
      "Train Loss: 0.0125 | Train Acc: 99.82%\n",
      "Val Loss: 0.1730 | Val Acc: 95.54%\n"
     ]
    },
    {
     "name": "stderr",
     "output_type": "stream",
     "text": [
      "Epoch [17/100] Training: 100%|██████████| 70/70 [00:27<00:00,  2.53it/s, accuracy=99.8, loss=0.0038]  \n",
      "Epoch [17/100] Validation: 100%|██████████| 18/18 [00:03<00:00,  5.98it/s, accuracy=95, loss=0.507]   \n"
     ]
    },
    {
     "name": "stdout",
     "output_type": "stream",
     "text": [
      "Epoch 17/100\n",
      "Train Loss: 0.0091 | Train Acc: 99.82%\n",
      "Val Loss: 0.1652 | Val Acc: 95.00%\n"
     ]
    },
    {
     "name": "stderr",
     "output_type": "stream",
     "text": [
      "Epoch [18/100] Training: 100%|██████████| 70/70 [00:27<00:00,  2.52it/s, accuracy=99.8, loss=0.00124] \n",
      "Epoch [18/100] Validation: 100%|██████████| 18/18 [00:02<00:00,  6.11it/s, accuracy=95.4, loss=0.573] \n"
     ]
    },
    {
     "name": "stdout",
     "output_type": "stream",
     "text": [
      "Epoch 18/100\n",
      "Train Loss: 0.0075 | Train Acc: 99.82%\n",
      "Val Loss: 0.1762 | Val Acc: 95.36%\n"
     ]
    },
    {
     "name": "stderr",
     "output_type": "stream",
     "text": [
      "Epoch [19/100] Training: 100%|██████████| 70/70 [00:27<00:00,  2.53it/s, accuracy=98.9, loss=0.0115]  \n",
      "Epoch [19/100] Validation: 100%|██████████| 18/18 [00:02<00:00,  6.09it/s, accuracy=93.2, loss=0.664] \n"
     ]
    },
    {
     "name": "stdout",
     "output_type": "stream",
     "text": [
      "Epoch 19/100\n",
      "Train Loss: 0.0361 | Train Acc: 98.88%\n",
      "Val Loss: 0.2849 | Val Acc: 93.21%\n"
     ]
    },
    {
     "name": "stderr",
     "output_type": "stream",
     "text": [
      "Epoch [20/100] Training: 100%|██████████| 70/70 [00:27<00:00,  2.51it/s, accuracy=99, loss=0.0322]   \n",
      "Epoch [20/100] Validation: 100%|██████████| 18/18 [00:02<00:00,  6.09it/s, accuracy=95.5, loss=0.451] \n"
     ]
    },
    {
     "name": "stdout",
     "output_type": "stream",
     "text": [
      "Epoch 20/100\n",
      "Train Loss: 0.0394 | Train Acc: 98.97%\n",
      "Val Loss: 0.1657 | Val Acc: 95.54%\n"
     ]
    },
    {
     "name": "stderr",
     "output_type": "stream",
     "text": [
      "Epoch [21/100] Training: 100%|██████████| 70/70 [00:27<00:00,  2.53it/s, accuracy=99.7, loss=0.0101] \n",
      "Epoch [21/100] Validation: 100%|██████████| 18/18 [00:02<00:00,  6.06it/s, accuracy=95.9, loss=0.471] \n"
     ]
    },
    {
     "name": "stdout",
     "output_type": "stream",
     "text": [
      "Epoch 21/100\n",
      "Train Loss: 0.0130 | Train Acc: 99.69%\n",
      "Val Loss: 0.1565 | Val Acc: 95.89%\n"
     ]
    },
    {
     "name": "stderr",
     "output_type": "stream",
     "text": [
      "Epoch [22/100] Training: 100%|██████████| 70/70 [00:27<00:00,  2.51it/s, accuracy=99.9, loss=0.0207] \n",
      "Epoch [22/100] Validation: 100%|██████████| 18/18 [00:02<00:00,  6.03it/s, accuracy=95.4, loss=0.493] \n"
     ]
    },
    {
     "name": "stdout",
     "output_type": "stream",
     "text": [
      "Epoch 22/100\n",
      "Train Loss: 0.0102 | Train Acc: 99.87%\n",
      "Val Loss: 0.1617 | Val Acc: 95.36%\n"
     ]
    },
    {
     "name": "stderr",
     "output_type": "stream",
     "text": [
      "Epoch [23/100] Training: 100%|██████████| 70/70 [00:27<00:00,  2.52it/s, accuracy=99.8, loss=0.00133] \n",
      "Epoch [23/100] Validation: 100%|██████████| 18/18 [00:02<00:00,  6.01it/s, accuracy=95.4, loss=0.434] \n"
     ]
    },
    {
     "name": "stdout",
     "output_type": "stream",
     "text": [
      "Epoch 23/100\n",
      "Train Loss: 0.0122 | Train Acc: 99.82%\n",
      "Val Loss: 0.1526 | Val Acc: 95.36%\n"
     ]
    },
    {
     "name": "stderr",
     "output_type": "stream",
     "text": [
      "Epoch [24/100] Training: 100%|██████████| 70/70 [00:27<00:00,  2.51it/s, accuracy=99.9, loss=0.00617] \n",
      "Epoch [24/100] Validation: 100%|██████████| 18/18 [00:02<00:00,  6.04it/s, accuracy=95.5, loss=0.427] \n"
     ]
    },
    {
     "name": "stdout",
     "output_type": "stream",
     "text": [
      "Epoch 24/100\n",
      "Train Loss: 0.0094 | Train Acc: 99.87%\n",
      "Val Loss: 0.1487 | Val Acc: 95.54%\n"
     ]
    },
    {
     "name": "stderr",
     "output_type": "stream",
     "text": [
      "Epoch [25/100] Training: 100%|██████████| 70/70 [00:27<00:00,  2.52it/s, accuracy=99.9, loss=0.032]  \n",
      "Epoch [25/100] Validation: 100%|██████████| 18/18 [00:03<00:00,  5.94it/s, accuracy=95.9, loss=0.465] \n"
     ]
    },
    {
     "name": "stdout",
     "output_type": "stream",
     "text": [
      "Epoch 25/100\n",
      "Train Loss: 0.0056 | Train Acc: 99.91%\n",
      "Val Loss: 0.1501 | Val Acc: 95.89%\n"
     ]
    },
    {
     "name": "stderr",
     "output_type": "stream",
     "text": [
      "Epoch [26/100] Training: 100%|██████████| 70/70 [00:27<00:00,  2.52it/s, accuracy=99.8, loss=0.0019]  \n",
      "Epoch [26/100] Validation: 100%|██████████| 18/18 [00:02<00:00,  6.05it/s, accuracy=95.2, loss=0.445] \n"
     ]
    },
    {
     "name": "stdout",
     "output_type": "stream",
     "text": [
      "Epoch 26/100\n",
      "Train Loss: 0.0100 | Train Acc: 99.82%\n",
      "Val Loss: 0.1571 | Val Acc: 95.18%\n"
     ]
    },
    {
     "name": "stderr",
     "output_type": "stream",
     "text": [
      "Epoch [27/100] Training: 100%|██████████| 70/70 [00:27<00:00,  2.51it/s, accuracy=100, loss=0.00247] \n",
      "Epoch [27/100] Validation: 100%|██████████| 18/18 [00:02<00:00,  6.14it/s, accuracy=95.5, loss=0.517] \n"
     ]
    },
    {
     "name": "stdout",
     "output_type": "stream",
     "text": [
      "Epoch 27/100\n",
      "Train Loss: 0.0054 | Train Acc: 100.00%\n",
      "Val Loss: 0.1641 | Val Acc: 95.54%\n"
     ]
    },
    {
     "name": "stderr",
     "output_type": "stream",
     "text": [
      "Epoch [28/100] Training: 100%|██████████| 70/70 [00:28<00:00,  2.49it/s, accuracy=99.7, loss=0.00104]\n",
      "Epoch [28/100] Validation: 100%|██████████| 18/18 [00:03<00:00,  5.95it/s, accuracy=95.9, loss=0.465] \n"
     ]
    },
    {
     "name": "stdout",
     "output_type": "stream",
     "text": [
      "Epoch 28/100\n",
      "Train Loss: 0.0120 | Train Acc: 99.73%\n",
      "Val Loss: 0.1551 | Val Acc: 95.89%\n"
     ]
    },
    {
     "name": "stderr",
     "output_type": "stream",
     "text": [
      "Epoch [29/100] Training: 100%|██████████| 70/70 [00:28<00:00,  2.50it/s, accuracy=99.9, loss=0.00625] \n",
      "Epoch [29/100] Validation: 100%|██████████| 18/18 [00:02<00:00,  6.10it/s, accuracy=95.7, loss=0.444] \n"
     ]
    },
    {
     "name": "stdout",
     "output_type": "stream",
     "text": [
      "Epoch 29/100\n",
      "Train Loss: 0.0057 | Train Acc: 99.91%\n",
      "Val Loss: 0.1498 | Val Acc: 95.71%\n"
     ]
    },
    {
     "name": "stderr",
     "output_type": "stream",
     "text": [
      "Epoch [30/100] Training: 100%|██████████| 70/70 [00:28<00:00,  2.50it/s, accuracy=99.9, loss=0.0028]  \n",
      "Epoch [30/100] Validation: 100%|██████████| 18/18 [00:02<00:00,  6.05it/s, accuracy=95.7, loss=0.448] \n"
     ]
    },
    {
     "name": "stdout",
     "output_type": "stream",
     "text": [
      "Epoch 30/100\n",
      "Train Loss: 0.0067 | Train Acc: 99.91%\n",
      "Val Loss: 0.1557 | Val Acc: 95.71%\n"
     ]
    },
    {
     "name": "stderr",
     "output_type": "stream",
     "text": [
      "Epoch [31/100] Training: 100%|██████████| 70/70 [00:28<00:00,  2.48it/s, accuracy=99.9, loss=0.00138] \n",
      "Epoch [31/100] Validation: 100%|██████████| 18/18 [00:02<00:00,  6.00it/s, accuracy=95.5, loss=0.449] \n"
     ]
    },
    {
     "name": "stdout",
     "output_type": "stream",
     "text": [
      "Epoch 31/100\n",
      "Train Loss: 0.0070 | Train Acc: 99.91%\n",
      "Val Loss: 0.1553 | Val Acc: 95.54%\n"
     ]
    },
    {
     "name": "stderr",
     "output_type": "stream",
     "text": [
      "Epoch [32/100] Training: 100%|██████████| 70/70 [00:28<00:00,  2.50it/s, accuracy=99.9, loss=0.00103] \n",
      "Epoch [32/100] Validation: 100%|██████████| 18/18 [00:03<00:00,  5.99it/s, accuracy=95.2, loss=0.453] \n"
     ]
    },
    {
     "name": "stdout",
     "output_type": "stream",
     "text": [
      "Epoch 32/100\n",
      "Train Loss: 0.0066 | Train Acc: 99.91%\n",
      "Val Loss: 0.1505 | Val Acc: 95.18%\n"
     ]
    },
    {
     "name": "stderr",
     "output_type": "stream",
     "text": [
      "Epoch [33/100] Training: 100%|██████████| 70/70 [00:28<00:00,  2.48it/s, accuracy=100, loss=0.00311] \n",
      "Epoch [33/100] Validation: 100%|██████████| 18/18 [00:02<00:00,  6.03it/s, accuracy=95.4, loss=0.448] \n"
     ]
    },
    {
     "name": "stdout",
     "output_type": "stream",
     "text": [
      "Epoch 33/100\n",
      "Train Loss: 0.0068 | Train Acc: 99.96%\n",
      "Val Loss: 0.1559 | Val Acc: 95.36%\n"
     ]
    },
    {
     "name": "stderr",
     "output_type": "stream",
     "text": [
      "Epoch [34/100] Training: 100%|██████████| 70/70 [00:27<00:00,  2.50it/s, accuracy=100, loss=0.008]   \n",
      "Epoch [34/100] Validation: 100%|██████████| 18/18 [00:02<00:00,  6.05it/s, accuracy=95.5, loss=0.461] \n"
     ]
    },
    {
     "name": "stdout",
     "output_type": "stream",
     "text": [
      "Epoch 34/100\n",
      "Train Loss: 0.0050 | Train Acc: 100.00%\n",
      "Val Loss: 0.1507 | Val Acc: 95.54%\n"
     ]
    },
    {
     "name": "stderr",
     "output_type": "stream",
     "text": [
      "Epoch [35/100] Training: 100%|██████████| 70/70 [00:28<00:00,  2.50it/s, accuracy=99.7, loss=0.0021]  \n",
      "Epoch [35/100] Validation: 100%|██████████| 18/18 [00:02<00:00,  6.01it/s, accuracy=95.5, loss=0.439] \n"
     ]
    },
    {
     "name": "stdout",
     "output_type": "stream",
     "text": [
      "Epoch 35/100\n",
      "Train Loss: 0.0123 | Train Acc: 99.73%\n",
      "Val Loss: 0.1481 | Val Acc: 95.54%\n"
     ]
    },
    {
     "name": "stderr",
     "output_type": "stream",
     "text": [
      "Epoch [36/100] Training: 100%|██████████| 70/70 [00:28<00:00,  2.50it/s, accuracy=99.7, loss=0.00221] \n",
      "Epoch [36/100] Validation: 100%|██████████| 18/18 [00:02<00:00,  6.07it/s, accuracy=95.5, loss=0.468] \n"
     ]
    },
    {
     "name": "stdout",
     "output_type": "stream",
     "text": [
      "Epoch 36/100\n",
      "Train Loss: 0.0098 | Train Acc: 99.69%\n",
      "Val Loss: 0.1524 | Val Acc: 95.54%\n"
     ]
    },
    {
     "name": "stderr",
     "output_type": "stream",
     "text": [
      "Epoch [37/100] Training: 100%|██████████| 70/70 [00:28<00:00,  2.49it/s, accuracy=100, loss=0.0111]   \n",
      "Epoch [37/100] Validation: 100%|██████████| 18/18 [00:02<00:00,  6.01it/s, accuracy=95.7, loss=0.484] \n"
     ]
    },
    {
     "name": "stdout",
     "output_type": "stream",
     "text": [
      "Epoch 37/100\n",
      "Train Loss: 0.0077 | Train Acc: 99.96%\n",
      "Val Loss: 0.1521 | Val Acc: 95.71%\n"
     ]
    },
    {
     "name": "stderr",
     "output_type": "stream",
     "text": [
      "Epoch [38/100] Training: 100%|██████████| 70/70 [00:28<00:00,  2.50it/s, accuracy=100, loss=0.000658]\n",
      "Epoch [38/100] Validation: 100%|██████████| 18/18 [00:02<00:00,  6.10it/s, accuracy=95.7, loss=0.433] \n"
     ]
    },
    {
     "name": "stdout",
     "output_type": "stream",
     "text": [
      "Epoch 38/100\n",
      "Train Loss: 0.0084 | Train Acc: 99.96%\n",
      "Val Loss: 0.1500 | Val Acc: 95.71%\n"
     ]
    },
    {
     "name": "stderr",
     "output_type": "stream",
     "text": [
      "Epoch [39/100] Training: 100%|██████████| 70/70 [00:28<00:00,  2.49it/s, accuracy=99.8, loss=0.0154]  \n",
      "Epoch [39/100] Validation: 100%|██████████| 18/18 [00:02<00:00,  6.10it/s, accuracy=95.5, loss=0.455] \n"
     ]
    },
    {
     "name": "stdout",
     "output_type": "stream",
     "text": [
      "Epoch 39/100\n",
      "Train Loss: 0.0071 | Train Acc: 99.82%\n",
      "Val Loss: 0.1525 | Val Acc: 95.54%\n"
     ]
    },
    {
     "name": "stderr",
     "output_type": "stream",
     "text": [
      "Epoch [40/100] Training: 100%|██████████| 70/70 [00:27<00:00,  2.50it/s, accuracy=99.7, loss=0.00117] \n",
      "Epoch [40/100] Validation: 100%|██████████| 18/18 [00:02<00:00,  6.01it/s, accuracy=95, loss=0.497]   \n"
     ]
    },
    {
     "name": "stdout",
     "output_type": "stream",
     "text": [
      "Epoch 40/100\n",
      "Train Loss: 0.0114 | Train Acc: 99.73%\n",
      "Val Loss: 0.1604 | Val Acc: 95.00%\n"
     ]
    },
    {
     "name": "stderr",
     "output_type": "stream",
     "text": [
      "Epoch [41/100] Training: 100%|██████████| 70/70 [00:28<00:00,  2.49it/s, accuracy=99.9, loss=0.00353] \n",
      "Epoch [41/100] Validation: 100%|██████████| 18/18 [00:02<00:00,  6.08it/s, accuracy=95.4, loss=0.467] \n"
     ]
    },
    {
     "name": "stdout",
     "output_type": "stream",
     "text": [
      "Epoch 41/100\n",
      "Train Loss: 0.0078 | Train Acc: 99.87%\n",
      "Val Loss: 0.1562 | Val Acc: 95.36%\n"
     ]
    },
    {
     "name": "stderr",
     "output_type": "stream",
     "text": [
      "Epoch [42/100] Training: 100%|██████████| 70/70 [00:28<00:00,  2.50it/s, accuracy=99.9, loss=0.00176] \n",
      "Epoch [42/100] Validation: 100%|██████████| 18/18 [00:02<00:00,  6.08it/s, accuracy=95.4, loss=0.48]  \n"
     ]
    },
    {
     "name": "stdout",
     "output_type": "stream",
     "text": [
      "Epoch 42/100\n",
      "Train Loss: 0.0075 | Train Acc: 99.91%\n",
      "Val Loss: 0.1534 | Val Acc: 95.36%\n"
     ]
    },
    {
     "name": "stderr",
     "output_type": "stream",
     "text": [
      "Epoch [43/100] Training: 100%|██████████| 70/70 [00:28<00:00,  2.49it/s, accuracy=99.9, loss=0.0174] \n",
      "Epoch [43/100] Validation: 100%|██████████| 18/18 [00:02<00:00,  6.05it/s, accuracy=95.7, loss=0.447] \n"
     ]
    },
    {
     "name": "stdout",
     "output_type": "stream",
     "text": [
      "Epoch 43/100\n",
      "Train Loss: 0.0075 | Train Acc: 99.87%\n",
      "Val Loss: 0.1516 | Val Acc: 95.71%\n"
     ]
    },
    {
     "name": "stderr",
     "output_type": "stream",
     "text": [
      "Epoch [44/100] Training: 100%|██████████| 70/70 [00:28<00:00,  2.49it/s, accuracy=99.9, loss=0.00198] \n",
      "Epoch [44/100] Validation: 100%|██████████| 18/18 [00:02<00:00,  6.01it/s, accuracy=95.2, loss=0.505] \n"
     ]
    },
    {
     "name": "stdout",
     "output_type": "stream",
     "text": [
      "Epoch 44/100\n",
      "Train Loss: 0.0086 | Train Acc: 99.87%\n",
      "Val Loss: 0.1600 | Val Acc: 95.18%\n"
     ]
    },
    {
     "name": "stderr",
     "output_type": "stream",
     "text": [
      "Epoch [45/100] Training: 100%|██████████| 70/70 [00:28<00:00,  2.50it/s, accuracy=99.9, loss=0.00538] \n",
      "Epoch [45/100] Validation: 100%|██████████| 18/18 [00:02<00:00,  6.13it/s, accuracy=95.5, loss=0.459] \n"
     ]
    },
    {
     "name": "stdout",
     "output_type": "stream",
     "text": [
      "Epoch 45/100\n",
      "Train Loss: 0.0068 | Train Acc: 99.87%\n",
      "Val Loss: 0.1531 | Val Acc: 95.54%\n"
     ]
    },
    {
     "name": "stderr",
     "output_type": "stream",
     "text": [
      "Epoch [46/100] Training: 100%|██████████| 70/70 [00:28<00:00,  2.50it/s, accuracy=99.9, loss=0.00163] \n",
      "Epoch [46/100] Validation: 100%|██████████| 18/18 [00:02<00:00,  6.06it/s, accuracy=95.7, loss=0.466] \n"
     ]
    },
    {
     "name": "stdout",
     "output_type": "stream",
     "text": [
      "Epoch 46/100\n",
      "Train Loss: 0.0065 | Train Acc: 99.91%\n",
      "Val Loss: 0.1541 | Val Acc: 95.71%\n"
     ]
    },
    {
     "name": "stderr",
     "output_type": "stream",
     "text": [
      "Epoch [47/100] Training: 100%|██████████| 70/70 [00:28<00:00,  2.50it/s, accuracy=99.9, loss=0.000709]\n",
      "Epoch [47/100] Validation: 100%|██████████| 18/18 [00:02<00:00,  6.11it/s, accuracy=95.4, loss=0.496] \n"
     ]
    },
    {
     "name": "stdout",
     "output_type": "stream",
     "text": [
      "Epoch 47/100\n",
      "Train Loss: 0.0065 | Train Acc: 99.91%\n",
      "Val Loss: 0.1598 | Val Acc: 95.36%\n"
     ]
    },
    {
     "name": "stderr",
     "output_type": "stream",
     "text": [
      "Epoch [48/100] Training: 100%|██████████| 70/70 [00:28<00:00,  2.49it/s, accuracy=99.9, loss=0.0239] \n",
      "Epoch [48/100] Validation: 100%|██████████| 18/18 [00:02<00:00,  6.06it/s, accuracy=95.2, loss=0.511] \n"
     ]
    },
    {
     "name": "stdout",
     "output_type": "stream",
     "text": [
      "Epoch 48/100\n",
      "Train Loss: 0.0086 | Train Acc: 99.91%\n",
      "Val Loss: 0.1539 | Val Acc: 95.18%\n"
     ]
    },
    {
     "name": "stderr",
     "output_type": "stream",
     "text": [
      "Epoch [49/100] Training: 100%|██████████| 70/70 [00:28<00:00,  2.49it/s, accuracy=99.7, loss=0.0045]  \n",
      "Epoch [49/100] Validation: 100%|██████████| 18/18 [00:03<00:00,  5.78it/s, accuracy=95.4, loss=0.443] \n"
     ]
    },
    {
     "name": "stdout",
     "output_type": "stream",
     "text": [
      "Epoch 49/100\n",
      "Train Loss: 0.0133 | Train Acc: 99.73%\n",
      "Val Loss: 0.1531 | Val Acc: 95.36%\n"
     ]
    },
    {
     "name": "stderr",
     "output_type": "stream",
     "text": [
      "Epoch [50/100] Training: 100%|██████████| 70/70 [00:28<00:00,  2.45it/s, accuracy=100, loss=0.0305]   \n",
      "Epoch [50/100] Validation: 100%|██████████| 18/18 [00:03<00:00,  5.95it/s, accuracy=95.4, loss=0.513] \n"
     ]
    },
    {
     "name": "stdout",
     "output_type": "stream",
     "text": [
      "Epoch 50/100\n",
      "Train Loss: 0.0065 | Train Acc: 99.96%\n",
      "Val Loss: 0.1592 | Val Acc: 95.36%\n"
     ]
    },
    {
     "name": "stderr",
     "output_type": "stream",
     "text": [
      "Epoch [51/100] Training: 100%|██████████| 70/70 [00:28<00:00,  2.42it/s, accuracy=100, loss=0.00535] \n",
      "Epoch [51/100] Validation: 100%|██████████| 18/18 [00:03<00:00,  5.87it/s, accuracy=95.4, loss=0.491] \n"
     ]
    },
    {
     "name": "stdout",
     "output_type": "stream",
     "text": [
      "Epoch 51/100\n",
      "Train Loss: 0.0065 | Train Acc: 100.00%\n",
      "Val Loss: 0.1558 | Val Acc: 95.36%\n"
     ]
    },
    {
     "name": "stderr",
     "output_type": "stream",
     "text": [
      "Epoch [52/100] Training: 100%|██████████| 70/70 [00:28<00:00,  2.42it/s, accuracy=99.8, loss=0.00619] \n",
      "Epoch [52/100] Validation: 100%|██████████| 18/18 [00:03<00:00,  5.87it/s, accuracy=95.2, loss=0.44]  \n"
     ]
    },
    {
     "name": "stdout",
     "output_type": "stream",
     "text": [
      "Epoch 52/100\n",
      "Train Loss: 0.0072 | Train Acc: 99.82%\n",
      "Val Loss: 0.1520 | Val Acc: 95.18%\n"
     ]
    },
    {
     "name": "stderr",
     "output_type": "stream",
     "text": [
      "Epoch [53/100] Training: 100%|██████████| 70/70 [00:28<00:00,  2.43it/s, accuracy=99.9, loss=0.0023]  \n",
      "Epoch [53/100] Validation: 100%|██████████| 18/18 [00:03<00:00,  5.89it/s, accuracy=95.4, loss=0.465] \n"
     ]
    },
    {
     "name": "stdout",
     "output_type": "stream",
     "text": [
      "Epoch 53/100\n",
      "Train Loss: 0.0077 | Train Acc: 99.87%\n",
      "Val Loss: 0.1533 | Val Acc: 95.36%\n"
     ]
    },
    {
     "name": "stderr",
     "output_type": "stream",
     "text": [
      "Epoch [54/100] Training: 100%|██████████| 70/70 [00:28<00:00,  2.45it/s, accuracy=99.9, loss=0.00399] \n",
      "Epoch [54/100] Validation: 100%|██████████| 18/18 [00:03<00:00,  5.89it/s, accuracy=94.8, loss=0.432] \n"
     ]
    },
    {
     "name": "stdout",
     "output_type": "stream",
     "text": [
      "Epoch 54/100\n",
      "Train Loss: 0.0071 | Train Acc: 99.91%\n",
      "Val Loss: 0.1554 | Val Acc: 94.82%\n"
     ]
    },
    {
     "name": "stderr",
     "output_type": "stream",
     "text": [
      "Epoch [55/100] Training: 100%|██████████| 70/70 [00:28<00:00,  2.44it/s, accuracy=99.9, loss=0.00562] \n",
      "Epoch [55/100] Validation: 100%|██████████| 18/18 [00:03<00:00,  5.86it/s, accuracy=95.4, loss=0.439] \n"
     ]
    },
    {
     "name": "stdout",
     "output_type": "stream",
     "text": [
      "Epoch 55/100\n",
      "Train Loss: 0.0076 | Train Acc: 99.91%\n",
      "Val Loss: 0.1520 | Val Acc: 95.36%\n"
     ]
    },
    {
     "name": "stderr",
     "output_type": "stream",
     "text": [
      "Epoch [56/100] Training: 100%|██████████| 70/70 [00:28<00:00,  2.46it/s, accuracy=100, loss=0.00375] \n",
      "Epoch [56/100] Validation: 100%|██████████| 18/18 [00:03<00:00,  5.86it/s, accuracy=95.4, loss=0.476] \n"
     ]
    },
    {
     "name": "stdout",
     "output_type": "stream",
     "text": [
      "Epoch 56/100\n",
      "Train Loss: 0.0052 | Train Acc: 99.96%\n",
      "Val Loss: 0.1539 | Val Acc: 95.36%\n"
     ]
    },
    {
     "name": "stderr",
     "output_type": "stream",
     "text": [
      "Epoch [57/100] Training: 100%|██████████| 70/70 [00:28<00:00,  2.45it/s, accuracy=99.9, loss=0.00324]\n",
      "Epoch [57/100] Validation: 100%|██████████| 18/18 [00:03<00:00,  5.89it/s, accuracy=95.4, loss=0.468] \n"
     ]
    },
    {
     "name": "stdout",
     "output_type": "stream",
     "text": [
      "Epoch 57/100\n",
      "Train Loss: 0.0057 | Train Acc: 99.91%\n",
      "Val Loss: 0.1520 | Val Acc: 95.36%\n"
     ]
    },
    {
     "name": "stderr",
     "output_type": "stream",
     "text": [
      "Epoch [58/100] Training: 100%|██████████| 70/70 [00:28<00:00,  2.46it/s, accuracy=99.9, loss=0.00297] \n",
      "Epoch [58/100] Validation: 100%|██████████| 18/18 [00:03<00:00,  5.85it/s, accuracy=95.7, loss=0.465] \n"
     ]
    },
    {
     "name": "stdout",
     "output_type": "stream",
     "text": [
      "Epoch 58/100\n",
      "Train Loss: 0.0071 | Train Acc: 99.91%\n",
      "Val Loss: 0.1501 | Val Acc: 95.71%\n"
     ]
    },
    {
     "name": "stderr",
     "output_type": "stream",
     "text": [
      "Epoch [59/100] Training: 100%|██████████| 70/70 [00:28<00:00,  2.45it/s, accuracy=99.9, loss=0.00168] \n",
      "Epoch [59/100] Validation: 100%|██████████| 18/18 [00:03<00:00,  5.91it/s, accuracy=95.4, loss=0.518] \n"
     ]
    },
    {
     "name": "stdout",
     "output_type": "stream",
     "text": [
      "Epoch 59/100\n",
      "Train Loss: 0.0059 | Train Acc: 99.91%\n",
      "Val Loss: 0.1595 | Val Acc: 95.36%\n"
     ]
    },
    {
     "name": "stderr",
     "output_type": "stream",
     "text": [
      "Epoch [60/100] Training: 100%|██████████| 70/70 [00:29<00:00,  2.40it/s, accuracy=99.9, loss=0.0215]  \n",
      "Epoch [60/100] Validation: 100%|██████████| 18/18 [00:03<00:00,  5.74it/s, accuracy=95.4, loss=0.462] \n"
     ]
    },
    {
     "name": "stdout",
     "output_type": "stream",
     "text": [
      "Epoch 60/100\n",
      "Train Loss: 0.0071 | Train Acc: 99.91%\n",
      "Val Loss: 0.1500 | Val Acc: 95.36%\n"
     ]
    },
    {
     "name": "stderr",
     "output_type": "stream",
     "text": [
      "Epoch [61/100] Training: 100%|██████████| 70/70 [00:29<00:00,  2.40it/s, accuracy=100, loss=0.00529] \n",
      "Epoch [61/100] Validation: 100%|██████████| 18/18 [00:03<00:00,  5.87it/s, accuracy=95, loss=0.447]   \n"
     ]
    },
    {
     "name": "stdout",
     "output_type": "stream",
     "text": [
      "Epoch 61/100\n",
      "Train Loss: 0.0057 | Train Acc: 100.00%\n",
      "Val Loss: 0.1514 | Val Acc: 95.00%\n"
     ]
    },
    {
     "name": "stderr",
     "output_type": "stream",
     "text": [
      "Epoch [62/100] Training: 100%|██████████| 70/70 [00:28<00:00,  2.45it/s, accuracy=99.9, loss=0.00607] \n",
      "Epoch [62/100] Validation: 100%|██████████| 18/18 [00:03<00:00,  5.88it/s, accuracy=95.7, loss=0.468] \n"
     ]
    },
    {
     "name": "stdout",
     "output_type": "stream",
     "text": [
      "Epoch 62/100\n",
      "Train Loss: 0.0081 | Train Acc: 99.91%\n",
      "Val Loss: 0.1477 | Val Acc: 95.71%\n"
     ]
    },
    {
     "name": "stderr",
     "output_type": "stream",
     "text": [
      "Epoch [63/100] Training: 100%|██████████| 70/70 [00:28<00:00,  2.45it/s, accuracy=99.6, loss=0.00193] \n",
      "Epoch [63/100] Validation: 100%|██████████| 18/18 [00:03<00:00,  5.88it/s, accuracy=95.2, loss=0.434] \n"
     ]
    },
    {
     "name": "stdout",
     "output_type": "stream",
     "text": [
      "Epoch 63/100\n",
      "Train Loss: 0.0124 | Train Acc: 99.64%\n",
      "Val Loss: 0.1542 | Val Acc: 95.18%\n"
     ]
    },
    {
     "name": "stderr",
     "output_type": "stream",
     "text": [
      "Epoch [64/100] Training: 100%|██████████| 70/70 [00:28<00:00,  2.46it/s, accuracy=99.9, loss=0.0246]  \n",
      "Epoch [64/100] Validation: 100%|██████████| 18/18 [00:03<00:00,  5.87it/s, accuracy=95.7, loss=0.467] \n"
     ]
    },
    {
     "name": "stdout",
     "output_type": "stream",
     "text": [
      "Epoch 64/100\n",
      "Train Loss: 0.0064 | Train Acc: 99.91%\n",
      "Val Loss: 0.1514 | Val Acc: 95.71%\n"
     ]
    },
    {
     "name": "stderr",
     "output_type": "stream",
     "text": [
      "Epoch [65/100] Training: 100%|██████████| 70/70 [00:28<00:00,  2.45it/s, accuracy=99.9, loss=0.00172] \n",
      "Epoch [65/100] Validation: 100%|██████████| 18/18 [00:03<00:00,  5.89it/s, accuracy=95.7, loss=0.434] \n"
     ]
    },
    {
     "name": "stdout",
     "output_type": "stream",
     "text": [
      "Epoch 65/100\n",
      "Train Loss: 0.0062 | Train Acc: 99.87%\n",
      "Val Loss: 0.1503 | Val Acc: 95.71%\n"
     ]
    },
    {
     "name": "stderr",
     "output_type": "stream",
     "text": [
      "Epoch [66/100] Training: 100%|██████████| 70/70 [00:28<00:00,  2.46it/s, accuracy=99.9, loss=0.00386] \n",
      "Epoch [66/100] Validation: 100%|██████████| 18/18 [00:03<00:00,  5.94it/s, accuracy=95, loss=0.489]   \n"
     ]
    },
    {
     "name": "stdout",
     "output_type": "stream",
     "text": [
      "Epoch 66/100\n",
      "Train Loss: 0.0071 | Train Acc: 99.91%\n",
      "Val Loss: 0.1594 | Val Acc: 95.00%\n"
     ]
    },
    {
     "name": "stderr",
     "output_type": "stream",
     "text": [
      "Epoch [67/100] Training: 100%|██████████| 70/70 [00:28<00:00,  2.46it/s, accuracy=99.9, loss=0.0602]  \n",
      "Epoch [67/100] Validation: 100%|██████████| 18/18 [00:03<00:00,  5.87it/s, accuracy=95.9, loss=0.533] \n"
     ]
    },
    {
     "name": "stdout",
     "output_type": "stream",
     "text": [
      "Epoch 67/100\n",
      "Train Loss: 0.0069 | Train Acc: 99.87%\n",
      "Val Loss: 0.1546 | Val Acc: 95.89%\n"
     ]
    },
    {
     "name": "stderr",
     "output_type": "stream",
     "text": [
      "Epoch [68/100] Training: 100%|██████████| 70/70 [00:28<00:00,  2.45it/s, accuracy=99.9, loss=0.000625]\n",
      "Epoch [68/100] Validation: 100%|██████████| 18/18 [00:03<00:00,  5.79it/s, accuracy=95.2, loss=0.469] \n"
     ]
    },
    {
     "name": "stdout",
     "output_type": "stream",
     "text": [
      "Epoch 68/100\n",
      "Train Loss: 0.0072 | Train Acc: 99.91%\n",
      "Val Loss: 0.1580 | Val Acc: 95.18%\n"
     ]
    },
    {
     "name": "stderr",
     "output_type": "stream",
     "text": [
      "Epoch [69/100] Training: 100%|██████████| 70/70 [00:28<00:00,  2.44it/s, accuracy=99.9, loss=0.00165] \n",
      "Epoch [69/100] Validation: 100%|██████████| 18/18 [00:03<00:00,  5.91it/s, accuracy=95.4, loss=0.452] \n"
     ]
    },
    {
     "name": "stdout",
     "output_type": "stream",
     "text": [
      "Epoch 69/100\n",
      "Train Loss: 0.0062 | Train Acc: 99.91%\n",
      "Val Loss: 0.1554 | Val Acc: 95.36%\n"
     ]
    },
    {
     "name": "stderr",
     "output_type": "stream",
     "text": [
      "Epoch [70/100] Training: 100%|██████████| 70/70 [00:28<00:00,  2.45it/s, accuracy=100, loss=0.00157]  \n",
      "Epoch [70/100] Validation: 100%|██████████| 18/18 [00:03<00:00,  5.90it/s, accuracy=95.4, loss=0.46]  \n"
     ]
    },
    {
     "name": "stdout",
     "output_type": "stream",
     "text": [
      "Epoch 70/100\n",
      "Train Loss: 0.0064 | Train Acc: 99.96%\n",
      "Val Loss: 0.1577 | Val Acc: 95.36%\n"
     ]
    },
    {
     "name": "stderr",
     "output_type": "stream",
     "text": [
      "Epoch [71/100] Training: 100%|██████████| 70/70 [00:28<00:00,  2.45it/s, accuracy=100, loss=0.00293] \n",
      "Epoch [71/100] Validation: 100%|██████████| 18/18 [00:03<00:00,  5.86it/s, accuracy=95.7, loss=0.497] \n"
     ]
    },
    {
     "name": "stdout",
     "output_type": "stream",
     "text": [
      "Epoch 71/100\n",
      "Train Loss: 0.0061 | Train Acc: 99.96%\n",
      "Val Loss: 0.1609 | Val Acc: 95.71%\n"
     ]
    },
    {
     "name": "stderr",
     "output_type": "stream",
     "text": [
      "Epoch [72/100] Training: 100%|██████████| 70/70 [00:28<00:00,  2.46it/s, accuracy=99.7, loss=0.00365]\n",
      "Epoch [72/100] Validation: 100%|██████████| 18/18 [00:03<00:00,  5.85it/s, accuracy=95.9, loss=0.455] \n"
     ]
    },
    {
     "name": "stdout",
     "output_type": "stream",
     "text": [
      "Epoch 72/100\n",
      "Train Loss: 0.0078 | Train Acc: 99.73%\n",
      "Val Loss: 0.1488 | Val Acc: 95.89%\n"
     ]
    },
    {
     "name": "stderr",
     "output_type": "stream",
     "text": [
      "Epoch [73/100] Training: 100%|██████████| 70/70 [00:28<00:00,  2.46it/s, accuracy=99.8, loss=0.00119] \n",
      "Epoch [73/100] Validation: 100%|██████████| 18/18 [00:03<00:00,  5.90it/s, accuracy=95.5, loss=0.424] \n"
     ]
    },
    {
     "name": "stdout",
     "output_type": "stream",
     "text": [
      "Epoch 73/100\n",
      "Train Loss: 0.0103 | Train Acc: 99.82%\n",
      "Val Loss: 0.1534 | Val Acc: 95.54%\n"
     ]
    },
    {
     "name": "stderr",
     "output_type": "stream",
     "text": [
      "Epoch [74/100] Training: 100%|██████████| 70/70 [00:28<00:00,  2.45it/s, accuracy=99.9, loss=0.00158] \n",
      "Epoch [74/100] Validation: 100%|██████████| 18/18 [00:03<00:00,  5.97it/s, accuracy=95.5, loss=0.451] \n"
     ]
    },
    {
     "name": "stdout",
     "output_type": "stream",
     "text": [
      "Epoch 74/100\n",
      "Train Loss: 0.0070 | Train Acc: 99.91%\n",
      "Val Loss: 0.1546 | Val Acc: 95.54%\n"
     ]
    },
    {
     "name": "stderr",
     "output_type": "stream",
     "text": [
      "Epoch [75/100] Training: 100%|██████████| 70/70 [00:28<00:00,  2.45it/s, accuracy=99.9, loss=0.00185] \n",
      "Epoch [75/100] Validation: 100%|██████████| 18/18 [00:03<00:00,  5.85it/s, accuracy=95.5, loss=0.456] \n"
     ]
    },
    {
     "name": "stdout",
     "output_type": "stream",
     "text": [
      "Epoch 75/100\n",
      "Train Loss: 0.0087 | Train Acc: 99.87%\n",
      "Val Loss: 0.1505 | Val Acc: 95.54%\n"
     ]
    },
    {
     "name": "stderr",
     "output_type": "stream",
     "text": [
      "Epoch [76/100] Training: 100%|██████████| 70/70 [00:28<00:00,  2.46it/s, accuracy=99.8, loss=0.0013]  \n",
      "Epoch [76/100] Validation: 100%|██████████| 18/18 [00:03<00:00,  5.97it/s, accuracy=95.7, loss=0.466] \n"
     ]
    },
    {
     "name": "stdout",
     "output_type": "stream",
     "text": [
      "Epoch 76/100\n",
      "Train Loss: 0.0103 | Train Acc: 99.82%\n",
      "Val Loss: 0.1493 | Val Acc: 95.71%\n"
     ]
    },
    {
     "name": "stderr",
     "output_type": "stream",
     "text": [
      "Epoch [77/100] Training: 100%|██████████| 70/70 [00:28<00:00,  2.42it/s, accuracy=99.8, loss=0.00542] \n",
      "Epoch [77/100] Validation: 100%|██████████| 18/18 [00:03<00:00,  5.88it/s, accuracy=96.1, loss=0.495] \n"
     ]
    },
    {
     "name": "stdout",
     "output_type": "stream",
     "text": [
      "Epoch 77/100\n",
      "Train Loss: 0.0098 | Train Acc: 99.78%\n",
      "Val Loss: 0.1521 | Val Acc: 96.07%\n"
     ]
    },
    {
     "name": "stderr",
     "output_type": "stream",
     "text": [
      "Epoch [78/100] Training: 100%|██████████| 70/70 [00:28<00:00,  2.45it/s, accuracy=99.9, loss=0.00249] \n",
      "Epoch [78/100] Validation: 100%|██████████| 18/18 [00:03<00:00,  5.82it/s, accuracy=95.5, loss=0.473] \n"
     ]
    },
    {
     "name": "stdout",
     "output_type": "stream",
     "text": [
      "Epoch 78/100\n",
      "Train Loss: 0.0088 | Train Acc: 99.87%\n",
      "Val Loss: 0.1648 | Val Acc: 95.54%\n"
     ]
    },
    {
     "name": "stderr",
     "output_type": "stream",
     "text": [
      "Epoch [79/100] Training: 100%|██████████| 70/70 [00:28<00:00,  2.43it/s, accuracy=99.9, loss=0.0127]  \n",
      "Epoch [79/100] Validation: 100%|██████████| 18/18 [00:03<00:00,  5.88it/s, accuracy=95.4, loss=0.472] \n"
     ]
    },
    {
     "name": "stdout",
     "output_type": "stream",
     "text": [
      "Epoch 79/100\n",
      "Train Loss: 0.0073 | Train Acc: 99.87%\n",
      "Val Loss: 0.1472 | Val Acc: 95.36%\n"
     ]
    },
    {
     "name": "stderr",
     "output_type": "stream",
     "text": [
      "Epoch [80/100] Training: 100%|██████████| 70/70 [00:28<00:00,  2.44it/s, accuracy=99.7, loss=0.00174] \n",
      "Epoch [80/100] Validation: 100%|██████████| 18/18 [00:03<00:00,  5.91it/s, accuracy=95.5, loss=0.478] \n"
     ]
    },
    {
     "name": "stdout",
     "output_type": "stream",
     "text": [
      "Epoch 80/100\n",
      "Train Loss: 0.0125 | Train Acc: 99.73%\n",
      "Val Loss: 0.1620 | Val Acc: 95.54%\n"
     ]
    },
    {
     "name": "stderr",
     "output_type": "stream",
     "text": [
      "Epoch [81/100] Training: 100%|██████████| 70/70 [00:28<00:00,  2.44it/s, accuracy=100, loss=0.0222]  \n",
      "Epoch [81/100] Validation: 100%|██████████| 18/18 [00:03<00:00,  5.90it/s, accuracy=95.2, loss=0.435] \n"
     ]
    },
    {
     "name": "stdout",
     "output_type": "stream",
     "text": [
      "Epoch 81/100\n",
      "Train Loss: 0.0065 | Train Acc: 99.96%\n",
      "Val Loss: 0.1568 | Val Acc: 95.18%\n"
     ]
    },
    {
     "name": "stderr",
     "output_type": "stream",
     "text": [
      "Epoch [82/100] Training: 100%|██████████| 70/70 [00:28<00:00,  2.45it/s, accuracy=99.8, loss=0.000742]\n",
      "Epoch [82/100] Validation: 100%|██████████| 18/18 [00:03<00:00,  5.92it/s, accuracy=95.7, loss=0.502] \n"
     ]
    },
    {
     "name": "stdout",
     "output_type": "stream",
     "text": [
      "Epoch 82/100\n",
      "Train Loss: 0.0089 | Train Acc: 99.82%\n",
      "Val Loss: 0.1540 | Val Acc: 95.71%\n"
     ]
    },
    {
     "name": "stderr",
     "output_type": "stream",
     "text": [
      "Epoch [83/100] Training: 100%|██████████| 70/70 [00:28<00:00,  2.44it/s, accuracy=100, loss=0.0018]   \n",
      "Epoch [83/100] Validation: 100%|██████████| 18/18 [00:03<00:00,  5.76it/s, accuracy=95.7, loss=0.479] \n"
     ]
    },
    {
     "name": "stdout",
     "output_type": "stream",
     "text": [
      "Epoch 83/100\n",
      "Train Loss: 0.0066 | Train Acc: 99.96%\n",
      "Val Loss: 0.1521 | Val Acc: 95.71%\n"
     ]
    },
    {
     "name": "stderr",
     "output_type": "stream",
     "text": [
      "Epoch [84/100] Training: 100%|██████████| 70/70 [00:28<00:00,  2.46it/s, accuracy=99.9, loss=0.00739] \n",
      "Epoch [84/100] Validation: 100%|██████████| 18/18 [00:03<00:00,  5.82it/s, accuracy=95, loss=0.506]   \n"
     ]
    },
    {
     "name": "stdout",
     "output_type": "stream",
     "text": [
      "Epoch 84/100\n",
      "Train Loss: 0.0066 | Train Acc: 99.91%\n",
      "Val Loss: 0.1587 | Val Acc: 95.00%\n"
     ]
    },
    {
     "name": "stderr",
     "output_type": "stream",
     "text": [
      "Epoch [85/100] Training: 100%|██████████| 70/70 [00:28<00:00,  2.45it/s, accuracy=99.8, loss=0.00719] \n",
      "Epoch [85/100] Validation: 100%|██████████| 18/18 [00:03<00:00,  5.94it/s, accuracy=95.9, loss=0.479] \n"
     ]
    },
    {
     "name": "stdout",
     "output_type": "stream",
     "text": [
      "Epoch 85/100\n",
      "Train Loss: 0.0094 | Train Acc: 99.78%\n",
      "Val Loss: 0.1560 | Val Acc: 95.89%\n"
     ]
    },
    {
     "name": "stderr",
     "output_type": "stream",
     "text": [
      "Epoch [86/100] Training: 100%|██████████| 70/70 [00:28<00:00,  2.44it/s, accuracy=99.8, loss=0.00279] \n",
      "Epoch [86/100] Validation: 100%|██████████| 18/18 [00:03<00:00,  5.87it/s, accuracy=95.4, loss=0.549] \n"
     ]
    },
    {
     "name": "stdout",
     "output_type": "stream",
     "text": [
      "Epoch 86/100\n",
      "Train Loss: 0.0081 | Train Acc: 99.82%\n",
      "Val Loss: 0.1689 | Val Acc: 95.36%\n"
     ]
    },
    {
     "name": "stderr",
     "output_type": "stream",
     "text": [
      "Epoch [87/100] Training: 100%|██████████| 70/70 [00:29<00:00,  2.41it/s, accuracy=100, loss=0.00122] \n",
      "Epoch [87/100] Validation: 100%|██████████| 18/18 [00:03<00:00,  5.92it/s, accuracy=95.4, loss=0.51]  \n"
     ]
    },
    {
     "name": "stdout",
     "output_type": "stream",
     "text": [
      "Epoch 87/100\n",
      "Train Loss: 0.0058 | Train Acc: 100.00%\n",
      "Val Loss: 0.1580 | Val Acc: 95.36%\n"
     ]
    },
    {
     "name": "stderr",
     "output_type": "stream",
     "text": [
      "Epoch [88/100] Training: 100%|██████████| 70/70 [00:28<00:00,  2.44it/s, accuracy=99.9, loss=0.0385]  \n",
      "Epoch [88/100] Validation: 100%|██████████| 18/18 [00:03<00:00,  5.80it/s, accuracy=95.4, loss=0.437] \n"
     ]
    },
    {
     "name": "stdout",
     "output_type": "stream",
     "text": [
      "Epoch 88/100\n",
      "Train Loss: 0.0066 | Train Acc: 99.87%\n",
      "Val Loss: 0.1490 | Val Acc: 95.36%\n"
     ]
    },
    {
     "name": "stderr",
     "output_type": "stream",
     "text": [
      "Epoch [89/100] Training: 100%|██████████| 70/70 [00:28<00:00,  2.44it/s, accuracy=99.8, loss=0.00254] \n",
      "Epoch [89/100] Validation: 100%|██████████| 18/18 [00:03<00:00,  5.85it/s, accuracy=95.5, loss=0.436] \n"
     ]
    },
    {
     "name": "stdout",
     "output_type": "stream",
     "text": [
      "Epoch 89/100\n",
      "Train Loss: 0.0079 | Train Acc: 99.82%\n",
      "Val Loss: 0.1531 | Val Acc: 95.54%\n"
     ]
    },
    {
     "name": "stderr",
     "output_type": "stream",
     "text": [
      "Epoch [90/100] Training: 100%|██████████| 70/70 [00:28<00:00,  2.44it/s, accuracy=99.9, loss=0.00181] \n",
      "Epoch [90/100] Validation: 100%|██████████| 18/18 [00:03<00:00,  5.89it/s, accuracy=96.1, loss=0.459] \n"
     ]
    },
    {
     "name": "stdout",
     "output_type": "stream",
     "text": [
      "Epoch 90/100\n",
      "Train Loss: 0.0063 | Train Acc: 99.87%\n",
      "Val Loss: 0.1551 | Val Acc: 96.07%\n"
     ]
    },
    {
     "name": "stderr",
     "output_type": "stream",
     "text": [
      "Epoch [91/100] Training: 100%|██████████| 70/70 [00:28<00:00,  2.44it/s, accuracy=100, loss=0.0031]   \n",
      "Epoch [91/100] Validation: 100%|██████████| 18/18 [00:03<00:00,  5.82it/s, accuracy=95.2, loss=0.441] \n"
     ]
    },
    {
     "name": "stdout",
     "output_type": "stream",
     "text": [
      "Epoch 91/100\n",
      "Train Loss: 0.0065 | Train Acc: 99.96%\n",
      "Val Loss: 0.1557 | Val Acc: 95.18%\n"
     ]
    },
    {
     "name": "stderr",
     "output_type": "stream",
     "text": [
      "Epoch [92/100] Training: 100%|██████████| 70/70 [00:28<00:00,  2.46it/s, accuracy=99.8, loss=0.00711]\n",
      "Epoch [92/100] Validation: 100%|██████████| 18/18 [00:03<00:00,  5.84it/s, accuracy=95.4, loss=0.495] \n"
     ]
    },
    {
     "name": "stdout",
     "output_type": "stream",
     "text": [
      "Epoch 92/100\n",
      "Train Loss: 0.0081 | Train Acc: 99.78%\n",
      "Val Loss: 0.1574 | Val Acc: 95.36%\n"
     ]
    },
    {
     "name": "stderr",
     "output_type": "stream",
     "text": [
      "Epoch [93/100] Training: 100%|██████████| 70/70 [00:28<00:00,  2.44it/s, accuracy=100, loss=0.00289] \n",
      "Epoch [93/100] Validation: 100%|██████████| 18/18 [00:03<00:00,  5.92it/s, accuracy=95, loss=0.467]   \n"
     ]
    },
    {
     "name": "stdout",
     "output_type": "stream",
     "text": [
      "Epoch 93/100\n",
      "Train Loss: 0.0069 | Train Acc: 100.00%\n",
      "Val Loss: 0.1552 | Val Acc: 95.00%\n"
     ]
    },
    {
     "name": "stderr",
     "output_type": "stream",
     "text": [
      "Epoch [94/100] Training: 100%|██████████| 70/70 [00:28<00:00,  2.44it/s, accuracy=100, loss=0.000895] \n",
      "Epoch [94/100] Validation: 100%|██████████| 18/18 [00:03<00:00,  5.80it/s, accuracy=95.9, loss=0.51]  \n"
     ]
    },
    {
     "name": "stdout",
     "output_type": "stream",
     "text": [
      "Epoch 94/100\n",
      "Train Loss: 0.0052 | Train Acc: 99.96%\n",
      "Val Loss: 0.1545 | Val Acc: 95.89%\n"
     ]
    },
    {
     "name": "stderr",
     "output_type": "stream",
     "text": [
      "Epoch [95/100] Training: 100%|██████████| 70/70 [00:28<00:00,  2.45it/s, accuracy=99.9, loss=0.000812]\n",
      "Epoch [95/100] Validation: 100%|██████████| 18/18 [00:03<00:00,  5.87it/s, accuracy=95.5, loss=0.504] \n"
     ]
    },
    {
     "name": "stdout",
     "output_type": "stream",
     "text": [
      "Epoch 95/100\n",
      "Train Loss: 0.0074 | Train Acc: 99.91%\n",
      "Val Loss: 0.1570 | Val Acc: 95.54%\n"
     ]
    },
    {
     "name": "stderr",
     "output_type": "stream",
     "text": [
      "Epoch [96/100] Training: 100%|██████████| 70/70 [00:28<00:00,  2.44it/s, accuracy=99.9, loss=0.00246] \n",
      "Epoch [96/100] Validation: 100%|██████████| 18/18 [00:03<00:00,  5.86it/s, accuracy=94.8, loss=0.484] \n"
     ]
    },
    {
     "name": "stdout",
     "output_type": "stream",
     "text": [
      "Epoch 96/100\n",
      "Train Loss: 0.0071 | Train Acc: 99.91%\n",
      "Val Loss: 0.1550 | Val Acc: 94.82%\n"
     ]
    },
    {
     "name": "stderr",
     "output_type": "stream",
     "text": [
      "Epoch [97/100] Training: 100%|██████████| 70/70 [00:28<00:00,  2.45it/s, accuracy=99.9, loss=0.002]  \n",
      "Epoch [97/100] Validation: 100%|██████████| 18/18 [00:03<00:00,  5.98it/s, accuracy=95.4, loss=0.501] \n"
     ]
    },
    {
     "name": "stdout",
     "output_type": "stream",
     "text": [
      "Epoch 97/100\n",
      "Train Loss: 0.0071 | Train Acc: 99.91%\n",
      "Val Loss: 0.1571 | Val Acc: 95.36%\n"
     ]
    },
    {
     "name": "stderr",
     "output_type": "stream",
     "text": [
      "Epoch [98/100] Training: 100%|██████████| 70/70 [00:28<00:00,  2.45it/s, accuracy=99.9, loss=0.0155]  \n",
      "Epoch [98/100] Validation: 100%|██████████| 18/18 [00:03<00:00,  5.86it/s, accuracy=95, loss=0.528]   \n"
     ]
    },
    {
     "name": "stdout",
     "output_type": "stream",
     "text": [
      "Epoch 98/100\n",
      "Train Loss: 0.0061 | Train Acc: 99.87%\n",
      "Val Loss: 0.1626 | Val Acc: 95.00%\n"
     ]
    },
    {
     "name": "stderr",
     "output_type": "stream",
     "text": [
      "Epoch [99/100] Training: 100%|██████████| 70/70 [00:28<00:00,  2.46it/s, accuracy=99.9, loss=0.00602] \n",
      "Epoch [99/100] Validation: 100%|██████████| 18/18 [00:03<00:00,  5.92it/s, accuracy=95.9, loss=0.48]  \n"
     ]
    },
    {
     "name": "stdout",
     "output_type": "stream",
     "text": [
      "Epoch 99/100\n",
      "Train Loss: 0.0066 | Train Acc: 99.87%\n",
      "Val Loss: 0.1533 | Val Acc: 95.89%\n"
     ]
    },
    {
     "name": "stderr",
     "output_type": "stream",
     "text": [
      "Epoch [100/100] Training: 100%|██████████| 70/70 [00:28<00:00,  2.44it/s, accuracy=99.8, loss=0.00255] \n",
      "Epoch [100/100] Validation: 100%|██████████| 18/18 [00:03<00:00,  5.78it/s, accuracy=96.1, loss=0.5]   "
     ]
    },
    {
     "name": "stdout",
     "output_type": "stream",
     "text": [
      "Epoch 100/100\n",
      "Train Loss: 0.0094 | Train Acc: 99.82%\n",
      "Val Loss: 0.1572 | Val Acc: 96.07%\n"
     ]
    },
    {
     "name": "stderr",
     "output_type": "stream",
     "text": [
      "\n"
     ]
    }
   ],
   "source": [
    "# Training setup\n",
    "criterion = nn.CrossEntropyLoss()\n",
    "optimizer = optim.AdamW(model.parameters(), lr=1e-4, weight_decay=1e-4)\n",
    "scheduler = optim.lr_scheduler.ReduceLROnPlateau(optimizer, mode='min', patience=3, verbose=True)\n",
    "\n",
    "# Lists to store loss and accuracy for plotting\n",
    "train_losses, val_losses = [], []\n",
    "train_accuracies, val_accuracies = [], []\n",
    "\n",
    "# Training loop\n",
    "num_epochs = 100\n",
    "csv_filename = \"inception_training_metrics.csv\"\n",
    "metrics_df = pd.DataFrame(columns=[\"Epoch\", \"Train Loss\", \"Train Accuracy\", \"Val Loss\", \"Val Accuracy\"])\n",
    "metrics_df.to_csv(csv_filename, index=False)\n",
    "\n",
    "for epoch in range(num_epochs):\n",
    "    # Training phase\n",
    "    model.train()\n",
    "    running_loss = 0.0\n",
    "    correct, total = 0, 0\n",
    "    \n",
    "    train_loop = tqdm(train_loader, desc=f\"Epoch [{epoch+1}/{num_epochs}] Training\")\n",
    "    for images, labels in train_loop:\n",
    "        images, labels = images.to(device), labels.to(device)\n",
    "        \n",
    "        optimizer.zero_grad()\n",
    "        outputs = model(images)\n",
    "        loss = criterion(outputs, labels)\n",
    "        loss.backward()\n",
    "        optimizer.step()\n",
    "        \n",
    "        _, predicted = torch.max(outputs.data, 1)\n",
    "        total += labels.size(0)\n",
    "        correct += (predicted == labels).sum().item()\n",
    "        running_loss += loss.item()\n",
    "        \n",
    "        train_loop.set_postfix(loss=loss.item(), accuracy=100 * correct / total)\n",
    "    \n",
    "    train_loss = running_loss / len(train_loader)\n",
    "    train_acc = 100 * correct / total\n",
    "    train_losses.append(train_loss)  # Store for plotting\n",
    "    train_accuracies.append(train_acc)  # Store for plotting\n",
    "\n",
    "    # Validation phase\n",
    "    model.eval()\n",
    "    val_running_loss = 0.0\n",
    "    correct, total = 0, 0\n",
    "    \n",
    "    val_loop = tqdm(val_loader, desc=f\"Epoch [{epoch+1}/{num_epochs}] Validation\")\n",
    "    with torch.no_grad():\n",
    "        for images, labels in val_loop:\n",
    "            images, labels = images.to(device), labels.to(device)\n",
    "            outputs = model(images)\n",
    "            loss = criterion(outputs, labels)\n",
    "            \n",
    "            val_running_loss += loss.item()\n",
    "            _, predicted = torch.max(outputs.data, 1)\n",
    "            total += labels.size(0)\n",
    "            correct += (predicted == labels).sum().item()\n",
    "            \n",
    "            val_loop.set_postfix(loss=loss.item(), accuracy=100 * correct / total)\n",
    "    \n",
    "    val_loss = val_running_loss / len(val_loader)\n",
    "    val_acc = 100 * correct / total\n",
    "    val_losses.append(val_loss)  # Store for plotting\n",
    "    val_accuracies.append(val_acc)  # Store for plotting\n",
    "\n",
    "    scheduler.step(val_loss)\n",
    "    \n",
    "    # Save metrics\n",
    "    epoch_df = pd.DataFrame([[epoch+1, train_loss, train_acc, val_loss, val_acc]],\n",
    "                           columns=[\"Epoch\", \"Train Loss\", \"Train Accuracy\", \"Val Loss\", \"Val Accuracy\"])\n",
    "    epoch_df.to_csv(csv_filename, mode='a', header=False, index=False)\n",
    "    \n",
    "    print(f\"Epoch {epoch+1}/{num_epochs}\")\n",
    "    print(f\"Train Loss: {train_loss:.4f} | Train Acc: {train_acc:.2f}%\")\n",
    "    print(f\"Val Loss: {val_loss:.4f} | Val Acc: {val_acc:.2f}%\")\n"
   ]
  },
  {
   "cell_type": "code",
   "execution_count": 22,
   "metadata": {},
   "outputs": [
    {
     "name": "stdout",
     "output_type": "stream",
     "text": [
      "Model saved successfully!\n"
     ]
    }
   ],
   "source": [
    "# Save the model's state dictionary\n",
    "torch.save(model.state_dict(), \"messier-inception.pth\")\n",
    "\n",
    "print(\"Model saved successfully!\")"
   ]
  },
  {
   "cell_type": "code",
   "execution_count": 23,
   "metadata": {},
   "outputs": [
    {
     "data": {
      "image/png": "[encoded data removed]",
      "text/plain": [
       "<Figure size 1000x500 with 1 Axes>"
      ]
     },
     "metadata": {},
     "output_type": "display_data"
    },
    {
     "data": {
      "image/png": "[encoded data removed]",
      "text/plain": [
       "<Figure size 1000x500 with 1 Axes>"
      ]
     },
     "metadata": {},
     "output_type": "display_data"
    }
   ],
   "source": [
    "import matplotlib.pyplot as plt\n",
    "\n",
    "# Plot training and validation loss\n",
    "plt.figure(figsize=(10, 5))\n",
    "plt.plot(train_losses, label='Training Loss')\n",
    "plt.plot(val_losses, label='Validation Loss')\n",
    "plt.xlabel('Epoch')\n",
    "plt.ylabel('Loss')\n",
    "plt.legend()\n",
    "plt.title('Loss Curves')\n",
    "plt.show()\n",
    "\n",
    "# Plot training and validation accuracy\n",
    "plt.figure(figsize=(10, 5))\n",
    "plt.plot(train_accuracies, label='Training Accuracy')\n",
    "plt.plot(val_accuracies, label='Validation Accuracy')\n",
    "plt.xlabel('Epoch')\n",
    "plt.ylabel('Accuracy')\n",
    "plt.legend()\n",
    "plt.title('Accuracy Curves')\n",
    "plt.show()"
   ]
  },
  {
   "cell_type": "code",
   "execution_count": 24,
   "metadata": {},
   "outputs": [
    {
     "name": "stderr",
     "output_type": "stream",
     "text": [
      "Testing Inception: 100%|█████████████████| 18/18 [00:03<00:00,  5.19it/s, accuracy=96.1, loss=0.147]"
     ]
    },
    {
     "name": "stdout",
     "output_type": "stream",
     "text": [
      "Test Loss: 0.1474, Test Accuracy: 96.07%\n"
     ]
    },
    {
     "name": "stderr",
     "output_type": "stream",
     "text": [
      "\n"
     ]
    }
   ],
   "source": [
    "# Ensure the model is in evaluation mode\n",
    "model.eval()\n",
    "\n",
    "# Initialize variables to track test loss and accuracy\n",
    "test_loss = 0.0\n",
    "correct = 0\n",
    "total = 0\n",
    "\n",
    "# Disable gradient computation for testing\n",
    "with torch.no_grad():\n",
    "    # Wrap test_loader with tqdm for a progress bar\n",
    "    test_loop = tqdm(val_loader, desc=\"Testing Inception\", ncols=100)\n",
    "    for images, labels in test_loop:\n",
    "        images, labels = images.to(device), labels.to(device)\n",
    "\n",
    "        # Forward pass through the ResNet model\n",
    "        outputs = model(images)  # This will return logits directly for ResNet\n",
    "        \n",
    "        # Access the logits from the model's output object (ResNet outputs logits)\n",
    "        logits = outputs  # For ResNet, we can directly use the output as logits\n",
    "\n",
    "        # Compute loss\n",
    "        loss = criterion(logits, labels)\n",
    "\n",
    "        # Accumulate loss\n",
    "        test_loss += loss.item() * images.size(0)  # Scale loss by batch size\n",
    "\n",
    "        # Compute accuracy\n",
    "        _, predicted = torch.max(logits.detach(), 1)  # Use .detach() instead of .data\n",
    "        total += labels.size(0)\n",
    "        correct += (predicted == labels).sum().item()\n",
    "\n",
    "        # Update the progress bar with loss and accuracy\n",
    "        test_loop.set_postfix(loss=test_loss / total, accuracy=(correct / total) * 100)\n",
    "\n",
    "# Compute final test loss and accuracy\n",
    "test_loss /= total  # Normalize loss properly\n",
    "test_accuracy = 100 * correct / total\n",
    "\n",
    "# Print the results\n",
    "print(f\"Test Loss: {test_loss:.4f}, Test Accuracy: {test_accuracy:.2f}%\")\n",
    "\n"
   ]
  },
  {
   "cell_type": "code",
   "execution_count": 25,
   "metadata": {},
   "outputs": [
    {
     "data": {
      "image/png": "[encoded data removed]",
      "text/plain": [
       "<Figure size 1000x500 with 1 Axes>"
      ]
     },
     "metadata": {},
     "output_type": "display_data"
    },
    {
     "data": {
      "image/png": "[encoded data removed]",
      "text/plain": [
       "<Figure size 1000x500 with 1 Axes>"
      ]
     },
     "metadata": {},
     "output_type": "display_data"
    }
   ],
   "source": [
    "import matplotlib.pyplot as plt\n",
    "\n",
    "# Plot training, validation, and test loss\n",
    "plt.figure(figsize=(10, 5))\n",
    "plt.plot(train_losses, label='Training Loss')\n",
    "plt.plot(val_losses, label='Validation Loss')\n",
    "plt.axhline(y=test_loss, color='r', linestyle='--', label='Test Loss')  # Add test loss as a horizontal line\n",
    "plt.xlabel('Epoch')\n",
    "plt.ylabel('Loss')\n",
    "plt.legend()\n",
    "plt.title('Loss Curves')\n",
    "plt.show()\n",
    "\n",
    "# Plot training, validation, and test accuracy\n",
    "plt.figure(figsize=(10, 5))\n",
    "plt.plot(train_accuracies, label='Training Accuracy')\n",
    "plt.plot(val_accuracies, label='Validation Accuracy')\n",
    "plt.axhline(y=test_accuracy, color='r', linestyle='--', label='Test Accuracy')  # Add test accuracy as a horizontal line\n",
    "plt.xlabel('Epoch')\n",
    "plt.ylabel('Accuracy')\n",
    "plt.legend()\n",
    "plt.title('Accuracy Curves')\n",
    "plt.show()"
   ]
  },
  {
   "cell_type": "code",
   "execution_count": 26,
   "metadata": {},
   "outputs": [
    {
     "data": {
      "image/png": "[encoded data removed]",
      "text/plain": [
       "<Figure size 1000x800 with 2 Axes>"
      ]
     },
     "metadata": {},
     "output_type": "display_data"
    }
   ],
   "source": [
    "import numpy as np\n",
    "import matplotlib.pyplot as plt\n",
    "from sklearn.metrics import confusion_matrix\n",
    "import seaborn as sns\n",
    "import torch\n",
    "\n",
    "# Ensure the model is in evaluation mode\n",
    "model.eval()\n",
    "\n",
    "# Initialize lists to store predictions and labels\n",
    "all_preds = []\n",
    "all_labels = []\n",
    "\n",
    "# Disable gradient computation for evaluation\n",
    "with torch.no_grad():\n",
    "    for images, labels in val_loader:  # Use test_loader for unseen data\n",
    "        images, labels = images.to(device), labels.to(device)\n",
    "\n",
    "        # Forward pass through the ResNet model\n",
    "        outputs = model(images)  # ResNet directly outputs logits\n",
    "        \n",
    "        # Extract logits\n",
    "        logits = outputs\n",
    "\n",
    "        # Get predicted class\n",
    "        _, preds = torch.max(logits, 1)\n",
    "\n",
    "        # Store predictions and labels\n",
    "        all_preds.extend(preds.cpu().numpy())\n",
    "        all_labels.extend(labels.cpu().numpy())\n",
    "\n",
    "# Compute the confusion matrix\n",
    "cm = confusion_matrix(all_labels, all_preds)\n",
    "\n",
    "# Plot the confusion matrix\n",
    "plt.figure(figsize=(10, 8))\n",
    "sns.heatmap(cm, annot=True, fmt='d', cmap='Blues', xticklabels=dataset.classes, yticklabels=dataset.classes)\n",
    "plt.xlabel('Predicted Labels')\n",
    "plt.ylabel('True Labels')\n",
    "plt.title('Confusion Matrix for ResNet on Test Data')\n",
    "plt.show()\n",
    "\n"
   ]
  },
  {
   "cell_type": "code",
   "execution_count": 27,
   "metadata": {},
   "outputs": [
    {
     "data": {
      "image/png": "[encoded data removed]",
      "text/plain": [
       "<Figure size 1000x800 with 2 Axes>"
      ]
     },
     "metadata": {},
     "output_type": "display_data"
    }
   ],
   "source": [
    "import numpy as np\n",
    "import matplotlib.pyplot as plt\n",
    "from sklearn.metrics import confusion_matrix\n",
    "import seaborn as sns\n",
    "import torch\n",
    "\n",
    "# Ensure the model is in evaluation mode\n",
    "model.eval()\n",
    "\n",
    "# Initialize lists to store predictions and labels for test data\n",
    "all_preds_test = []\n",
    "all_labels_test = []\n",
    "\n",
    "# Disable gradient computation for test set evaluation\n",
    "with torch.no_grad():\n",
    "    for images, labels in val_loader:  # Use test_loader\n",
    "        images, labels = images.to(device), labels.to(device)\n",
    "\n",
    "        # Forward pass through the ResNet model\n",
    "        outputs = model(images)  # ResNet returns logits directly\n",
    "        \n",
    "        # Extract logits from the model's output object (ResNet's output is already logits)\n",
    "        logits = outputs\n",
    "\n",
    "        # Get predicted class\n",
    "        _, preds = torch.max(logits, 1)\n",
    "\n",
    "        # Store predictions and labels\n",
    "        all_preds_test.extend(preds.cpu().numpy())\n",
    "        all_labels_test.extend(labels.cpu().numpy())\n",
    "\n",
    "# Compute the confusion matrix for test data\n",
    "cm_test = confusion_matrix(all_labels_test, all_preds_test)\n",
    "\n",
    "# Check if test_dataset has class names\n",
    "\n",
    "# Plot the confusion matrix for test data\n",
    "plt.figure(figsize=(10, 8))\n",
    "sns.heatmap(cm_test, annot=True, fmt='d', cmap='Blues', xticklabels=dataset.classes, yticklabels=dataset.classes)\n",
    "plt.xlabel('Predicted Labels')\n",
    "plt.ylabel('True Labels')\n",
    "plt.title('Confusion Matrix (Test Set)')\n",
    "plt.show()\n",
    "\n"
   ]
  },
  {
   "cell_type": "code",
   "execution_count": 28,
   "metadata": {},
   "outputs": [
    {
     "name": "stdout",
     "output_type": "stream",
     "text": [
      "Training F1 Score: 1.000\n",
      "Training Precision: 1.0000\n",
      "Training Recall: 1.0000\n"
     ]
    }
   ],
   "source": [
    "from sklearn.metrics import f1_score, precision_score, recall_score\n",
    "\n",
    "# Ensure the model is in evaluation mode\n",
    "model.eval()\n",
    "\n",
    "# Initialize lists to store predictions and labels for training data\n",
    "all_preds_train = []\n",
    "all_labels_train = []\n",
    "\n",
    "# Disable gradient computation for training set evaluation\n",
    "with torch.no_grad():\n",
    "    for images, labels in train_loader:  # Use train_loader\n",
    "        images, labels = images.to(device), labels.to(device)\n",
    "\n",
    "        # Forward pass through the ResNet model\n",
    "        outputs = model(images)  # ResNet returns logits directly\n",
    "        \n",
    "        # Extract logits (For ResNet, logits are directly the output)\n",
    "        logits = outputs  # No need to use .logits as with transformers\n",
    "\n",
    "        # Get predicted class\n",
    "        _, preds = torch.max(logits, 1)\n",
    "\n",
    "        # Store predictions and labels\n",
    "        all_preds_train.extend(preds.cpu().numpy())\n",
    "        all_labels_train.extend(labels.cpu().numpy())\n",
    "\n",
    "# Compute F1-score, precision, and recall for training set\n",
    "f1_train = f1_score(all_labels_train, all_preds_train, average='weighted')  # Use 'macro' for equal class weighting\n",
    "precision_train = precision_score(all_labels_train, all_preds_train, average='weighted')\n",
    "recall_train = recall_score(all_labels_train, all_preds_train, average='weighted')\n",
    "\n",
    "# Print the results\n",
    "print(f\"Training F1 Score: {f1_train:.3f}\")\n",
    "print(f\"Training Precision: {precision_train:.4f}\")\n",
    "print(f\"Training Recall: {recall_train:.4f}\")\n",
    "\n"
   ]
  },
  {
   "cell_type": "code",
   "execution_count": 29,
   "metadata": {},
   "outputs": [
    {
     "name": "stdout",
     "output_type": "stream",
     "text": [
      "Test F1 Score: 0.9607\n",
      "Test Precision: 0.9613\n",
      "Test Recall: 0.9607\n"
     ]
    }
   ],
   "source": [
    "from sklearn.metrics import f1_score, precision_score, recall_score\n",
    "\n",
    "# Ensure the model is in evaluation mode\n",
    "model.eval()\n",
    "\n",
    "# Initialize lists to store predictions and labels for test data\n",
    "all_preds_test = []\n",
    "all_labels_test = []\n",
    "\n",
    "# Disable gradient computation for test set evaluation\n",
    "with torch.no_grad():\n",
    "    for images, labels in val_loader:  # Use test_loader for evaluation\n",
    "        images, labels = images.to(device), labels.to(device)\n",
    "\n",
    "        # Forward pass through the ResNet model\n",
    "        outputs = model(images)  # ResNet directly returns logits\n",
    "        \n",
    "        # Extract logits (for ResNet, we can directly use the output as logits)\n",
    "        logits = outputs\n",
    "\n",
    "        # Get predicted class\n",
    "        _, preds = torch.max(logits, 1)\n",
    "\n",
    "        # Store predictions and labels\n",
    "        all_preds_test.extend(preds.cpu().numpy())\n",
    "        all_labels_test.extend(labels.cpu().numpy())\n",
    "\n",
    "# Compute F1-score, precision, and recall for the test set\n",
    "f1_test = f1_score(all_labels_test, all_preds_test, average='weighted')  # Use 'macro' if you prefer equal class weighting\n",
    "precision_test = precision_score(all_labels_test, all_preds_test, average='weighted')\n",
    "recall_test = recall_score(all_labels_test, all_preds_test, average='weighted')\n",
    "\n",
    "# Print the results\n",
    "print(f\"Test F1 Score: {f1_test:.4f}\")\n",
    "print(f\"Test Precision: {precision_test:.4f}\")\n",
    "print(f\"Test Recall: {recall_test:.4f}\")\n"
   ]
  },
  {
   "cell_type": "code",
   "execution_count": 8,
   "metadata": {},
   "outputs": [
    {
     "data": {
      "image/png": "[encoded data removed]",
      "text/plain": [
       "<Figure size 1200x600 with 1 Axes>"
      ]
     },
     "metadata": {},
     "output_type": "display_data"
    }
   ],
   "source": [
    "import matplotlib.pyplot as plt\n",
    "\n",
    "# Model names and approximate parameters (in millions)\n",
    "models = [\n",
    "    \"ViT\", \n",
    "    \"Swin Transformer\", \n",
    "    \"BeiT\", \n",
    "    \"DeiT\", \n",
    "    \"ConvexNet\", \n",
    "    \"ResNet50\", \n",
    "    \"EfficientNet\", \n",
    "    \"Inception\", \n",
    "    \"MobileNet\"\n",
    "]\n",
    "\n",
    "parameters = [\n",
    "    86,    # ViT-Base (patch 16, 12 layers)\n",
    "    28,    # Swin-Tiny (default)\n",
    "    86,    # BeiT-Base (similar to ViT)\n",
    "    86,    # DeiT-Small (distilled variant)\n",
    "    28,     # Approximate for ConvexNet (varies by setup)\n",
    "    25.5,  # ResNet50\n",
    "    5.3,   # EfficientNet-B0 (smallest variant)\n",
    "    23.8,  # Inception-v3\n",
    "    3.4    # MobileNet-v2\n",
    "]\n",
    "\n",
    "# Create bar chart\n",
    "plt.figure(figsize=(12, 6))\n",
    "bars = plt.bar(models, parameters, color='skyblue')\n",
    "\n",
    "# Add labels and title\n",
    "plt.xlabel(\"Models\", fontsize=12)\n",
    "plt.ylabel(\"Trainable Parameters (Millions)\", fontsize=12)\n",
    "plt.title(\"Approximate Trainable Parameters for Deep Learning Models\", fontsize=14)\n",
    "plt.xticks(rotation=45, ha='right', fontsize=10)\n",
    "\n",
    "# Add parameter values on top of bars\n",
    "for bar in bars:\n",
    "    height = bar.get_height()\n",
    "    plt.text(\n",
    "        bar.get_x() + bar.get_width() / 2, \n",
    "        height + 1, \n",
    "        f'{height:.1f}M', \n",
    "        ha='center', \n",
    "        va='bottom',\n",
    "        fontsize=9\n",
    "    )\n",
    "\n",
    "plt.tight_layout()\n",
    "plt.show()"
   ]
  }
 ],
 "metadata": {
  "kernelspec": {
   "display_name": "base",
   "language": "python",
   "name": "python3"
  },
  "language_info": {
   "codemirror_mode": {
    "name": "ipython",
    "version": 3
   },
   "file_extension": ".py",
   "mimetype": "text/x-python",
   "name": "python",
   "nbconvert_exporter": "python",
   "pygments_lexer": "ipython3",
   "version": "3.9.13"
  }
 },
 "nbformat": 4,
 "nbformat_minor": 2
}
