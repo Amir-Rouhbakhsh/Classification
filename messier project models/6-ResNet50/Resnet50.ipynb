{
 "cells": [
  {
   "cell_type": "code",
   "execution_count": 1,
   "metadata": {},
   "outputs": [],
   "source": [
    "import torch\n",
    "import torch.nn as nn\n",
    "import torch.optim as optim\n",
    "from torch.utils.data import DataLoader\n",
    "from torchvision import datasets\n",
    "from transformers import ViTForImageClassification, ViTFeatureExtractor\n",
    "from tqdm import tqdm\n",
    "import pandas as pd\n",
    "import os\n",
    "from datasets import DatasetDict, Dataset\n",
    "from transformers import AutoImageProcessor\n",
    "from sklearn.model_selection import train_test_split\n",
    "from torch.utils.data import DataLoader, random_split\n",
    "from torchvision import datasets, transforms\n",
    "from transformers import SwinForImageClassification, AutoImageProcessor  # Updated import\n",
    "\n",
    "from torch.utils.data import DataLoader, random_split\n",
    "from torchvision import datasets, transforms\n",
    "from tqdm import tqdm\n",
    "import pandas as pd\n",
    "import os"
   ]
  },
  {
   "cell_type": "code",
   "execution_count": 2,
   "metadata": {},
   "outputs": [],
   "source": [
    "# Define the path to your dataset\n",
    "data_dir = \"C:/Users/Amir/Desktop/messier classification/gamma-correct\"  # Replace with the path to your dataset"
   ]
  },
  {
   "cell_type": "code",
   "execution_count": 3,
   "metadata": {},
   "outputs": [
    {
     "name": "stdout",
     "output_type": "stream",
     "text": [
      "Number of classes: 7\n"
     ]
    }
   ],
   "source": [
    "# Corrected imports\n",
    "import torch\n",
    "import torchvision.transforms as transforms\n",
    "from torchvision import datasets\n",
    "from torch.utils.data import DataLoader, random_split\n",
    "from transformers import SwinForImageClassification, AutoImageProcessor\n",
    "\n",
    "# Modified Augmentations for ResNet\n",
    "resnet_transform = transforms.Compose([\n",
    "    transforms.RandomHorizontalFlip(),\n",
    "    transforms.RandomRotation(10),\n",
    "    transforms.Resize(256),\n",
    "    transforms.CenterCrop(224),\n",
    "    transforms.ToTensor(),\n",
    "    transforms.Normalize(mean=[0.485, 0.456, 0.406], std=[0.229, 0.224, 0.225])\n",
    "])\n",
    "\n",
    "\n",
    "\n",
    "\n",
    "# ImageFolder applies `transform` to each image\n",
    "dataset = datasets.ImageFolder(data_dir, transform=resnet_transform)\n",
    "\n",
    "\n",
    "# Check the number of classes\n",
    "num_classes = len(dataset.classes)\n",
    "print(f\"Number of classes: {num_classes}\")  # Should be 21\n",
    "\n",
    "# Split the dataset into training and validation sets\n",
    "train_size = int(0.8 * len(dataset))  # 80% for training\n",
    "val_size = len(dataset) - train_size  # 20% for validation\n",
    "train_dataset, val_dataset = random_split(dataset, [train_size, val_size])\n",
    "\n",
    "# Create data loaders\n",
    "train_loader = DataLoader(train_dataset, batch_size=32, shuffle=True)\n",
    "val_loader = DataLoader(val_dataset, batch_size=32, shuffle=False)\n"
   ]
  },
  {
   "cell_type": "code",
   "execution_count": 4,
   "metadata": {},
   "outputs": [
    {
     "name": "stderr",
     "output_type": "stream",
     "text": [
      "Using cache found in C:\\Users\\Amir/.cache\\torch\\hub\\pytorch_vision_v0.10.0\n",
      "C:\\Users\\Amir\\AppData\\Roaming\\Python\\Python39\\site-packages\\torchvision\\models\\_utils.py:208: UserWarning: The parameter 'pretrained' is deprecated since 0.13 and may be removed in the future, please use 'weights' instead.\n",
      "  warnings.warn(\n",
      "C:\\Users\\Amir\\AppData\\Roaming\\Python\\Python39\\site-packages\\torchvision\\models\\_utils.py:223: UserWarning: Arguments other than a weight enum or `None` for 'weights' are deprecated since 0.13 and may be removed in the future. The current behavior is equivalent to passing `weights=ResNet50_Weights.IMAGENET1K_V1`. You can also use `weights=ResNet50_Weights.DEFAULT` to get the most up-to-date weights.\n",
      "  warnings.warn(msg)\n"
     ]
    }
   ],
   "source": [
    "model = torch.hub.load('pytorch/vision:v0.10.0', 'resnet50', pretrained=True)\n",
    "\n",
    "# Modify final layer\n",
    "num_ftrs = model.fc.in_features\n",
    "model.fc = nn.Sequential(\n",
    "    nn.Dropout(0.5),\n",
    "    nn.Linear(num_ftrs, num_classes)\n",
    ")\n"
   ]
  },
  {
   "cell_type": "code",
   "execution_count": 5,
   "metadata": {},
   "outputs": [
    {
     "name": "stdout",
     "output_type": "stream",
     "text": [
      "cuda\n"
     ]
    },
    {
     "data": {
      "text/plain": [
       "ResNet(\n",
       "  (conv1): Conv2d(3, 64, kernel_size=(7, 7), stride=(2, 2), padding=(3, 3), bias=False)\n",
       "  (bn1): BatchNorm2d(64, eps=1e-05, momentum=0.1, affine=True, track_running_stats=True)\n",
       "  (relu): ReLU(inplace=True)\n",
       "  (maxpool): MaxPool2d(kernel_size=3, stride=2, padding=1, dilation=1, ceil_mode=False)\n",
       "  (layer1): Sequential(\n",
       "    (0): Bottleneck(\n",
       "      (conv1): Conv2d(64, 64, kernel_size=(1, 1), stride=(1, 1), bias=False)\n",
       "      (bn1): BatchNorm2d(64, eps=1e-05, momentum=0.1, affine=True, track_running_stats=True)\n",
       "      (conv2): Conv2d(64, 64, kernel_size=(3, 3), stride=(1, 1), padding=(1, 1), bias=False)\n",
       "      (bn2): BatchNorm2d(64, eps=1e-05, momentum=0.1, affine=True, track_running_stats=True)\n",
       "      (conv3): Conv2d(64, 256, kernel_size=(1, 1), stride=(1, 1), bias=False)\n",
       "      (bn3): BatchNorm2d(256, eps=1e-05, momentum=0.1, affine=True, track_running_stats=True)\n",
       "      (relu): ReLU(inplace=True)\n",
       "      (downsample): Sequential(\n",
       "        (0): Conv2d(64, 256, kernel_size=(1, 1), stride=(1, 1), bias=False)\n",
       "        (1): BatchNorm2d(256, eps=1e-05, momentum=0.1, affine=True, track_running_stats=True)\n",
       "      )\n",
       "    )\n",
       "    (1): Bottleneck(\n",
       "      (conv1): Conv2d(256, 64, kernel_size=(1, 1), stride=(1, 1), bias=False)\n",
       "      (bn1): BatchNorm2d(64, eps=1e-05, momentum=0.1, affine=True, track_running_stats=True)\n",
       "      (conv2): Conv2d(64, 64, kernel_size=(3, 3), stride=(1, 1), padding=(1, 1), bias=False)\n",
       "      (bn2): BatchNorm2d(64, eps=1e-05, momentum=0.1, affine=True, track_running_stats=True)\n",
       "      (conv3): Conv2d(64, 256, kernel_size=(1, 1), stride=(1, 1), bias=False)\n",
       "      (bn3): BatchNorm2d(256, eps=1e-05, momentum=0.1, affine=True, track_running_stats=True)\n",
       "      (relu): ReLU(inplace=True)\n",
       "    )\n",
       "    (2): Bottleneck(\n",
       "      (conv1): Conv2d(256, 64, kernel_size=(1, 1), stride=(1, 1), bias=False)\n",
       "      (bn1): BatchNorm2d(64, eps=1e-05, momentum=0.1, affine=True, track_running_stats=True)\n",
       "      (conv2): Conv2d(64, 64, kernel_size=(3, 3), stride=(1, 1), padding=(1, 1), bias=False)\n",
       "      (bn2): BatchNorm2d(64, eps=1e-05, momentum=0.1, affine=True, track_running_stats=True)\n",
       "      (conv3): Conv2d(64, 256, kernel_size=(1, 1), stride=(1, 1), bias=False)\n",
       "      (bn3): BatchNorm2d(256, eps=1e-05, momentum=0.1, affine=True, track_running_stats=True)\n",
       "      (relu): ReLU(inplace=True)\n",
       "    )\n",
       "  )\n",
       "  (layer2): Sequential(\n",
       "    (0): Bottleneck(\n",
       "      (conv1): Conv2d(256, 128, kernel_size=(1, 1), stride=(1, 1), bias=False)\n",
       "      (bn1): BatchNorm2d(128, eps=1e-05, momentum=0.1, affine=True, track_running_stats=True)\n",
       "      (conv2): Conv2d(128, 128, kernel_size=(3, 3), stride=(2, 2), padding=(1, 1), bias=False)\n",
       "      (bn2): BatchNorm2d(128, eps=1e-05, momentum=0.1, affine=True, track_running_stats=True)\n",
       "      (conv3): Conv2d(128, 512, kernel_size=(1, 1), stride=(1, 1), bias=False)\n",
       "      (bn3): BatchNorm2d(512, eps=1e-05, momentum=0.1, affine=True, track_running_stats=True)\n",
       "      (relu): ReLU(inplace=True)\n",
       "      (downsample): Sequential(\n",
       "        (0): Conv2d(256, 512, kernel_size=(1, 1), stride=(2, 2), bias=False)\n",
       "        (1): BatchNorm2d(512, eps=1e-05, momentum=0.1, affine=True, track_running_stats=True)\n",
       "      )\n",
       "    )\n",
       "    (1): Bottleneck(\n",
       "      (conv1): Conv2d(512, 128, kernel_size=(1, 1), stride=(1, 1), bias=False)\n",
       "      (bn1): BatchNorm2d(128, eps=1e-05, momentum=0.1, affine=True, track_running_stats=True)\n",
       "      (conv2): Conv2d(128, 128, kernel_size=(3, 3), stride=(1, 1), padding=(1, 1), bias=False)\n",
       "      (bn2): BatchNorm2d(128, eps=1e-05, momentum=0.1, affine=True, track_running_stats=True)\n",
       "      (conv3): Conv2d(128, 512, kernel_size=(1, 1), stride=(1, 1), bias=False)\n",
       "      (bn3): BatchNorm2d(512, eps=1e-05, momentum=0.1, affine=True, track_running_stats=True)\n",
       "      (relu): ReLU(inplace=True)\n",
       "    )\n",
       "    (2): Bottleneck(\n",
       "      (conv1): Conv2d(512, 128, kernel_size=(1, 1), stride=(1, 1), bias=False)\n",
       "      (bn1): BatchNorm2d(128, eps=1e-05, momentum=0.1, affine=True, track_running_stats=True)\n",
       "      (conv2): Conv2d(128, 128, kernel_size=(3, 3), stride=(1, 1), padding=(1, 1), bias=False)\n",
       "      (bn2): BatchNorm2d(128, eps=1e-05, momentum=0.1, affine=True, track_running_stats=True)\n",
       "      (conv3): Conv2d(128, 512, kernel_size=(1, 1), stride=(1, 1), bias=False)\n",
       "      (bn3): BatchNorm2d(512, eps=1e-05, momentum=0.1, affine=True, track_running_stats=True)\n",
       "      (relu): ReLU(inplace=True)\n",
       "    )\n",
       "    (3): Bottleneck(\n",
       "      (conv1): Conv2d(512, 128, kernel_size=(1, 1), stride=(1, 1), bias=False)\n",
       "      (bn1): BatchNorm2d(128, eps=1e-05, momentum=0.1, affine=True, track_running_stats=True)\n",
       "      (conv2): Conv2d(128, 128, kernel_size=(3, 3), stride=(1, 1), padding=(1, 1), bias=False)\n",
       "      (bn2): BatchNorm2d(128, eps=1e-05, momentum=0.1, affine=True, track_running_stats=True)\n",
       "      (conv3): Conv2d(128, 512, kernel_size=(1, 1), stride=(1, 1), bias=False)\n",
       "      (bn3): BatchNorm2d(512, eps=1e-05, momentum=0.1, affine=True, track_running_stats=True)\n",
       "      (relu): ReLU(inplace=True)\n",
       "    )\n",
       "  )\n",
       "  (layer3): Sequential(\n",
       "    (0): Bottleneck(\n",
       "      (conv1): Conv2d(512, 256, kernel_size=(1, 1), stride=(1, 1), bias=False)\n",
       "      (bn1): BatchNorm2d(256, eps=1e-05, momentum=0.1, affine=True, track_running_stats=True)\n",
       "      (conv2): Conv2d(256, 256, kernel_size=(3, 3), stride=(2, 2), padding=(1, 1), bias=False)\n",
       "      (bn2): BatchNorm2d(256, eps=1e-05, momentum=0.1, affine=True, track_running_stats=True)\n",
       "      (conv3): Conv2d(256, 1024, kernel_size=(1, 1), stride=(1, 1), bias=False)\n",
       "      (bn3): BatchNorm2d(1024, eps=1e-05, momentum=0.1, affine=True, track_running_stats=True)\n",
       "      (relu): ReLU(inplace=True)\n",
       "      (downsample): Sequential(\n",
       "        (0): Conv2d(512, 1024, kernel_size=(1, 1), stride=(2, 2), bias=False)\n",
       "        (1): BatchNorm2d(1024, eps=1e-05, momentum=0.1, affine=True, track_running_stats=True)\n",
       "      )\n",
       "    )\n",
       "    (1): Bottleneck(\n",
       "      (conv1): Conv2d(1024, 256, kernel_size=(1, 1), stride=(1, 1), bias=False)\n",
       "      (bn1): BatchNorm2d(256, eps=1e-05, momentum=0.1, affine=True, track_running_stats=True)\n",
       "      (conv2): Conv2d(256, 256, kernel_size=(3, 3), stride=(1, 1), padding=(1, 1), bias=False)\n",
       "      (bn2): BatchNorm2d(256, eps=1e-05, momentum=0.1, affine=True, track_running_stats=True)\n",
       "      (conv3): Conv2d(256, 1024, kernel_size=(1, 1), stride=(1, 1), bias=False)\n",
       "      (bn3): BatchNorm2d(1024, eps=1e-05, momentum=0.1, affine=True, track_running_stats=True)\n",
       "      (relu): ReLU(inplace=True)\n",
       "    )\n",
       "    (2): Bottleneck(\n",
       "      (conv1): Conv2d(1024, 256, kernel_size=(1, 1), stride=(1, 1), bias=False)\n",
       "      (bn1): BatchNorm2d(256, eps=1e-05, momentum=0.1, affine=True, track_running_stats=True)\n",
       "      (conv2): Conv2d(256, 256, kernel_size=(3, 3), stride=(1, 1), padding=(1, 1), bias=False)\n",
       "      (bn2): BatchNorm2d(256, eps=1e-05, momentum=0.1, affine=True, track_running_stats=True)\n",
       "      (conv3): Conv2d(256, 1024, kernel_size=(1, 1), stride=(1, 1), bias=False)\n",
       "      (bn3): BatchNorm2d(1024, eps=1e-05, momentum=0.1, affine=True, track_running_stats=True)\n",
       "      (relu): ReLU(inplace=True)\n",
       "    )\n",
       "    (3): Bottleneck(\n",
       "      (conv1): Conv2d(1024, 256, kernel_size=(1, 1), stride=(1, 1), bias=False)\n",
       "      (bn1): BatchNorm2d(256, eps=1e-05, momentum=0.1, affine=True, track_running_stats=True)\n",
       "      (conv2): Conv2d(256, 256, kernel_size=(3, 3), stride=(1, 1), padding=(1, 1), bias=False)\n",
       "      (bn2): BatchNorm2d(256, eps=1e-05, momentum=0.1, affine=True, track_running_stats=True)\n",
       "      (conv3): Conv2d(256, 1024, kernel_size=(1, 1), stride=(1, 1), bias=False)\n",
       "      (bn3): BatchNorm2d(1024, eps=1e-05, momentum=0.1, affine=True, track_running_stats=True)\n",
       "      (relu): ReLU(inplace=True)\n",
       "    )\n",
       "    (4): Bottleneck(\n",
       "      (conv1): Conv2d(1024, 256, kernel_size=(1, 1), stride=(1, 1), bias=False)\n",
       "      (bn1): BatchNorm2d(256, eps=1e-05, momentum=0.1, affine=True, track_running_stats=True)\n",
       "      (conv2): Conv2d(256, 256, kernel_size=(3, 3), stride=(1, 1), padding=(1, 1), bias=False)\n",
       "      (bn2): BatchNorm2d(256, eps=1e-05, momentum=0.1, affine=True, track_running_stats=True)\n",
       "      (conv3): Conv2d(256, 1024, kernel_size=(1, 1), stride=(1, 1), bias=False)\n",
       "      (bn3): BatchNorm2d(1024, eps=1e-05, momentum=0.1, affine=True, track_running_stats=True)\n",
       "      (relu): ReLU(inplace=True)\n",
       "    )\n",
       "    (5): Bottleneck(\n",
       "      (conv1): Conv2d(1024, 256, kernel_size=(1, 1), stride=(1, 1), bias=False)\n",
       "      (bn1): BatchNorm2d(256, eps=1e-05, momentum=0.1, affine=True, track_running_stats=True)\n",
       "      (conv2): Conv2d(256, 256, kernel_size=(3, 3), stride=(1, 1), padding=(1, 1), bias=False)\n",
       "      (bn2): BatchNorm2d(256, eps=1e-05, momentum=0.1, affine=True, track_running_stats=True)\n",
       "      (conv3): Conv2d(256, 1024, kernel_size=(1, 1), stride=(1, 1), bias=False)\n",
       "      (bn3): BatchNorm2d(1024, eps=1e-05, momentum=0.1, affine=True, track_running_stats=True)\n",
       "      (relu): ReLU(inplace=True)\n",
       "    )\n",
       "  )\n",
       "  (layer4): Sequential(\n",
       "    (0): Bottleneck(\n",
       "      (conv1): Conv2d(1024, 512, kernel_size=(1, 1), stride=(1, 1), bias=False)\n",
       "      (bn1): BatchNorm2d(512, eps=1e-05, momentum=0.1, affine=True, track_running_stats=True)\n",
       "      (conv2): Conv2d(512, 512, kernel_size=(3, 3), stride=(2, 2), padding=(1, 1), bias=False)\n",
       "      (bn2): BatchNorm2d(512, eps=1e-05, momentum=0.1, affine=True, track_running_stats=True)\n",
       "      (conv3): Conv2d(512, 2048, kernel_size=(1, 1), stride=(1, 1), bias=False)\n",
       "      (bn3): BatchNorm2d(2048, eps=1e-05, momentum=0.1, affine=True, track_running_stats=True)\n",
       "      (relu): ReLU(inplace=True)\n",
       "      (downsample): Sequential(\n",
       "        (0): Conv2d(1024, 2048, kernel_size=(1, 1), stride=(2, 2), bias=False)\n",
       "        (1): BatchNorm2d(2048, eps=1e-05, momentum=0.1, affine=True, track_running_stats=True)\n",
       "      )\n",
       "    )\n",
       "    (1): Bottleneck(\n",
       "      (conv1): Conv2d(2048, 512, kernel_size=(1, 1), stride=(1, 1), bias=False)\n",
       "      (bn1): BatchNorm2d(512, eps=1e-05, momentum=0.1, affine=True, track_running_stats=True)\n",
       "      (conv2): Conv2d(512, 512, kernel_size=(3, 3), stride=(1, 1), padding=(1, 1), bias=False)\n",
       "      (bn2): BatchNorm2d(512, eps=1e-05, momentum=0.1, affine=True, track_running_stats=True)\n",
       "      (conv3): Conv2d(512, 2048, kernel_size=(1, 1), stride=(1, 1), bias=False)\n",
       "      (bn3): BatchNorm2d(2048, eps=1e-05, momentum=0.1, affine=True, track_running_stats=True)\n",
       "      (relu): ReLU(inplace=True)\n",
       "    )\n",
       "    (2): Bottleneck(\n",
       "      (conv1): Conv2d(2048, 512, kernel_size=(1, 1), stride=(1, 1), bias=False)\n",
       "      (bn1): BatchNorm2d(512, eps=1e-05, momentum=0.1, affine=True, track_running_stats=True)\n",
       "      (conv2): Conv2d(512, 512, kernel_size=(3, 3), stride=(1, 1), padding=(1, 1), bias=False)\n",
       "      (bn2): BatchNorm2d(512, eps=1e-05, momentum=0.1, affine=True, track_running_stats=True)\n",
       "      (conv3): Conv2d(512, 2048, kernel_size=(1, 1), stride=(1, 1), bias=False)\n",
       "      (bn3): BatchNorm2d(2048, eps=1e-05, momentum=0.1, affine=True, track_running_stats=True)\n",
       "      (relu): ReLU(inplace=True)\n",
       "    )\n",
       "  )\n",
       "  (avgpool): AdaptiveAvgPool2d(output_size=(1, 1))\n",
       "  (fc): Sequential(\n",
       "    (0): Dropout(p=0.5, inplace=False)\n",
       "    (1): Linear(in_features=2048, out_features=7, bias=True)\n",
       "  )\n",
       ")"
      ]
     },
     "execution_count": 5,
     "metadata": {},
     "output_type": "execute_result"
    }
   ],
   "source": [
    "# Move the model to the GPU if available\n",
    "device = torch.device(\"cuda\" if torch.cuda.is_available() else \"cpu\")\n",
    "print(device)\n",
    "model.to(device)"
   ]
  },
  {
   "cell_type": "code",
   "execution_count": 6,
   "metadata": {},
   "outputs": [
    {
     "name": "stderr",
     "output_type": "stream",
     "text": [
      "Epoch [1/100] Training: 100%|██████████| 70/70 [00:23<00:00,  2.94it/s, accuracy=80.7, loss=0.467]\n",
      "Epoch [1/100] Validation: 100%|██████████| 18/18 [00:02<00:00,  6.29it/s, accuracy=91.4, loss=0.266]\n"
     ]
    },
    {
     "name": "stdout",
     "output_type": "stream",
     "text": [
      "Epoch 1/100\n",
      "Train Loss: 0.5721 | Train Acc: 80.67%\n",
      "Val Loss: 0.2880 | Val Acc: 91.43%\n"
     ]
    },
    {
     "name": "stderr",
     "output_type": "stream",
     "text": [
      "Epoch [2/100] Training: 100%|██████████| 70/70 [00:22<00:00,  3.08it/s, accuracy=92.1, loss=0.131] \n",
      "Epoch [2/100] Validation: 100%|██████████| 18/18 [00:02<00:00,  6.38it/s, accuracy=93.8, loss=0.0387]\n"
     ]
    },
    {
     "name": "stdout",
     "output_type": "stream",
     "text": [
      "Epoch 2/100\n",
      "Train Loss: 0.2392 | Train Acc: 92.05%\n",
      "Val Loss: 0.2285 | Val Acc: 93.75%\n"
     ]
    },
    {
     "name": "stderr",
     "output_type": "stream",
     "text": [
      "Epoch [3/100] Training: 100%|██████████| 70/70 [00:22<00:00,  3.15it/s, accuracy=95.6, loss=0.2]   \n",
      "Epoch [3/100] Validation: 100%|██████████| 18/18 [00:02<00:00,  6.43it/s, accuracy=92.7, loss=0.0776]\n"
     ]
    },
    {
     "name": "stdout",
     "output_type": "stream",
     "text": [
      "Epoch 3/100\n",
      "Train Loss: 0.1394 | Train Acc: 95.58%\n",
      "Val Loss: 0.2471 | Val Acc: 92.68%\n"
     ]
    },
    {
     "name": "stderr",
     "output_type": "stream",
     "text": [
      "Epoch [4/100] Training: 100%|██████████| 70/70 [00:22<00:00,  3.14it/s, accuracy=95.7, loss=0.255] \n",
      "Epoch [4/100] Validation: 100%|██████████| 18/18 [00:02<00:00,  6.33it/s, accuracy=94.5, loss=0.184] \n"
     ]
    },
    {
     "name": "stdout",
     "output_type": "stream",
     "text": [
      "Epoch 4/100\n",
      "Train Loss: 0.1213 | Train Acc: 95.67%\n",
      "Val Loss: 0.2056 | Val Acc: 94.46%\n"
     ]
    },
    {
     "name": "stderr",
     "output_type": "stream",
     "text": [
      "Epoch [5/100] Training: 100%|██████████| 70/70 [00:22<00:00,  3.14it/s, accuracy=96.4, loss=0.0911] \n",
      "Epoch [5/100] Validation: 100%|██████████| 18/18 [00:02<00:00,  6.20it/s, accuracy=95, loss=0.0672]  \n"
     ]
    },
    {
     "name": "stdout",
     "output_type": "stream",
     "text": [
      "Epoch 5/100\n",
      "Train Loss: 0.0990 | Train Acc: 96.43%\n",
      "Val Loss: 0.1822 | Val Acc: 95.00%\n"
     ]
    },
    {
     "name": "stderr",
     "output_type": "stream",
     "text": [
      "Epoch [6/100] Training: 100%|██████████| 70/70 [00:21<00:00,  3.21it/s, accuracy=97.4, loss=0.0797] \n",
      "Epoch [6/100] Validation: 100%|██████████| 18/18 [00:02<00:00,  6.31it/s, accuracy=94.3, loss=0.0623]\n"
     ]
    },
    {
     "name": "stdout",
     "output_type": "stream",
     "text": [
      "Epoch 6/100\n",
      "Train Loss: 0.0812 | Train Acc: 97.37%\n",
      "Val Loss: 0.2333 | Val Acc: 94.29%\n"
     ]
    },
    {
     "name": "stderr",
     "output_type": "stream",
     "text": [
      "Epoch [7/100] Training: 100%|██████████| 70/70 [00:21<00:00,  3.21it/s, accuracy=97.5, loss=0.124]  \n",
      "Epoch [7/100] Validation: 100%|██████████| 18/18 [00:02<00:00,  6.41it/s, accuracy=93.8, loss=0.0618]\n"
     ]
    },
    {
     "name": "stdout",
     "output_type": "stream",
     "text": [
      "Epoch 7/100\n",
      "Train Loss: 0.0781 | Train Acc: 97.46%\n",
      "Val Loss: 0.1997 | Val Acc: 93.75%\n"
     ]
    },
    {
     "name": "stderr",
     "output_type": "stream",
     "text": [
      "Epoch [8/100] Training: 100%|██████████| 70/70 [00:21<00:00,  3.19it/s, accuracy=97.6, loss=0.0283] \n",
      "Epoch [8/100] Validation: 100%|██████████| 18/18 [00:02<00:00,  6.49it/s, accuracy=93.6, loss=0.0287]\n"
     ]
    },
    {
     "name": "stdout",
     "output_type": "stream",
     "text": [
      "Epoch 8/100\n",
      "Train Loss: 0.0738 | Train Acc: 97.59%\n",
      "Val Loss: 0.2243 | Val Acc: 93.57%\n"
     ]
    },
    {
     "name": "stderr",
     "output_type": "stream",
     "text": [
      "Epoch [9/100] Training: 100%|██████████| 70/70 [00:22<00:00,  3.16it/s, accuracy=98.8, loss=0.00623]\n",
      "Epoch [9/100] Validation: 100%|██████████| 18/18 [00:02<00:00,  6.42it/s, accuracy=94.6, loss=0.315] \n"
     ]
    },
    {
     "name": "stdout",
     "output_type": "stream",
     "text": [
      "Epoch 9/100\n",
      "Train Loss: 0.0434 | Train Acc: 98.75%\n",
      "Val Loss: 0.1884 | Val Acc: 94.64%\n"
     ]
    },
    {
     "name": "stderr",
     "output_type": "stream",
     "text": [
      "Epoch [10/100] Training: 100%|██████████| 70/70 [00:22<00:00,  3.17it/s, accuracy=98.8, loss=0.0106] \n",
      "Epoch [10/100] Validation: 100%|██████████| 18/18 [00:02<00:00,  6.52it/s, accuracy=95.9, loss=0.249] \n"
     ]
    },
    {
     "name": "stdout",
     "output_type": "stream",
     "text": [
      "Epoch 10/100\n",
      "Train Loss: 0.0387 | Train Acc: 98.75%\n",
      "Val Loss: 0.1466 | Val Acc: 95.89%\n"
     ]
    },
    {
     "name": "stderr",
     "output_type": "stream",
     "text": [
      "Epoch [11/100] Training: 100%|██████████| 70/70 [00:22<00:00,  3.07it/s, accuracy=99.6, loss=0.0149] \n",
      "Epoch [11/100] Validation: 100%|██████████| 18/18 [00:02<00:00,  6.59it/s, accuracy=96.6, loss=0.284] \n"
     ]
    },
    {
     "name": "stdout",
     "output_type": "stream",
     "text": [
      "Epoch 11/100\n",
      "Train Loss: 0.0189 | Train Acc: 99.55%\n",
      "Val Loss: 0.1438 | Val Acc: 96.61%\n"
     ]
    },
    {
     "name": "stderr",
     "output_type": "stream",
     "text": [
      "Epoch [12/100] Training: 100%|██████████| 70/70 [00:21<00:00,  3.19it/s, accuracy=99.5, loss=0.00237]\n",
      "Epoch [12/100] Validation: 100%|██████████| 18/18 [00:02<00:00,  6.51it/s, accuracy=95.9, loss=0.0392]\n"
     ]
    },
    {
     "name": "stdout",
     "output_type": "stream",
     "text": [
      "Epoch 12/100\n",
      "Train Loss: 0.0193 | Train Acc: 99.51%\n",
      "Val Loss: 0.1357 | Val Acc: 95.89%\n"
     ]
    },
    {
     "name": "stderr",
     "output_type": "stream",
     "text": [
      "Epoch [13/100] Training: 100%|██████████| 70/70 [00:21<00:00,  3.19it/s, accuracy=99.6, loss=0.0049] \n",
      "Epoch [13/100] Validation: 100%|██████████| 18/18 [00:02<00:00,  6.44it/s, accuracy=96.2, loss=0.0988]\n"
     ]
    },
    {
     "name": "stdout",
     "output_type": "stream",
     "text": [
      "Epoch 13/100\n",
      "Train Loss: 0.0160 | Train Acc: 99.55%\n",
      "Val Loss: 0.1341 | Val Acc: 96.25%\n"
     ]
    },
    {
     "name": "stderr",
     "output_type": "stream",
     "text": [
      "Epoch [14/100] Training: 100%|██████████| 70/70 [00:22<00:00,  3.15it/s, accuracy=99.7, loss=0.00453] \n",
      "Epoch [14/100] Validation: 100%|██████████| 18/18 [00:02<00:00,  6.65it/s, accuracy=96.6, loss=0.258] \n"
     ]
    },
    {
     "name": "stdout",
     "output_type": "stream",
     "text": [
      "Epoch 14/100\n",
      "Train Loss: 0.0137 | Train Acc: 99.69%\n",
      "Val Loss: 0.1481 | Val Acc: 96.61%\n"
     ]
    },
    {
     "name": "stderr",
     "output_type": "stream",
     "text": [
      "Epoch [15/100] Training: 100%|██████████| 70/70 [00:21<00:00,  3.22it/s, accuracy=99.4, loss=0.0891] \n",
      "Epoch [15/100] Validation: 100%|██████████| 18/18 [00:02<00:00,  6.58it/s, accuracy=96.4, loss=0.104]  \n"
     ]
    },
    {
     "name": "stdout",
     "output_type": "stream",
     "text": [
      "Epoch 15/100\n",
      "Train Loss: 0.0184 | Train Acc: 99.38%\n",
      "Val Loss: 0.1509 | Val Acc: 96.43%\n"
     ]
    },
    {
     "name": "stderr",
     "output_type": "stream",
     "text": [
      "Epoch [16/100] Training: 100%|██████████| 70/70 [00:21<00:00,  3.22it/s, accuracy=99.9, loss=0.00405] \n",
      "Epoch [16/100] Validation: 100%|██████████| 18/18 [00:02<00:00,  6.70it/s, accuracy=95.9, loss=0.132] \n"
     ]
    },
    {
     "name": "stdout",
     "output_type": "stream",
     "text": [
      "Epoch 16/100\n",
      "Train Loss: 0.0101 | Train Acc: 99.87%\n",
      "Val Loss: 0.1443 | Val Acc: 95.89%\n"
     ]
    },
    {
     "name": "stderr",
     "output_type": "stream",
     "text": [
      "Epoch [17/100] Training: 100%|██████████| 70/70 [00:21<00:00,  3.20it/s, accuracy=99.6, loss=0.00724] \n",
      "Epoch [17/100] Validation: 100%|██████████| 18/18 [00:02<00:00,  6.63it/s, accuracy=96.4, loss=0.196] \n"
     ]
    },
    {
     "name": "stdout",
     "output_type": "stream",
     "text": [
      "Epoch 17/100\n",
      "Train Loss: 0.0138 | Train Acc: 99.60%\n",
      "Val Loss: 0.1544 | Val Acc: 96.43%\n"
     ]
    },
    {
     "name": "stderr",
     "output_type": "stream",
     "text": [
      "Epoch [18/100] Training: 100%|██████████| 70/70 [00:21<00:00,  3.23it/s, accuracy=99.7, loss=0.00699] \n",
      "Epoch [18/100] Validation: 100%|██████████| 18/18 [00:02<00:00,  6.64it/s, accuracy=96.6, loss=0.171] \n"
     ]
    },
    {
     "name": "stdout",
     "output_type": "stream",
     "text": [
      "Epoch 18/100\n",
      "Train Loss: 0.0116 | Train Acc: 99.69%\n",
      "Val Loss: 0.1374 | Val Acc: 96.61%\n"
     ]
    },
    {
     "name": "stderr",
     "output_type": "stream",
     "text": [
      "Epoch [19/100] Training: 100%|██████████| 70/70 [00:21<00:00,  3.21it/s, accuracy=99.8, loss=0.00522] \n",
      "Epoch [19/100] Validation: 100%|██████████| 18/18 [00:02<00:00,  6.53it/s, accuracy=95.9, loss=0.121]  \n"
     ]
    },
    {
     "name": "stdout",
     "output_type": "stream",
     "text": [
      "Epoch 19/100\n",
      "Train Loss: 0.0099 | Train Acc: 99.78%\n",
      "Val Loss: 0.1327 | Val Acc: 95.89%\n"
     ]
    },
    {
     "name": "stderr",
     "output_type": "stream",
     "text": [
      "Epoch [20/100] Training: 100%|██████████| 70/70 [00:21<00:00,  3.22it/s, accuracy=99.8, loss=0.058]   \n",
      "Epoch [20/100] Validation: 100%|██████████| 18/18 [00:02<00:00,  6.69it/s, accuracy=96.6, loss=0.131] \n"
     ]
    },
    {
     "name": "stdout",
     "output_type": "stream",
     "text": [
      "Epoch 20/100\n",
      "Train Loss: 0.0096 | Train Acc: 99.78%\n",
      "Val Loss: 0.1373 | Val Acc: 96.61%\n"
     ]
    },
    {
     "name": "stderr",
     "output_type": "stream",
     "text": [
      "Epoch [21/100] Training: 100%|██████████| 70/70 [00:21<00:00,  3.24it/s, accuracy=99.9, loss=0.0402]  \n",
      "Epoch [21/100] Validation: 100%|██████████| 18/18 [00:02<00:00,  6.65it/s, accuracy=95.4, loss=0.226]  \n"
     ]
    },
    {
     "name": "stdout",
     "output_type": "stream",
     "text": [
      "Epoch 21/100\n",
      "Train Loss: 0.0087 | Train Acc: 99.87%\n",
      "Val Loss: 0.1562 | Val Acc: 95.36%\n"
     ]
    },
    {
     "name": "stderr",
     "output_type": "stream",
     "text": [
      "Epoch [22/100] Training: 100%|██████████| 70/70 [00:21<00:00,  3.22it/s, accuracy=99.9, loss=0.00273]\n",
      "Epoch [22/100] Validation: 100%|██████████| 18/18 [00:02<00:00,  6.66it/s, accuracy=95.7, loss=0.134] \n"
     ]
    },
    {
     "name": "stdout",
     "output_type": "stream",
     "text": [
      "Epoch 22/100\n",
      "Train Loss: 0.0078 | Train Acc: 99.91%\n",
      "Val Loss: 0.1376 | Val Acc: 95.71%\n"
     ]
    },
    {
     "name": "stderr",
     "output_type": "stream",
     "text": [
      "Epoch [23/100] Training: 100%|██████████| 70/70 [00:21<00:00,  3.21it/s, accuracy=99.8, loss=0.00205] \n",
      "Epoch [23/100] Validation: 100%|██████████| 18/18 [00:02<00:00,  6.57it/s, accuracy=95.9, loss=0.228] \n"
     ]
    },
    {
     "name": "stdout",
     "output_type": "stream",
     "text": [
      "Epoch 23/100\n",
      "Train Loss: 0.0092 | Train Acc: 99.78%\n",
      "Val Loss: 0.1588 | Val Acc: 95.89%\n"
     ]
    },
    {
     "name": "stderr",
     "output_type": "stream",
     "text": [
      "Epoch [24/100] Training: 100%|██████████| 70/70 [00:21<00:00,  3.24it/s, accuracy=99.9, loss=0.00202] \n",
      "Epoch [24/100] Validation: 100%|██████████| 18/18 [00:02<00:00,  6.54it/s, accuracy=95.5, loss=0.0467]\n"
     ]
    },
    {
     "name": "stdout",
     "output_type": "stream",
     "text": [
      "Epoch 24/100\n",
      "Train Loss: 0.0088 | Train Acc: 99.91%\n",
      "Val Loss: 0.1490 | Val Acc: 95.54%\n"
     ]
    },
    {
     "name": "stderr",
     "output_type": "stream",
     "text": [
      "Epoch [25/100] Training: 100%|██████████| 70/70 [00:21<00:00,  3.20it/s, accuracy=99.7, loss=0.00524]\n",
      "Epoch [25/100] Validation: 100%|██████████| 18/18 [00:02<00:00,  6.62it/s, accuracy=96.4, loss=0.222] \n"
     ]
    },
    {
     "name": "stdout",
     "output_type": "stream",
     "text": [
      "Epoch 25/100\n",
      "Train Loss: 0.0111 | Train Acc: 99.73%\n",
      "Val Loss: 0.1441 | Val Acc: 96.43%\n"
     ]
    },
    {
     "name": "stderr",
     "output_type": "stream",
     "text": [
      "Epoch [26/100] Training: 100%|██████████| 70/70 [00:21<00:00,  3.20it/s, accuracy=99.9, loss=0.00113] \n",
      "Epoch [26/100] Validation: 100%|██████████| 18/18 [00:02<00:00,  6.44it/s, accuracy=95.5, loss=0.21]  \n"
     ]
    },
    {
     "name": "stdout",
     "output_type": "stream",
     "text": [
      "Epoch 26/100\n",
      "Train Loss: 0.0081 | Train Acc: 99.91%\n",
      "Val Loss: 0.1451 | Val Acc: 95.54%\n"
     ]
    },
    {
     "name": "stderr",
     "output_type": "stream",
     "text": [
      "Epoch [27/100] Training: 100%|██████████| 70/70 [00:21<00:00,  3.21it/s, accuracy=99.9, loss=0.0042]  \n",
      "Epoch [27/100] Validation: 100%|██████████| 18/18 [00:02<00:00,  6.59it/s, accuracy=96.2, loss=0.0203]\n"
     ]
    },
    {
     "name": "stdout",
     "output_type": "stream",
     "text": [
      "Epoch 27/100\n",
      "Train Loss: 0.0074 | Train Acc: 99.87%\n",
      "Val Loss: 0.1487 | Val Acc: 96.25%\n"
     ]
    },
    {
     "name": "stderr",
     "output_type": "stream",
     "text": [
      "Epoch [28/100] Training: 100%|██████████| 70/70 [00:21<00:00,  3.23it/s, accuracy=99.8, loss=0.00429] \n",
      "Epoch [28/100] Validation: 100%|██████████| 18/18 [00:02<00:00,  6.58it/s, accuracy=96.6, loss=0.229] \n"
     ]
    },
    {
     "name": "stdout",
     "output_type": "stream",
     "text": [
      "Epoch 28/100\n",
      "Train Loss: 0.0120 | Train Acc: 99.78%\n",
      "Val Loss: 0.1471 | Val Acc: 96.61%\n"
     ]
    },
    {
     "name": "stderr",
     "output_type": "stream",
     "text": [
      "Epoch [29/100] Training: 100%|██████████| 70/70 [00:21<00:00,  3.23it/s, accuracy=99.9, loss=0.00205]\n",
      "Epoch [29/100] Validation: 100%|██████████| 18/18 [00:02<00:00,  6.58it/s, accuracy=95.9, loss=0.173] \n"
     ]
    },
    {
     "name": "stdout",
     "output_type": "stream",
     "text": [
      "Epoch 29/100\n",
      "Train Loss: 0.0097 | Train Acc: 99.87%\n",
      "Val Loss: 0.1411 | Val Acc: 95.89%\n"
     ]
    },
    {
     "name": "stderr",
     "output_type": "stream",
     "text": [
      "Epoch [30/100] Training: 100%|██████████| 70/70 [00:21<00:00,  3.22it/s, accuracy=99.7, loss=0.00278] \n",
      "Epoch [30/100] Validation: 100%|██████████| 18/18 [00:02<00:00,  6.62it/s, accuracy=95.9, loss=0.0911]\n"
     ]
    },
    {
     "name": "stdout",
     "output_type": "stream",
     "text": [
      "Epoch 30/100\n",
      "Train Loss: 0.0108 | Train Acc: 99.73%\n",
      "Val Loss: 0.1278 | Val Acc: 95.89%\n"
     ]
    },
    {
     "name": "stderr",
     "output_type": "stream",
     "text": [
      "Epoch [31/100] Training: 100%|██████████| 70/70 [00:21<00:00,  3.23it/s, accuracy=99.9, loss=0.00294] \n",
      "Epoch [31/100] Validation: 100%|██████████| 18/18 [00:02<00:00,  6.62it/s, accuracy=96.6, loss=0.0497]\n"
     ]
    },
    {
     "name": "stdout",
     "output_type": "stream",
     "text": [
      "Epoch 31/100\n",
      "Train Loss: 0.0076 | Train Acc: 99.91%\n",
      "Val Loss: 0.1392 | Val Acc: 96.61%\n"
     ]
    },
    {
     "name": "stderr",
     "output_type": "stream",
     "text": [
      "Epoch [32/100] Training: 100%|██████████| 70/70 [00:21<00:00,  3.22it/s, accuracy=99.8, loss=0.0687] \n",
      "Epoch [32/100] Validation: 100%|██████████| 18/18 [00:02<00:00,  6.57it/s, accuracy=95.9, loss=0.148] \n"
     ]
    },
    {
     "name": "stdout",
     "output_type": "stream",
     "text": [
      "Epoch 32/100\n",
      "Train Loss: 0.0100 | Train Acc: 99.82%\n",
      "Val Loss: 0.1389 | Val Acc: 95.89%\n"
     ]
    },
    {
     "name": "stderr",
     "output_type": "stream",
     "text": [
      "Epoch [33/100] Training: 100%|██████████| 70/70 [00:21<00:00,  3.23it/s, accuracy=99.9, loss=0.0032] \n",
      "Epoch [33/100] Validation: 100%|██████████| 18/18 [00:02<00:00,  6.57it/s, accuracy=96.8, loss=0.11]  \n"
     ]
    },
    {
     "name": "stdout",
     "output_type": "stream",
     "text": [
      "Epoch 33/100\n",
      "Train Loss: 0.0091 | Train Acc: 99.87%\n",
      "Val Loss: 0.1291 | Val Acc: 96.79%\n"
     ]
    },
    {
     "name": "stderr",
     "output_type": "stream",
     "text": [
      "Epoch [34/100] Training: 100%|██████████| 70/70 [00:21<00:00,  3.21it/s, accuracy=99.8, loss=0.00168]\n",
      "Epoch [34/100] Validation: 100%|██████████| 18/18 [00:02<00:00,  6.60it/s, accuracy=95.5, loss=0.0641]\n"
     ]
    },
    {
     "name": "stdout",
     "output_type": "stream",
     "text": [
      "Epoch 34/100\n",
      "Train Loss: 0.0102 | Train Acc: 99.82%\n",
      "Val Loss: 0.1335 | Val Acc: 95.54%\n"
     ]
    },
    {
     "name": "stderr",
     "output_type": "stream",
     "text": [
      "Epoch [35/100] Training: 100%|██████████| 70/70 [00:21<00:00,  3.21it/s, accuracy=99.9, loss=0.00626] \n",
      "Epoch [35/100] Validation: 100%|██████████| 18/18 [00:02<00:00,  6.56it/s, accuracy=97, loss=0.146]    \n"
     ]
    },
    {
     "name": "stdout",
     "output_type": "stream",
     "text": [
      "Epoch 35/100\n",
      "Train Loss: 0.0088 | Train Acc: 99.87%\n",
      "Val Loss: 0.1254 | Val Acc: 96.96%\n"
     ]
    },
    {
     "name": "stderr",
     "output_type": "stream",
     "text": [
      "Epoch [36/100] Training: 100%|██████████| 70/70 [00:21<00:00,  3.21it/s, accuracy=99.8, loss=0.00228]\n",
      "Epoch [36/100] Validation: 100%|██████████| 18/18 [00:02<00:00,  6.64it/s, accuracy=96.1, loss=0.196] \n"
     ]
    },
    {
     "name": "stdout",
     "output_type": "stream",
     "text": [
      "Epoch 36/100\n",
      "Train Loss: 0.0110 | Train Acc: 99.78%\n",
      "Val Loss: 0.1490 | Val Acc: 96.07%\n"
     ]
    },
    {
     "name": "stderr",
     "output_type": "stream",
     "text": [
      "Epoch [37/100] Training: 100%|██████████| 70/70 [00:21<00:00,  3.21it/s, accuracy=99.8, loss=0.00517]\n",
      "Epoch [37/100] Validation: 100%|██████████| 18/18 [00:02<00:00,  6.51it/s, accuracy=97, loss=0.123]   \n"
     ]
    },
    {
     "name": "stdout",
     "output_type": "stream",
     "text": [
      "Epoch 37/100\n",
      "Train Loss: 0.0106 | Train Acc: 99.78%\n",
      "Val Loss: 0.1372 | Val Acc: 96.96%\n"
     ]
    },
    {
     "name": "stderr",
     "output_type": "stream",
     "text": [
      "Epoch [38/100] Training: 100%|██████████| 70/70 [00:21<00:00,  3.21it/s, accuracy=99.8, loss=0.00383] \n",
      "Epoch [38/100] Validation: 100%|██████████| 18/18 [00:02<00:00,  6.57it/s, accuracy=96.4, loss=0.22]   \n"
     ]
    },
    {
     "name": "stdout",
     "output_type": "stream",
     "text": [
      "Epoch 38/100\n",
      "Train Loss: 0.0115 | Train Acc: 99.78%\n",
      "Val Loss: 0.1450 | Val Acc: 96.43%\n"
     ]
    },
    {
     "name": "stderr",
     "output_type": "stream",
     "text": [
      "Epoch [39/100] Training: 100%|██████████| 70/70 [00:21<00:00,  3.20it/s, accuracy=99.8, loss=0.00516]\n",
      "Epoch [39/100] Validation: 100%|██████████| 18/18 [00:02<00:00,  6.58it/s, accuracy=97.1, loss=0.134] \n"
     ]
    },
    {
     "name": "stdout",
     "output_type": "stream",
     "text": [
      "Epoch 39/100\n",
      "Train Loss: 0.0122 | Train Acc: 99.82%\n",
      "Val Loss: 0.1308 | Val Acc: 97.14%\n"
     ]
    },
    {
     "name": "stderr",
     "output_type": "stream",
     "text": [
      "Epoch [40/100] Training: 100%|██████████| 70/70 [00:21<00:00,  3.20it/s, accuracy=99.6, loss=0.00368] \n",
      "Epoch [40/100] Validation: 100%|██████████| 18/18 [00:02<00:00,  6.51it/s, accuracy=96.4, loss=0.134] \n"
     ]
    },
    {
     "name": "stdout",
     "output_type": "stream",
     "text": [
      "Epoch 40/100\n",
      "Train Loss: 0.0128 | Train Acc: 99.64%\n",
      "Val Loss: 0.1360 | Val Acc: 96.43%\n"
     ]
    },
    {
     "name": "stderr",
     "output_type": "stream",
     "text": [
      "Epoch [41/100] Training: 100%|██████████| 70/70 [00:22<00:00,  3.17it/s, accuracy=99.7, loss=0.132]  \n",
      "Epoch [41/100] Validation: 100%|██████████| 18/18 [00:02<00:00,  6.58it/s, accuracy=96.2, loss=0.243]  \n"
     ]
    },
    {
     "name": "stdout",
     "output_type": "stream",
     "text": [
      "Epoch 41/100\n",
      "Train Loss: 0.0126 | Train Acc: 99.69%\n",
      "Val Loss: 0.1405 | Val Acc: 96.25%\n"
     ]
    },
    {
     "name": "stderr",
     "output_type": "stream",
     "text": [
      "Epoch [42/100] Training: 100%|██████████| 70/70 [00:22<00:00,  3.17it/s, accuracy=99.8, loss=0.000793]\n",
      "Epoch [42/100] Validation: 100%|██████████| 18/18 [00:02<00:00,  6.59it/s, accuracy=96.4, loss=0.113] \n"
     ]
    },
    {
     "name": "stdout",
     "output_type": "stream",
     "text": [
      "Epoch 42/100\n",
      "Train Loss: 0.0095 | Train Acc: 99.78%\n",
      "Val Loss: 0.1405 | Val Acc: 96.43%\n"
     ]
    },
    {
     "name": "stderr",
     "output_type": "stream",
     "text": [
      "Epoch [43/100] Training: 100%|██████████| 70/70 [00:21<00:00,  3.21it/s, accuracy=99.9, loss=0.0589]  \n",
      "Epoch [43/100] Validation: 100%|██████████| 18/18 [00:02<00:00,  6.56it/s, accuracy=96.6, loss=0.121] \n"
     ]
    },
    {
     "name": "stdout",
     "output_type": "stream",
     "text": [
      "Epoch 43/100\n",
      "Train Loss: 0.0071 | Train Acc: 99.87%\n",
      "Val Loss: 0.1325 | Val Acc: 96.61%\n"
     ]
    },
    {
     "name": "stderr",
     "output_type": "stream",
     "text": [
      "Epoch [44/100] Training: 100%|██████████| 70/70 [00:21<00:00,  3.20it/s, accuracy=99.9, loss=0.00422]\n",
      "Epoch [44/100] Validation: 100%|██████████| 18/18 [00:02<00:00,  6.39it/s, accuracy=96.1, loss=0.175] \n"
     ]
    },
    {
     "name": "stdout",
     "output_type": "stream",
     "text": [
      "Epoch 44/100\n",
      "Train Loss: 0.0088 | Train Acc: 99.87%\n",
      "Val Loss: 0.1461 | Val Acc: 96.07%\n"
     ]
    },
    {
     "name": "stderr",
     "output_type": "stream",
     "text": [
      "Epoch [45/100] Training: 100%|██████████| 70/70 [00:21<00:00,  3.19it/s, accuracy=99.9, loss=0.0167] \n",
      "Epoch [45/100] Validation: 100%|██████████| 18/18 [00:02<00:00,  6.60it/s, accuracy=95.5, loss=0.139] \n"
     ]
    },
    {
     "name": "stdout",
     "output_type": "stream",
     "text": [
      "Epoch 45/100\n",
      "Train Loss: 0.0083 | Train Acc: 99.91%\n",
      "Val Loss: 0.1375 | Val Acc: 95.54%\n"
     ]
    },
    {
     "name": "stderr",
     "output_type": "stream",
     "text": [
      "Epoch [46/100] Training: 100%|██████████| 70/70 [00:21<00:00,  3.21it/s, accuracy=99.9, loss=0.000913]\n",
      "Epoch [46/100] Validation: 100%|██████████| 18/18 [00:02<00:00,  6.48it/s, accuracy=96.2, loss=0.0582] \n"
     ]
    },
    {
     "name": "stdout",
     "output_type": "stream",
     "text": [
      "Epoch 46/100\n",
      "Train Loss: 0.0094 | Train Acc: 99.91%\n",
      "Val Loss: 0.1274 | Val Acc: 96.25%\n"
     ]
    },
    {
     "name": "stderr",
     "output_type": "stream",
     "text": [
      "Epoch [47/100] Training: 100%|██████████| 70/70 [00:21<00:00,  3.21it/s, accuracy=100, loss=0.00358] \n",
      "Epoch [47/100] Validation: 100%|██████████| 18/18 [00:02<00:00,  6.46it/s, accuracy=96.2, loss=0.0987]\n"
     ]
    },
    {
     "name": "stdout",
     "output_type": "stream",
     "text": [
      "Epoch 47/100\n",
      "Train Loss: 0.0063 | Train Acc: 99.96%\n",
      "Val Loss: 0.1635 | Val Acc: 96.25%\n"
     ]
    },
    {
     "name": "stderr",
     "output_type": "stream",
     "text": [
      "Epoch [48/100] Training: 100%|██████████| 70/70 [00:21<00:00,  3.21it/s, accuracy=99.9, loss=0.00238] \n",
      "Epoch [48/100] Validation: 100%|██████████| 18/18 [00:02<00:00,  6.65it/s, accuracy=96.1, loss=0.234]  \n"
     ]
    },
    {
     "name": "stdout",
     "output_type": "stream",
     "text": [
      "Epoch 48/100\n",
      "Train Loss: 0.0098 | Train Acc: 99.87%\n",
      "Val Loss: 0.1573 | Val Acc: 96.07%\n"
     ]
    },
    {
     "name": "stderr",
     "output_type": "stream",
     "text": [
      "Epoch [49/100] Training: 100%|██████████| 70/70 [00:21<00:00,  3.21it/s, accuracy=99.8, loss=0.036]   \n",
      "Epoch [49/100] Validation: 100%|██████████| 18/18 [00:02<00:00,  6.57it/s, accuracy=96.4, loss=0.068] \n"
     ]
    },
    {
     "name": "stdout",
     "output_type": "stream",
     "text": [
      "Epoch 49/100\n",
      "Train Loss: 0.0127 | Train Acc: 99.78%\n",
      "Val Loss: 0.1413 | Val Acc: 96.43%\n"
     ]
    },
    {
     "name": "stderr",
     "output_type": "stream",
     "text": [
      "Epoch [50/100] Training: 100%|██████████| 70/70 [00:21<00:00,  3.20it/s, accuracy=99.9, loss=0.00768] \n",
      "Epoch [50/100] Validation: 100%|██████████| 18/18 [00:02<00:00,  6.58it/s, accuracy=96.2, loss=0.088] \n"
     ]
    },
    {
     "name": "stdout",
     "output_type": "stream",
     "text": [
      "Epoch 50/100\n",
      "Train Loss: 0.0088 | Train Acc: 99.91%\n",
      "Val Loss: 0.1413 | Val Acc: 96.25%\n"
     ]
    },
    {
     "name": "stderr",
     "output_type": "stream",
     "text": [
      "Epoch [51/100] Training: 100%|██████████| 70/70 [00:21<00:00,  3.20it/s, accuracy=99.7, loss=0.00908] \n",
      "Epoch [51/100] Validation: 100%|██████████| 18/18 [00:02<00:00,  6.55it/s, accuracy=96.8, loss=0.171] \n"
     ]
    },
    {
     "name": "stdout",
     "output_type": "stream",
     "text": [
      "Epoch 51/100\n",
      "Train Loss: 0.0126 | Train Acc: 99.69%\n",
      "Val Loss: 0.1410 | Val Acc: 96.79%\n"
     ]
    },
    {
     "name": "stderr",
     "output_type": "stream",
     "text": [
      "Epoch [52/100] Training: 100%|██████████| 70/70 [00:21<00:00,  3.22it/s, accuracy=99.8, loss=0.00291] \n",
      "Epoch [52/100] Validation: 100%|██████████| 18/18 [00:02<00:00,  6.54it/s, accuracy=96.8, loss=0.132]  \n"
     ]
    },
    {
     "name": "stdout",
     "output_type": "stream",
     "text": [
      "Epoch 52/100\n",
      "Train Loss: 0.0091 | Train Acc: 99.82%\n",
      "Val Loss: 0.1345 | Val Acc: 96.79%\n"
     ]
    },
    {
     "name": "stderr",
     "output_type": "stream",
     "text": [
      "Epoch [53/100] Training: 100%|██████████| 70/70 [00:21<00:00,  3.20it/s, accuracy=99.9, loss=0.0054] \n",
      "Epoch [53/100] Validation: 100%|██████████| 18/18 [00:02<00:00,  6.58it/s, accuracy=96.6, loss=0.0289]\n"
     ]
    },
    {
     "name": "stdout",
     "output_type": "stream",
     "text": [
      "Epoch 53/100\n",
      "Train Loss: 0.0097 | Train Acc: 99.87%\n",
      "Val Loss: 0.1300 | Val Acc: 96.61%\n"
     ]
    },
    {
     "name": "stderr",
     "output_type": "stream",
     "text": [
      "Epoch [54/100] Training: 100%|██████████| 70/70 [00:21<00:00,  3.22it/s, accuracy=99.9, loss=0.00555] \n",
      "Epoch [54/100] Validation: 100%|██████████| 18/18 [00:02<00:00,  6.69it/s, accuracy=95.9, loss=0.172] \n"
     ]
    },
    {
     "name": "stdout",
     "output_type": "stream",
     "text": [
      "Epoch 54/100\n",
      "Train Loss: 0.0081 | Train Acc: 99.87%\n",
      "Val Loss: 0.1454 | Val Acc: 95.89%\n"
     ]
    },
    {
     "name": "stderr",
     "output_type": "stream",
     "text": [
      "Epoch [55/100] Training: 100%|██████████| 70/70 [00:21<00:00,  3.21it/s, accuracy=99.7, loss=0.00962] \n",
      "Epoch [55/100] Validation: 100%|██████████| 18/18 [00:02<00:00,  6.60it/s, accuracy=96.6, loss=0.13]   \n"
     ]
    },
    {
     "name": "stdout",
     "output_type": "stream",
     "text": [
      "Epoch 55/100\n",
      "Train Loss: 0.0156 | Train Acc: 99.69%\n",
      "Val Loss: 0.1342 | Val Acc: 96.61%\n"
     ]
    },
    {
     "name": "stderr",
     "output_type": "stream",
     "text": [
      "Epoch [56/100] Training: 100%|██████████| 70/70 [00:21<00:00,  3.22it/s, accuracy=99.9, loss=0.0215]  \n",
      "Epoch [56/100] Validation: 100%|██████████| 18/18 [00:02<00:00,  6.60it/s, accuracy=96.8, loss=0.184]  \n"
     ]
    },
    {
     "name": "stdout",
     "output_type": "stream",
     "text": [
      "Epoch 56/100\n",
      "Train Loss: 0.0069 | Train Acc: 99.91%\n",
      "Val Loss: 0.1365 | Val Acc: 96.79%\n"
     ]
    },
    {
     "name": "stderr",
     "output_type": "stream",
     "text": [
      "Epoch [57/100] Training: 100%|██████████| 70/70 [00:21<00:00,  3.22it/s, accuracy=99.6, loss=0.00712] \n",
      "Epoch [57/100] Validation: 100%|██████████| 18/18 [00:02<00:00,  6.59it/s, accuracy=97.3, loss=0.167] \n"
     ]
    },
    {
     "name": "stdout",
     "output_type": "stream",
     "text": [
      "Epoch 57/100\n",
      "Train Loss: 0.0134 | Train Acc: 99.60%\n",
      "Val Loss: 0.1444 | Val Acc: 97.32%\n"
     ]
    },
    {
     "name": "stderr",
     "output_type": "stream",
     "text": [
      "Epoch [58/100] Training: 100%|██████████| 70/70 [00:21<00:00,  3.20it/s, accuracy=99.9, loss=0.000876]\n",
      "Epoch [58/100] Validation: 100%|██████████| 18/18 [00:02<00:00,  6.56it/s, accuracy=96.2, loss=0.208] \n"
     ]
    },
    {
     "name": "stdout",
     "output_type": "stream",
     "text": [
      "Epoch 58/100\n",
      "Train Loss: 0.0107 | Train Acc: 99.87%\n",
      "Val Loss: 0.1634 | Val Acc: 96.25%\n"
     ]
    },
    {
     "name": "stderr",
     "output_type": "stream",
     "text": [
      "Epoch [59/100] Training: 100%|██████████| 70/70 [00:21<00:00,  3.21it/s, accuracy=99.8, loss=0.00449] \n",
      "Epoch [59/100] Validation: 100%|██████████| 18/18 [00:02<00:00,  6.63it/s, accuracy=96.8, loss=0.211]  \n"
     ]
    },
    {
     "name": "stdout",
     "output_type": "stream",
     "text": [
      "Epoch 59/100\n",
      "Train Loss: 0.0094 | Train Acc: 99.78%\n",
      "Val Loss: 0.1493 | Val Acc: 96.79%\n"
     ]
    },
    {
     "name": "stderr",
     "output_type": "stream",
     "text": [
      "Epoch [60/100] Training: 100%|██████████| 70/70 [00:21<00:00,  3.20it/s, accuracy=99.9, loss=0.00168] \n",
      "Epoch [60/100] Validation: 100%|██████████| 18/18 [00:02<00:00,  6.62it/s, accuracy=96.1, loss=0.176] \n"
     ]
    },
    {
     "name": "stdout",
     "output_type": "stream",
     "text": [
      "Epoch 60/100\n",
      "Train Loss: 0.0085 | Train Acc: 99.87%\n",
      "Val Loss: 0.1499 | Val Acc: 96.07%\n"
     ]
    },
    {
     "name": "stderr",
     "output_type": "stream",
     "text": [
      "Epoch [61/100] Training: 100%|██████████| 70/70 [00:21<00:00,  3.21it/s, accuracy=99.9, loss=0.113]  \n",
      "Epoch [61/100] Validation: 100%|██████████| 18/18 [00:02<00:00,  6.56it/s, accuracy=96.4, loss=0.153] \n"
     ]
    },
    {
     "name": "stdout",
     "output_type": "stream",
     "text": [
      "Epoch 61/100\n",
      "Train Loss: 0.0099 | Train Acc: 99.87%\n",
      "Val Loss: 0.1527 | Val Acc: 96.43%\n"
     ]
    },
    {
     "name": "stderr",
     "output_type": "stream",
     "text": [
      "Epoch [62/100] Training: 100%|██████████| 70/70 [00:21<00:00,  3.23it/s, accuracy=99.7, loss=0.0104]  \n",
      "Epoch [62/100] Validation: 100%|██████████| 18/18 [00:02<00:00,  6.61it/s, accuracy=96.1, loss=0.183] \n"
     ]
    },
    {
     "name": "stdout",
     "output_type": "stream",
     "text": [
      "Epoch 62/100\n",
      "Train Loss: 0.0126 | Train Acc: 99.73%\n",
      "Val Loss: 0.1476 | Val Acc: 96.07%\n"
     ]
    },
    {
     "name": "stderr",
     "output_type": "stream",
     "text": [
      "Epoch [63/100] Training: 100%|██████████| 70/70 [00:21<00:00,  3.19it/s, accuracy=99.8, loss=0.00216] \n",
      "Epoch [63/100] Validation: 100%|██████████| 18/18 [00:02<00:00,  6.63it/s, accuracy=95.9, loss=0.133] \n"
     ]
    },
    {
     "name": "stdout",
     "output_type": "stream",
     "text": [
      "Epoch 63/100\n",
      "Train Loss: 0.0114 | Train Acc: 99.82%\n",
      "Val Loss: 0.1474 | Val Acc: 95.89%\n"
     ]
    },
    {
     "name": "stderr",
     "output_type": "stream",
     "text": [
      "Epoch [64/100] Training: 100%|██████████| 70/70 [00:21<00:00,  3.21it/s, accuracy=99.7, loss=0.00402]\n",
      "Epoch [64/100] Validation: 100%|██████████| 18/18 [00:02<00:00,  6.66it/s, accuracy=95.7, loss=0.139] \n"
     ]
    },
    {
     "name": "stdout",
     "output_type": "stream",
     "text": [
      "Epoch 64/100\n",
      "Train Loss: 0.0109 | Train Acc: 99.69%\n",
      "Val Loss: 0.1399 | Val Acc: 95.71%\n"
     ]
    },
    {
     "name": "stderr",
     "output_type": "stream",
     "text": [
      "Epoch [65/100] Training: 100%|██████████| 70/70 [00:21<00:00,  3.21it/s, accuracy=99.8, loss=0.00349] \n",
      "Epoch [65/100] Validation: 100%|██████████| 18/18 [00:02<00:00,  6.61it/s, accuracy=96.4, loss=0.201] \n"
     ]
    },
    {
     "name": "stdout",
     "output_type": "stream",
     "text": [
      "Epoch 65/100\n",
      "Train Loss: 0.0096 | Train Acc: 99.78%\n",
      "Val Loss: 0.1465 | Val Acc: 96.43%\n"
     ]
    },
    {
     "name": "stderr",
     "output_type": "stream",
     "text": [
      "Epoch [66/100] Training: 100%|██████████| 70/70 [00:21<00:00,  3.19it/s, accuracy=99.9, loss=0.015]  \n",
      "Epoch [66/100] Validation: 100%|██████████| 18/18 [00:02<00:00,  6.55it/s, accuracy=95.9, loss=0.0546]\n"
     ]
    },
    {
     "name": "stdout",
     "output_type": "stream",
     "text": [
      "Epoch 66/100\n",
      "Train Loss: 0.0093 | Train Acc: 99.87%\n",
      "Val Loss: 0.1604 | Val Acc: 95.89%\n"
     ]
    },
    {
     "name": "stderr",
     "output_type": "stream",
     "text": [
      "Epoch [67/100] Training: 100%|██████████| 70/70 [00:21<00:00,  3.21it/s, accuracy=99.8, loss=0.0104]  \n",
      "Epoch [67/100] Validation: 100%|██████████| 18/18 [00:02<00:00,  6.50it/s, accuracy=96.4, loss=0.0973]\n"
     ]
    },
    {
     "name": "stdout",
     "output_type": "stream",
     "text": [
      "Epoch 67/100\n",
      "Train Loss: 0.0102 | Train Acc: 99.82%\n",
      "Val Loss: 0.1355 | Val Acc: 96.43%\n"
     ]
    },
    {
     "name": "stderr",
     "output_type": "stream",
     "text": [
      "Epoch [68/100] Training: 100%|██████████| 70/70 [00:21<00:00,  3.19it/s, accuracy=100, loss=0.00331]  \n",
      "Epoch [68/100] Validation: 100%|██████████| 18/18 [00:02<00:00,  6.53it/s, accuracy=96.4, loss=0.246] \n"
     ]
    },
    {
     "name": "stdout",
     "output_type": "stream",
     "text": [
      "Epoch 68/100\n",
      "Train Loss: 0.0088 | Train Acc: 99.96%\n",
      "Val Loss: 0.1538 | Val Acc: 96.43%\n"
     ]
    },
    {
     "name": "stderr",
     "output_type": "stream",
     "text": [
      "Epoch [69/100] Training: 100%|██████████| 70/70 [00:21<00:00,  3.22it/s, accuracy=99.9, loss=0.0111]  \n",
      "Epoch [69/100] Validation: 100%|██████████| 18/18 [00:02<00:00,  6.56it/s, accuracy=96.8, loss=0.0378]\n"
     ]
    },
    {
     "name": "stdout",
     "output_type": "stream",
     "text": [
      "Epoch 69/100\n",
      "Train Loss: 0.0098 | Train Acc: 99.87%\n",
      "Val Loss: 0.1359 | Val Acc: 96.79%\n"
     ]
    },
    {
     "name": "stderr",
     "output_type": "stream",
     "text": [
      "Epoch [70/100] Training: 100%|██████████| 70/70 [00:21<00:00,  3.23it/s, accuracy=99.9, loss=0.0157]  \n",
      "Epoch [70/100] Validation: 100%|██████████| 18/18 [00:02<00:00,  6.56it/s, accuracy=96.1, loss=0.0673]\n"
     ]
    },
    {
     "name": "stdout",
     "output_type": "stream",
     "text": [
      "Epoch 70/100\n",
      "Train Loss: 0.0082 | Train Acc: 99.87%\n",
      "Val Loss: 0.1437 | Val Acc: 96.07%\n"
     ]
    },
    {
     "name": "stderr",
     "output_type": "stream",
     "text": [
      "Epoch [71/100] Training: 100%|██████████| 70/70 [00:21<00:00,  3.20it/s, accuracy=99.8, loss=0.00568] \n",
      "Epoch [71/100] Validation: 100%|██████████| 18/18 [00:02<00:00,  6.64it/s, accuracy=96.6, loss=0.128] \n"
     ]
    },
    {
     "name": "stdout",
     "output_type": "stream",
     "text": [
      "Epoch 71/100\n",
      "Train Loss: 0.0086 | Train Acc: 99.82%\n",
      "Val Loss: 0.1344 | Val Acc: 96.61%\n"
     ]
    },
    {
     "name": "stderr",
     "output_type": "stream",
     "text": [
      "Epoch [72/100] Training: 100%|██████████| 70/70 [00:21<00:00,  3.22it/s, accuracy=99.7, loss=0.00183] \n",
      "Epoch [72/100] Validation: 100%|██████████| 18/18 [00:02<00:00,  6.72it/s, accuracy=96.4, loss=0.196]  \n"
     ]
    },
    {
     "name": "stdout",
     "output_type": "stream",
     "text": [
      "Epoch 72/100\n",
      "Train Loss: 0.0117 | Train Acc: 99.73%\n",
      "Val Loss: 0.1401 | Val Acc: 96.43%\n"
     ]
    },
    {
     "name": "stderr",
     "output_type": "stream",
     "text": [
      "Epoch [73/100] Training: 100%|██████████| 70/70 [00:21<00:00,  3.22it/s, accuracy=99.7, loss=0.00737] \n",
      "Epoch [73/100] Validation: 100%|██████████| 18/18 [00:02<00:00,  6.61it/s, accuracy=96.2, loss=0.226] \n"
     ]
    },
    {
     "name": "stdout",
     "output_type": "stream",
     "text": [
      "Epoch 73/100\n",
      "Train Loss: 0.0114 | Train Acc: 99.73%\n",
      "Val Loss: 0.1390 | Val Acc: 96.25%\n"
     ]
    },
    {
     "name": "stderr",
     "output_type": "stream",
     "text": [
      "Epoch [74/100] Training: 100%|██████████| 70/70 [00:21<00:00,  3.21it/s, accuracy=99.8, loss=0.00837] \n",
      "Epoch [74/100] Validation: 100%|██████████| 18/18 [00:02<00:00,  6.65it/s, accuracy=96.1, loss=0.141] \n"
     ]
    },
    {
     "name": "stdout",
     "output_type": "stream",
     "text": [
      "Epoch 74/100\n",
      "Train Loss: 0.0106 | Train Acc: 99.78%\n",
      "Val Loss: 0.1412 | Val Acc: 96.07%\n"
     ]
    },
    {
     "name": "stderr",
     "output_type": "stream",
     "text": [
      "Epoch [75/100] Training: 100%|██████████| 70/70 [00:21<00:00,  3.22it/s, accuracy=99.8, loss=0.0213]  \n",
      "Epoch [75/100] Validation: 100%|██████████| 18/18 [00:02<00:00,  6.68it/s, accuracy=96.2, loss=0.0243]\n"
     ]
    },
    {
     "name": "stdout",
     "output_type": "stream",
     "text": [
      "Epoch 75/100\n",
      "Train Loss: 0.0095 | Train Acc: 99.78%\n",
      "Val Loss: 0.1394 | Val Acc: 96.25%\n"
     ]
    },
    {
     "name": "stderr",
     "output_type": "stream",
     "text": [
      "Epoch [76/100] Training: 100%|██████████| 70/70 [00:21<00:00,  3.22it/s, accuracy=99.7, loss=0.00377] \n",
      "Epoch [76/100] Validation: 100%|██████████| 18/18 [00:02<00:00,  6.66it/s, accuracy=96.6, loss=0.0202]\n"
     ]
    },
    {
     "name": "stdout",
     "output_type": "stream",
     "text": [
      "Epoch 76/100\n",
      "Train Loss: 0.0107 | Train Acc: 99.73%\n",
      "Val Loss: 0.1329 | Val Acc: 96.61%\n"
     ]
    },
    {
     "name": "stderr",
     "output_type": "stream",
     "text": [
      "Epoch [77/100] Training: 100%|██████████| 70/70 [00:21<00:00,  3.23it/s, accuracy=99.7, loss=0.0331] \n",
      "Epoch [77/100] Validation: 100%|██████████| 18/18 [00:02<00:00,  6.48it/s, accuracy=95.9, loss=0.0762]\n"
     ]
    },
    {
     "name": "stdout",
     "output_type": "stream",
     "text": [
      "Epoch 77/100\n",
      "Train Loss: 0.0096 | Train Acc: 99.73%\n",
      "Val Loss: 0.1300 | Val Acc: 95.89%\n"
     ]
    },
    {
     "name": "stderr",
     "output_type": "stream",
     "text": [
      "Epoch [78/100] Training: 100%|██████████| 70/70 [00:21<00:00,  3.22it/s, accuracy=99.8, loss=0.00329]\n",
      "Epoch [78/100] Validation: 100%|██████████| 18/18 [00:02<00:00,  6.52it/s, accuracy=96.2, loss=0.244] \n"
     ]
    },
    {
     "name": "stdout",
     "output_type": "stream",
     "text": [
      "Epoch 78/100\n",
      "Train Loss: 0.0095 | Train Acc: 99.82%\n",
      "Val Loss: 0.1584 | Val Acc: 96.25%\n"
     ]
    },
    {
     "name": "stderr",
     "output_type": "stream",
     "text": [
      "Epoch [79/100] Training: 100%|██████████| 70/70 [00:21<00:00,  3.21it/s, accuracy=99.8, loss=0.00146]\n",
      "Epoch [79/100] Validation: 100%|██████████| 18/18 [00:02<00:00,  6.65it/s, accuracy=95.9, loss=0.12]  \n"
     ]
    },
    {
     "name": "stdout",
     "output_type": "stream",
     "text": [
      "Epoch 79/100\n",
      "Train Loss: 0.0117 | Train Acc: 99.78%\n",
      "Val Loss: 0.1461 | Val Acc: 95.89%\n"
     ]
    },
    {
     "name": "stderr",
     "output_type": "stream",
     "text": [
      "Epoch [80/100] Training: 100%|██████████| 70/70 [00:21<00:00,  3.21it/s, accuracy=100, loss=0.00695] \n",
      "Epoch [80/100] Validation: 100%|██████████| 18/18 [00:02<00:00,  6.59it/s, accuracy=96.1, loss=0.0712]\n"
     ]
    },
    {
     "name": "stdout",
     "output_type": "stream",
     "text": [
      "Epoch 80/100\n",
      "Train Loss: 0.0061 | Train Acc: 99.96%\n",
      "Val Loss: 0.1424 | Val Acc: 96.07%\n"
     ]
    },
    {
     "name": "stderr",
     "output_type": "stream",
     "text": [
      "Epoch [81/100] Training: 100%|██████████| 70/70 [00:21<00:00,  3.22it/s, accuracy=99.5, loss=0.0273]  \n",
      "Epoch [81/100] Validation: 100%|██████████| 18/18 [00:02<00:00,  6.54it/s, accuracy=96.8, loss=0.0775] \n"
     ]
    },
    {
     "name": "stdout",
     "output_type": "stream",
     "text": [
      "Epoch 81/100\n",
      "Train Loss: 0.0140 | Train Acc: 99.46%\n",
      "Val Loss: 0.1263 | Val Acc: 96.79%\n"
     ]
    },
    {
     "name": "stderr",
     "output_type": "stream",
     "text": [
      "Epoch [82/100] Training: 100%|██████████| 70/70 [00:21<00:00,  3.18it/s, accuracy=99.9, loss=0.00236] \n",
      "Epoch [82/100] Validation: 100%|██████████| 18/18 [00:02<00:00,  6.58it/s, accuracy=96.1, loss=0.169]  \n"
     ]
    },
    {
     "name": "stdout",
     "output_type": "stream",
     "text": [
      "Epoch 82/100\n",
      "Train Loss: 0.0079 | Train Acc: 99.87%\n",
      "Val Loss: 0.1516 | Val Acc: 96.07%\n"
     ]
    },
    {
     "name": "stderr",
     "output_type": "stream",
     "text": [
      "Epoch [83/100] Training: 100%|██████████| 70/70 [00:22<00:00,  3.18it/s, accuracy=100, loss=0.00209] \n",
      "Epoch [83/100] Validation: 100%|██████████| 18/18 [00:02<00:00,  6.50it/s, accuracy=97, loss=0.0871]  \n"
     ]
    },
    {
     "name": "stdout",
     "output_type": "stream",
     "text": [
      "Epoch 83/100\n",
      "Train Loss: 0.0081 | Train Acc: 99.96%\n",
      "Val Loss: 0.1360 | Val Acc: 96.96%\n"
     ]
    },
    {
     "name": "stderr",
     "output_type": "stream",
     "text": [
      "Epoch [84/100] Training: 100%|██████████| 70/70 [00:21<00:00,  3.21it/s, accuracy=99.9, loss=0.00551]\n",
      "Epoch [84/100] Validation: 100%|██████████| 18/18 [00:02<00:00,  6.58it/s, accuracy=96.6, loss=0.157] \n"
     ]
    },
    {
     "name": "stdout",
     "output_type": "stream",
     "text": [
      "Epoch 84/100\n",
      "Train Loss: 0.0078 | Train Acc: 99.91%\n",
      "Val Loss: 0.1434 | Val Acc: 96.61%\n"
     ]
    },
    {
     "name": "stderr",
     "output_type": "stream",
     "text": [
      "Epoch [85/100] Training: 100%|██████████| 70/70 [00:21<00:00,  3.21it/s, accuracy=99.9, loss=0.00348] \n",
      "Epoch [85/100] Validation: 100%|██████████| 18/18 [00:02<00:00,  6.54it/s, accuracy=97, loss=0.168]   \n"
     ]
    },
    {
     "name": "stdout",
     "output_type": "stream",
     "text": [
      "Epoch 85/100\n",
      "Train Loss: 0.0083 | Train Acc: 99.87%\n",
      "Val Loss: 0.1371 | Val Acc: 96.96%\n"
     ]
    },
    {
     "name": "stderr",
     "output_type": "stream",
     "text": [
      "Epoch [86/100] Training: 100%|██████████| 70/70 [00:22<00:00,  3.18it/s, accuracy=99.9, loss=0.00518] \n",
      "Epoch [86/100] Validation: 100%|██████████| 18/18 [00:02<00:00,  6.50it/s, accuracy=96.4, loss=0.0443] \n"
     ]
    },
    {
     "name": "stdout",
     "output_type": "stream",
     "text": [
      "Epoch 86/100\n",
      "Train Loss: 0.0086 | Train Acc: 99.87%\n",
      "Val Loss: 0.1385 | Val Acc: 96.43%\n"
     ]
    },
    {
     "name": "stderr",
     "output_type": "stream",
     "text": [
      "Epoch [87/100] Training: 100%|██████████| 70/70 [00:21<00:00,  3.20it/s, accuracy=99.9, loss=0.00158]\n",
      "Epoch [87/100] Validation: 100%|██████████| 18/18 [00:02<00:00,  6.58it/s, accuracy=96.1, loss=0.238] \n"
     ]
    },
    {
     "name": "stdout",
     "output_type": "stream",
     "text": [
      "Epoch 87/100\n",
      "Train Loss: 0.0086 | Train Acc: 99.87%\n",
      "Val Loss: 0.1499 | Val Acc: 96.07%\n"
     ]
    },
    {
     "name": "stderr",
     "output_type": "stream",
     "text": [
      "Epoch [88/100] Training: 100%|██████████| 70/70 [00:21<00:00,  3.19it/s, accuracy=99.8, loss=0.00209]\n",
      "Epoch [88/100] Validation: 100%|██████████| 18/18 [00:02<00:00,  6.52it/s, accuracy=96.4, loss=0.123]  \n"
     ]
    },
    {
     "name": "stdout",
     "output_type": "stream",
     "text": [
      "Epoch 88/100\n",
      "Train Loss: 0.0114 | Train Acc: 99.82%\n",
      "Val Loss: 0.1519 | Val Acc: 96.43%\n"
     ]
    },
    {
     "name": "stderr",
     "output_type": "stream",
     "text": [
      "Epoch [89/100] Training: 100%|██████████| 70/70 [00:21<00:00,  3.21it/s, accuracy=99.9, loss=0.00243] \n",
      "Epoch [89/100] Validation: 100%|██████████| 18/18 [00:02<00:00,  6.60it/s, accuracy=96.6, loss=0.175] \n"
     ]
    },
    {
     "name": "stdout",
     "output_type": "stream",
     "text": [
      "Epoch 89/100\n",
      "Train Loss: 0.0082 | Train Acc: 99.87%\n",
      "Val Loss: 0.1447 | Val Acc: 96.61%\n"
     ]
    },
    {
     "name": "stderr",
     "output_type": "stream",
     "text": [
      "Epoch [90/100] Training: 100%|██████████| 70/70 [00:21<00:00,  3.23it/s, accuracy=100, loss=0.00553]  \n",
      "Epoch [90/100] Validation: 100%|██████████| 18/18 [00:02<00:00,  6.63it/s, accuracy=95.7, loss=0.0862]\n"
     ]
    },
    {
     "name": "stdout",
     "output_type": "stream",
     "text": [
      "Epoch 90/100\n",
      "Train Loss: 0.0075 | Train Acc: 99.96%\n",
      "Val Loss: 0.1359 | Val Acc: 95.71%\n"
     ]
    },
    {
     "name": "stderr",
     "output_type": "stream",
     "text": [
      "Epoch [91/100] Training: 100%|██████████| 70/70 [00:21<00:00,  3.22it/s, accuracy=99.8, loss=0.0087]  \n",
      "Epoch [91/100] Validation: 100%|██████████| 18/18 [00:02<00:00,  6.62it/s, accuracy=97.1, loss=0.199] \n"
     ]
    },
    {
     "name": "stdout",
     "output_type": "stream",
     "text": [
      "Epoch 91/100\n",
      "Train Loss: 0.0095 | Train Acc: 99.78%\n",
      "Val Loss: 0.1359 | Val Acc: 97.14%\n"
     ]
    },
    {
     "name": "stderr",
     "output_type": "stream",
     "text": [
      "Epoch [92/100] Training: 100%|██████████| 70/70 [00:21<00:00,  3.21it/s, accuracy=100, loss=0.0047]  \n",
      "Epoch [92/100] Validation: 100%|██████████| 18/18 [00:02<00:00,  6.49it/s, accuracy=96.1, loss=0.278] \n"
     ]
    },
    {
     "name": "stdout",
     "output_type": "stream",
     "text": [
      "Epoch 92/100\n",
      "Train Loss: 0.0075 | Train Acc: 99.96%\n",
      "Val Loss: 0.1500 | Val Acc: 96.07%\n"
     ]
    },
    {
     "name": "stderr",
     "output_type": "stream",
     "text": [
      "Epoch [93/100] Training: 100%|██████████| 70/70 [00:21<00:00,  3.22it/s, accuracy=99.9, loss=0.00197] \n",
      "Epoch [93/100] Validation: 100%|██████████| 18/18 [00:02<00:00,  6.52it/s, accuracy=96.1, loss=0.174] \n"
     ]
    },
    {
     "name": "stdout",
     "output_type": "stream",
     "text": [
      "Epoch 93/100\n",
      "Train Loss: 0.0095 | Train Acc: 99.87%\n",
      "Val Loss: 0.1443 | Val Acc: 96.07%\n"
     ]
    },
    {
     "name": "stderr",
     "output_type": "stream",
     "text": [
      "Epoch [94/100] Training: 100%|██████████| 70/70 [00:21<00:00,  3.21it/s, accuracy=100, loss=0.00344] \n",
      "Epoch [94/100] Validation: 100%|██████████| 18/18 [00:02<00:00,  6.67it/s, accuracy=97, loss=0.188]    \n"
     ]
    },
    {
     "name": "stdout",
     "output_type": "stream",
     "text": [
      "Epoch 94/100\n",
      "Train Loss: 0.0080 | Train Acc: 100.00%\n",
      "Val Loss: 0.1614 | Val Acc: 96.96%\n"
     ]
    },
    {
     "name": "stderr",
     "output_type": "stream",
     "text": [
      "Epoch [95/100] Training: 100%|██████████| 70/70 [00:21<00:00,  3.22it/s, accuracy=99.9, loss=0.00964]\n",
      "Epoch [95/100] Validation: 100%|██████████| 18/18 [00:02<00:00,  6.61it/s, accuracy=95.5, loss=0.212] \n"
     ]
    },
    {
     "name": "stdout",
     "output_type": "stream",
     "text": [
      "Epoch 95/100\n",
      "Train Loss: 0.0093 | Train Acc: 99.87%\n",
      "Val Loss: 0.1484 | Val Acc: 95.54%\n"
     ]
    },
    {
     "name": "stderr",
     "output_type": "stream",
     "text": [
      "Epoch [96/100] Training: 100%|██████████| 70/70 [00:21<00:00,  3.20it/s, accuracy=99.8, loss=0.0027]  \n",
      "Epoch [96/100] Validation: 100%|██████████| 18/18 [00:02<00:00,  6.49it/s, accuracy=96.6, loss=0.268] \n"
     ]
    },
    {
     "name": "stdout",
     "output_type": "stream",
     "text": [
      "Epoch 96/100\n",
      "Train Loss: 0.0082 | Train Acc: 99.78%\n",
      "Val Loss: 0.1511 | Val Acc: 96.61%\n"
     ]
    },
    {
     "name": "stderr",
     "output_type": "stream",
     "text": [
      "Epoch [97/100] Training: 100%|██████████| 70/70 [00:21<00:00,  3.21it/s, accuracy=99.9, loss=0.00133]\n",
      "Epoch [97/100] Validation: 100%|██████████| 18/18 [00:02<00:00,  6.51it/s, accuracy=96.1, loss=0.262] \n"
     ]
    },
    {
     "name": "stdout",
     "output_type": "stream",
     "text": [
      "Epoch 97/100\n",
      "Train Loss: 0.0094 | Train Acc: 99.87%\n",
      "Val Loss: 0.1601 | Val Acc: 96.07%\n"
     ]
    },
    {
     "name": "stderr",
     "output_type": "stream",
     "text": [
      "Epoch [98/100] Training: 100%|██████████| 70/70 [00:21<00:00,  3.19it/s, accuracy=99.8, loss=0.0114]  \n",
      "Epoch [98/100] Validation: 100%|██████████| 18/18 [00:02<00:00,  6.55it/s, accuracy=97.3, loss=0.211] \n"
     ]
    },
    {
     "name": "stdout",
     "output_type": "stream",
     "text": [
      "Epoch 98/100\n",
      "Train Loss: 0.0099 | Train Acc: 99.82%\n",
      "Val Loss: 0.1428 | Val Acc: 97.32%\n"
     ]
    },
    {
     "name": "stderr",
     "output_type": "stream",
     "text": [
      "Epoch [99/100] Training: 100%|██████████| 70/70 [00:21<00:00,  3.22it/s, accuracy=99.8, loss=0.00368] \n",
      "Epoch [99/100] Validation: 100%|██████████| 18/18 [00:02<00:00,  6.54it/s, accuracy=96.1, loss=0.214] \n"
     ]
    },
    {
     "name": "stdout",
     "output_type": "stream",
     "text": [
      "Epoch 99/100\n",
      "Train Loss: 0.0101 | Train Acc: 99.82%\n",
      "Val Loss: 0.1383 | Val Acc: 96.07%\n"
     ]
    },
    {
     "name": "stderr",
     "output_type": "stream",
     "text": [
      "Epoch [100/100] Training: 100%|██████████| 70/70 [00:21<00:00,  3.21it/s, accuracy=99.8, loss=0.00326] \n",
      "Epoch [100/100] Validation: 100%|██████████| 18/18 [00:02<00:00,  6.53it/s, accuracy=96.4, loss=0.179] "
     ]
    },
    {
     "name": "stdout",
     "output_type": "stream",
     "text": [
      "Epoch 100/100\n",
      "Train Loss: 0.0108 | Train Acc: 99.82%\n",
      "Val Loss: 0.1539 | Val Acc: 96.43%\n"
     ]
    },
    {
     "name": "stderr",
     "output_type": "stream",
     "text": [
      "\n"
     ]
    }
   ],
   "source": [
    "# Training setup\n",
    "criterion = nn.CrossEntropyLoss()\n",
    "optimizer = optim.AdamW(model.parameters(), lr=1e-4, weight_decay=1e-4)\n",
    "scheduler = optim.lr_scheduler.ReduceLROnPlateau(optimizer, mode='min', patience=3, verbose=True)\n",
    "\n",
    "# Lists to store loss and accuracy for plotting\n",
    "train_losses, val_losses = [], []\n",
    "train_accuracies, val_accuracies = [], []\n",
    "\n",
    "# Training loop\n",
    "num_epochs = 100\n",
    "csv_filename = \"resnet_training_metrics.csv\"\n",
    "metrics_df = pd.DataFrame(columns=[\"Epoch\", \"Train Loss\", \"Train Accuracy\", \"Val Loss\", \"Val Accuracy\"])\n",
    "metrics_df.to_csv(csv_filename, index=False)\n",
    "\n",
    "for epoch in range(num_epochs):\n",
    "    # Training phase\n",
    "    model.train()\n",
    "    running_loss = 0.0\n",
    "    correct, total = 0, 0\n",
    "    \n",
    "    train_loop = tqdm(train_loader, desc=f\"Epoch [{epoch+1}/{num_epochs}] Training\")\n",
    "    for images, labels in train_loop:\n",
    "        images, labels = images.to(device), labels.to(device)\n",
    "        \n",
    "        optimizer.zero_grad()\n",
    "        outputs = model(images)\n",
    "        loss = criterion(outputs, labels)\n",
    "        loss.backward()\n",
    "        optimizer.step()\n",
    "        \n",
    "        _, predicted = torch.max(outputs.data, 1)\n",
    "        total += labels.size(0)\n",
    "        correct += (predicted == labels).sum().item()\n",
    "        running_loss += loss.item()\n",
    "        \n",
    "        train_loop.set_postfix(loss=loss.item(), accuracy=100 * correct / total)\n",
    "    \n",
    "    train_loss = running_loss / len(train_loader)\n",
    "    train_acc = 100 * correct / total\n",
    "    train_losses.append(train_loss)  # Store for plotting\n",
    "    train_accuracies.append(train_acc)  # Store for plotting\n",
    "\n",
    "    # Validation phase\n",
    "    model.eval()\n",
    "    val_running_loss = 0.0\n",
    "    correct, total = 0, 0\n",
    "    \n",
    "    val_loop = tqdm(val_loader, desc=f\"Epoch [{epoch+1}/{num_epochs}] Validation\")\n",
    "    with torch.no_grad():\n",
    "        for images, labels in val_loop:\n",
    "            images, labels = images.to(device), labels.to(device)\n",
    "            outputs = model(images)\n",
    "            loss = criterion(outputs, labels)\n",
    "            \n",
    "            val_running_loss += loss.item()\n",
    "            _, predicted = torch.max(outputs.data, 1)\n",
    "            total += labels.size(0)\n",
    "            correct += (predicted == labels).sum().item()\n",
    "            \n",
    "            val_loop.set_postfix(loss=loss.item(), accuracy=100 * correct / total)\n",
    "    \n",
    "    val_loss = val_running_loss / len(val_loader)\n",
    "    val_acc = 100 * correct / total\n",
    "    val_losses.append(val_loss)  # Store for plotting\n",
    "    val_accuracies.append(val_acc)  # Store for plotting\n",
    "\n",
    "    scheduler.step(val_loss)\n",
    "    \n",
    "    # Save metrics\n",
    "    epoch_df = pd.DataFrame([[epoch+1, train_loss, train_acc, val_loss, val_acc]],\n",
    "                           columns=[\"Epoch\", \"Train Loss\", \"Train Accuracy\", \"Val Loss\", \"Val Accuracy\"])\n",
    "    epoch_df.to_csv(csv_filename, mode='a', header=False, index=False)\n",
    "    \n",
    "    print(f\"Epoch {epoch+1}/{num_epochs}\")\n",
    "    print(f\"Train Loss: {train_loss:.4f} | Train Acc: {train_acc:.2f}%\")\n",
    "    print(f\"Val Loss: {val_loss:.4f} | Val Acc: {val_acc:.2f}%\")\n"
   ]
  },
  {
   "cell_type": "code",
   "execution_count": 7,
   "metadata": {},
   "outputs": [
    {
     "name": "stdout",
     "output_type": "stream",
     "text": [
      "Model saved successfully!\n"
     ]
    }
   ],
   "source": [
    "# Save the model's state dictionary\n",
    "torch.save(model.state_dict(), \"messier-resnet50.pth\")\n",
    "\n",
    "print(\"Model saved successfully!\")"
   ]
  },
  {
   "cell_type": "code",
   "execution_count": 8,
   "metadata": {},
   "outputs": [
    {
     "data": {
      "image/png": "[encoded data removed]",
      "text/plain": [
       "<Figure size 1000x500 with 1 Axes>"
      ]
     },
     "metadata": {},
     "output_type": "display_data"
    },
    {
     "data": {
      "image/png": "[encoded data removed]",
      "text/plain": [
       "<Figure size 1000x500 with 1 Axes>"
      ]
     },
     "metadata": {},
     "output_type": "display_data"
    }
   ],
   "source": [
    "import matplotlib.pyplot as plt\n",
    "\n",
    "# Plot training and validation loss\n",
    "plt.figure(figsize=(10, 5))\n",
    "plt.plot(train_losses, label='Training Loss')\n",
    "plt.plot(val_losses, label='Validation Loss')\n",
    "plt.xlabel('Epoch')\n",
    "plt.ylabel('Loss')\n",
    "plt.legend()\n",
    "plt.title('Loss Curves')\n",
    "plt.show()\n",
    "\n",
    "# Plot training and validation accuracy\n",
    "plt.figure(figsize=(10, 5))\n",
    "plt.plot(train_accuracies, label='Training Accuracy')\n",
    "plt.plot(val_accuracies, label='Validation Accuracy')\n",
    "plt.xlabel('Epoch')\n",
    "plt.ylabel('Accuracy')\n",
    "plt.legend()\n",
    "plt.title('Accuracy Curves')\n",
    "plt.show()"
   ]
  },
  {
   "cell_type": "code",
   "execution_count": 9,
   "metadata": {},
   "outputs": [
    {
     "name": "stderr",
     "output_type": "stream",
     "text": [
      "Testing ResNet: 100%|█████████████████████| 18/18 [00:03<00:00,  5.33it/s, accuracy=96.4, loss=0.14]"
     ]
    },
    {
     "name": "stdout",
     "output_type": "stream",
     "text": [
      "Test Loss: 0.1400, Test Accuracy: 96.43%\n"
     ]
    },
    {
     "name": "stderr",
     "output_type": "stream",
     "text": [
      "\n"
     ]
    }
   ],
   "source": [
    "# Ensure the model is in evaluation mode\n",
    "model.eval()\n",
    "\n",
    "# Initialize variables to track test loss and accuracy\n",
    "test_loss = 0.0\n",
    "correct = 0\n",
    "total = 0\n",
    "\n",
    "# Disable gradient computation for testing\n",
    "with torch.no_grad():\n",
    "    # Wrap test_loader with tqdm for a progress bar\n",
    "    test_loop = tqdm(val_loader, desc=\"Testing ResNet\", ncols=100)\n",
    "    for images, labels in test_loop:\n",
    "        images, labels = images.to(device), labels.to(device)\n",
    "\n",
    "        # Forward pass through the ResNet model\n",
    "        outputs = model(images)  # This will return logits directly for ResNet\n",
    "        \n",
    "        # Access the logits from the model's output object (ResNet outputs logits)\n",
    "        logits = outputs  # For ResNet, we can directly use the output as logits\n",
    "\n",
    "        # Compute loss\n",
    "        loss = criterion(logits, labels)\n",
    "\n",
    "        # Accumulate loss\n",
    "        test_loss += loss.item() * images.size(0)  # Scale loss by batch size\n",
    "\n",
    "        # Compute accuracy\n",
    "        _, predicted = torch.max(logits.detach(), 1)  # Use .detach() instead of .data\n",
    "        total += labels.size(0)\n",
    "        correct += (predicted == labels).sum().item()\n",
    "\n",
    "        # Update the progress bar with loss and accuracy\n",
    "        test_loop.set_postfix(loss=test_loss / total, accuracy=(correct / total) * 100)\n",
    "\n",
    "# Compute final test loss and accuracy\n",
    "test_loss /= total  # Normalize loss properly\n",
    "test_accuracy = 100 * correct / total\n",
    "\n",
    "# Print the results\n",
    "print(f\"Test Loss: {test_loss:.4f}, Test Accuracy: {test_accuracy:.2f}%\")\n",
    "\n"
   ]
  },
  {
   "cell_type": "code",
   "execution_count": 10,
   "metadata": {},
   "outputs": [
    {
     "data": {
      "image/png": "[encoded data removed]",
      "text/plain": [
       "<Figure size 1000x500 with 1 Axes>"
      ]
     },
     "metadata": {},
     "output_type": "display_data"
    },
    {
     "data": {
      "image/png": "[encoded data removed]",
      "text/plain": [
       "<Figure size 1000x500 with 1 Axes>"
      ]
     },
     "metadata": {},
     "output_type": "display_data"
    }
   ],
   "source": [
    "import matplotlib.pyplot as plt\n",
    "\n",
    "# Plot training, validation, and test loss\n",
    "plt.figure(figsize=(10, 5))\n",
    "plt.plot(train_losses, label='Training Loss')\n",
    "plt.plot(val_losses, label='Validation Loss')\n",
    "plt.axhline(y=test_loss, color='r', linestyle='--', label='Test Loss')  # Add test loss as a horizontal line\n",
    "plt.xlabel('Epoch')\n",
    "plt.ylabel('Loss')\n",
    "plt.legend()\n",
    "plt.title('Loss Curves')\n",
    "plt.show()\n",
    "\n",
    "# Plot training, validation, and test accuracy\n",
    "plt.figure(figsize=(10, 5))\n",
    "plt.plot(train_accuracies, label='Training Accuracy')\n",
    "plt.plot(val_accuracies, label='Validation Accuracy')\n",
    "plt.axhline(y=test_accuracy, color='r', linestyle='--', label='Test Accuracy')  # Add test accuracy as a horizontal line\n",
    "plt.xlabel('Epoch')\n",
    "plt.ylabel('Accuracy')\n",
    "plt.legend()\n",
    "plt.title('Accuracy Curves')\n",
    "plt.show()"
   ]
  },
  {
   "cell_type": "code",
   "execution_count": 11,
   "metadata": {},
   "outputs": [
    {
     "data": {
      "image/png": "[encoded data removed]",
      "text/plain": [
       "<Figure size 1000x800 with 2 Axes>"
      ]
     },
     "metadata": {},
     "output_type": "display_data"
    }
   ],
   "source": [
    "import numpy as np\n",
    "import matplotlib.pyplot as plt\n",
    "from sklearn.metrics import confusion_matrix\n",
    "import seaborn as sns\n",
    "import torch\n",
    "\n",
    "# Ensure the model is in evaluation mode\n",
    "model.eval()\n",
    "\n",
    "# Initialize lists to store predictions and labels\n",
    "all_preds = []\n",
    "all_labels = []\n",
    "\n",
    "# Disable gradient computation for evaluation\n",
    "with torch.no_grad():\n",
    "    for images, labels in val_loader:  # Use test_loader for unseen data\n",
    "        images, labels = images.to(device), labels.to(device)\n",
    "\n",
    "        # Forward pass through the ResNet model\n",
    "        outputs = model(images)  # ResNet directly outputs logits\n",
    "        \n",
    "        # Extract logits\n",
    "        logits = outputs\n",
    "\n",
    "        # Get predicted class\n",
    "        _, preds = torch.max(logits, 1)\n",
    "\n",
    "        # Store predictions and labels\n",
    "        all_preds.extend(preds.cpu().numpy())\n",
    "        all_labels.extend(labels.cpu().numpy())\n",
    "\n",
    "# Compute the confusion matrix\n",
    "cm = confusion_matrix(all_labels, all_preds)\n",
    "\n",
    "# Plot the confusion matrix\n",
    "plt.figure(figsize=(10, 8))\n",
    "sns.heatmap(cm, annot=True, fmt='d', cmap='Blues', xticklabels=dataset.classes, yticklabels=dataset.classes)\n",
    "plt.xlabel('Predicted Labels')\n",
    "plt.ylabel('True Labels')\n",
    "plt.title('Confusion Matrix for ResNet on Test Data')\n",
    "plt.show()\n",
    "\n"
   ]
  },
  {
   "cell_type": "code",
   "execution_count": 12,
   "metadata": {},
   "outputs": [
    {
     "data": {
      "image/png": "[encoded data removed]",
      "text/plain": [
       "<Figure size 1000x800 with 2 Axes>"
      ]
     },
     "metadata": {},
     "output_type": "display_data"
    }
   ],
   "source": [
    "import numpy as np\n",
    "import matplotlib.pyplot as plt\n",
    "from sklearn.metrics import confusion_matrix\n",
    "import seaborn as sns\n",
    "import torch\n",
    "\n",
    "# Ensure the model is in evaluation mode\n",
    "model.eval()\n",
    "\n",
    "# Initialize lists to store predictions and labels for test data\n",
    "all_preds_test = []\n",
    "all_labels_test = []\n",
    "\n",
    "# Disable gradient computation for test set evaluation\n",
    "with torch.no_grad():\n",
    "    for images, labels in val_loader:  # Use test_loader\n",
    "        images, labels = images.to(device), labels.to(device)\n",
    "\n",
    "        # Forward pass through the ResNet model\n",
    "        outputs = model(images)  # ResNet returns logits directly\n",
    "        \n",
    "        # Extract logits from the model's output object (ResNet's output is already logits)\n",
    "        logits = outputs\n",
    "\n",
    "        # Get predicted class\n",
    "        _, preds = torch.max(logits, 1)\n",
    "\n",
    "        # Store predictions and labels\n",
    "        all_preds_test.extend(preds.cpu().numpy())\n",
    "        all_labels_test.extend(labels.cpu().numpy())\n",
    "\n",
    "# Compute the confusion matrix for test data\n",
    "cm_test = confusion_matrix(all_labels_test, all_preds_test)\n",
    "\n",
    "# Check if test_dataset has class names\n",
    "\n",
    "\n",
    "# Plot the confusion matrix for test data\n",
    "plt.figure(figsize=(10, 8))\n",
    "sns.heatmap(cm_test, annot=True, fmt='d', cmap='Blues',  xticklabels=dataset.classes, yticklabels=dataset.classes)\n",
    "plt.xlabel('Predicted Labels')\n",
    "plt.ylabel('True Labels')\n",
    "plt.title('Confusion Matrix (Test Set)')\n",
    "plt.show()\n",
    "\n"
   ]
  },
  {
   "cell_type": "code",
   "execution_count": 27,
   "metadata": {},
   "outputs": [
    {
     "name": "stdout",
     "output_type": "stream",
     "text": [
      "Training F1 Score: 0.951\n",
      "Training Precision: 0.9544\n",
      "Training Recall: 0.9486\n"
     ]
    }
   ],
   "source": [
    "from sklearn.metrics import f1_score, precision_score, recall_score\n",
    "\n",
    "# Ensure the model is in evaluation mode\n",
    "model.eval()\n",
    "\n",
    "# Initialize lists to store predictions and labels for training data\n",
    "all_preds_train = []\n",
    "all_labels_train = []\n",
    "\n",
    "# Disable gradient computation for training set evaluation\n",
    "with torch.no_grad():\n",
    "    for images, labels in train_loader:  # Use train_loader\n",
    "        images, labels = images.to(device), labels.to(device)\n",
    "\n",
    "        # Forward pass through the ResNet model\n",
    "        outputs = model(images)  # ResNet returns logits directly\n",
    "        \n",
    "        # Extract logits (For ResNet, logits are directly the output)\n",
    "        logits = outputs  # No need to use .logits as with transformers\n",
    "\n",
    "        # Get predicted class\n",
    "        _, preds = torch.max(logits, 1)\n",
    "\n",
    "        # Store predictions and labels\n",
    "        all_preds_train.extend(preds.cpu().numpy())\n",
    "        all_labels_train.extend(labels.cpu().numpy())\n",
    "\n",
    "# Compute F1-score, precision, and recall for training set\n",
    "f1_train = f1_score(all_labels_train, all_preds_train, average='weighted')  # Use 'macro' for equal class weighting\n",
    "precision_train = precision_score(all_labels_train, all_preds_train, average='weighted')\n",
    "recall_train = recall_score(all_labels_train, all_preds_train, average='weighted')\n",
    "\n",
    "# Print the results\n",
    "print(f\"Training F1 Score: {f1_train:.3f}\")\n",
    "print(f\"Training Precision: {precision_train:.4f}\")\n",
    "print(f\"Training Recall: {recall_train:.4f}\")\n",
    "\n"
   ]
  },
  {
   "cell_type": "code",
   "execution_count": null,
   "metadata": {},
   "outputs": [
    {
     "name": "stdout",
     "output_type": "stream",
     "text": [
      "Test F1 Score: 0.4674\n",
      "Test Precision: 0.5061\n",
      "Test Recall: 0.5085\n"
     ]
    },
    {
     "name": "stderr",
     "output_type": "stream",
     "text": [
      "C:\\Users\\Amir\\AppData\\Roaming\\Python\\Python39\\site-packages\\sklearn\\metrics\\_classification.py:1531: UndefinedMetricWarning: Precision is ill-defined and being set to 0.0 in labels with no predicted samples. Use `zero_division` parameter to control this behavior.\n",
      "  _warn_prf(average, modifier, f\"{metric.capitalize()} is\", len(result))\n"
     ]
    }
   ],
   "source": [
    "from sklearn.metrics import f1_score, precision_score, recall_score\n",
    "\n",
    "# Ensure the model is in evaluation mode\n",
    "model.eval()\n",
    "\n",
    "# Initialize lists to store predictions and labels for test data\n",
    "all_preds_test = []\n",
    "all_labels_test = []\n",
    "\n",
    "# Disable gradient computation for test set evaluation\n",
    "with torch.no_grad():\n",
    "    for images, labels in val_loader:  # Use test_loader for evaluation\n",
    "        images, labels = images.to(device), labels.to(device)\n",
    "\n",
    "        # Forward pass through the ResNet model\n",
    "        outputs = model(images)  # ResNet directly returns logits\n",
    "        \n",
    "        # Extract logits (for ResNet, we can directly use the output as logits)\n",
    "        logits = outputs\n",
    "\n",
    "        # Get predicted class\n",
    "        _, preds = torch.max(logits, 1)\n",
    "\n",
    "        # Store predictions and labels\n",
    "        all_preds_test.extend(preds.cpu().numpy())\n",
    "        all_labels_test.extend(labels.cpu().numpy())\n",
    "\n",
    "# Compute F1-score, precision, and recall for the test set\n",
    "f1_test = f1_score(all_labels_test, all_preds_test, average='weighted')  # Use 'macro' if you prefer equal class weighting\n",
    "precision_test = precision_score(all_labels_test, all_preds_test, average='weighted')\n",
    "recall_test = recall_score(all_labels_test, all_preds_test, average='weighted')\n",
    "\n",
    "# Print the results\n",
    "print(f\"Test F1 Score: {f1_test:.4f}\")\n",
    "print(f\"Test Precision: {precision_test:.4f}\")\n",
    "print(f\"Test Recall: {recall_test:.4f}\")\n"
   ]
  }
 ],
 "metadata": {
  "kernelspec": {
   "display_name": "base",
   "language": "python",
   "name": "python3"
  },
  "language_info": {
   "codemirror_mode": {
    "name": "ipython",
    "version": 3
   },
   "file_extension": ".py",
   "mimetype": "text/x-python",
   "name": "python",
   "nbconvert_exporter": "python",
   "pygments_lexer": "ipython3",
   "version": "3.9.13"
  }
 },
 "nbformat": 4,
 "nbformat_minor": 2
}
