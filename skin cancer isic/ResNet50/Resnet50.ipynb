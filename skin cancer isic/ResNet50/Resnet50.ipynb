{
 "cells": [
  {
   "cell_type": "code",
   "execution_count": 1,
   "metadata": {},
   "outputs": [],
   "source": [
    "import torch\n",
    "import torch.nn as nn\n",
    "import torch.optim as optim\n",
    "from torch.utils.data import DataLoader\n",
    "from torchvision import datasets\n",
    "from transformers import ViTForImageClassification, ViTFeatureExtractor\n",
    "from tqdm import tqdm\n",
    "import pandas as pd\n",
    "import os\n",
    "from datasets import DatasetDict, Dataset\n",
    "from transformers import AutoImageProcessor\n",
    "from sklearn.model_selection import train_test_split\n",
    "from torch.utils.data import DataLoader, random_split\n",
    "from torchvision import datasets, transforms\n",
    "from transformers import SwinForImageClassification, AutoImageProcessor  # Updated import\n",
    "\n",
    "from torch.utils.data import DataLoader, random_split\n",
    "from torchvision import datasets, transforms\n",
    "from tqdm import tqdm\n",
    "import pandas as pd\n",
    "import os"
   ]
  },
  {
   "cell_type": "code",
   "execution_count": 2,
   "metadata": {},
   "outputs": [],
   "source": [
    "# Define the paths to your training and testing datasets\n",
    "train_data_dir = \"C:/Users/Amir/Desktop/skin cancer paper/skin cancer isic/Skin Cancer ISIC/Skin cancer ISIC The International Skin Imaging Collaboration/train\"  # Replace with the path to your training dataset\n",
    "test_data_dir = \"C:/Users/Amir/Desktop/skin cancer paper/skin cancer isic/Skin Cancer ISIC/Skin cancer ISIC The International Skin Imaging Collaboration/test\"  # Replace with the path to your testing dataset"
   ]
  },
  {
   "cell_type": "code",
   "execution_count": 3,
   "metadata": {},
   "outputs": [
    {
     "name": "stdout",
     "output_type": "stream",
     "text": [
      "Number of classes: 9\n",
      "Train size: 1791\n",
      "Val size: 448\n",
      "Test size: 118\n"
     ]
    }
   ],
   "source": [
    "# Corrected imports\n",
    "import torch\n",
    "import torchvision.transforms as transforms\n",
    "from torchvision import datasets\n",
    "from torch.utils.data import DataLoader, random_split\n",
    "from transformers import SwinForImageClassification, AutoImageProcessor\n",
    "\n",
    "# Modified Augmentations for ResNet\n",
    "resnet_transform = transforms.Compose([\n",
    "    transforms.RandomHorizontalFlip(),\n",
    "    transforms.RandomRotation(10),\n",
    "    transforms.Resize(256),\n",
    "    transforms.CenterCrop(224),\n",
    "    transforms.ToTensor(),\n",
    "    transforms.Normalize(mean=[0.485, 0.456, 0.406], std=[0.229, 0.224, 0.225])\n",
    "])\n",
    "\n",
    "\n",
    "\n",
    "\n",
    "# ImageFolder applies `transform` to each image\n",
    "train_dataset = datasets.ImageFolder(train_data_dir, transform=resnet_transform)\n",
    "test_dataset = datasets.ImageFolder(test_data_dir, transform=resnet_transform)\n",
    "\n",
    "# Split training data into train and validation sets\n",
    "train_size = int(0.8 * len(train_dataset))\n",
    "val_size = len(train_dataset) - train_size\n",
    "train_subset, val_subset = random_split(train_dataset, [train_size, val_size])\n",
    "\n",
    "# Create DataLoaders\n",
    "train_loader = DataLoader(train_subset, batch_size=32, shuffle=True, num_workers=4)\n",
    "val_loader = DataLoader(val_subset, batch_size=32, shuffle=False, num_workers=4)\n",
    "test_loader = DataLoader(test_dataset, batch_size=32, shuffle=False, num_workers=4)\n",
    "\n",
    "# Check classes (ensure consistency)\n",
    "num_classes = len(train_dataset.classes)\n",
    "print(f\"Number of classes: {num_classes}\")\n",
    "\n",
    "# Print dataset sizes\n",
    "print(f\"Train size: {len(train_subset)}\")\n",
    "print(f\"Val size: {len(val_subset)}\")\n",
    "print(f\"Test size: {len(test_dataset)}\")\n"
   ]
  },
  {
   "cell_type": "code",
   "execution_count": 4,
   "metadata": {},
   "outputs": [
    {
     "name": "stderr",
     "output_type": "stream",
     "text": [
      "Downloading: \"https://github.com/pytorch/vision/zipball/v0.10.0\" to C:\\Users\\Amir/.cache\\torch\\hub\\v0.10.0.zip\n",
      "C:\\Users\\Amir\\AppData\\Roaming\\Python\\Python39\\site-packages\\torchvision\\models\\_utils.py:208: UserWarning: The parameter 'pretrained' is deprecated since 0.13 and may be removed in the future, please use 'weights' instead.\n",
      "  warnings.warn(\n",
      "C:\\Users\\Amir\\AppData\\Roaming\\Python\\Python39\\site-packages\\torchvision\\models\\_utils.py:223: UserWarning: Arguments other than a weight enum or `None` for 'weights' are deprecated since 0.13 and may be removed in the future. The current behavior is equivalent to passing `weights=ResNet50_Weights.IMAGENET1K_V1`. You can also use `weights=ResNet50_Weights.DEFAULT` to get the most up-to-date weights.\n",
      "  warnings.warn(msg)\n",
      "Downloading: \"https://download.pytorch.org/models/resnet50-0676ba61.pth\" to C:\\Users\\Amir/.cache\\torch\\hub\\checkpoints\\resnet50-0676ba61.pth\n",
      "100%|██████████| 97.8M/97.8M [00:38<00:00, 2.64MB/s]\n"
     ]
    }
   ],
   "source": [
    "model = torch.hub.load('pytorch/vision:v0.10.0', 'resnet50', pretrained=True)\n",
    "\n",
    "# Modify final layer\n",
    "num_ftrs = model.fc.in_features\n",
    "model.fc = nn.Sequential(\n",
    "    nn.Dropout(0.5),\n",
    "    nn.Linear(num_ftrs, num_classes)\n",
    ")\n"
   ]
  },
  {
   "cell_type": "code",
   "execution_count": 5,
   "metadata": {},
   "outputs": [
    {
     "name": "stdout",
     "output_type": "stream",
     "text": [
      "cuda\n"
     ]
    },
    {
     "data": {
      "text/plain": [
       "ResNet(\n",
       "  (conv1): Conv2d(3, 64, kernel_size=(7, 7), stride=(2, 2), padding=(3, 3), bias=False)\n",
       "  (bn1): BatchNorm2d(64, eps=1e-05, momentum=0.1, affine=True, track_running_stats=True)\n",
       "  (relu): ReLU(inplace=True)\n",
       "  (maxpool): MaxPool2d(kernel_size=3, stride=2, padding=1, dilation=1, ceil_mode=False)\n",
       "  (layer1): Sequential(\n",
       "    (0): Bottleneck(\n",
       "      (conv1): Conv2d(64, 64, kernel_size=(1, 1), stride=(1, 1), bias=False)\n",
       "      (bn1): BatchNorm2d(64, eps=1e-05, momentum=0.1, affine=True, track_running_stats=True)\n",
       "      (conv2): Conv2d(64, 64, kernel_size=(3, 3), stride=(1, 1), padding=(1, 1), bias=False)\n",
       "      (bn2): BatchNorm2d(64, eps=1e-05, momentum=0.1, affine=True, track_running_stats=True)\n",
       "      (conv3): Conv2d(64, 256, kernel_size=(1, 1), stride=(1, 1), bias=False)\n",
       "      (bn3): BatchNorm2d(256, eps=1e-05, momentum=0.1, affine=True, track_running_stats=True)\n",
       "      (relu): ReLU(inplace=True)\n",
       "      (downsample): Sequential(\n",
       "        (0): Conv2d(64, 256, kernel_size=(1, 1), stride=(1, 1), bias=False)\n",
       "        (1): BatchNorm2d(256, eps=1e-05, momentum=0.1, affine=True, track_running_stats=True)\n",
       "      )\n",
       "    )\n",
       "    (1): Bottleneck(\n",
       "      (conv1): Conv2d(256, 64, kernel_size=(1, 1), stride=(1, 1), bias=False)\n",
       "      (bn1): BatchNorm2d(64, eps=1e-05, momentum=0.1, affine=True, track_running_stats=True)\n",
       "      (conv2): Conv2d(64, 64, kernel_size=(3, 3), stride=(1, 1), padding=(1, 1), bias=False)\n",
       "      (bn2): BatchNorm2d(64, eps=1e-05, momentum=0.1, affine=True, track_running_stats=True)\n",
       "      (conv3): Conv2d(64, 256, kernel_size=(1, 1), stride=(1, 1), bias=False)\n",
       "      (bn3): BatchNorm2d(256, eps=1e-05, momentum=0.1, affine=True, track_running_stats=True)\n",
       "      (relu): ReLU(inplace=True)\n",
       "    )\n",
       "    (2): Bottleneck(\n",
       "      (conv1): Conv2d(256, 64, kernel_size=(1, 1), stride=(1, 1), bias=False)\n",
       "      (bn1): BatchNorm2d(64, eps=1e-05, momentum=0.1, affine=True, track_running_stats=True)\n",
       "      (conv2): Conv2d(64, 64, kernel_size=(3, 3), stride=(1, 1), padding=(1, 1), bias=False)\n",
       "      (bn2): BatchNorm2d(64, eps=1e-05, momentum=0.1, affine=True, track_running_stats=True)\n",
       "      (conv3): Conv2d(64, 256, kernel_size=(1, 1), stride=(1, 1), bias=False)\n",
       "      (bn3): BatchNorm2d(256, eps=1e-05, momentum=0.1, affine=True, track_running_stats=True)\n",
       "      (relu): ReLU(inplace=True)\n",
       "    )\n",
       "  )\n",
       "  (layer2): Sequential(\n",
       "    (0): Bottleneck(\n",
       "      (conv1): Conv2d(256, 128, kernel_size=(1, 1), stride=(1, 1), bias=False)\n",
       "      (bn1): BatchNorm2d(128, eps=1e-05, momentum=0.1, affine=True, track_running_stats=True)\n",
       "      (conv2): Conv2d(128, 128, kernel_size=(3, 3), stride=(2, 2), padding=(1, 1), bias=False)\n",
       "      (bn2): BatchNorm2d(128, eps=1e-05, momentum=0.1, affine=True, track_running_stats=True)\n",
       "      (conv3): Conv2d(128, 512, kernel_size=(1, 1), stride=(1, 1), bias=False)\n",
       "      (bn3): BatchNorm2d(512, eps=1e-05, momentum=0.1, affine=True, track_running_stats=True)\n",
       "      (relu): ReLU(inplace=True)\n",
       "      (downsample): Sequential(\n",
       "        (0): Conv2d(256, 512, kernel_size=(1, 1), stride=(2, 2), bias=False)\n",
       "        (1): BatchNorm2d(512, eps=1e-05, momentum=0.1, affine=True, track_running_stats=True)\n",
       "      )\n",
       "    )\n",
       "    (1): Bottleneck(\n",
       "      (conv1): Conv2d(512, 128, kernel_size=(1, 1), stride=(1, 1), bias=False)\n",
       "      (bn1): BatchNorm2d(128, eps=1e-05, momentum=0.1, affine=True, track_running_stats=True)\n",
       "      (conv2): Conv2d(128, 128, kernel_size=(3, 3), stride=(1, 1), padding=(1, 1), bias=False)\n",
       "      (bn2): BatchNorm2d(128, eps=1e-05, momentum=0.1, affine=True, track_running_stats=True)\n",
       "      (conv3): Conv2d(128, 512, kernel_size=(1, 1), stride=(1, 1), bias=False)\n",
       "      (bn3): BatchNorm2d(512, eps=1e-05, momentum=0.1, affine=True, track_running_stats=True)\n",
       "      (relu): ReLU(inplace=True)\n",
       "    )\n",
       "    (2): Bottleneck(\n",
       "      (conv1): Conv2d(512, 128, kernel_size=(1, 1), stride=(1, 1), bias=False)\n",
       "      (bn1): BatchNorm2d(128, eps=1e-05, momentum=0.1, affine=True, track_running_stats=True)\n",
       "      (conv2): Conv2d(128, 128, kernel_size=(3, 3), stride=(1, 1), padding=(1, 1), bias=False)\n",
       "      (bn2): BatchNorm2d(128, eps=1e-05, momentum=0.1, affine=True, track_running_stats=True)\n",
       "      (conv3): Conv2d(128, 512, kernel_size=(1, 1), stride=(1, 1), bias=False)\n",
       "      (bn3): BatchNorm2d(512, eps=1e-05, momentum=0.1, affine=True, track_running_stats=True)\n",
       "      (relu): ReLU(inplace=True)\n",
       "    )\n",
       "    (3): Bottleneck(\n",
       "      (conv1): Conv2d(512, 128, kernel_size=(1, 1), stride=(1, 1), bias=False)\n",
       "      (bn1): BatchNorm2d(128, eps=1e-05, momentum=0.1, affine=True, track_running_stats=True)\n",
       "      (conv2): Conv2d(128, 128, kernel_size=(3, 3), stride=(1, 1), padding=(1, 1), bias=False)\n",
       "      (bn2): BatchNorm2d(128, eps=1e-05, momentum=0.1, affine=True, track_running_stats=True)\n",
       "      (conv3): Conv2d(128, 512, kernel_size=(1, 1), stride=(1, 1), bias=False)\n",
       "      (bn3): BatchNorm2d(512, eps=1e-05, momentum=0.1, affine=True, track_running_stats=True)\n",
       "      (relu): ReLU(inplace=True)\n",
       "    )\n",
       "  )\n",
       "  (layer3): Sequential(\n",
       "    (0): Bottleneck(\n",
       "      (conv1): Conv2d(512, 256, kernel_size=(1, 1), stride=(1, 1), bias=False)\n",
       "      (bn1): BatchNorm2d(256, eps=1e-05, momentum=0.1, affine=True, track_running_stats=True)\n",
       "      (conv2): Conv2d(256, 256, kernel_size=(3, 3), stride=(2, 2), padding=(1, 1), bias=False)\n",
       "      (bn2): BatchNorm2d(256, eps=1e-05, momentum=0.1, affine=True, track_running_stats=True)\n",
       "      (conv3): Conv2d(256, 1024, kernel_size=(1, 1), stride=(1, 1), bias=False)\n",
       "      (bn3): BatchNorm2d(1024, eps=1e-05, momentum=0.1, affine=True, track_running_stats=True)\n",
       "      (relu): ReLU(inplace=True)\n",
       "      (downsample): Sequential(\n",
       "        (0): Conv2d(512, 1024, kernel_size=(1, 1), stride=(2, 2), bias=False)\n",
       "        (1): BatchNorm2d(1024, eps=1e-05, momentum=0.1, affine=True, track_running_stats=True)\n",
       "      )\n",
       "    )\n",
       "    (1): Bottleneck(\n",
       "      (conv1): Conv2d(1024, 256, kernel_size=(1, 1), stride=(1, 1), bias=False)\n",
       "      (bn1): BatchNorm2d(256, eps=1e-05, momentum=0.1, affine=True, track_running_stats=True)\n",
       "      (conv2): Conv2d(256, 256, kernel_size=(3, 3), stride=(1, 1), padding=(1, 1), bias=False)\n",
       "      (bn2): BatchNorm2d(256, eps=1e-05, momentum=0.1, affine=True, track_running_stats=True)\n",
       "      (conv3): Conv2d(256, 1024, kernel_size=(1, 1), stride=(1, 1), bias=False)\n",
       "      (bn3): BatchNorm2d(1024, eps=1e-05, momentum=0.1, affine=True, track_running_stats=True)\n",
       "      (relu): ReLU(inplace=True)\n",
       "    )\n",
       "    (2): Bottleneck(\n",
       "      (conv1): Conv2d(1024, 256, kernel_size=(1, 1), stride=(1, 1), bias=False)\n",
       "      (bn1): BatchNorm2d(256, eps=1e-05, momentum=0.1, affine=True, track_running_stats=True)\n",
       "      (conv2): Conv2d(256, 256, kernel_size=(3, 3), stride=(1, 1), padding=(1, 1), bias=False)\n",
       "      (bn2): BatchNorm2d(256, eps=1e-05, momentum=0.1, affine=True, track_running_stats=True)\n",
       "      (conv3): Conv2d(256, 1024, kernel_size=(1, 1), stride=(1, 1), bias=False)\n",
       "      (bn3): BatchNorm2d(1024, eps=1e-05, momentum=0.1, affine=True, track_running_stats=True)\n",
       "      (relu): ReLU(inplace=True)\n",
       "    )\n",
       "    (3): Bottleneck(\n",
       "      (conv1): Conv2d(1024, 256, kernel_size=(1, 1), stride=(1, 1), bias=False)\n",
       "      (bn1): BatchNorm2d(256, eps=1e-05, momentum=0.1, affine=True, track_running_stats=True)\n",
       "      (conv2): Conv2d(256, 256, kernel_size=(3, 3), stride=(1, 1), padding=(1, 1), bias=False)\n",
       "      (bn2): BatchNorm2d(256, eps=1e-05, momentum=0.1, affine=True, track_running_stats=True)\n",
       "      (conv3): Conv2d(256, 1024, kernel_size=(1, 1), stride=(1, 1), bias=False)\n",
       "      (bn3): BatchNorm2d(1024, eps=1e-05, momentum=0.1, affine=True, track_running_stats=True)\n",
       "      (relu): ReLU(inplace=True)\n",
       "    )\n",
       "    (4): Bottleneck(\n",
       "      (conv1): Conv2d(1024, 256, kernel_size=(1, 1), stride=(1, 1), bias=False)\n",
       "      (bn1): BatchNorm2d(256, eps=1e-05, momentum=0.1, affine=True, track_running_stats=True)\n",
       "      (conv2): Conv2d(256, 256, kernel_size=(3, 3), stride=(1, 1), padding=(1, 1), bias=False)\n",
       "      (bn2): BatchNorm2d(256, eps=1e-05, momentum=0.1, affine=True, track_running_stats=True)\n",
       "      (conv3): Conv2d(256, 1024, kernel_size=(1, 1), stride=(1, 1), bias=False)\n",
       "      (bn3): BatchNorm2d(1024, eps=1e-05, momentum=0.1, affine=True, track_running_stats=True)\n",
       "      (relu): ReLU(inplace=True)\n",
       "    )\n",
       "    (5): Bottleneck(\n",
       "      (conv1): Conv2d(1024, 256, kernel_size=(1, 1), stride=(1, 1), bias=False)\n",
       "      (bn1): BatchNorm2d(256, eps=1e-05, momentum=0.1, affine=True, track_running_stats=True)\n",
       "      (conv2): Conv2d(256, 256, kernel_size=(3, 3), stride=(1, 1), padding=(1, 1), bias=False)\n",
       "      (bn2): BatchNorm2d(256, eps=1e-05, momentum=0.1, affine=True, track_running_stats=True)\n",
       "      (conv3): Conv2d(256, 1024, kernel_size=(1, 1), stride=(1, 1), bias=False)\n",
       "      (bn3): BatchNorm2d(1024, eps=1e-05, momentum=0.1, affine=True, track_running_stats=True)\n",
       "      (relu): ReLU(inplace=True)\n",
       "    )\n",
       "  )\n",
       "  (layer4): Sequential(\n",
       "    (0): Bottleneck(\n",
       "      (conv1): Conv2d(1024, 512, kernel_size=(1, 1), stride=(1, 1), bias=False)\n",
       "      (bn1): BatchNorm2d(512, eps=1e-05, momentum=0.1, affine=True, track_running_stats=True)\n",
       "      (conv2): Conv2d(512, 512, kernel_size=(3, 3), stride=(2, 2), padding=(1, 1), bias=False)\n",
       "      (bn2): BatchNorm2d(512, eps=1e-05, momentum=0.1, affine=True, track_running_stats=True)\n",
       "      (conv3): Conv2d(512, 2048, kernel_size=(1, 1), stride=(1, 1), bias=False)\n",
       "      (bn3): BatchNorm2d(2048, eps=1e-05, momentum=0.1, affine=True, track_running_stats=True)\n",
       "      (relu): ReLU(inplace=True)\n",
       "      (downsample): Sequential(\n",
       "        (0): Conv2d(1024, 2048, kernel_size=(1, 1), stride=(2, 2), bias=False)\n",
       "        (1): BatchNorm2d(2048, eps=1e-05, momentum=0.1, affine=True, track_running_stats=True)\n",
       "      )\n",
       "    )\n",
       "    (1): Bottleneck(\n",
       "      (conv1): Conv2d(2048, 512, kernel_size=(1, 1), stride=(1, 1), bias=False)\n",
       "      (bn1): BatchNorm2d(512, eps=1e-05, momentum=0.1, affine=True, track_running_stats=True)\n",
       "      (conv2): Conv2d(512, 512, kernel_size=(3, 3), stride=(1, 1), padding=(1, 1), bias=False)\n",
       "      (bn2): BatchNorm2d(512, eps=1e-05, momentum=0.1, affine=True, track_running_stats=True)\n",
       "      (conv3): Conv2d(512, 2048, kernel_size=(1, 1), stride=(1, 1), bias=False)\n",
       "      (bn3): BatchNorm2d(2048, eps=1e-05, momentum=0.1, affine=True, track_running_stats=True)\n",
       "      (relu): ReLU(inplace=True)\n",
       "    )\n",
       "    (2): Bottleneck(\n",
       "      (conv1): Conv2d(2048, 512, kernel_size=(1, 1), stride=(1, 1), bias=False)\n",
       "      (bn1): BatchNorm2d(512, eps=1e-05, momentum=0.1, affine=True, track_running_stats=True)\n",
       "      (conv2): Conv2d(512, 512, kernel_size=(3, 3), stride=(1, 1), padding=(1, 1), bias=False)\n",
       "      (bn2): BatchNorm2d(512, eps=1e-05, momentum=0.1, affine=True, track_running_stats=True)\n",
       "      (conv3): Conv2d(512, 2048, kernel_size=(1, 1), stride=(1, 1), bias=False)\n",
       "      (bn3): BatchNorm2d(2048, eps=1e-05, momentum=0.1, affine=True, track_running_stats=True)\n",
       "      (relu): ReLU(inplace=True)\n",
       "    )\n",
       "  )\n",
       "  (avgpool): AdaptiveAvgPool2d(output_size=(1, 1))\n",
       "  (fc): Sequential(\n",
       "    (0): Dropout(p=0.5, inplace=False)\n",
       "    (1): Linear(in_features=2048, out_features=9, bias=True)\n",
       "  )\n",
       ")"
      ]
     },
     "execution_count": 5,
     "metadata": {},
     "output_type": "execute_result"
    }
   ],
   "source": [
    "# Move the model to the GPU if available\n",
    "device = torch.device(\"cuda\" if torch.cuda.is_available() else \"cpu\")\n",
    "print(device)\n",
    "model.to(device)"
   ]
  },
  {
   "cell_type": "code",
   "execution_count": 10,
   "metadata": {},
   "outputs": [
    {
     "name": "stderr",
     "output_type": "stream",
     "text": [
      "Epoch [1/100] Training: 100%|██████████| 56/56 [00:23<00:00,  2.40it/s, accuracy=90.8, loss=0.122] \n",
      "Epoch [1/100] Validation: 100%|██████████| 14/14 [00:11<00:00,  1.23it/s, accuracy=67.6, loss=1.18] \n"
     ]
    },
    {
     "name": "stdout",
     "output_type": "stream",
     "text": [
      "Epoch 1/100\n",
      "Train Loss: 0.1959 | Train Acc: 90.79%\n",
      "Val Loss: 1.1450 | Val Acc: 67.63%\n"
     ]
    },
    {
     "name": "stderr",
     "output_type": "stream",
     "text": [
      "Epoch [2/100] Training: 100%|██████████| 56/56 [00:23<00:00,  2.36it/s, accuracy=92.2, loss=0.244] \n",
      "Epoch [2/100] Validation: 100%|██████████| 14/14 [00:11<00:00,  1.23it/s, accuracy=67.9, loss=1.52]\n"
     ]
    },
    {
     "name": "stdout",
     "output_type": "stream",
     "text": [
      "Epoch 2/100\n",
      "Train Loss: 0.1786 | Train Acc: 92.24%\n",
      "Val Loss: 1.2309 | Val Acc: 67.86%\n"
     ]
    },
    {
     "name": "stderr",
     "output_type": "stream",
     "text": [
      "Epoch [3/100] Training: 100%|██████████| 56/56 [00:23<00:00,  2.38it/s, accuracy=92.2, loss=0.136] \n",
      "Epoch [3/100] Validation: 100%|██████████| 14/14 [00:11<00:00,  1.24it/s, accuracy=71, loss=1.33]   \n"
     ]
    },
    {
     "name": "stdout",
     "output_type": "stream",
     "text": [
      "Epoch 3/100\n",
      "Train Loss: 0.1949 | Train Acc: 92.18%\n",
      "Val Loss: 1.0906 | Val Acc: 70.98%\n"
     ]
    },
    {
     "name": "stderr",
     "output_type": "stream",
     "text": [
      "Epoch [4/100] Training: 100%|██████████| 56/56 [00:23<00:00,  2.35it/s, accuracy=92.3, loss=0.18]  \n",
      "Epoch [4/100] Validation: 100%|██████████| 14/14 [00:11<00:00,  1.22it/s, accuracy=71, loss=1.47]   \n"
     ]
    },
    {
     "name": "stdout",
     "output_type": "stream",
     "text": [
      "Epoch 4/100\n",
      "Train Loss: 0.1617 | Train Acc: 92.29%\n",
      "Val Loss: 1.0583 | Val Acc: 70.98%\n"
     ]
    },
    {
     "name": "stderr",
     "output_type": "stream",
     "text": [
      "Epoch [5/100] Training: 100%|██████████| 56/56 [00:23<00:00,  2.33it/s, accuracy=92.6, loss=0.145] \n",
      "Epoch [5/100] Validation: 100%|██████████| 14/14 [00:11<00:00,  1.24it/s, accuracy=73.2, loss=1.27] \n"
     ]
    },
    {
     "name": "stdout",
     "output_type": "stream",
     "text": [
      "Epoch 5/100\n",
      "Train Loss: 0.1522 | Train Acc: 92.57%\n",
      "Val Loss: 0.9369 | Val Acc: 73.21%\n"
     ]
    },
    {
     "name": "stderr",
     "output_type": "stream",
     "text": [
      "Epoch [6/100] Training: 100%|██████████| 56/56 [00:24<00:00,  2.33it/s, accuracy=93, loss=0.224]   \n",
      "Epoch [6/100] Validation: 100%|██████████| 14/14 [00:11<00:00,  1.21it/s, accuracy=68.8, loss=1.25] \n"
     ]
    },
    {
     "name": "stdout",
     "output_type": "stream",
     "text": [
      "Epoch 6/100\n",
      "Train Loss: 0.1406 | Train Acc: 92.96%\n",
      "Val Loss: 1.2070 | Val Acc: 68.75%\n"
     ]
    },
    {
     "name": "stderr",
     "output_type": "stream",
     "text": [
      "Epoch [7/100] Training: 100%|██████████| 56/56 [00:24<00:00,  2.26it/s, accuracy=91.9, loss=0.312] \n",
      "Epoch [7/100] Validation: 100%|██████████| 14/14 [00:11<00:00,  1.21it/s, accuracy=71.2, loss=0.702]\n"
     ]
    },
    {
     "name": "stdout",
     "output_type": "stream",
     "text": [
      "Epoch 7/100\n",
      "Train Loss: 0.1799 | Train Acc: 91.90%\n",
      "Val Loss: 1.1626 | Val Acc: 71.21%\n"
     ]
    },
    {
     "name": "stderr",
     "output_type": "stream",
     "text": [
      "Epoch [8/100] Training: 100%|██████████| 56/56 [00:24<00:00,  2.27it/s, accuracy=92.5, loss=0.285] \n",
      "Epoch [8/100] Validation: 100%|██████████| 14/14 [00:11<00:00,  1.22it/s, accuracy=71, loss=1.11]  \n"
     ]
    },
    {
     "name": "stdout",
     "output_type": "stream",
     "text": [
      "Epoch 8/100\n",
      "Train Loss: 0.1735 | Train Acc: 92.52%\n",
      "Val Loss: 1.1263 | Val Acc: 70.98%\n"
     ]
    },
    {
     "name": "stderr",
     "output_type": "stream",
     "text": [
      "Epoch [9/100] Training: 100%|██████████| 56/56 [00:23<00:00,  2.34it/s, accuracy=92, loss=0.127]   \n",
      "Epoch [9/100] Validation: 100%|██████████| 14/14 [00:11<00:00,  1.21it/s, accuracy=69.4, loss=1.72]\n"
     ]
    },
    {
     "name": "stdout",
     "output_type": "stream",
     "text": [
      "Epoch 9/100\n",
      "Train Loss: 0.1657 | Train Acc: 92.02%\n",
      "Val Loss: 1.3003 | Val Acc: 69.42%\n"
     ]
    },
    {
     "name": "stderr",
     "output_type": "stream",
     "text": [
      "Epoch [10/100] Training: 100%|██████████| 56/56 [00:24<00:00,  2.28it/s, accuracy=93.7, loss=0.087] \n",
      "Epoch [10/100] Validation: 100%|██████████| 14/14 [00:11<00:00,  1.23it/s, accuracy=69.4, loss=1.31]\n"
     ]
    },
    {
     "name": "stdout",
     "output_type": "stream",
     "text": [
      "Epoch 10/100\n",
      "Train Loss: 0.1238 | Train Acc: 93.69%\n",
      "Val Loss: 1.1890 | Val Acc: 69.42%\n"
     ]
    },
    {
     "name": "stderr",
     "output_type": "stream",
     "text": [
      "Epoch [11/100] Training: 100%|██████████| 56/56 [00:24<00:00,  2.33it/s, accuracy=94.3, loss=0.0957]\n",
      "Epoch [11/100] Validation: 100%|██████████| 14/14 [00:11<00:00,  1.21it/s, accuracy=71.7, loss=1.53] \n"
     ]
    },
    {
     "name": "stdout",
     "output_type": "stream",
     "text": [
      "Epoch 11/100\n",
      "Train Loss: 0.1074 | Train Acc: 94.30%\n",
      "Val Loss: 1.0772 | Val Acc: 71.65%\n"
     ]
    },
    {
     "name": "stderr",
     "output_type": "stream",
     "text": [
      "Epoch [12/100] Training: 100%|██████████| 56/56 [00:24<00:00,  2.33it/s, accuracy=94.2, loss=0.145] \n",
      "Epoch [12/100] Validation: 100%|██████████| 14/14 [00:11<00:00,  1.21it/s, accuracy=71.7, loss=1.3]  \n"
     ]
    },
    {
     "name": "stdout",
     "output_type": "stream",
     "text": [
      "Epoch 12/100\n",
      "Train Loss: 0.1070 | Train Acc: 94.25%\n",
      "Val Loss: 1.0968 | Val Acc: 71.65%\n"
     ]
    },
    {
     "name": "stderr",
     "output_type": "stream",
     "text": [
      "Epoch [13/100] Training: 100%|██████████| 56/56 [00:24<00:00,  2.30it/s, accuracy=94.7, loss=0.105] \n",
      "Epoch [13/100] Validation: 100%|██████████| 14/14 [00:11<00:00,  1.23it/s, accuracy=71.2, loss=1.04] \n"
     ]
    },
    {
     "name": "stdout",
     "output_type": "stream",
     "text": [
      "Epoch 13/100\n",
      "Train Loss: 0.0951 | Train Acc: 94.70%\n",
      "Val Loss: 1.0594 | Val Acc: 71.21%\n"
     ]
    },
    {
     "name": "stderr",
     "output_type": "stream",
     "text": [
      "Epoch [14/100] Training: 100%|██████████| 56/56 [00:24<00:00,  2.25it/s, accuracy=94.5, loss=0.034] \n",
      "Epoch [14/100] Validation: 100%|██████████| 14/14 [00:11<00:00,  1.22it/s, accuracy=72.8, loss=1.09] \n"
     ]
    },
    {
     "name": "stdout",
     "output_type": "stream",
     "text": [
      "Epoch 14/100\n",
      "Train Loss: 0.0930 | Train Acc: 94.47%\n",
      "Val Loss: 1.0565 | Val Acc: 72.77%\n"
     ]
    },
    {
     "name": "stderr",
     "output_type": "stream",
     "text": [
      "Epoch [15/100] Training: 100%|██████████| 56/56 [00:24<00:00,  2.33it/s, accuracy=94.4, loss=0.0947]\n",
      "Epoch [15/100] Validation: 100%|██████████| 14/14 [00:11<00:00,  1.22it/s, accuracy=71.9, loss=1.19] \n"
     ]
    },
    {
     "name": "stdout",
     "output_type": "stream",
     "text": [
      "Epoch 15/100\n",
      "Train Loss: 0.0962 | Train Acc: 94.36%\n",
      "Val Loss: 1.0658 | Val Acc: 71.88%\n"
     ]
    },
    {
     "name": "stderr",
     "output_type": "stream",
     "text": [
      "Epoch [16/100] Training: 100%|██████████| 56/56 [00:24<00:00,  2.31it/s, accuracy=95.2, loss=0.0334]\n",
      "Epoch [16/100] Validation: 100%|██████████| 14/14 [00:11<00:00,  1.22it/s, accuracy=71.9, loss=1.27] \n"
     ]
    },
    {
     "name": "stdout",
     "output_type": "stream",
     "text": [
      "Epoch 16/100\n",
      "Train Loss: 0.0957 | Train Acc: 95.20%\n",
      "Val Loss: 1.0371 | Val Acc: 71.88%\n"
     ]
    },
    {
     "name": "stderr",
     "output_type": "stream",
     "text": [
      "Epoch [17/100] Training: 100%|██████████| 56/56 [00:23<00:00,  2.33it/s, accuracy=94.5, loss=0.117]  \n",
      "Epoch [17/100] Validation: 100%|██████████| 14/14 [00:11<00:00,  1.22it/s, accuracy=72.5, loss=0.967]\n"
     ]
    },
    {
     "name": "stdout",
     "output_type": "stream",
     "text": [
      "Epoch 17/100\n",
      "Train Loss: 0.0955 | Train Acc: 94.47%\n",
      "Val Loss: 1.0914 | Val Acc: 72.54%\n"
     ]
    },
    {
     "name": "stderr",
     "output_type": "stream",
     "text": [
      "Epoch [18/100] Training: 100%|██████████| 56/56 [00:24<00:00,  2.31it/s, accuracy=94.6, loss=0.0844]\n",
      "Epoch [18/100] Validation: 100%|██████████| 14/14 [00:11<00:00,  1.19it/s, accuracy=70.5, loss=1.24] \n"
     ]
    },
    {
     "name": "stdout",
     "output_type": "stream",
     "text": [
      "Epoch 18/100\n",
      "Train Loss: 0.0976 | Train Acc: 94.64%\n",
      "Val Loss: 1.1539 | Val Acc: 70.54%\n"
     ]
    },
    {
     "name": "stderr",
     "output_type": "stream",
     "text": [
      "Epoch [19/100] Training: 100%|██████████| 56/56 [00:22<00:00,  2.48it/s, accuracy=94.9, loss=0.17]   \n",
      "Epoch [19/100] Validation: 100%|██████████| 14/14 [00:10<00:00,  1.28it/s, accuracy=71.7, loss=1.33] \n"
     ]
    },
    {
     "name": "stdout",
     "output_type": "stream",
     "text": [
      "Epoch 19/100\n",
      "Train Loss: 0.0929 | Train Acc: 94.86%\n",
      "Val Loss: 1.0688 | Val Acc: 71.65%\n"
     ]
    },
    {
     "name": "stderr",
     "output_type": "stream",
     "text": [
      "Epoch [20/100] Training: 100%|██████████| 56/56 [00:22<00:00,  2.50it/s, accuracy=94.9, loss=0.112] \n",
      "Epoch [20/100] Validation: 100%|██████████| 14/14 [00:10<00:00,  1.28it/s, accuracy=72.5, loss=1.06] \n"
     ]
    },
    {
     "name": "stdout",
     "output_type": "stream",
     "text": [
      "Epoch 20/100\n",
      "Train Loss: 0.1022 | Train Acc: 94.92%\n",
      "Val Loss: 1.0757 | Val Acc: 72.54%\n"
     ]
    },
    {
     "name": "stderr",
     "output_type": "stream",
     "text": [
      "Epoch [21/100] Training: 100%|██████████| 56/56 [00:22<00:00,  2.48it/s, accuracy=94.7, loss=0.118] \n",
      "Epoch [21/100] Validation: 100%|██████████| 14/14 [00:11<00:00,  1.27it/s, accuracy=71.2, loss=1.29] \n"
     ]
    },
    {
     "name": "stdout",
     "output_type": "stream",
     "text": [
      "Epoch 21/100\n",
      "Train Loss: 0.0953 | Train Acc: 94.70%\n",
      "Val Loss: 1.1203 | Val Acc: 71.21%\n"
     ]
    },
    {
     "name": "stderr",
     "output_type": "stream",
     "text": [
      "Epoch [22/100] Training: 100%|██████████| 56/56 [00:22<00:00,  2.45it/s, accuracy=94.6, loss=0.184] \n",
      "Epoch [22/100] Validation: 100%|██████████| 14/14 [00:11<00:00,  1.27it/s, accuracy=72.3, loss=1.22] \n"
     ]
    },
    {
     "name": "stdout",
     "output_type": "stream",
     "text": [
      "Epoch 22/100\n",
      "Train Loss: 0.0950 | Train Acc: 94.64%\n",
      "Val Loss: 1.0773 | Val Acc: 72.32%\n"
     ]
    },
    {
     "name": "stderr",
     "output_type": "stream",
     "text": [
      "Epoch [23/100] Training: 100%|██████████| 56/56 [00:22<00:00,  2.51it/s, accuracy=95.1, loss=0.117] \n",
      "Epoch [23/100] Validation: 100%|██████████| 14/14 [00:11<00:00,  1.25it/s, accuracy=72.5, loss=1.19] \n"
     ]
    },
    {
     "name": "stdout",
     "output_type": "stream",
     "text": [
      "Epoch 23/100\n",
      "Train Loss: 0.0961 | Train Acc: 95.14%\n",
      "Val Loss: 1.0440 | Val Acc: 72.54%\n"
     ]
    },
    {
     "name": "stderr",
     "output_type": "stream",
     "text": [
      "Epoch [24/100] Training: 100%|██████████| 56/56 [00:22<00:00,  2.44it/s, accuracy=94.2, loss=0.0968]\n",
      "Epoch [24/100] Validation: 100%|██████████| 14/14 [00:11<00:00,  1.24it/s, accuracy=73.9, loss=1.11] \n"
     ]
    },
    {
     "name": "stdout",
     "output_type": "stream",
     "text": [
      "Epoch 24/100\n",
      "Train Loss: 0.0989 | Train Acc: 94.19%\n",
      "Val Loss: 1.0889 | Val Acc: 73.88%\n"
     ]
    },
    {
     "name": "stderr",
     "output_type": "stream",
     "text": [
      "Epoch [25/100] Training: 100%|██████████| 56/56 [00:22<00:00,  2.51it/s, accuracy=93.6, loss=0.0909]\n",
      "Epoch [25/100] Validation: 100%|██████████| 14/14 [00:10<00:00,  1.27it/s, accuracy=73, loss=1.13]   \n"
     ]
    },
    {
     "name": "stdout",
     "output_type": "stream",
     "text": [
      "Epoch 25/100\n",
      "Train Loss: 0.0965 | Train Acc: 93.63%\n",
      "Val Loss: 1.0256 | Val Acc: 72.99%\n"
     ]
    },
    {
     "name": "stderr",
     "output_type": "stream",
     "text": [
      "Epoch [26/100] Training: 100%|██████████| 56/56 [00:22<00:00,  2.50it/s, accuracy=94.3, loss=0.0782]\n",
      "Epoch [26/100] Validation: 100%|██████████| 14/14 [00:11<00:00,  1.26it/s, accuracy=71.9, loss=1.27] \n"
     ]
    },
    {
     "name": "stdout",
     "output_type": "stream",
     "text": [
      "Epoch 26/100\n",
      "Train Loss: 0.0955 | Train Acc: 94.30%\n",
      "Val Loss: 1.0668 | Val Acc: 71.88%\n"
     ]
    },
    {
     "name": "stderr",
     "output_type": "stream",
     "text": [
      "Epoch [27/100] Training: 100%|██████████| 56/56 [00:23<00:00,  2.39it/s, accuracy=94.8, loss=0.118] \n",
      "Epoch [27/100] Validation: 100%|██████████| 14/14 [00:11<00:00,  1.18it/s, accuracy=72.3, loss=1.23] \n"
     ]
    },
    {
     "name": "stdout",
     "output_type": "stream",
     "text": [
      "Epoch 27/100\n",
      "Train Loss: 0.0916 | Train Acc: 94.75%\n",
      "Val Loss: 1.0657 | Val Acc: 72.32%\n"
     ]
    },
    {
     "name": "stderr",
     "output_type": "stream",
     "text": [
      "Epoch [28/100] Training: 100%|██████████| 56/56 [00:23<00:00,  2.41it/s, accuracy=94.7, loss=0.181] \n",
      "Epoch [28/100] Validation: 100%|██████████| 14/14 [00:11<00:00,  1.26it/s, accuracy=73, loss=1.19]   \n"
     ]
    },
    {
     "name": "stdout",
     "output_type": "stream",
     "text": [
      "Epoch 28/100\n",
      "Train Loss: 0.0953 | Train Acc: 94.70%\n",
      "Val Loss: 1.0906 | Val Acc: 72.99%\n"
     ]
    },
    {
     "name": "stderr",
     "output_type": "stream",
     "text": [
      "Epoch [29/100] Training: 100%|██████████| 56/56 [00:22<00:00,  2.49it/s, accuracy=94.8, loss=0.158] \n",
      "Epoch [29/100] Validation: 100%|██████████| 14/14 [00:11<00:00,  1.25it/s, accuracy=70.3, loss=1.21]\n"
     ]
    },
    {
     "name": "stdout",
     "output_type": "stream",
     "text": [
      "Epoch 29/100\n",
      "Train Loss: 0.0962 | Train Acc: 94.81%\n",
      "Val Loss: 1.0951 | Val Acc: 70.31%\n"
     ]
    },
    {
     "name": "stderr",
     "output_type": "stream",
     "text": [
      "Epoch [30/100] Training: 100%|██████████| 56/56 [00:23<00:00,  2.41it/s, accuracy=95.2, loss=0.0618]\n",
      "Epoch [30/100] Validation: 100%|██████████| 14/14 [00:11<00:00,  1.26it/s, accuracy=71.7, loss=1.33] \n"
     ]
    },
    {
     "name": "stdout",
     "output_type": "stream",
     "text": [
      "Epoch 30/100\n",
      "Train Loss: 0.0909 | Train Acc: 95.20%\n",
      "Val Loss: 1.0818 | Val Acc: 71.65%\n"
     ]
    },
    {
     "name": "stderr",
     "output_type": "stream",
     "text": [
      "Epoch [31/100] Training: 100%|██████████| 56/56 [00:23<00:00,  2.37it/s, accuracy=95.2, loss=0.03]  \n",
      "Epoch [31/100] Validation: 100%|██████████| 14/14 [00:11<00:00,  1.26it/s, accuracy=72.3, loss=1.43] \n"
     ]
    },
    {
     "name": "stdout",
     "output_type": "stream",
     "text": [
      "Epoch 31/100\n",
      "Train Loss: 0.0884 | Train Acc: 95.20%\n",
      "Val Loss: 1.0448 | Val Acc: 72.32%\n"
     ]
    },
    {
     "name": "stderr",
     "output_type": "stream",
     "text": [
      "Epoch [32/100] Training: 100%|██████████| 56/56 [00:22<00:00,  2.48it/s, accuracy=94.1, loss=0.0555]\n",
      "Epoch [32/100] Validation: 100%|██████████| 14/14 [00:10<00:00,  1.28it/s, accuracy=72.5, loss=1.35] \n"
     ]
    },
    {
     "name": "stdout",
     "output_type": "stream",
     "text": [
      "Epoch 32/100\n",
      "Train Loss: 0.0946 | Train Acc: 94.14%\n",
      "Val Loss: 1.1187 | Val Acc: 72.54%\n"
     ]
    },
    {
     "name": "stderr",
     "output_type": "stream",
     "text": [
      "Epoch [33/100] Training: 100%|██████████| 56/56 [00:22<00:00,  2.48it/s, accuracy=94.6, loss=0.0819]\n",
      "Epoch [33/100] Validation: 100%|██████████| 14/14 [00:10<00:00,  1.28it/s, accuracy=73.7, loss=1.22] \n"
     ]
    },
    {
     "name": "stdout",
     "output_type": "stream",
     "text": [
      "Epoch 33/100\n",
      "Train Loss: 0.0912 | Train Acc: 94.64%\n",
      "Val Loss: 1.0452 | Val Acc: 73.66%\n"
     ]
    },
    {
     "name": "stderr",
     "output_type": "stream",
     "text": [
      "Epoch [34/100] Training: 100%|██████████| 56/56 [00:22<00:00,  2.51it/s, accuracy=94.6, loss=0.0781]\n",
      "Epoch [34/100] Validation: 100%|██████████| 14/14 [00:10<00:00,  1.28it/s, accuracy=71.7, loss=1.41] \n"
     ]
    },
    {
     "name": "stdout",
     "output_type": "stream",
     "text": [
      "Epoch 34/100\n",
      "Train Loss: 0.0973 | Train Acc: 94.64%\n",
      "Val Loss: 1.0942 | Val Acc: 71.65%\n"
     ]
    },
    {
     "name": "stderr",
     "output_type": "stream",
     "text": [
      "Epoch [35/100] Training: 100%|██████████| 56/56 [00:22<00:00,  2.51it/s, accuracy=94.5, loss=0.0521]\n",
      "Epoch [35/100] Validation: 100%|██████████| 14/14 [00:11<00:00,  1.25it/s, accuracy=72.3, loss=1.25]\n"
     ]
    },
    {
     "name": "stdout",
     "output_type": "stream",
     "text": [
      "Epoch 35/100\n",
      "Train Loss: 0.0909 | Train Acc: 94.53%\n",
      "Val Loss: 1.0465 | Val Acc: 72.32%\n"
     ]
    },
    {
     "name": "stderr",
     "output_type": "stream",
     "text": [
      "Epoch [36/100] Training: 100%|██████████| 56/56 [00:23<00:00,  2.42it/s, accuracy=94.2, loss=0.043] \n",
      "Epoch [36/100] Validation: 100%|██████████| 14/14 [00:11<00:00,  1.24it/s, accuracy=72.3, loss=1.28] \n"
     ]
    },
    {
     "name": "stdout",
     "output_type": "stream",
     "text": [
      "Epoch 36/100\n",
      "Train Loss: 0.0941 | Train Acc: 94.25%\n",
      "Val Loss: 1.0504 | Val Acc: 72.32%\n"
     ]
    },
    {
     "name": "stderr",
     "output_type": "stream",
     "text": [
      "Epoch [37/100] Training: 100%|██████████| 56/56 [00:23<00:00,  2.43it/s, accuracy=95, loss=0.0818]   \n",
      "Epoch [37/100] Validation: 100%|██████████| 14/14 [00:11<00:00,  1.26it/s, accuracy=71.9, loss=1.06] \n"
     ]
    },
    {
     "name": "stdout",
     "output_type": "stream",
     "text": [
      "Epoch 37/100\n",
      "Train Loss: 0.0892 | Train Acc: 95.03%\n",
      "Val Loss: 1.0714 | Val Acc: 71.88%\n"
     ]
    },
    {
     "name": "stderr",
     "output_type": "stream",
     "text": [
      "Epoch [38/100] Training: 100%|██████████| 56/56 [00:22<00:00,  2.49it/s, accuracy=94.6, loss=0.0693]\n",
      "Epoch [38/100] Validation: 100%|██████████| 14/14 [00:11<00:00,  1.26it/s, accuracy=72.8, loss=1.19] \n"
     ]
    },
    {
     "name": "stdout",
     "output_type": "stream",
     "text": [
      "Epoch 38/100\n",
      "Train Loss: 0.0914 | Train Acc: 94.58%\n",
      "Val Loss: 1.0646 | Val Acc: 72.77%\n"
     ]
    },
    {
     "name": "stderr",
     "output_type": "stream",
     "text": [
      "Epoch [39/100] Training: 100%|██████████| 56/56 [00:23<00:00,  2.43it/s, accuracy=95, loss=0.131]    \n",
      "Epoch [39/100] Validation: 100%|██████████| 14/14 [00:10<00:00,  1.27it/s, accuracy=73.4, loss=1.21] \n"
     ]
    },
    {
     "name": "stdout",
     "output_type": "stream",
     "text": [
      "Epoch 39/100\n",
      "Train Loss: 0.0889 | Train Acc: 94.97%\n",
      "Val Loss: 1.0324 | Val Acc: 73.44%\n"
     ]
    },
    {
     "name": "stderr",
     "output_type": "stream",
     "text": [
      "Epoch [40/100] Training: 100%|██████████| 56/56 [00:22<00:00,  2.49it/s, accuracy=94.9, loss=0.057] \n",
      "Epoch [40/100] Validation: 100%|██████████| 14/14 [00:10<00:00,  1.27it/s, accuracy=71.9, loss=1.32] \n"
     ]
    },
    {
     "name": "stdout",
     "output_type": "stream",
     "text": [
      "Epoch 40/100\n",
      "Train Loss: 0.0908 | Train Acc: 94.92%\n",
      "Val Loss: 1.0886 | Val Acc: 71.88%\n"
     ]
    },
    {
     "name": "stderr",
     "output_type": "stream",
     "text": [
      "Epoch [41/100] Training: 100%|██████████| 56/56 [00:23<00:00,  2.39it/s, accuracy=94.9, loss=0.243] \n",
      "Epoch [41/100] Validation: 100%|██████████| 14/14 [00:11<00:00,  1.26it/s, accuracy=71.9, loss=1.26] \n"
     ]
    },
    {
     "name": "stdout",
     "output_type": "stream",
     "text": [
      "Epoch 41/100\n",
      "Train Loss: 0.0919 | Train Acc: 94.92%\n",
      "Val Loss: 1.0835 | Val Acc: 71.88%\n"
     ]
    },
    {
     "name": "stderr",
     "output_type": "stream",
     "text": [
      "Epoch [42/100] Training: 100%|██████████| 56/56 [00:22<00:00,  2.49it/s, accuracy=93.9, loss=0.0666]\n",
      "Epoch [42/100] Validation: 100%|██████████| 14/14 [00:10<00:00,  1.27it/s, accuracy=73.4, loss=1.34] \n"
     ]
    },
    {
     "name": "stdout",
     "output_type": "stream",
     "text": [
      "Epoch 42/100\n",
      "Train Loss: 0.0980 | Train Acc: 93.91%\n",
      "Val Loss: 1.0782 | Val Acc: 73.44%\n"
     ]
    },
    {
     "name": "stderr",
     "output_type": "stream",
     "text": [
      "Epoch [43/100] Training: 100%|██████████| 56/56 [00:22<00:00,  2.49it/s, accuracy=94.4, loss=0.0982] \n",
      "Epoch [43/100] Validation: 100%|██████████| 14/14 [00:10<00:00,  1.28it/s, accuracy=73.4, loss=1.02]\n"
     ]
    },
    {
     "name": "stdout",
     "output_type": "stream",
     "text": [
      "Epoch 43/100\n",
      "Train Loss: 0.1016 | Train Acc: 94.36%\n",
      "Val Loss: 1.1037 | Val Acc: 73.44%\n"
     ]
    },
    {
     "name": "stderr",
     "output_type": "stream",
     "text": [
      "Epoch [44/100] Training: 100%|██████████| 56/56 [00:22<00:00,  2.47it/s, accuracy=94.5, loss=0.0258]\n",
      "Epoch [44/100] Validation: 100%|██████████| 14/14 [00:10<00:00,  1.28it/s, accuracy=71.2, loss=1.36] \n"
     ]
    },
    {
     "name": "stdout",
     "output_type": "stream",
     "text": [
      "Epoch 44/100\n",
      "Train Loss: 0.0983 | Train Acc: 94.53%\n",
      "Val Loss: 1.0739 | Val Acc: 71.21%\n"
     ]
    },
    {
     "name": "stderr",
     "output_type": "stream",
     "text": [
      "Epoch [45/100] Training: 100%|██████████| 56/56 [00:22<00:00,  2.47it/s, accuracy=94.6, loss=0.0714]\n",
      "Epoch [45/100] Validation: 100%|██████████| 14/14 [00:11<00:00,  1.26it/s, accuracy=69.6, loss=1.29]\n"
     ]
    },
    {
     "name": "stdout",
     "output_type": "stream",
     "text": [
      "Epoch 45/100\n",
      "Train Loss: 0.0975 | Train Acc: 94.64%\n",
      "Val Loss: 1.1792 | Val Acc: 69.64%\n"
     ]
    },
    {
     "name": "stderr",
     "output_type": "stream",
     "text": [
      "Epoch [46/100] Training: 100%|██████████| 56/56 [00:23<00:00,  2.42it/s, accuracy=94.6, loss=0.0489]\n",
      "Epoch [46/100] Validation: 100%|██████████| 14/14 [00:11<00:00,  1.21it/s, accuracy=70.8, loss=1.42] \n"
     ]
    },
    {
     "name": "stdout",
     "output_type": "stream",
     "text": [
      "Epoch 46/100\n",
      "Train Loss: 0.0935 | Train Acc: 94.58%\n",
      "Val Loss: 1.0642 | Val Acc: 70.76%\n"
     ]
    },
    {
     "name": "stderr",
     "output_type": "stream",
     "text": [
      "Epoch [47/100] Training: 100%|██████████| 56/56 [00:23<00:00,  2.41it/s, accuracy=94.6, loss=0.147]  \n",
      "Epoch [47/100] Validation: 100%|██████████| 14/14 [00:11<00:00,  1.25it/s, accuracy=71.7, loss=1.51] \n"
     ]
    },
    {
     "name": "stdout",
     "output_type": "stream",
     "text": [
      "Epoch 47/100\n",
      "Train Loss: 0.0905 | Train Acc: 94.58%\n",
      "Val Loss: 1.1523 | Val Acc: 71.65%\n"
     ]
    },
    {
     "name": "stderr",
     "output_type": "stream",
     "text": [
      "Epoch [48/100] Training: 100%|██████████| 56/56 [00:22<00:00,  2.48it/s, accuracy=94.1, loss=0.129] \n",
      "Epoch [48/100] Validation: 100%|██████████| 14/14 [00:11<00:00,  1.26it/s, accuracy=73, loss=1.14]   \n"
     ]
    },
    {
     "name": "stdout",
     "output_type": "stream",
     "text": [
      "Epoch 48/100\n",
      "Train Loss: 0.0954 | Train Acc: 94.08%\n",
      "Val Loss: 1.0437 | Val Acc: 72.99%\n"
     ]
    },
    {
     "name": "stderr",
     "output_type": "stream",
     "text": [
      "Epoch [49/100] Training: 100%|██████████| 56/56 [00:22<00:00,  2.49it/s, accuracy=94.7, loss=0.204]  \n",
      "Epoch [49/100] Validation: 100%|██████████| 14/14 [00:11<00:00,  1.26it/s, accuracy=72.1, loss=1.28] \n"
     ]
    },
    {
     "name": "stdout",
     "output_type": "stream",
     "text": [
      "Epoch 49/100\n",
      "Train Loss: 0.0935 | Train Acc: 94.70%\n",
      "Val Loss: 1.0688 | Val Acc: 72.10%\n"
     ]
    },
    {
     "name": "stderr",
     "output_type": "stream",
     "text": [
      "Epoch [50/100] Training: 100%|██████████| 56/56 [00:22<00:00,  2.44it/s, accuracy=94.8, loss=0.0459]\n",
      "Epoch [50/100] Validation: 100%|██████████| 14/14 [00:11<00:00,  1.27it/s, accuracy=71.9, loss=1.26] \n"
     ]
    },
    {
     "name": "stdout",
     "output_type": "stream",
     "text": [
      "Epoch 50/100\n",
      "Train Loss: 0.0899 | Train Acc: 94.81%\n",
      "Val Loss: 1.0591 | Val Acc: 71.88%\n"
     ]
    },
    {
     "name": "stderr",
     "output_type": "stream",
     "text": [
      "Epoch [51/100] Training: 100%|██████████| 56/56 [00:22<00:00,  2.47it/s, accuracy=94.4, loss=0.0699]\n",
      "Epoch [51/100] Validation: 100%|██████████| 14/14 [00:11<00:00,  1.24it/s, accuracy=71.7, loss=1.18] \n"
     ]
    },
    {
     "name": "stdout",
     "output_type": "stream",
     "text": [
      "Epoch 51/100\n",
      "Train Loss: 0.0945 | Train Acc: 94.36%\n",
      "Val Loss: 1.1328 | Val Acc: 71.65%\n"
     ]
    },
    {
     "name": "stderr",
     "output_type": "stream",
     "text": [
      "Epoch [52/100] Training: 100%|██████████| 56/56 [00:23<00:00,  2.43it/s, accuracy=95.2, loss=0.175] \n",
      "Epoch [52/100] Validation: 100%|██████████| 14/14 [00:11<00:00,  1.22it/s, accuracy=72.5, loss=1.44] \n"
     ]
    },
    {
     "name": "stdout",
     "output_type": "stream",
     "text": [
      "Epoch 52/100\n",
      "Train Loss: 0.0918 | Train Acc: 95.20%\n",
      "Val Loss: 1.1027 | Val Acc: 72.54%\n"
     ]
    },
    {
     "name": "stderr",
     "output_type": "stream",
     "text": [
      "Epoch [53/100] Training: 100%|██████████| 56/56 [00:22<00:00,  2.44it/s, accuracy=94.6, loss=0.151] \n",
      "Epoch [53/100] Validation: 100%|██████████| 14/14 [00:11<00:00,  1.25it/s, accuracy=71.9, loss=0.901]\n"
     ]
    },
    {
     "name": "stdout",
     "output_type": "stream",
     "text": [
      "Epoch 53/100\n",
      "Train Loss: 0.0936 | Train Acc: 94.58%\n",
      "Val Loss: 1.0645 | Val Acc: 71.88%\n"
     ]
    },
    {
     "name": "stderr",
     "output_type": "stream",
     "text": [
      "Epoch [54/100] Training: 100%|██████████| 56/56 [00:22<00:00,  2.47it/s, accuracy=94.9, loss=0.196] \n",
      "Epoch [54/100] Validation: 100%|██████████| 14/14 [00:11<00:00,  1.22it/s, accuracy=71.7, loss=1.21] \n"
     ]
    },
    {
     "name": "stdout",
     "output_type": "stream",
     "text": [
      "Epoch 54/100\n",
      "Train Loss: 0.0969 | Train Acc: 94.86%\n",
      "Val Loss: 1.0678 | Val Acc: 71.65%\n"
     ]
    },
    {
     "name": "stderr",
     "output_type": "stream",
     "text": [
      "Epoch [55/100] Training: 100%|██████████| 56/56 [00:22<00:00,  2.46it/s, accuracy=95.4, loss=0.0619]\n",
      "Epoch [55/100] Validation: 100%|██████████| 14/14 [00:11<00:00,  1.24it/s, accuracy=73, loss=1.15]   \n"
     ]
    },
    {
     "name": "stdout",
     "output_type": "stream",
     "text": [
      "Epoch 55/100\n",
      "Train Loss: 0.0906 | Train Acc: 95.42%\n",
      "Val Loss: 1.0269 | Val Acc: 72.99%\n"
     ]
    },
    {
     "name": "stderr",
     "output_type": "stream",
     "text": [
      "Epoch [56/100] Training: 100%|██████████| 56/56 [00:22<00:00,  2.46it/s, accuracy=94.2, loss=0.182] \n",
      "Epoch [56/100] Validation: 100%|██████████| 14/14 [00:11<00:00,  1.24it/s, accuracy=71.7, loss=1.08] \n"
     ]
    },
    {
     "name": "stdout",
     "output_type": "stream",
     "text": [
      "Epoch 56/100\n",
      "Train Loss: 0.1007 | Train Acc: 94.25%\n",
      "Val Loss: 1.1142 | Val Acc: 71.65%\n"
     ]
    },
    {
     "name": "stderr",
     "output_type": "stream",
     "text": [
      "Epoch [57/100] Training: 100%|██████████| 56/56 [00:22<00:00,  2.45it/s, accuracy=94.6, loss=0.182] \n",
      "Epoch [57/100] Validation: 100%|██████████| 14/14 [00:11<00:00,  1.24it/s, accuracy=71, loss=1.45]  \n"
     ]
    },
    {
     "name": "stdout",
     "output_type": "stream",
     "text": [
      "Epoch 57/100\n",
      "Train Loss: 0.0931 | Train Acc: 94.64%\n",
      "Val Loss: 1.1245 | Val Acc: 70.98%\n"
     ]
    },
    {
     "name": "stderr",
     "output_type": "stream",
     "text": [
      "Epoch [58/100] Training: 100%|██████████| 56/56 [00:23<00:00,  2.42it/s, accuracy=94.9, loss=0.0396] \n",
      "Epoch [58/100] Validation: 100%|██████████| 14/14 [00:11<00:00,  1.25it/s, accuracy=72.1, loss=1.4]  \n"
     ]
    },
    {
     "name": "stdout",
     "output_type": "stream",
     "text": [
      "Epoch 58/100\n",
      "Train Loss: 0.0946 | Train Acc: 94.86%\n",
      "Val Loss: 1.0867 | Val Acc: 72.10%\n"
     ]
    },
    {
     "name": "stderr",
     "output_type": "stream",
     "text": [
      "Epoch [59/100] Training: 100%|██████████| 56/56 [00:22<00:00,  2.44it/s, accuracy=94.8, loss=0.108] \n",
      "Epoch [59/100] Validation: 100%|██████████| 14/14 [00:11<00:00,  1.19it/s, accuracy=71, loss=1.13]   \n"
     ]
    },
    {
     "name": "stdout",
     "output_type": "stream",
     "text": [
      "Epoch 59/100\n",
      "Train Loss: 0.0908 | Train Acc: 94.75%\n",
      "Val Loss: 1.0896 | Val Acc: 70.98%\n"
     ]
    },
    {
     "name": "stderr",
     "output_type": "stream",
     "text": [
      "Epoch [60/100] Training: 100%|██████████| 56/56 [00:22<00:00,  2.44it/s, accuracy=94.7, loss=0.0595]\n",
      "Epoch [60/100] Validation: 100%|██████████| 14/14 [00:11<00:00,  1.27it/s, accuracy=72.8, loss=1]    \n"
     ]
    },
    {
     "name": "stdout",
     "output_type": "stream",
     "text": [
      "Epoch 60/100\n",
      "Train Loss: 0.0962 | Train Acc: 94.70%\n",
      "Val Loss: 1.0428 | Val Acc: 72.77%\n"
     ]
    },
    {
     "name": "stderr",
     "output_type": "stream",
     "text": [
      "Epoch [61/100] Training: 100%|██████████| 56/56 [00:22<00:00,  2.48it/s, accuracy=94.7, loss=0.144] \n",
      "Epoch [61/100] Validation: 100%|██████████| 14/14 [00:11<00:00,  1.27it/s, accuracy=72.1, loss=1.15] \n"
     ]
    },
    {
     "name": "stdout",
     "output_type": "stream",
     "text": [
      "Epoch 61/100\n",
      "Train Loss: 0.0952 | Train Acc: 94.70%\n",
      "Val Loss: 1.0965 | Val Acc: 72.10%\n"
     ]
    },
    {
     "name": "stderr",
     "output_type": "stream",
     "text": [
      "Epoch [62/100] Training: 100%|██████████| 56/56 [00:22<00:00,  2.50it/s, accuracy=94.4, loss=0.0569]\n",
      "Epoch [62/100] Validation: 100%|██████████| 14/14 [00:11<00:00,  1.24it/s, accuracy=73.7, loss=1.19] \n"
     ]
    },
    {
     "name": "stdout",
     "output_type": "stream",
     "text": [
      "Epoch 62/100\n",
      "Train Loss: 0.0932 | Train Acc: 94.42%\n",
      "Val Loss: 1.0258 | Val Acc: 73.66%\n"
     ]
    },
    {
     "name": "stderr",
     "output_type": "stream",
     "text": [
      "Epoch [63/100] Training: 100%|██████████| 56/56 [00:22<00:00,  2.46it/s, accuracy=93.9, loss=0.108] \n",
      "Epoch [63/100] Validation: 100%|██████████| 14/14 [00:11<00:00,  1.25it/s, accuracy=72.1, loss=1.16] \n"
     ]
    },
    {
     "name": "stdout",
     "output_type": "stream",
     "text": [
      "Epoch 63/100\n",
      "Train Loss: 0.0987 | Train Acc: 93.91%\n",
      "Val Loss: 1.0667 | Val Acc: 72.10%\n"
     ]
    },
    {
     "name": "stderr",
     "output_type": "stream",
     "text": [
      "Epoch [64/100] Training: 100%|██████████| 56/56 [00:22<00:00,  2.48it/s, accuracy=94.5, loss=0.137]  \n",
      "Epoch [64/100] Validation: 100%|██████████| 14/14 [00:11<00:00,  1.25it/s, accuracy=72.1, loss=1.37] \n"
     ]
    },
    {
     "name": "stdout",
     "output_type": "stream",
     "text": [
      "Epoch 64/100\n",
      "Train Loss: 0.0921 | Train Acc: 94.47%\n",
      "Val Loss: 1.0900 | Val Acc: 72.10%\n"
     ]
    },
    {
     "name": "stderr",
     "output_type": "stream",
     "text": [
      "Epoch [65/100] Training: 100%|██████████| 56/56 [00:22<00:00,  2.47it/s, accuracy=94.3, loss=0.114] \n",
      "Epoch [65/100] Validation: 100%|██████████| 14/14 [00:11<00:00,  1.25it/s, accuracy=70.5, loss=1.23] \n"
     ]
    },
    {
     "name": "stdout",
     "output_type": "stream",
     "text": [
      "Epoch 65/100\n",
      "Train Loss: 0.0950 | Train Acc: 94.30%\n",
      "Val Loss: 1.0691 | Val Acc: 70.54%\n"
     ]
    },
    {
     "name": "stderr",
     "output_type": "stream",
     "text": [
      "Epoch [66/100] Training: 100%|██████████| 56/56 [00:23<00:00,  2.43it/s, accuracy=94.6, loss=0.136] \n",
      "Epoch [66/100] Validation: 100%|██████████| 14/14 [00:11<00:00,  1.25it/s, accuracy=71.7, loss=1.06] \n"
     ]
    },
    {
     "name": "stdout",
     "output_type": "stream",
     "text": [
      "Epoch 66/100\n",
      "Train Loss: 0.0933 | Train Acc: 94.64%\n",
      "Val Loss: 1.1030 | Val Acc: 71.65%\n"
     ]
    },
    {
     "name": "stderr",
     "output_type": "stream",
     "text": [
      "Epoch [67/100] Training: 100%|██████████| 56/56 [00:22<00:00,  2.45it/s, accuracy=94.1, loss=0.156] \n",
      "Epoch [67/100] Validation: 100%|██████████| 14/14 [00:11<00:00,  1.24it/s, accuracy=72.5, loss=1.28] \n"
     ]
    },
    {
     "name": "stdout",
     "output_type": "stream",
     "text": [
      "Epoch 67/100\n",
      "Train Loss: 0.0958 | Train Acc: 94.08%\n",
      "Val Loss: 1.0826 | Val Acc: 72.54%\n"
     ]
    },
    {
     "name": "stderr",
     "output_type": "stream",
     "text": [
      "Epoch [68/100] Training: 100%|██████████| 56/56 [00:22<00:00,  2.47it/s, accuracy=93.9, loss=0.0682] \n",
      "Epoch [68/100] Validation: 100%|██████████| 14/14 [00:11<00:00,  1.24it/s, accuracy=71.4, loss=1.21]\n"
     ]
    },
    {
     "name": "stdout",
     "output_type": "stream",
     "text": [
      "Epoch 68/100\n",
      "Train Loss: 0.1006 | Train Acc: 93.91%\n",
      "Val Loss: 1.1266 | Val Acc: 71.43%\n"
     ]
    },
    {
     "name": "stderr",
     "output_type": "stream",
     "text": [
      "Epoch [69/100] Training: 100%|██████████| 56/56 [00:22<00:00,  2.48it/s, accuracy=94, loss=0.054]   \n",
      "Epoch [69/100] Validation: 100%|██████████| 14/14 [00:11<00:00,  1.21it/s, accuracy=72.3, loss=1.14] \n"
     ]
    },
    {
     "name": "stdout",
     "output_type": "stream",
     "text": [
      "Epoch 69/100\n",
      "Train Loss: 0.0968 | Train Acc: 93.97%\n",
      "Val Loss: 1.0547 | Val Acc: 72.32%\n"
     ]
    },
    {
     "name": "stderr",
     "output_type": "stream",
     "text": [
      "Epoch [70/100] Training: 100%|██████████| 56/56 [00:23<00:00,  2.38it/s, accuracy=95, loss=0.106]   \n",
      "Epoch [70/100] Validation: 100%|██████████| 14/14 [00:11<00:00,  1.24it/s, accuracy=71.9, loss=1.31] \n"
     ]
    },
    {
     "name": "stdout",
     "output_type": "stream",
     "text": [
      "Epoch 70/100\n",
      "Train Loss: 0.0939 | Train Acc: 94.97%\n",
      "Val Loss: 1.0642 | Val Acc: 71.88%\n"
     ]
    },
    {
     "name": "stderr",
     "output_type": "stream",
     "text": [
      "Epoch [71/100] Training: 100%|██████████| 56/56 [00:24<00:00,  2.33it/s, accuracy=94.2, loss=0.027]  \n",
      "Epoch [71/100] Validation: 100%|██████████| 14/14 [00:11<00:00,  1.23it/s, accuracy=73.2, loss=1.32] \n"
     ]
    },
    {
     "name": "stdout",
     "output_type": "stream",
     "text": [
      "Epoch 71/100\n",
      "Train Loss: 0.0961 | Train Acc: 94.19%\n",
      "Val Loss: 1.0686 | Val Acc: 73.21%\n"
     ]
    },
    {
     "name": "stderr",
     "output_type": "stream",
     "text": [
      "Epoch [72/100] Training: 100%|██████████| 56/56 [00:23<00:00,  2.39it/s, accuracy=95.1, loss=0.132] \n",
      "Epoch [72/100] Validation: 100%|██████████| 14/14 [00:11<00:00,  1.23it/s, accuracy=72.8, loss=1.21] \n"
     ]
    },
    {
     "name": "stdout",
     "output_type": "stream",
     "text": [
      "Epoch 72/100\n",
      "Train Loss: 0.0891 | Train Acc: 95.14%\n",
      "Val Loss: 1.1164 | Val Acc: 72.77%\n"
     ]
    },
    {
     "name": "stderr",
     "output_type": "stream",
     "text": [
      "Epoch [73/100] Training: 100%|██████████| 56/56 [00:23<00:00,  2.36it/s, accuracy=95.5, loss=0.0235]\n",
      "Epoch [73/100] Validation: 100%|██████████| 14/14 [00:11<00:00,  1.17it/s, accuracy=73.2, loss=1.34] \n"
     ]
    },
    {
     "name": "stdout",
     "output_type": "stream",
     "text": [
      "Epoch 73/100\n",
      "Train Loss: 0.0884 | Train Acc: 95.48%\n",
      "Val Loss: 1.1089 | Val Acc: 73.21%\n"
     ]
    },
    {
     "name": "stderr",
     "output_type": "stream",
     "text": [
      "Epoch [74/100] Training: 100%|██████████| 56/56 [00:23<00:00,  2.36it/s, accuracy=94.7, loss=0.0914]\n",
      "Epoch [74/100] Validation: 100%|██████████| 14/14 [00:11<00:00,  1.25it/s, accuracy=71, loss=1.32]   \n"
     ]
    },
    {
     "name": "stdout",
     "output_type": "stream",
     "text": [
      "Epoch 74/100\n",
      "Train Loss: 0.0907 | Train Acc: 94.70%\n",
      "Val Loss: 1.0806 | Val Acc: 70.98%\n"
     ]
    },
    {
     "name": "stderr",
     "output_type": "stream",
     "text": [
      "Epoch [75/100] Training: 100%|██████████| 56/56 [00:22<00:00,  2.47it/s, accuracy=95, loss=0.157]   \n",
      "Epoch [75/100] Validation: 100%|██████████| 14/14 [00:10<00:00,  1.27it/s, accuracy=71.7, loss=1.18]\n"
     ]
    },
    {
     "name": "stdout",
     "output_type": "stream",
     "text": [
      "Epoch 75/100\n",
      "Train Loss: 0.0915 | Train Acc: 94.97%\n",
      "Val Loss: 1.0967 | Val Acc: 71.65%\n"
     ]
    },
    {
     "name": "stderr",
     "output_type": "stream",
     "text": [
      "Epoch [76/100] Training: 100%|██████████| 56/56 [00:22<00:00,  2.46it/s, accuracy=94.1, loss=0.0435]\n",
      "Epoch [76/100] Validation: 100%|██████████| 14/14 [00:10<00:00,  1.27it/s, accuracy=70.3, loss=1.25] \n"
     ]
    },
    {
     "name": "stdout",
     "output_type": "stream",
     "text": [
      "Epoch 76/100\n",
      "Train Loss: 0.0979 | Train Acc: 94.08%\n",
      "Val Loss: 1.0718 | Val Acc: 70.31%\n"
     ]
    },
    {
     "name": "stderr",
     "output_type": "stream",
     "text": [
      "Epoch [77/100] Training: 100%|██████████| 56/56 [00:22<00:00,  2.46it/s, accuracy=94.9, loss=0.113] \n",
      "Epoch [77/100] Validation: 100%|██████████| 14/14 [00:11<00:00,  1.27it/s, accuracy=71.2, loss=1.03] \n"
     ]
    },
    {
     "name": "stdout",
     "output_type": "stream",
     "text": [
      "Epoch 77/100\n",
      "Train Loss: 0.0919 | Train Acc: 94.92%\n",
      "Val Loss: 1.1136 | Val Acc: 71.21%\n"
     ]
    },
    {
     "name": "stderr",
     "output_type": "stream",
     "text": [
      "Epoch [78/100] Training: 100%|██████████| 56/56 [00:23<00:00,  2.39it/s, accuracy=95.1, loss=0.0855]\n",
      "Epoch [78/100] Validation: 100%|██████████| 14/14 [00:11<00:00,  1.24it/s, accuracy=73, loss=1.11]   \n"
     ]
    },
    {
     "name": "stdout",
     "output_type": "stream",
     "text": [
      "Epoch 78/100\n",
      "Train Loss: 0.0904 | Train Acc: 95.09%\n",
      "Val Loss: 1.0586 | Val Acc: 72.99%\n"
     ]
    },
    {
     "name": "stderr",
     "output_type": "stream",
     "text": [
      "Epoch [79/100] Training: 100%|██████████| 56/56 [00:23<00:00,  2.42it/s, accuracy=94.6, loss=0.186] \n",
      "Epoch [79/100] Validation: 100%|██████████| 14/14 [00:11<00:00,  1.20it/s, accuracy=72.1, loss=1.42] \n"
     ]
    },
    {
     "name": "stdout",
     "output_type": "stream",
     "text": [
      "Epoch 79/100\n",
      "Train Loss: 0.0953 | Train Acc: 94.64%\n",
      "Val Loss: 1.0440 | Val Acc: 72.10%\n"
     ]
    },
    {
     "name": "stderr",
     "output_type": "stream",
     "text": [
      "Epoch [80/100] Training: 100%|██████████| 56/56 [00:23<00:00,  2.43it/s, accuracy=95, loss=0.191]   \n",
      "Epoch [80/100] Validation: 100%|██████████| 14/14 [00:11<00:00,  1.24it/s, accuracy=72.3, loss=1.16] \n"
     ]
    },
    {
     "name": "stdout",
     "output_type": "stream",
     "text": [
      "Epoch 80/100\n",
      "Train Loss: 0.0914 | Train Acc: 95.03%\n",
      "Val Loss: 1.0487 | Val Acc: 72.32%\n"
     ]
    },
    {
     "name": "stderr",
     "output_type": "stream",
     "text": [
      "Epoch [81/100] Training: 100%|██████████| 56/56 [00:22<00:00,  2.46it/s, accuracy=94.2, loss=0.081]  \n",
      "Epoch [81/100] Validation: 100%|██████████| 14/14 [00:11<00:00,  1.19it/s, accuracy=71.9, loss=1.25] \n"
     ]
    },
    {
     "name": "stdout",
     "output_type": "stream",
     "text": [
      "Epoch 81/100\n",
      "Train Loss: 0.1049 | Train Acc: 94.25%\n",
      "Val Loss: 1.0554 | Val Acc: 71.88%\n"
     ]
    },
    {
     "name": "stderr",
     "output_type": "stream",
     "text": [
      "Epoch [82/100] Training: 100%|██████████| 56/56 [00:23<00:00,  2.34it/s, accuracy=94.7, loss=0.0887] \n",
      "Epoch [82/100] Validation: 100%|██████████| 14/14 [00:11<00:00,  1.22it/s, accuracy=72.1, loss=1.23] \n"
     ]
    },
    {
     "name": "stdout",
     "output_type": "stream",
     "text": [
      "Epoch 82/100\n",
      "Train Loss: 0.0927 | Train Acc: 94.70%\n",
      "Val Loss: 1.0588 | Val Acc: 72.10%\n"
     ]
    },
    {
     "name": "stderr",
     "output_type": "stream",
     "text": [
      "Epoch [83/100] Training: 100%|██████████| 56/56 [00:23<00:00,  2.41it/s, accuracy=94.4, loss=0.0171] \n",
      "Epoch [83/100] Validation: 100%|██████████| 14/14 [00:11<00:00,  1.23it/s, accuracy=72.1, loss=1.31] \n"
     ]
    },
    {
     "name": "stdout",
     "output_type": "stream",
     "text": [
      "Epoch 83/100\n",
      "Train Loss: 0.0968 | Train Acc: 94.36%\n",
      "Val Loss: 1.0776 | Val Acc: 72.10%\n"
     ]
    },
    {
     "name": "stderr",
     "output_type": "stream",
     "text": [
      "Epoch [84/100] Training: 100%|██████████| 56/56 [00:23<00:00,  2.43it/s, accuracy=94.8, loss=0.0638]\n",
      "Epoch [84/100] Validation: 100%|██████████| 14/14 [00:11<00:00,  1.23it/s, accuracy=71.9, loss=1.48]\n"
     ]
    },
    {
     "name": "stdout",
     "output_type": "stream",
     "text": [
      "Epoch 84/100\n",
      "Train Loss: 0.0911 | Train Acc: 94.75%\n",
      "Val Loss: 1.0809 | Val Acc: 71.88%\n"
     ]
    },
    {
     "name": "stderr",
     "output_type": "stream",
     "text": [
      "Epoch [85/100] Training: 100%|██████████| 56/56 [00:23<00:00,  2.43it/s, accuracy=94.2, loss=0.0496]\n",
      "Epoch [85/100] Validation: 100%|██████████| 14/14 [00:11<00:00,  1.25it/s, accuracy=70.3, loss=1.24] \n"
     ]
    },
    {
     "name": "stdout",
     "output_type": "stream",
     "text": [
      "Epoch 85/100\n",
      "Train Loss: 0.0969 | Train Acc: 94.19%\n",
      "Val Loss: 1.0990 | Val Acc: 70.31%\n"
     ]
    },
    {
     "name": "stderr",
     "output_type": "stream",
     "text": [
      "Epoch [86/100] Training: 100%|██████████| 56/56 [00:24<00:00,  2.30it/s, accuracy=94.7, loss=0.105] \n",
      "Epoch [86/100] Validation: 100%|██████████| 14/14 [00:11<00:00,  1.23it/s, accuracy=72.5, loss=1.22] \n"
     ]
    },
    {
     "name": "stdout",
     "output_type": "stream",
     "text": [
      "Epoch 86/100\n",
      "Train Loss: 0.0903 | Train Acc: 94.70%\n",
      "Val Loss: 1.0317 | Val Acc: 72.54%\n"
     ]
    },
    {
     "name": "stderr",
     "output_type": "stream",
     "text": [
      "Epoch [87/100] Training: 100%|██████████| 56/56 [00:24<00:00,  2.28it/s, accuracy=94.8, loss=0.165] \n",
      "Epoch [87/100] Validation: 100%|██████████| 14/14 [00:11<00:00,  1.22it/s, accuracy=71.7, loss=1.1]  \n"
     ]
    },
    {
     "name": "stdout",
     "output_type": "stream",
     "text": [
      "Epoch 87/100\n",
      "Train Loss: 0.0934 | Train Acc: 94.81%\n",
      "Val Loss: 1.0311 | Val Acc: 71.65%\n"
     ]
    },
    {
     "name": "stderr",
     "output_type": "stream",
     "text": [
      "Epoch [88/100] Training: 100%|██████████| 56/56 [00:25<00:00,  2.21it/s, accuracy=95, loss=0.0339]  \n",
      "Epoch [88/100] Validation: 100%|██████████| 14/14 [00:11<00:00,  1.22it/s, accuracy=73, loss=1.29]   \n"
     ]
    },
    {
     "name": "stdout",
     "output_type": "stream",
     "text": [
      "Epoch 88/100\n",
      "Train Loss: 0.0935 | Train Acc: 95.03%\n",
      "Val Loss: 1.0485 | Val Acc: 72.99%\n"
     ]
    },
    {
     "name": "stderr",
     "output_type": "stream",
     "text": [
      "Epoch [89/100] Training: 100%|██████████| 56/56 [00:25<00:00,  2.23it/s, accuracy=94.9, loss=0.0869] \n",
      "Epoch [89/100] Validation: 100%|██████████| 14/14 [00:11<00:00,  1.26it/s, accuracy=73, loss=1.19]   \n"
     ]
    },
    {
     "name": "stdout",
     "output_type": "stream",
     "text": [
      "Epoch 89/100\n",
      "Train Loss: 0.0929 | Train Acc: 94.86%\n",
      "Val Loss: 1.0569 | Val Acc: 72.99%\n"
     ]
    },
    {
     "name": "stderr",
     "output_type": "stream",
     "text": [
      "Epoch [90/100] Training: 100%|██████████| 56/56 [00:23<00:00,  2.40it/s, accuracy=95.3, loss=0.0403]\n",
      "Epoch [90/100] Validation: 100%|██████████| 14/14 [00:11<00:00,  1.27it/s, accuracy=71.4, loss=1.3]  \n"
     ]
    },
    {
     "name": "stdout",
     "output_type": "stream",
     "text": [
      "Epoch 90/100\n",
      "Train Loss: 0.0885 | Train Acc: 95.25%\n",
      "Val Loss: 1.0577 | Val Acc: 71.43%\n"
     ]
    },
    {
     "name": "stderr",
     "output_type": "stream",
     "text": [
      "Epoch [91/100] Training: 100%|██████████| 56/56 [00:22<00:00,  2.49it/s, accuracy=94.3, loss=0.0841]\n",
      "Epoch [91/100] Validation: 100%|██████████| 14/14 [00:10<00:00,  1.28it/s, accuracy=71.7, loss=1.11] \n"
     ]
    },
    {
     "name": "stdout",
     "output_type": "stream",
     "text": [
      "Epoch 91/100\n",
      "Train Loss: 0.0986 | Train Acc: 94.30%\n",
      "Val Loss: 1.0918 | Val Acc: 71.65%\n"
     ]
    },
    {
     "name": "stderr",
     "output_type": "stream",
     "text": [
      "Epoch [92/100] Training: 100%|██████████| 56/56 [00:22<00:00,  2.47it/s, accuracy=94.2, loss=0.223]  \n",
      "Epoch [92/100] Validation: 100%|██████████| 14/14 [00:11<00:00,  1.27it/s, accuracy=73.2, loss=1.3]  \n"
     ]
    },
    {
     "name": "stdout",
     "output_type": "stream",
     "text": [
      "Epoch 92/100\n",
      "Train Loss: 0.0938 | Train Acc: 94.19%\n",
      "Val Loss: 1.0275 | Val Acc: 73.21%\n"
     ]
    },
    {
     "name": "stderr",
     "output_type": "stream",
     "text": [
      "Epoch [93/100] Training: 100%|██████████| 56/56 [00:22<00:00,  2.52it/s, accuracy=94.5, loss=0.164] \n",
      "Epoch [93/100] Validation: 100%|██████████| 14/14 [00:10<00:00,  1.27it/s, accuracy=71.9, loss=1.16] \n"
     ]
    },
    {
     "name": "stdout",
     "output_type": "stream",
     "text": [
      "Epoch 93/100\n",
      "Train Loss: 0.0944 | Train Acc: 94.53%\n",
      "Val Loss: 1.0970 | Val Acc: 71.88%\n"
     ]
    },
    {
     "name": "stderr",
     "output_type": "stream",
     "text": [
      "Epoch [94/100] Training: 100%|██████████| 56/56 [00:22<00:00,  2.50it/s, accuracy=94.2, loss=0.15]  \n",
      "Epoch [94/100] Validation: 100%|██████████| 14/14 [00:10<00:00,  1.28it/s, accuracy=72.3, loss=1.02] \n"
     ]
    },
    {
     "name": "stdout",
     "output_type": "stream",
     "text": [
      "Epoch 94/100\n",
      "Train Loss: 0.0933 | Train Acc: 94.25%\n",
      "Val Loss: 1.0466 | Val Acc: 72.32%\n"
     ]
    },
    {
     "name": "stderr",
     "output_type": "stream",
     "text": [
      "Epoch [95/100] Training: 100%|██████████| 56/56 [00:22<00:00,  2.51it/s, accuracy=94.6, loss=0.138] \n",
      "Epoch [95/100] Validation: 100%|██████████| 14/14 [00:10<00:00,  1.28it/s, accuracy=71.9, loss=1.46] \n"
     ]
    },
    {
     "name": "stdout",
     "output_type": "stream",
     "text": [
      "Epoch 95/100\n",
      "Train Loss: 0.0968 | Train Acc: 94.58%\n",
      "Val Loss: 1.1019 | Val Acc: 71.88%\n"
     ]
    },
    {
     "name": "stderr",
     "output_type": "stream",
     "text": [
      "Epoch [96/100] Training: 100%|██████████| 56/56 [00:22<00:00,  2.48it/s, accuracy=93.5, loss=0.143]  \n",
      "Epoch [96/100] Validation: 100%|██████████| 14/14 [00:10<00:00,  1.28it/s, accuracy=71.7, loss=1.26] \n"
     ]
    },
    {
     "name": "stdout",
     "output_type": "stream",
     "text": [
      "Epoch 96/100\n",
      "Train Loss: 0.0988 | Train Acc: 93.52%\n",
      "Val Loss: 1.0910 | Val Acc: 71.65%\n"
     ]
    },
    {
     "name": "stderr",
     "output_type": "stream",
     "text": [
      "Epoch [97/100] Training: 100%|██████████| 56/56 [00:22<00:00,  2.52it/s, accuracy=95.1, loss=0.116] \n",
      "Epoch [97/100] Validation: 100%|██████████| 14/14 [00:11<00:00,  1.27it/s, accuracy=71.4, loss=1.16]\n"
     ]
    },
    {
     "name": "stdout",
     "output_type": "stream",
     "text": [
      "Epoch 97/100\n",
      "Train Loss: 0.0924 | Train Acc: 95.09%\n",
      "Val Loss: 1.1121 | Val Acc: 71.43%\n"
     ]
    },
    {
     "name": "stderr",
     "output_type": "stream",
     "text": [
      "Epoch [98/100] Training: 100%|██████████| 56/56 [00:22<00:00,  2.50it/s, accuracy=95.1, loss=0.0436]\n",
      "Epoch [98/100] Validation: 100%|██████████| 14/14 [00:10<00:00,  1.27it/s, accuracy=72.3, loss=1.12] \n"
     ]
    },
    {
     "name": "stdout",
     "output_type": "stream",
     "text": [
      "Epoch 98/100\n",
      "Train Loss: 0.0944 | Train Acc: 95.09%\n",
      "Val Loss: 1.0730 | Val Acc: 72.32%\n"
     ]
    },
    {
     "name": "stderr",
     "output_type": "stream",
     "text": [
      "Epoch [99/100] Training: 100%|██████████| 56/56 [00:22<00:00,  2.50it/s, accuracy=94.5, loss=0.125] \n",
      "Epoch [99/100] Validation: 100%|██████████| 14/14 [00:10<00:00,  1.28it/s, accuracy=71.7, loss=1.14] \n"
     ]
    },
    {
     "name": "stdout",
     "output_type": "stream",
     "text": [
      "Epoch 99/100\n",
      "Train Loss: 0.0994 | Train Acc: 94.47%\n",
      "Val Loss: 1.0802 | Val Acc: 71.65%\n"
     ]
    },
    {
     "name": "stderr",
     "output_type": "stream",
     "text": [
      "Epoch [100/100] Training: 100%|██████████| 56/56 [00:22<00:00,  2.51it/s, accuracy=94.1, loss=0.105] \n",
      "Epoch [100/100] Validation: 100%|██████████| 14/14 [00:10<00:00,  1.28it/s, accuracy=72.3, loss=1.41] "
     ]
    },
    {
     "name": "stdout",
     "output_type": "stream",
     "text": [
      "Epoch 100/100\n",
      "Train Loss: 0.0992 | Train Acc: 94.08%\n",
      "Val Loss: 1.0966 | Val Acc: 72.32%\n"
     ]
    },
    {
     "name": "stderr",
     "output_type": "stream",
     "text": [
      "\n"
     ]
    }
   ],
   "source": [
    "# Training setup\n",
    "criterion = nn.CrossEntropyLoss()\n",
    "optimizer = optim.AdamW(model.parameters(), lr=1e-4, weight_decay=1e-4)\n",
    "scheduler = optim.lr_scheduler.ReduceLROnPlateau(optimizer, mode='min', patience=3, verbose=True)\n",
    "\n",
    "# Lists to store loss and accuracy for plotting\n",
    "train_losses, val_losses = [], []\n",
    "train_accuracies, val_accuracies = [], []\n",
    "\n",
    "# Training loop\n",
    "num_epochs = 100\n",
    "csv_filename = \"resnet_training_metrics.csv\"\n",
    "metrics_df = pd.DataFrame(columns=[\"Epoch\", \"Train Loss\", \"Train Accuracy\", \"Val Loss\", \"Val Accuracy\"])\n",
    "metrics_df.to_csv(csv_filename, index=False)\n",
    "\n",
    "for epoch in range(num_epochs):\n",
    "    # Training phase\n",
    "    model.train()\n",
    "    running_loss = 0.0\n",
    "    correct, total = 0, 0\n",
    "    \n",
    "    train_loop = tqdm(train_loader, desc=f\"Epoch [{epoch+1}/{num_epochs}] Training\")\n",
    "    for images, labels in train_loop:\n",
    "        images, labels = images.to(device), labels.to(device)\n",
    "        \n",
    "        optimizer.zero_grad()\n",
    "        outputs = model(images)\n",
    "        loss = criterion(outputs, labels)\n",
    "        loss.backward()\n",
    "        optimizer.step()\n",
    "        \n",
    "        _, predicted = torch.max(outputs.data, 1)\n",
    "        total += labels.size(0)\n",
    "        correct += (predicted == labels).sum().item()\n",
    "        running_loss += loss.item()\n",
    "        \n",
    "        train_loop.set_postfix(loss=loss.item(), accuracy=100 * correct / total)\n",
    "    \n",
    "    train_loss = running_loss / len(train_loader)\n",
    "    train_acc = 100 * correct / total\n",
    "    train_losses.append(train_loss)  # Store for plotting\n",
    "    train_accuracies.append(train_acc)  # Store for plotting\n",
    "\n",
    "    # Validation phase\n",
    "    model.eval()\n",
    "    val_running_loss = 0.0\n",
    "    correct, total = 0, 0\n",
    "    \n",
    "    val_loop = tqdm(val_loader, desc=f\"Epoch [{epoch+1}/{num_epochs}] Validation\")\n",
    "    with torch.no_grad():\n",
    "        for images, labels in val_loop:\n",
    "            images, labels = images.to(device), labels.to(device)\n",
    "            outputs = model(images)\n",
    "            loss = criterion(outputs, labels)\n",
    "            \n",
    "            val_running_loss += loss.item()\n",
    "            _, predicted = torch.max(outputs.data, 1)\n",
    "            total += labels.size(0)\n",
    "            correct += (predicted == labels).sum().item()\n",
    "            \n",
    "            val_loop.set_postfix(loss=loss.item(), accuracy=100 * correct / total)\n",
    "    \n",
    "    val_loss = val_running_loss / len(val_loader)\n",
    "    val_acc = 100 * correct / total\n",
    "    val_losses.append(val_loss)  # Store for plotting\n",
    "    val_accuracies.append(val_acc)  # Store for plotting\n",
    "\n",
    "    scheduler.step(val_loss)\n",
    "    \n",
    "    # Save metrics\n",
    "    epoch_df = pd.DataFrame([[epoch+1, train_loss, train_acc, val_loss, val_acc]],\n",
    "                           columns=[\"Epoch\", \"Train Loss\", \"Train Accuracy\", \"Val Loss\", \"Val Accuracy\"])\n",
    "    epoch_df.to_csv(csv_filename, mode='a', header=False, index=False)\n",
    "    \n",
    "    print(f\"Epoch {epoch+1}/{num_epochs}\")\n",
    "    print(f\"Train Loss: {train_loss:.4f} | Train Acc: {train_acc:.2f}%\")\n",
    "    print(f\"Val Loss: {val_loss:.4f} | Val Acc: {val_acc:.2f}%\")\n"
   ]
  },
  {
   "cell_type": "code",
   "execution_count": 11,
   "metadata": {},
   "outputs": [
    {
     "name": "stdout",
     "output_type": "stream",
     "text": [
      "Model saved successfully!\n"
     ]
    }
   ],
   "source": [
    "# Save the model's state dictionary\n",
    "torch.save(model.state_dict(), \"skin_cancer_model-resnet50.pth\")\n",
    "\n",
    "print(\"Model saved successfully!\")"
   ]
  },
  {
   "cell_type": "code",
   "execution_count": 13,
   "metadata": {},
   "outputs": [
    {
     "data": {
      "image/png": "[encoded data removed]",
      "text/plain": [
       "<Figure size 1000x500 with 1 Axes>"
      ]
     },
     "metadata": {},
     "output_type": "display_data"
    },
    {
     "data": {
      "image/png": "[encoded data removed]",
      "text/plain": [
       "<Figure size 1000x500 with 1 Axes>"
      ]
     },
     "metadata": {},
     "output_type": "display_data"
    }
   ],
   "source": [
    "import matplotlib.pyplot as plt\n",
    "\n",
    "# Plot training and validation loss\n",
    "plt.figure(figsize=(10, 5))\n",
    "plt.plot(train_losses, label='Training Loss')\n",
    "plt.plot(val_losses, label='Validation Loss')\n",
    "plt.xlabel('Epoch')\n",
    "plt.ylabel('Loss')\n",
    "plt.legend()\n",
    "plt.title('Loss Curves')\n",
    "plt.show()\n",
    "\n",
    "# Plot training and validation accuracy\n",
    "plt.figure(figsize=(10, 5))\n",
    "plt.plot(train_accuracies, label='Training Accuracy')\n",
    "plt.plot(val_accuracies, label='Validation Accuracy')\n",
    "plt.xlabel('Epoch')\n",
    "plt.ylabel('Accuracy')\n",
    "plt.legend()\n",
    "plt.title('Accuracy Curves')\n",
    "plt.show()"
   ]
  },
  {
   "cell_type": "code",
   "execution_count": 19,
   "metadata": {},
   "outputs": [
    {
     "name": "stderr",
     "output_type": "stream",
     "text": [
      "Testing ResNet: 100%|███████████████████████| 4/4 [00:06<00:00,  1.52s/it, accuracy=52.5, loss=2.26]"
     ]
    },
    {
     "name": "stdout",
     "output_type": "stream",
     "text": [
      "Test Loss: 2.2604, Test Accuracy: 52.54%\n"
     ]
    },
    {
     "name": "stderr",
     "output_type": "stream",
     "text": [
      "\n"
     ]
    }
   ],
   "source": [
    "# Ensure the model is in evaluation mode\n",
    "model.eval()\n",
    "\n",
    "# Initialize variables to track test loss and accuracy\n",
    "test_loss = 0.0\n",
    "correct = 0\n",
    "total = 0\n",
    "\n",
    "# Disable gradient computation for testing\n",
    "with torch.no_grad():\n",
    "    # Wrap test_loader with tqdm for a progress bar\n",
    "    test_loop = tqdm(test_loader, desc=\"Testing ResNet\", ncols=100)\n",
    "    for images, labels in test_loop:\n",
    "        images, labels = images.to(device), labels.to(device)\n",
    "\n",
    "        # Forward pass through the ResNet model\n",
    "        outputs = model(images)  # This will return logits directly for ResNet\n",
    "        \n",
    "        # Access the logits from the model's output object (ResNet outputs logits)\n",
    "        logits = outputs  # For ResNet, we can directly use the output as logits\n",
    "\n",
    "        # Compute loss\n",
    "        loss = criterion(logits, labels)\n",
    "\n",
    "        # Accumulate loss\n",
    "        test_loss += loss.item() * images.size(0)  # Scale loss by batch size\n",
    "\n",
    "        # Compute accuracy\n",
    "        _, predicted = torch.max(logits.detach(), 1)  # Use .detach() instead of .data\n",
    "        total += labels.size(0)\n",
    "        correct += (predicted == labels).sum().item()\n",
    "\n",
    "        # Update the progress bar with loss and accuracy\n",
    "        test_loop.set_postfix(loss=test_loss / total, accuracy=(correct / total) * 100)\n",
    "\n",
    "# Compute final test loss and accuracy\n",
    "test_loss /= total  # Normalize loss properly\n",
    "test_accuracy = 100 * correct / total\n",
    "\n",
    "# Print the results\n",
    "print(f\"Test Loss: {test_loss:.4f}, Test Accuracy: {test_accuracy:.2f}%\")\n",
    "\n"
   ]
  },
  {
   "cell_type": "code",
   "execution_count": 20,
   "metadata": {},
   "outputs": [
    {
     "data": {
      "image/png": "[encoded data removed]",
      "text/plain": [
       "<Figure size 1000x500 with 1 Axes>"
      ]
     },
     "metadata": {},
     "output_type": "display_data"
    },
    {
     "data": {
      "image/png": "[encoded data removed]",
      "text/plain": [
       "<Figure size 1000x500 with 1 Axes>"
      ]
     },
     "metadata": {},
     "output_type": "display_data"
    }
   ],
   "source": [
    "import matplotlib.pyplot as plt\n",
    "\n",
    "# Plot training, validation, and test loss\n",
    "plt.figure(figsize=(10, 5))\n",
    "plt.plot(train_losses, label='Training Loss')\n",
    "plt.plot(val_losses, label='Validation Loss')\n",
    "plt.axhline(y=test_loss, color='r', linestyle='--', label='Test Loss')  # Add test loss as a horizontal line\n",
    "plt.xlabel('Epoch')\n",
    "plt.ylabel('Loss')\n",
    "plt.legend()\n",
    "plt.title('Loss Curves')\n",
    "plt.show()\n",
    "\n",
    "# Plot training, validation, and test accuracy\n",
    "plt.figure(figsize=(10, 5))\n",
    "plt.plot(train_accuracies, label='Training Accuracy')\n",
    "plt.plot(val_accuracies, label='Validation Accuracy')\n",
    "plt.axhline(y=test_acc, color='r', linestyle='--', label='Test Accuracy')  # Add test accuracy as a horizontal line\n",
    "plt.xlabel('Epoch')\n",
    "plt.ylabel('Accuracy')\n",
    "plt.legend()\n",
    "plt.title('Accuracy Curves')\n",
    "plt.show()"
   ]
  },
  {
   "cell_type": "code",
   "execution_count": 26,
   "metadata": {},
   "outputs": [
    {
     "data": {
      "image/png": "[encoded data removed]",
      "text/plain": [
       "<Figure size 1000x800 with 2 Axes>"
      ]
     },
     "metadata": {},
     "output_type": "display_data"
    }
   ],
   "source": [
    "import numpy as np\n",
    "import matplotlib.pyplot as plt\n",
    "from sklearn.metrics import confusion_matrix\n",
    "import seaborn as sns\n",
    "import torch\n",
    "\n",
    "# Ensure the model is in evaluation mode\n",
    "model.eval()\n",
    "\n",
    "# Initialize lists to store predictions and labels\n",
    "all_preds = []\n",
    "all_labels = []\n",
    "\n",
    "# Disable gradient computation for evaluation\n",
    "with torch.no_grad():\n",
    "    for images, labels in test_loader:  # Use test_loader for unseen data\n",
    "        images, labels = images.to(device), labels.to(device)\n",
    "\n",
    "        # Forward pass through the ResNet model\n",
    "        outputs = model(images)  # ResNet directly outputs logits\n",
    "        \n",
    "        # Extract logits\n",
    "        logits = outputs\n",
    "\n",
    "        # Get predicted class\n",
    "        _, preds = torch.max(logits, 1)\n",
    "\n",
    "        # Store predictions and labels\n",
    "        all_preds.extend(preds.cpu().numpy())\n",
    "        all_labels.extend(labels.cpu().numpy())\n",
    "\n",
    "# Compute the confusion matrix\n",
    "cm = confusion_matrix(all_labels, all_preds)\n",
    "\n",
    "# Plot the confusion matrix\n",
    "plt.figure(figsize=(10, 8))\n",
    "sns.heatmap(cm, annot=True, fmt='d', cmap='Blues', xticklabels=test_dataset.classes, yticklabels=test_dataset.classes)\n",
    "plt.xlabel('Predicted Labels')\n",
    "plt.ylabel('True Labels')\n",
    "plt.title('Confusion Matrix for ResNet on Test Data')\n",
    "plt.show()\n",
    "\n"
   ]
  },
  {
   "cell_type": "code",
   "execution_count": 22,
   "metadata": {},
   "outputs": [
    {
     "data": {
      "image/png": "[encoded data removed]",
      "text/plain": [
       "<Figure size 1000x800 with 2 Axes>"
      ]
     },
     "metadata": {},
     "output_type": "display_data"
    }
   ],
   "source": [
    "import numpy as np\n",
    "import matplotlib.pyplot as plt\n",
    "from sklearn.metrics import confusion_matrix\n",
    "import seaborn as sns\n",
    "import torch\n",
    "\n",
    "# Ensure the model is in evaluation mode\n",
    "model.eval()\n",
    "\n",
    "# Initialize lists to store predictions and labels for test data\n",
    "all_preds_test = []\n",
    "all_labels_test = []\n",
    "\n",
    "# Disable gradient computation for test set evaluation\n",
    "with torch.no_grad():\n",
    "    for images, labels in test_loader:  # Use test_loader\n",
    "        images, labels = images.to(device), labels.to(device)\n",
    "\n",
    "        # Forward pass through the ResNet model\n",
    "        outputs = model(images)  # ResNet returns logits directly\n",
    "        \n",
    "        # Extract logits from the model's output object (ResNet's output is already logits)\n",
    "        logits = outputs\n",
    "\n",
    "        # Get predicted class\n",
    "        _, preds = torch.max(logits, 1)\n",
    "\n",
    "        # Store predictions and labels\n",
    "        all_preds_test.extend(preds.cpu().numpy())\n",
    "        all_labels_test.extend(labels.cpu().numpy())\n",
    "\n",
    "# Compute the confusion matrix for test data\n",
    "cm_test = confusion_matrix(all_labels_test, all_preds_test)\n",
    "\n",
    "# Check if test_dataset has class names\n",
    "class_names = test_dataset.classes if hasattr(test_dataset, 'classes') else [str(i) for i in range(len(cm_test))]\n",
    "\n",
    "# Plot the confusion matrix for test data\n",
    "plt.figure(figsize=(10, 8))\n",
    "sns.heatmap(cm_test, annot=True, fmt='d', cmap='Blues', xticklabels=class_names, yticklabels=class_names)\n",
    "plt.xlabel('Predicted Labels')\n",
    "plt.ylabel('True Labels')\n",
    "plt.title('Confusion Matrix (Test Set)')\n",
    "plt.show()\n",
    "\n"
   ]
  },
  {
   "cell_type": "code",
   "execution_count": 27,
   "metadata": {},
   "outputs": [
    {
     "name": "stdout",
     "output_type": "stream",
     "text": [
      "Training F1 Score: 0.951\n",
      "Training Precision: 0.9544\n",
      "Training Recall: 0.9486\n"
     ]
    }
   ],
   "source": [
    "from sklearn.metrics import f1_score, precision_score, recall_score\n",
    "\n",
    "# Ensure the model is in evaluation mode\n",
    "model.eval()\n",
    "\n",
    "# Initialize lists to store predictions and labels for training data\n",
    "all_preds_train = []\n",
    "all_labels_train = []\n",
    "\n",
    "# Disable gradient computation for training set evaluation\n",
    "with torch.no_grad():\n",
    "    for images, labels in train_loader:  # Use train_loader\n",
    "        images, labels = images.to(device), labels.to(device)\n",
    "\n",
    "        # Forward pass through the ResNet model\n",
    "        outputs = model(images)  # ResNet returns logits directly\n",
    "        \n",
    "        # Extract logits (For ResNet, logits are directly the output)\n",
    "        logits = outputs  # No need to use .logits as with transformers\n",
    "\n",
    "        # Get predicted class\n",
    "        _, preds = torch.max(logits, 1)\n",
    "\n",
    "        # Store predictions and labels\n",
    "        all_preds_train.extend(preds.cpu().numpy())\n",
    "        all_labels_train.extend(labels.cpu().numpy())\n",
    "\n",
    "# Compute F1-score, precision, and recall for training set\n",
    "f1_train = f1_score(all_labels_train, all_preds_train, average='weighted')  # Use 'macro' for equal class weighting\n",
    "precision_train = precision_score(all_labels_train, all_preds_train, average='weighted')\n",
    "recall_train = recall_score(all_labels_train, all_preds_train, average='weighted')\n",
    "\n",
    "# Print the results\n",
    "print(f\"Training F1 Score: {f1_train:.3f}\")\n",
    "print(f\"Training Precision: {precision_train:.4f}\")\n",
    "print(f\"Training Recall: {recall_train:.4f}\")\n",
    "\n"
   ]
  },
  {
   "cell_type": "code",
   "execution_count": 25,
   "metadata": {},
   "outputs": [
    {
     "name": "stdout",
     "output_type": "stream",
     "text": [
      "Test F1 Score: 0.4674\n",
      "Test Precision: 0.5061\n",
      "Test Recall: 0.5085\n"
     ]
    },
    {
     "name": "stderr",
     "output_type": "stream",
     "text": [
      "C:\\Users\\Amir\\AppData\\Roaming\\Python\\Python39\\site-packages\\sklearn\\metrics\\_classification.py:1531: UndefinedMetricWarning: Precision is ill-defined and being set to 0.0 in labels with no predicted samples. Use `zero_division` parameter to control this behavior.\n",
      "  _warn_prf(average, modifier, f\"{metric.capitalize()} is\", len(result))\n"
     ]
    }
   ],
   "source": [
    "from sklearn.metrics import f1_score, precision_score, recall_score\n",
    "\n",
    "# Ensure the model is in evaluation mode\n",
    "model.eval()\n",
    "\n",
    "# Initialize lists to store predictions and labels for test data\n",
    "all_preds_test = []\n",
    "all_labels_test = []\n",
    "\n",
    "# Disable gradient computation for test set evaluation\n",
    "with torch.no_grad():\n",
    "    for images, labels in test_loader:  # Use test_loader for evaluation\n",
    "        images, labels = images.to(device), labels.to(device)\n",
    "\n",
    "        # Forward pass through the ResNet model\n",
    "        outputs = model(images)  # ResNet directly returns logits\n",
    "        \n",
    "        # Extract logits (for ResNet, we can directly use the output as logits)\n",
    "        logits = outputs\n",
    "\n",
    "        # Get predicted class\n",
    "        _, preds = torch.max(logits, 1)\n",
    "\n",
    "        # Store predictions and labels\n",
    "        all_preds_test.extend(preds.cpu().numpy())\n",
    "        all_labels_test.extend(labels.cpu().numpy())\n",
    "\n",
    "# Compute F1-score, precision, and recall for the test set\n",
    "f1_test = f1_score(all_labels_test, all_preds_test, average='weighted')  # Use 'macro' if you prefer equal class weighting\n",
    "precision_test = precision_score(all_labels_test, all_preds_test, average='weighted')\n",
    "recall_test = recall_score(all_labels_test, all_preds_test, average='weighted')\n",
    "\n",
    "# Print the results\n",
    "print(f\"Test F1 Score: {f1_test:.4f}\")\n",
    "print(f\"Test Precision: {precision_test:.4f}\")\n",
    "print(f\"Test Recall: {recall_test:.4f}\")\n"
   ]
  }
 ],
 "metadata": {
  "kernelspec": {
   "display_name": "base",
   "language": "python",
   "name": "python3"
  },
  "language_info": {
   "codemirror_mode": {
    "name": "ipython",
    "version": 3
   },
   "file_extension": ".py",
   "mimetype": "text/x-python",
   "name": "python",
   "nbconvert_exporter": "python",
   "pygments_lexer": "ipython3",
   "version": "3.9.13"
  }
 },
 "nbformat": 4,
 "nbformat_minor": 2
}
