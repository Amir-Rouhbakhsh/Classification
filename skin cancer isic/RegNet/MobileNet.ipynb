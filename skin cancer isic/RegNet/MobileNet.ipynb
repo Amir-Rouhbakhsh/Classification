{
 "cells": [
  {
   "cell_type": "code",
   "execution_count": 1,
   "metadata": {},
   "outputs": [],
   "source": [
    "import torch\n",
    "import torch.nn as nn\n",
    "import torch.optim as optim\n",
    "from torch.utils.data import DataLoader\n",
    "from torchvision import datasets\n",
    "from transformers import ViTForImageClassification, ViTFeatureExtractor\n",
    "from tqdm import tqdm\n",
    "import pandas as pd\n",
    "import os\n",
    "from datasets import DatasetDict, Dataset\n",
    "from transformers import AutoImageProcessor\n",
    "from sklearn.model_selection import train_test_split\n",
    "from torch.utils.data import DataLoader, random_split\n",
    "from torchvision import datasets, transforms\n",
    "from transformers import SwinForImageClassification, AutoImageProcessor  # Updated import\n",
    "\n",
    "from torch.utils.data import DataLoader, random_split\n",
    "from torchvision import datasets, transforms\n",
    "from tqdm import tqdm\n",
    "import pandas as pd\n",
    "import os\n",
    "from torchvision import models"
   ]
  },
  {
   "cell_type": "code",
   "execution_count": 2,
   "metadata": {},
   "outputs": [],
   "source": [
    "# Define the paths to your training and testing datasets\n",
    "train_data_dir = \"C:/Users/Amir/Desktop/skin cancer paper/skin cancer isic/Skin Cancer ISIC/Skin cancer ISIC The International Skin Imaging Collaboration/train\"  # Replace with the path to your training dataset\n",
    "test_data_dir = \"C:/Users/Amir/Desktop/skin cancer paper/skin cancer isic/Skin Cancer ISIC/Skin cancer ISIC The International Skin Imaging Collaboration/test\"  # Replace with the path to your testing dataset"
   ]
  },
  {
   "cell_type": "code",
   "execution_count": 6,
   "metadata": {},
   "outputs": [
    {
     "name": "stdout",
     "output_type": "stream",
     "text": [
      "Number of classes: 9\n",
      "Train size: 1791\n",
      "Val size: 448\n",
      "Test size: 118\n"
     ]
    }
   ],
   "source": [
    "# Corrected imports\n",
    "import torch\n",
    "import torchvision.transforms as transforms\n",
    "from torchvision import datasets\n",
    "from torch.utils.data import DataLoader, random_split\n",
    "from transformers import SwinForImageClassification, AutoImageProcessor\n",
    "\n",
    "# Modified Augmentations for ResNet\n",
    "resnet_transform = transforms.Compose([\n",
    "    transforms.RandomHorizontalFlip(),\n",
    "    transforms.RandomRotation(10),\n",
    "    transforms.Resize(256),\n",
    "    transforms.CenterCrop(224),\n",
    "    transforms.ToTensor(),\n",
    "    transforms.Normalize(mean=[0.485, 0.456, 0.406], std=[0.229, 0.224, 0.225])\n",
    "])\n",
    "\n",
    "\n",
    "\n",
    "\n",
    "# ImageFolder applies `transform` to each image\n",
    "train_dataset = datasets.ImageFolder(train_data_dir, transform=resnet_transform)\n",
    "test_dataset = datasets.ImageFolder(test_data_dir, transform=resnet_transform)\n",
    "\n",
    "# Split training data into train and validation sets\n",
    "train_size = int(0.8 * len(train_dataset))\n",
    "val_size = len(train_dataset) - train_size\n",
    "train_subset, val_subset = random_split(train_dataset, [train_size, val_size])\n",
    "\n",
    "# Create DataLoaders\n",
    "train_loader = DataLoader(train_subset, batch_size=32, shuffle=True, num_workers=4)\n",
    "val_loader = DataLoader(val_subset, batch_size=32, shuffle=False, num_workers=4)\n",
    "test_loader = DataLoader(test_dataset, batch_size=32, shuffle=False, num_workers=4)\n",
    "\n",
    "# Check classes (ensure consistency)\n",
    "num_classes = len(train_dataset.classes)\n",
    "print(f\"Number of classes: {num_classes}\")\n",
    "\n",
    "# Print dataset sizes\n",
    "print(f\"Train size: {len(train_subset)}\")\n",
    "print(f\"Val size: {len(val_subset)}\")\n",
    "print(f\"Test size: {len(test_dataset)}\")\n"
   ]
  },
  {
   "cell_type": "code",
   "execution_count": 7,
   "metadata": {},
   "outputs": [
    {
     "name": "stderr",
     "output_type": "stream",
     "text": [
      "C:\\Users\\Amir\\AppData\\Roaming\\Python\\Python39\\site-packages\\torchvision\\models\\_utils.py:208: UserWarning: The parameter 'pretrained' is deprecated since 0.13 and may be removed in the future, please use 'weights' instead.\n",
      "  warnings.warn(\n",
      "C:\\Users\\Amir\\AppData\\Roaming\\Python\\Python39\\site-packages\\torchvision\\models\\_utils.py:223: UserWarning: Arguments other than a weight enum or `None` for 'weights' are deprecated since 0.13 and may be removed in the future. The current behavior is equivalent to passing `weights=RegNet_Y_400MF_Weights.IMAGENET1K_V1`. You can also use `weights=RegNet_Y_400MF_Weights.DEFAULT` to get the most up-to-date weights.\n",
      "  warnings.warn(msg)\n",
      "Downloading: \"https://download.pytorch.org/models/regnet_y_400mf-c65dace8.pth\" to C:\\Users\\Amir/.cache\\torch\\hub\\checkpoints\\regnet_y_400mf-c65dace8.pth\n",
      "100%|██████████| 16.8M/16.8M [00:04<00:00, 4.16MB/s]\n"
     ]
    }
   ],
   "source": [
    "# Choose a RegNet variant (e.g., RegNetY_400MF)\n",
    "model = models.regnet_y_400mf(pretrained=True)\n",
    "\n",
    "# Modify the final layer\n",
    "num_features = model.fc.in_features\n",
    "model.fc = nn.Sequential(\n",
    "    nn.Dropout(0.2),\n",
    "    nn.Linear(num_features, num_classes)\n",
    ")"
   ]
  },
  {
   "cell_type": "code",
   "execution_count": 8,
   "metadata": {},
   "outputs": [
    {
     "name": "stdout",
     "output_type": "stream",
     "text": [
      "cuda\n"
     ]
    },
    {
     "data": {
      "text/plain": [
       "RegNet(\n",
       "  (stem): SimpleStemIN(\n",
       "    (0): Conv2d(3, 32, kernel_size=(3, 3), stride=(2, 2), padding=(1, 1), bias=False)\n",
       "    (1): BatchNorm2d(32, eps=1e-05, momentum=0.1, affine=True, track_running_stats=True)\n",
       "    (2): ReLU(inplace=True)\n",
       "  )\n",
       "  (trunk_output): Sequential(\n",
       "    (block1): AnyStage(\n",
       "      (block1-0): ResBottleneckBlock(\n",
       "        (proj): Conv2dNormActivation(\n",
       "          (0): Conv2d(32, 48, kernel_size=(1, 1), stride=(2, 2), bias=False)\n",
       "          (1): BatchNorm2d(48, eps=1e-05, momentum=0.1, affine=True, track_running_stats=True)\n",
       "        )\n",
       "        (f): BottleneckTransform(\n",
       "          (a): Conv2dNormActivation(\n",
       "            (0): Conv2d(32, 48, kernel_size=(1, 1), stride=(1, 1), bias=False)\n",
       "            (1): BatchNorm2d(48, eps=1e-05, momentum=0.1, affine=True, track_running_stats=True)\n",
       "            (2): ReLU(inplace=True)\n",
       "          )\n",
       "          (b): Conv2dNormActivation(\n",
       "            (0): Conv2d(48, 48, kernel_size=(3, 3), stride=(2, 2), padding=(1, 1), groups=6, bias=False)\n",
       "            (1): BatchNorm2d(48, eps=1e-05, momentum=0.1, affine=True, track_running_stats=True)\n",
       "            (2): ReLU(inplace=True)\n",
       "          )\n",
       "          (se): SqueezeExcitation(\n",
       "            (avgpool): AdaptiveAvgPool2d(output_size=1)\n",
       "            (fc1): Conv2d(48, 8, kernel_size=(1, 1), stride=(1, 1))\n",
       "            (fc2): Conv2d(8, 48, kernel_size=(1, 1), stride=(1, 1))\n",
       "            (activation): ReLU()\n",
       "            (scale_activation): Sigmoid()\n",
       "          )\n",
       "          (c): Conv2dNormActivation(\n",
       "            (0): Conv2d(48, 48, kernel_size=(1, 1), stride=(1, 1), bias=False)\n",
       "            (1): BatchNorm2d(48, eps=1e-05, momentum=0.1, affine=True, track_running_stats=True)\n",
       "          )\n",
       "        )\n",
       "        (activation): ReLU(inplace=True)\n",
       "      )\n",
       "    )\n",
       "    (block2): AnyStage(\n",
       "      (block2-0): ResBottleneckBlock(\n",
       "        (proj): Conv2dNormActivation(\n",
       "          (0): Conv2d(48, 104, kernel_size=(1, 1), stride=(2, 2), bias=False)\n",
       "          (1): BatchNorm2d(104, eps=1e-05, momentum=0.1, affine=True, track_running_stats=True)\n",
       "        )\n",
       "        (f): BottleneckTransform(\n",
       "          (a): Conv2dNormActivation(\n",
       "            (0): Conv2d(48, 104, kernel_size=(1, 1), stride=(1, 1), bias=False)\n",
       "            (1): BatchNorm2d(104, eps=1e-05, momentum=0.1, affine=True, track_running_stats=True)\n",
       "            (2): ReLU(inplace=True)\n",
       "          )\n",
       "          (b): Conv2dNormActivation(\n",
       "            (0): Conv2d(104, 104, kernel_size=(3, 3), stride=(2, 2), padding=(1, 1), groups=13, bias=False)\n",
       "            (1): BatchNorm2d(104, eps=1e-05, momentum=0.1, affine=True, track_running_stats=True)\n",
       "            (2): ReLU(inplace=True)\n",
       "          )\n",
       "          (se): SqueezeExcitation(\n",
       "            (avgpool): AdaptiveAvgPool2d(output_size=1)\n",
       "            (fc1): Conv2d(104, 12, kernel_size=(1, 1), stride=(1, 1))\n",
       "            (fc2): Conv2d(12, 104, kernel_size=(1, 1), stride=(1, 1))\n",
       "            (activation): ReLU()\n",
       "            (scale_activation): Sigmoid()\n",
       "          )\n",
       "          (c): Conv2dNormActivation(\n",
       "            (0): Conv2d(104, 104, kernel_size=(1, 1), stride=(1, 1), bias=False)\n",
       "            (1): BatchNorm2d(104, eps=1e-05, momentum=0.1, affine=True, track_running_stats=True)\n",
       "          )\n",
       "        )\n",
       "        (activation): ReLU(inplace=True)\n",
       "      )\n",
       "      (block2-1): ResBottleneckBlock(\n",
       "        (f): BottleneckTransform(\n",
       "          (a): Conv2dNormActivation(\n",
       "            (0): Conv2d(104, 104, kernel_size=(1, 1), stride=(1, 1), bias=False)\n",
       "            (1): BatchNorm2d(104, eps=1e-05, momentum=0.1, affine=True, track_running_stats=True)\n",
       "            (2): ReLU(inplace=True)\n",
       "          )\n",
       "          (b): Conv2dNormActivation(\n",
       "            (0): Conv2d(104, 104, kernel_size=(3, 3), stride=(1, 1), padding=(1, 1), groups=13, bias=False)\n",
       "            (1): BatchNorm2d(104, eps=1e-05, momentum=0.1, affine=True, track_running_stats=True)\n",
       "            (2): ReLU(inplace=True)\n",
       "          )\n",
       "          (se): SqueezeExcitation(\n",
       "            (avgpool): AdaptiveAvgPool2d(output_size=1)\n",
       "            (fc1): Conv2d(104, 26, kernel_size=(1, 1), stride=(1, 1))\n",
       "            (fc2): Conv2d(26, 104, kernel_size=(1, 1), stride=(1, 1))\n",
       "            (activation): ReLU()\n",
       "            (scale_activation): Sigmoid()\n",
       "          )\n",
       "          (c): Conv2dNormActivation(\n",
       "            (0): Conv2d(104, 104, kernel_size=(1, 1), stride=(1, 1), bias=False)\n",
       "            (1): BatchNorm2d(104, eps=1e-05, momentum=0.1, affine=True, track_running_stats=True)\n",
       "          )\n",
       "        )\n",
       "        (activation): ReLU(inplace=True)\n",
       "      )\n",
       "      (block2-2): ResBottleneckBlock(\n",
       "        (f): BottleneckTransform(\n",
       "          (a): Conv2dNormActivation(\n",
       "            (0): Conv2d(104, 104, kernel_size=(1, 1), stride=(1, 1), bias=False)\n",
       "            (1): BatchNorm2d(104, eps=1e-05, momentum=0.1, affine=True, track_running_stats=True)\n",
       "            (2): ReLU(inplace=True)\n",
       "          )\n",
       "          (b): Conv2dNormActivation(\n",
       "            (0): Conv2d(104, 104, kernel_size=(3, 3), stride=(1, 1), padding=(1, 1), groups=13, bias=False)\n",
       "            (1): BatchNorm2d(104, eps=1e-05, momentum=0.1, affine=True, track_running_stats=True)\n",
       "            (2): ReLU(inplace=True)\n",
       "          )\n",
       "          (se): SqueezeExcitation(\n",
       "            (avgpool): AdaptiveAvgPool2d(output_size=1)\n",
       "            (fc1): Conv2d(104, 26, kernel_size=(1, 1), stride=(1, 1))\n",
       "            (fc2): Conv2d(26, 104, kernel_size=(1, 1), stride=(1, 1))\n",
       "            (activation): ReLU()\n",
       "            (scale_activation): Sigmoid()\n",
       "          )\n",
       "          (c): Conv2dNormActivation(\n",
       "            (0): Conv2d(104, 104, kernel_size=(1, 1), stride=(1, 1), bias=False)\n",
       "            (1): BatchNorm2d(104, eps=1e-05, momentum=0.1, affine=True, track_running_stats=True)\n",
       "          )\n",
       "        )\n",
       "        (activation): ReLU(inplace=True)\n",
       "      )\n",
       "    )\n",
       "    (block3): AnyStage(\n",
       "      (block3-0): ResBottleneckBlock(\n",
       "        (proj): Conv2dNormActivation(\n",
       "          (0): Conv2d(104, 208, kernel_size=(1, 1), stride=(2, 2), bias=False)\n",
       "          (1): BatchNorm2d(208, eps=1e-05, momentum=0.1, affine=True, track_running_stats=True)\n",
       "        )\n",
       "        (f): BottleneckTransform(\n",
       "          (a): Conv2dNormActivation(\n",
       "            (0): Conv2d(104, 208, kernel_size=(1, 1), stride=(1, 1), bias=False)\n",
       "            (1): BatchNorm2d(208, eps=1e-05, momentum=0.1, affine=True, track_running_stats=True)\n",
       "            (2): ReLU(inplace=True)\n",
       "          )\n",
       "          (b): Conv2dNormActivation(\n",
       "            (0): Conv2d(208, 208, kernel_size=(3, 3), stride=(2, 2), padding=(1, 1), groups=26, bias=False)\n",
       "            (1): BatchNorm2d(208, eps=1e-05, momentum=0.1, affine=True, track_running_stats=True)\n",
       "            (2): ReLU(inplace=True)\n",
       "          )\n",
       "          (se): SqueezeExcitation(\n",
       "            (avgpool): AdaptiveAvgPool2d(output_size=1)\n",
       "            (fc1): Conv2d(208, 26, kernel_size=(1, 1), stride=(1, 1))\n",
       "            (fc2): Conv2d(26, 208, kernel_size=(1, 1), stride=(1, 1))\n",
       "            (activation): ReLU()\n",
       "            (scale_activation): Sigmoid()\n",
       "          )\n",
       "          (c): Conv2dNormActivation(\n",
       "            (0): Conv2d(208, 208, kernel_size=(1, 1), stride=(1, 1), bias=False)\n",
       "            (1): BatchNorm2d(208, eps=1e-05, momentum=0.1, affine=True, track_running_stats=True)\n",
       "          )\n",
       "        )\n",
       "        (activation): ReLU(inplace=True)\n",
       "      )\n",
       "      (block3-1): ResBottleneckBlock(\n",
       "        (f): BottleneckTransform(\n",
       "          (a): Conv2dNormActivation(\n",
       "            (0): Conv2d(208, 208, kernel_size=(1, 1), stride=(1, 1), bias=False)\n",
       "            (1): BatchNorm2d(208, eps=1e-05, momentum=0.1, affine=True, track_running_stats=True)\n",
       "            (2): ReLU(inplace=True)\n",
       "          )\n",
       "          (b): Conv2dNormActivation(\n",
       "            (0): Conv2d(208, 208, kernel_size=(3, 3), stride=(1, 1), padding=(1, 1), groups=26, bias=False)\n",
       "            (1): BatchNorm2d(208, eps=1e-05, momentum=0.1, affine=True, track_running_stats=True)\n",
       "            (2): ReLU(inplace=True)\n",
       "          )\n",
       "          (se): SqueezeExcitation(\n",
       "            (avgpool): AdaptiveAvgPool2d(output_size=1)\n",
       "            (fc1): Conv2d(208, 52, kernel_size=(1, 1), stride=(1, 1))\n",
       "            (fc2): Conv2d(52, 208, kernel_size=(1, 1), stride=(1, 1))\n",
       "            (activation): ReLU()\n",
       "            (scale_activation): Sigmoid()\n",
       "          )\n",
       "          (c): Conv2dNormActivation(\n",
       "            (0): Conv2d(208, 208, kernel_size=(1, 1), stride=(1, 1), bias=False)\n",
       "            (1): BatchNorm2d(208, eps=1e-05, momentum=0.1, affine=True, track_running_stats=True)\n",
       "          )\n",
       "        )\n",
       "        (activation): ReLU(inplace=True)\n",
       "      )\n",
       "      (block3-2): ResBottleneckBlock(\n",
       "        (f): BottleneckTransform(\n",
       "          (a): Conv2dNormActivation(\n",
       "            (0): Conv2d(208, 208, kernel_size=(1, 1), stride=(1, 1), bias=False)\n",
       "            (1): BatchNorm2d(208, eps=1e-05, momentum=0.1, affine=True, track_running_stats=True)\n",
       "            (2): ReLU(inplace=True)\n",
       "          )\n",
       "          (b): Conv2dNormActivation(\n",
       "            (0): Conv2d(208, 208, kernel_size=(3, 3), stride=(1, 1), padding=(1, 1), groups=26, bias=False)\n",
       "            (1): BatchNorm2d(208, eps=1e-05, momentum=0.1, affine=True, track_running_stats=True)\n",
       "            (2): ReLU(inplace=True)\n",
       "          )\n",
       "          (se): SqueezeExcitation(\n",
       "            (avgpool): AdaptiveAvgPool2d(output_size=1)\n",
       "            (fc1): Conv2d(208, 52, kernel_size=(1, 1), stride=(1, 1))\n",
       "            (fc2): Conv2d(52, 208, kernel_size=(1, 1), stride=(1, 1))\n",
       "            (activation): ReLU()\n",
       "            (scale_activation): Sigmoid()\n",
       "          )\n",
       "          (c): Conv2dNormActivation(\n",
       "            (0): Conv2d(208, 208, kernel_size=(1, 1), stride=(1, 1), bias=False)\n",
       "            (1): BatchNorm2d(208, eps=1e-05, momentum=0.1, affine=True, track_running_stats=True)\n",
       "          )\n",
       "        )\n",
       "        (activation): ReLU(inplace=True)\n",
       "      )\n",
       "      (block3-3): ResBottleneckBlock(\n",
       "        (f): BottleneckTransform(\n",
       "          (a): Conv2dNormActivation(\n",
       "            (0): Conv2d(208, 208, kernel_size=(1, 1), stride=(1, 1), bias=False)\n",
       "            (1): BatchNorm2d(208, eps=1e-05, momentum=0.1, affine=True, track_running_stats=True)\n",
       "            (2): ReLU(inplace=True)\n",
       "          )\n",
       "          (b): Conv2dNormActivation(\n",
       "            (0): Conv2d(208, 208, kernel_size=(3, 3), stride=(1, 1), padding=(1, 1), groups=26, bias=False)\n",
       "            (1): BatchNorm2d(208, eps=1e-05, momentum=0.1, affine=True, track_running_stats=True)\n",
       "            (2): ReLU(inplace=True)\n",
       "          )\n",
       "          (se): SqueezeExcitation(\n",
       "            (avgpool): AdaptiveAvgPool2d(output_size=1)\n",
       "            (fc1): Conv2d(208, 52, kernel_size=(1, 1), stride=(1, 1))\n",
       "            (fc2): Conv2d(52, 208, kernel_size=(1, 1), stride=(1, 1))\n",
       "            (activation): ReLU()\n",
       "            (scale_activation): Sigmoid()\n",
       "          )\n",
       "          (c): Conv2dNormActivation(\n",
       "            (0): Conv2d(208, 208, kernel_size=(1, 1), stride=(1, 1), bias=False)\n",
       "            (1): BatchNorm2d(208, eps=1e-05, momentum=0.1, affine=True, track_running_stats=True)\n",
       "          )\n",
       "        )\n",
       "        (activation): ReLU(inplace=True)\n",
       "      )\n",
       "      (block3-4): ResBottleneckBlock(\n",
       "        (f): BottleneckTransform(\n",
       "          (a): Conv2dNormActivation(\n",
       "            (0): Conv2d(208, 208, kernel_size=(1, 1), stride=(1, 1), bias=False)\n",
       "            (1): BatchNorm2d(208, eps=1e-05, momentum=0.1, affine=True, track_running_stats=True)\n",
       "            (2): ReLU(inplace=True)\n",
       "          )\n",
       "          (b): Conv2dNormActivation(\n",
       "            (0): Conv2d(208, 208, kernel_size=(3, 3), stride=(1, 1), padding=(1, 1), groups=26, bias=False)\n",
       "            (1): BatchNorm2d(208, eps=1e-05, momentum=0.1, affine=True, track_running_stats=True)\n",
       "            (2): ReLU(inplace=True)\n",
       "          )\n",
       "          (se): SqueezeExcitation(\n",
       "            (avgpool): AdaptiveAvgPool2d(output_size=1)\n",
       "            (fc1): Conv2d(208, 52, kernel_size=(1, 1), stride=(1, 1))\n",
       "            (fc2): Conv2d(52, 208, kernel_size=(1, 1), stride=(1, 1))\n",
       "            (activation): ReLU()\n",
       "            (scale_activation): Sigmoid()\n",
       "          )\n",
       "          (c): Conv2dNormActivation(\n",
       "            (0): Conv2d(208, 208, kernel_size=(1, 1), stride=(1, 1), bias=False)\n",
       "            (1): BatchNorm2d(208, eps=1e-05, momentum=0.1, affine=True, track_running_stats=True)\n",
       "          )\n",
       "        )\n",
       "        (activation): ReLU(inplace=True)\n",
       "      )\n",
       "      (block3-5): ResBottleneckBlock(\n",
       "        (f): BottleneckTransform(\n",
       "          (a): Conv2dNormActivation(\n",
       "            (0): Conv2d(208, 208, kernel_size=(1, 1), stride=(1, 1), bias=False)\n",
       "            (1): BatchNorm2d(208, eps=1e-05, momentum=0.1, affine=True, track_running_stats=True)\n",
       "            (2): ReLU(inplace=True)\n",
       "          )\n",
       "          (b): Conv2dNormActivation(\n",
       "            (0): Conv2d(208, 208, kernel_size=(3, 3), stride=(1, 1), padding=(1, 1), groups=26, bias=False)\n",
       "            (1): BatchNorm2d(208, eps=1e-05, momentum=0.1, affine=True, track_running_stats=True)\n",
       "            (2): ReLU(inplace=True)\n",
       "          )\n",
       "          (se): SqueezeExcitation(\n",
       "            (avgpool): AdaptiveAvgPool2d(output_size=1)\n",
       "            (fc1): Conv2d(208, 52, kernel_size=(1, 1), stride=(1, 1))\n",
       "            (fc2): Conv2d(52, 208, kernel_size=(1, 1), stride=(1, 1))\n",
       "            (activation): ReLU()\n",
       "            (scale_activation): Sigmoid()\n",
       "          )\n",
       "          (c): Conv2dNormActivation(\n",
       "            (0): Conv2d(208, 208, kernel_size=(1, 1), stride=(1, 1), bias=False)\n",
       "            (1): BatchNorm2d(208, eps=1e-05, momentum=0.1, affine=True, track_running_stats=True)\n",
       "          )\n",
       "        )\n",
       "        (activation): ReLU(inplace=True)\n",
       "      )\n",
       "    )\n",
       "    (block4): AnyStage(\n",
       "      (block4-0): ResBottleneckBlock(\n",
       "        (proj): Conv2dNormActivation(\n",
       "          (0): Conv2d(208, 440, kernel_size=(1, 1), stride=(2, 2), bias=False)\n",
       "          (1): BatchNorm2d(440, eps=1e-05, momentum=0.1, affine=True, track_running_stats=True)\n",
       "        )\n",
       "        (f): BottleneckTransform(\n",
       "          (a): Conv2dNormActivation(\n",
       "            (0): Conv2d(208, 440, kernel_size=(1, 1), stride=(1, 1), bias=False)\n",
       "            (1): BatchNorm2d(440, eps=1e-05, momentum=0.1, affine=True, track_running_stats=True)\n",
       "            (2): ReLU(inplace=True)\n",
       "          )\n",
       "          (b): Conv2dNormActivation(\n",
       "            (0): Conv2d(440, 440, kernel_size=(3, 3), stride=(2, 2), padding=(1, 1), groups=55, bias=False)\n",
       "            (1): BatchNorm2d(440, eps=1e-05, momentum=0.1, affine=True, track_running_stats=True)\n",
       "            (2): ReLU(inplace=True)\n",
       "          )\n",
       "          (se): SqueezeExcitation(\n",
       "            (avgpool): AdaptiveAvgPool2d(output_size=1)\n",
       "            (fc1): Conv2d(440, 52, kernel_size=(1, 1), stride=(1, 1))\n",
       "            (fc2): Conv2d(52, 440, kernel_size=(1, 1), stride=(1, 1))\n",
       "            (activation): ReLU()\n",
       "            (scale_activation): Sigmoid()\n",
       "          )\n",
       "          (c): Conv2dNormActivation(\n",
       "            (0): Conv2d(440, 440, kernel_size=(1, 1), stride=(1, 1), bias=False)\n",
       "            (1): BatchNorm2d(440, eps=1e-05, momentum=0.1, affine=True, track_running_stats=True)\n",
       "          )\n",
       "        )\n",
       "        (activation): ReLU(inplace=True)\n",
       "      )\n",
       "      (block4-1): ResBottleneckBlock(\n",
       "        (f): BottleneckTransform(\n",
       "          (a): Conv2dNormActivation(\n",
       "            (0): Conv2d(440, 440, kernel_size=(1, 1), stride=(1, 1), bias=False)\n",
       "            (1): BatchNorm2d(440, eps=1e-05, momentum=0.1, affine=True, track_running_stats=True)\n",
       "            (2): ReLU(inplace=True)\n",
       "          )\n",
       "          (b): Conv2dNormActivation(\n",
       "            (0): Conv2d(440, 440, kernel_size=(3, 3), stride=(1, 1), padding=(1, 1), groups=55, bias=False)\n",
       "            (1): BatchNorm2d(440, eps=1e-05, momentum=0.1, affine=True, track_running_stats=True)\n",
       "            (2): ReLU(inplace=True)\n",
       "          )\n",
       "          (se): SqueezeExcitation(\n",
       "            (avgpool): AdaptiveAvgPool2d(output_size=1)\n",
       "            (fc1): Conv2d(440, 110, kernel_size=(1, 1), stride=(1, 1))\n",
       "            (fc2): Conv2d(110, 440, kernel_size=(1, 1), stride=(1, 1))\n",
       "            (activation): ReLU()\n",
       "            (scale_activation): Sigmoid()\n",
       "          )\n",
       "          (c): Conv2dNormActivation(\n",
       "            (0): Conv2d(440, 440, kernel_size=(1, 1), stride=(1, 1), bias=False)\n",
       "            (1): BatchNorm2d(440, eps=1e-05, momentum=0.1, affine=True, track_running_stats=True)\n",
       "          )\n",
       "        )\n",
       "        (activation): ReLU(inplace=True)\n",
       "      )\n",
       "      (block4-2): ResBottleneckBlock(\n",
       "        (f): BottleneckTransform(\n",
       "          (a): Conv2dNormActivation(\n",
       "            (0): Conv2d(440, 440, kernel_size=(1, 1), stride=(1, 1), bias=False)\n",
       "            (1): BatchNorm2d(440, eps=1e-05, momentum=0.1, affine=True, track_running_stats=True)\n",
       "            (2): ReLU(inplace=True)\n",
       "          )\n",
       "          (b): Conv2dNormActivation(\n",
       "            (0): Conv2d(440, 440, kernel_size=(3, 3), stride=(1, 1), padding=(1, 1), groups=55, bias=False)\n",
       "            (1): BatchNorm2d(440, eps=1e-05, momentum=0.1, affine=True, track_running_stats=True)\n",
       "            (2): ReLU(inplace=True)\n",
       "          )\n",
       "          (se): SqueezeExcitation(\n",
       "            (avgpool): AdaptiveAvgPool2d(output_size=1)\n",
       "            (fc1): Conv2d(440, 110, kernel_size=(1, 1), stride=(1, 1))\n",
       "            (fc2): Conv2d(110, 440, kernel_size=(1, 1), stride=(1, 1))\n",
       "            (activation): ReLU()\n",
       "            (scale_activation): Sigmoid()\n",
       "          )\n",
       "          (c): Conv2dNormActivation(\n",
       "            (0): Conv2d(440, 440, kernel_size=(1, 1), stride=(1, 1), bias=False)\n",
       "            (1): BatchNorm2d(440, eps=1e-05, momentum=0.1, affine=True, track_running_stats=True)\n",
       "          )\n",
       "        )\n",
       "        (activation): ReLU(inplace=True)\n",
       "      )\n",
       "      (block4-3): ResBottleneckBlock(\n",
       "        (f): BottleneckTransform(\n",
       "          (a): Conv2dNormActivation(\n",
       "            (0): Conv2d(440, 440, kernel_size=(1, 1), stride=(1, 1), bias=False)\n",
       "            (1): BatchNorm2d(440, eps=1e-05, momentum=0.1, affine=True, track_running_stats=True)\n",
       "            (2): ReLU(inplace=True)\n",
       "          )\n",
       "          (b): Conv2dNormActivation(\n",
       "            (0): Conv2d(440, 440, kernel_size=(3, 3), stride=(1, 1), padding=(1, 1), groups=55, bias=False)\n",
       "            (1): BatchNorm2d(440, eps=1e-05, momentum=0.1, affine=True, track_running_stats=True)\n",
       "            (2): ReLU(inplace=True)\n",
       "          )\n",
       "          (se): SqueezeExcitation(\n",
       "            (avgpool): AdaptiveAvgPool2d(output_size=1)\n",
       "            (fc1): Conv2d(440, 110, kernel_size=(1, 1), stride=(1, 1))\n",
       "            (fc2): Conv2d(110, 440, kernel_size=(1, 1), stride=(1, 1))\n",
       "            (activation): ReLU()\n",
       "            (scale_activation): Sigmoid()\n",
       "          )\n",
       "          (c): Conv2dNormActivation(\n",
       "            (0): Conv2d(440, 440, kernel_size=(1, 1), stride=(1, 1), bias=False)\n",
       "            (1): BatchNorm2d(440, eps=1e-05, momentum=0.1, affine=True, track_running_stats=True)\n",
       "          )\n",
       "        )\n",
       "        (activation): ReLU(inplace=True)\n",
       "      )\n",
       "      (block4-4): ResBottleneckBlock(\n",
       "        (f): BottleneckTransform(\n",
       "          (a): Conv2dNormActivation(\n",
       "            (0): Conv2d(440, 440, kernel_size=(1, 1), stride=(1, 1), bias=False)\n",
       "            (1): BatchNorm2d(440, eps=1e-05, momentum=0.1, affine=True, track_running_stats=True)\n",
       "            (2): ReLU(inplace=True)\n",
       "          )\n",
       "          (b): Conv2dNormActivation(\n",
       "            (0): Conv2d(440, 440, kernel_size=(3, 3), stride=(1, 1), padding=(1, 1), groups=55, bias=False)\n",
       "            (1): BatchNorm2d(440, eps=1e-05, momentum=0.1, affine=True, track_running_stats=True)\n",
       "            (2): ReLU(inplace=True)\n",
       "          )\n",
       "          (se): SqueezeExcitation(\n",
       "            (avgpool): AdaptiveAvgPool2d(output_size=1)\n",
       "            (fc1): Conv2d(440, 110, kernel_size=(1, 1), stride=(1, 1))\n",
       "            (fc2): Conv2d(110, 440, kernel_size=(1, 1), stride=(1, 1))\n",
       "            (activation): ReLU()\n",
       "            (scale_activation): Sigmoid()\n",
       "          )\n",
       "          (c): Conv2dNormActivation(\n",
       "            (0): Conv2d(440, 440, kernel_size=(1, 1), stride=(1, 1), bias=False)\n",
       "            (1): BatchNorm2d(440, eps=1e-05, momentum=0.1, affine=True, track_running_stats=True)\n",
       "          )\n",
       "        )\n",
       "        (activation): ReLU(inplace=True)\n",
       "      )\n",
       "      (block4-5): ResBottleneckBlock(\n",
       "        (f): BottleneckTransform(\n",
       "          (a): Conv2dNormActivation(\n",
       "            (0): Conv2d(440, 440, kernel_size=(1, 1), stride=(1, 1), bias=False)\n",
       "            (1): BatchNorm2d(440, eps=1e-05, momentum=0.1, affine=True, track_running_stats=True)\n",
       "            (2): ReLU(inplace=True)\n",
       "          )\n",
       "          (b): Conv2dNormActivation(\n",
       "            (0): Conv2d(440, 440, kernel_size=(3, 3), stride=(1, 1), padding=(1, 1), groups=55, bias=False)\n",
       "            (1): BatchNorm2d(440, eps=1e-05, momentum=0.1, affine=True, track_running_stats=True)\n",
       "            (2): ReLU(inplace=True)\n",
       "          )\n",
       "          (se): SqueezeExcitation(\n",
       "            (avgpool): AdaptiveAvgPool2d(output_size=1)\n",
       "            (fc1): Conv2d(440, 110, kernel_size=(1, 1), stride=(1, 1))\n",
       "            (fc2): Conv2d(110, 440, kernel_size=(1, 1), stride=(1, 1))\n",
       "            (activation): ReLU()\n",
       "            (scale_activation): Sigmoid()\n",
       "          )\n",
       "          (c): Conv2dNormActivation(\n",
       "            (0): Conv2d(440, 440, kernel_size=(1, 1), stride=(1, 1), bias=False)\n",
       "            (1): BatchNorm2d(440, eps=1e-05, momentum=0.1, affine=True, track_running_stats=True)\n",
       "          )\n",
       "        )\n",
       "        (activation): ReLU(inplace=True)\n",
       "      )\n",
       "    )\n",
       "  )\n",
       "  (avgpool): AdaptiveAvgPool2d(output_size=(1, 1))\n",
       "  (fc): Sequential(\n",
       "    (0): Dropout(p=0.2, inplace=False)\n",
       "    (1): Linear(in_features=440, out_features=9, bias=True)\n",
       "  )\n",
       ")"
      ]
     },
     "execution_count": 8,
     "metadata": {},
     "output_type": "execute_result"
    }
   ],
   "source": [
    "# Move the model to the GPU if available\n",
    "device = torch.device(\"cuda\" if torch.cuda.is_available() else \"cpu\")\n",
    "print(device)\n",
    "model.to(device)"
   ]
  },
  {
   "cell_type": "code",
   "execution_count": 9,
   "metadata": {},
   "outputs": [
    {
     "name": "stderr",
     "output_type": "stream",
     "text": [
      "Epoch [1/100] Training:   0%|          | 0/56 [00:00<?, ?it/s]"
     ]
    },
    {
     "name": "stderr",
     "output_type": "stream",
     "text": [
      "Epoch [1/100] Training: 100%|██████████| 56/56 [00:16<00:00,  3.42it/s, accuracy=43.2, loss=1.35]\n",
      "Epoch [1/100] Validation: 100%|██████████| 14/14 [00:11<00:00,  1.25it/s, accuracy=57.1, loss=1.14]\n"
     ]
    },
    {
     "name": "stdout",
     "output_type": "stream",
     "text": [
      "Epoch 1/100\n",
      "Train Loss: 1.6505 | Train Acc: 43.22%\n",
      "Val Loss: 1.2944 | Val Acc: 57.14%\n"
     ]
    },
    {
     "name": "stderr",
     "output_type": "stream",
     "text": [
      "Epoch [2/100] Training: 100%|██████████| 56/56 [00:16<00:00,  3.33it/s, accuracy=65.3, loss=0.951]\n",
      "Epoch [2/100] Validation: 100%|██████████| 14/14 [00:10<00:00,  1.28it/s, accuracy=64.5, loss=0.85] \n"
     ]
    },
    {
     "name": "stdout",
     "output_type": "stream",
     "text": [
      "Epoch 2/100\n",
      "Train Loss: 1.0340 | Train Acc: 65.27%\n",
      "Val Loss: 1.0248 | Val Acc: 64.51%\n"
     ]
    },
    {
     "name": "stderr",
     "output_type": "stream",
     "text": [
      "Epoch [3/100] Training: 100%|██████████| 56/56 [00:15<00:00,  3.50it/s, accuracy=74, loss=0.893]  \n",
      "Epoch [3/100] Validation: 100%|██████████| 14/14 [00:10<00:00,  1.30it/s, accuracy=67, loss=0.793]  \n"
     ]
    },
    {
     "name": "stdout",
     "output_type": "stream",
     "text": [
      "Epoch 3/100\n",
      "Train Loss: 0.7861 | Train Acc: 74.04%\n",
      "Val Loss: 0.9126 | Val Acc: 66.96%\n"
     ]
    },
    {
     "name": "stderr",
     "output_type": "stream",
     "text": [
      "Epoch [4/100] Training: 100%|██████████| 56/56 [00:16<00:00,  3.37it/s, accuracy=77.6, loss=0.578]\n",
      "Epoch [4/100] Validation: 100%|██████████| 14/14 [00:10<00:00,  1.29it/s, accuracy=67, loss=0.778]  \n"
     ]
    },
    {
     "name": "stdout",
     "output_type": "stream",
     "text": [
      "Epoch 4/100\n",
      "Train Loss: 0.6314 | Train Acc: 77.55%\n",
      "Val Loss: 0.9018 | Val Acc: 66.96%\n"
     ]
    },
    {
     "name": "stderr",
     "output_type": "stream",
     "text": [
      "Epoch [5/100] Training: 100%|██████████| 56/56 [00:15<00:00,  3.53it/s, accuracy=80.5, loss=0.538]\n",
      "Epoch [5/100] Validation: 100%|██████████| 14/14 [00:10<00:00,  1.31it/s, accuracy=68.5, loss=0.835]\n"
     ]
    },
    {
     "name": "stdout",
     "output_type": "stream",
     "text": [
      "Epoch 5/100\n",
      "Train Loss: 0.5451 | Train Acc: 80.46%\n",
      "Val Loss: 0.8301 | Val Acc: 68.53%\n"
     ]
    },
    {
     "name": "stderr",
     "output_type": "stream",
     "text": [
      "Epoch [6/100] Training: 100%|██████████| 56/56 [00:16<00:00,  3.46it/s, accuracy=83.9, loss=0.717]\n",
      "Epoch [6/100] Validation: 100%|██████████| 14/14 [00:10<00:00,  1.30it/s, accuracy=69.6, loss=0.871]\n"
     ]
    },
    {
     "name": "stdout",
     "output_type": "stream",
     "text": [
      "Epoch 6/100\n",
      "Train Loss: 0.4466 | Train Acc: 83.86%\n",
      "Val Loss: 0.8516 | Val Acc: 69.64%\n"
     ]
    },
    {
     "name": "stderr",
     "output_type": "stream",
     "text": [
      "Epoch [7/100] Training: 100%|██████████| 56/56 [00:15<00:00,  3.52it/s, accuracy=86.3, loss=0.303]\n",
      "Epoch [7/100] Validation: 100%|██████████| 14/14 [00:11<00:00,  1.27it/s, accuracy=69.4, loss=0.763]\n"
     ]
    },
    {
     "name": "stdout",
     "output_type": "stream",
     "text": [
      "Epoch 7/100\n",
      "Train Loss: 0.3874 | Train Acc: 86.26%\n",
      "Val Loss: 0.8336 | Val Acc: 69.42%\n"
     ]
    },
    {
     "name": "stderr",
     "output_type": "stream",
     "text": [
      "Epoch [8/100] Training: 100%|██████████| 56/56 [00:16<00:00,  3.50it/s, accuracy=87.6, loss=0.396]\n",
      "Epoch [8/100] Validation: 100%|██████████| 14/14 [00:11<00:00,  1.27it/s, accuracy=69.2, loss=0.863]\n"
     ]
    },
    {
     "name": "stdout",
     "output_type": "stream",
     "text": [
      "Epoch 8/100\n",
      "Train Loss: 0.3405 | Train Acc: 87.60%\n",
      "Val Loss: 0.8284 | Val Acc: 69.20%\n"
     ]
    },
    {
     "name": "stderr",
     "output_type": "stream",
     "text": [
      "Epoch [9/100] Training: 100%|██████████| 56/56 [00:16<00:00,  3.46it/s, accuracy=87.5, loss=0.353]\n",
      "Epoch [9/100] Validation: 100%|██████████| 14/14 [00:10<00:00,  1.31it/s, accuracy=68.5, loss=0.727]\n"
     ]
    },
    {
     "name": "stdout",
     "output_type": "stream",
     "text": [
      "Epoch 9/100\n",
      "Train Loss: 0.3087 | Train Acc: 87.49%\n",
      "Val Loss: 0.8449 | Val Acc: 68.53%\n"
     ]
    },
    {
     "name": "stderr",
     "output_type": "stream",
     "text": [
      "Epoch [10/100] Training: 100%|██████████| 56/56 [00:15<00:00,  3.57it/s, accuracy=90.6, loss=0.353]\n",
      "Epoch [10/100] Validation: 100%|██████████| 14/14 [00:10<00:00,  1.31it/s, accuracy=70.8, loss=0.87]\n"
     ]
    },
    {
     "name": "stdout",
     "output_type": "stream",
     "text": [
      "Epoch 10/100\n",
      "Train Loss: 0.2616 | Train Acc: 90.62%\n",
      "Val Loss: 0.8645 | Val Acc: 70.76%\n"
     ]
    },
    {
     "name": "stderr",
     "output_type": "stream",
     "text": [
      "Epoch [11/100] Training: 100%|██████████| 56/56 [00:15<00:00,  3.51it/s, accuracy=90.7, loss=0.116]\n",
      "Epoch [11/100] Validation: 100%|██████████| 14/14 [00:10<00:00,  1.30it/s, accuracy=67, loss=0.928]  \n"
     ]
    },
    {
     "name": "stdout",
     "output_type": "stream",
     "text": [
      "Epoch 11/100\n",
      "Train Loss: 0.2290 | Train Acc: 90.73%\n",
      "Val Loss: 0.8968 | Val Acc: 66.96%\n"
     ]
    },
    {
     "name": "stderr",
     "output_type": "stream",
     "text": [
      "Epoch [12/100] Training: 100%|██████████| 56/56 [00:15<00:00,  3.56it/s, accuracy=90.9, loss=0.191] \n",
      "Epoch [12/100] Validation: 100%|██████████| 14/14 [00:10<00:00,  1.32it/s, accuracy=66.3, loss=0.811]\n"
     ]
    },
    {
     "name": "stdout",
     "output_type": "stream",
     "text": [
      "Epoch 12/100\n",
      "Train Loss: 0.2128 | Train Acc: 90.90%\n",
      "Val Loss: 0.9180 | Val Acc: 66.29%\n"
     ]
    },
    {
     "name": "stderr",
     "output_type": "stream",
     "text": [
      "Epoch [13/100] Training: 100%|██████████| 56/56 [00:15<00:00,  3.52it/s, accuracy=92.6, loss=0.153] \n",
      "Epoch [13/100] Validation: 100%|██████████| 14/14 [00:10<00:00,  1.31it/s, accuracy=68.5, loss=0.908]\n"
     ]
    },
    {
     "name": "stdout",
     "output_type": "stream",
     "text": [
      "Epoch 13/100\n",
      "Train Loss: 0.1805 | Train Acc: 92.63%\n",
      "Val Loss: 0.8904 | Val Acc: 68.53%\n"
     ]
    },
    {
     "name": "stderr",
     "output_type": "stream",
     "text": [
      "Epoch [14/100] Training: 100%|██████████| 56/56 [00:15<00:00,  3.58it/s, accuracy=94, loss=0.139]   \n",
      "Epoch [14/100] Validation: 100%|██████████| 14/14 [00:10<00:00,  1.31it/s, accuracy=66.5, loss=0.846]\n"
     ]
    },
    {
     "name": "stdout",
     "output_type": "stream",
     "text": [
      "Epoch 14/100\n",
      "Train Loss: 0.1781 | Train Acc: 94.03%\n",
      "Val Loss: 0.9252 | Val Acc: 66.52%\n"
     ]
    },
    {
     "name": "stderr",
     "output_type": "stream",
     "text": [
      "Epoch [15/100] Training: 100%|██████████| 56/56 [00:15<00:00,  3.56it/s, accuracy=93.4, loss=0.0938]\n",
      "Epoch [15/100] Validation: 100%|██████████| 14/14 [00:10<00:00,  1.31it/s, accuracy=67.4, loss=0.792]\n"
     ]
    },
    {
     "name": "stdout",
     "output_type": "stream",
     "text": [
      "Epoch 15/100\n",
      "Train Loss: 0.1639 | Train Acc: 93.36%\n",
      "Val Loss: 0.9400 | Val Acc: 67.41%\n"
     ]
    },
    {
     "name": "stderr",
     "output_type": "stream",
     "text": [
      "Epoch [16/100] Training: 100%|██████████| 56/56 [00:16<00:00,  3.47it/s, accuracy=92.6, loss=0.148] \n",
      "Epoch [16/100] Validation: 100%|██████████| 14/14 [00:10<00:00,  1.31it/s, accuracy=68.3, loss=0.897]\n"
     ]
    },
    {
     "name": "stdout",
     "output_type": "stream",
     "text": [
      "Epoch 16/100\n",
      "Train Loss: 0.1685 | Train Acc: 92.57%\n",
      "Val Loss: 0.9276 | Val Acc: 68.30%\n"
     ]
    },
    {
     "name": "stderr",
     "output_type": "stream",
     "text": [
      "Epoch [17/100] Training: 100%|██████████| 56/56 [00:15<00:00,  3.51it/s, accuracy=94.5, loss=0.115] \n",
      "Epoch [17/100] Validation: 100%|██████████| 14/14 [00:10<00:00,  1.31it/s, accuracy=68.3, loss=0.87] \n"
     ]
    },
    {
     "name": "stdout",
     "output_type": "stream",
     "text": [
      "Epoch 17/100\n",
      "Train Loss: 0.1552 | Train Acc: 94.53%\n",
      "Val Loss: 0.9256 | Val Acc: 68.30%\n"
     ]
    },
    {
     "name": "stderr",
     "output_type": "stream",
     "text": [
      "Epoch [18/100] Training: 100%|██████████| 56/56 [00:15<00:00,  3.53it/s, accuracy=92.7, loss=0.154] \n",
      "Epoch [18/100] Validation: 100%|██████████| 14/14 [00:10<00:00,  1.30it/s, accuracy=67.6, loss=0.834]\n"
     ]
    },
    {
     "name": "stdout",
     "output_type": "stream",
     "text": [
      "Epoch 18/100\n",
      "Train Loss: 0.1664 | Train Acc: 92.74%\n",
      "Val Loss: 0.9059 | Val Acc: 67.63%\n"
     ]
    },
    {
     "name": "stderr",
     "output_type": "stream",
     "text": [
      "Epoch [19/100] Training: 100%|██████████| 56/56 [00:15<00:00,  3.57it/s, accuracy=93.4, loss=0.113] \n",
      "Epoch [19/100] Validation: 100%|██████████| 14/14 [00:10<00:00,  1.31it/s, accuracy=69.4, loss=0.807]\n"
     ]
    },
    {
     "name": "stdout",
     "output_type": "stream",
     "text": [
      "Epoch 19/100\n",
      "Train Loss: 0.1670 | Train Acc: 93.41%\n",
      "Val Loss: 0.8998 | Val Acc: 69.42%\n"
     ]
    },
    {
     "name": "stderr",
     "output_type": "stream",
     "text": [
      "Epoch [20/100] Training: 100%|██████████| 56/56 [00:15<00:00,  3.53it/s, accuracy=94.1, loss=0.201] \n",
      "Epoch [20/100] Validation: 100%|██████████| 14/14 [00:10<00:00,  1.31it/s, accuracy=69.4, loss=0.689]\n"
     ]
    },
    {
     "name": "stdout",
     "output_type": "stream",
     "text": [
      "Epoch 20/100\n",
      "Train Loss: 0.1539 | Train Acc: 94.08%\n",
      "Val Loss: 0.8708 | Val Acc: 69.42%\n"
     ]
    },
    {
     "name": "stderr",
     "output_type": "stream",
     "text": [
      "Epoch [21/100] Training: 100%|██████████| 56/56 [00:15<00:00,  3.56it/s, accuracy=93.3, loss=0.15]  \n",
      "Epoch [21/100] Validation: 100%|██████████| 14/14 [00:10<00:00,  1.30it/s, accuracy=69.6, loss=0.824]\n"
     ]
    },
    {
     "name": "stdout",
     "output_type": "stream",
     "text": [
      "Epoch 21/100\n",
      "Train Loss: 0.1651 | Train Acc: 93.30%\n",
      "Val Loss: 0.8913 | Val Acc: 69.64%\n"
     ]
    },
    {
     "name": "stderr",
     "output_type": "stream",
     "text": [
      "Epoch [22/100] Training: 100%|██████████| 56/56 [00:15<00:00,  3.57it/s, accuracy=93.6, loss=0.21]  \n",
      "Epoch [22/100] Validation: 100%|██████████| 14/14 [00:10<00:00,  1.32it/s, accuracy=69.9, loss=0.963]\n"
     ]
    },
    {
     "name": "stdout",
     "output_type": "stream",
     "text": [
      "Epoch 22/100\n",
      "Train Loss: 0.1557 | Train Acc: 93.58%\n",
      "Val Loss: 0.8878 | Val Acc: 69.87%\n"
     ]
    },
    {
     "name": "stderr",
     "output_type": "stream",
     "text": [
      "Epoch [23/100] Training: 100%|██████████| 56/56 [00:15<00:00,  3.54it/s, accuracy=93, loss=0.17]    \n",
      "Epoch [23/100] Validation: 100%|██████████| 14/14 [00:10<00:00,  1.31it/s, accuracy=66.3, loss=0.738]\n"
     ]
    },
    {
     "name": "stdout",
     "output_type": "stream",
     "text": [
      "Epoch 23/100\n",
      "Train Loss: 0.1690 | Train Acc: 92.96%\n",
      "Val Loss: 0.9227 | Val Acc: 66.29%\n"
     ]
    },
    {
     "name": "stderr",
     "output_type": "stream",
     "text": [
      "Epoch [24/100] Training: 100%|██████████| 56/56 [00:15<00:00,  3.51it/s, accuracy=93.2, loss=0.156] \n",
      "Epoch [24/100] Validation: 100%|██████████| 14/14 [00:10<00:00,  1.31it/s, accuracy=69.2, loss=0.705]\n"
     ]
    },
    {
     "name": "stdout",
     "output_type": "stream",
     "text": [
      "Epoch 24/100\n",
      "Train Loss: 0.1571 | Train Acc: 93.24%\n",
      "Val Loss: 0.9013 | Val Acc: 69.20%\n"
     ]
    },
    {
     "name": "stderr",
     "output_type": "stream",
     "text": [
      "Epoch [25/100] Training: 100%|██████████| 56/56 [00:15<00:00,  3.55it/s, accuracy=93.4, loss=0.248] \n",
      "Epoch [25/100] Validation: 100%|██████████| 14/14 [00:10<00:00,  1.32it/s, accuracy=69.4, loss=0.921]\n"
     ]
    },
    {
     "name": "stdout",
     "output_type": "stream",
     "text": [
      "Epoch 25/100\n",
      "Train Loss: 0.1592 | Train Acc: 93.36%\n",
      "Val Loss: 0.8848 | Val Acc: 69.42%\n"
     ]
    },
    {
     "name": "stderr",
     "output_type": "stream",
     "text": [
      "Epoch [26/100] Training: 100%|██████████| 56/56 [00:15<00:00,  3.52it/s, accuracy=93.3, loss=0.317] \n",
      "Epoch [26/100] Validation: 100%|██████████| 14/14 [00:10<00:00,  1.31it/s, accuracy=67, loss=0.974]  \n"
     ]
    },
    {
     "name": "stdout",
     "output_type": "stream",
     "text": [
      "Epoch 26/100\n",
      "Train Loss: 0.1550 | Train Acc: 93.30%\n",
      "Val Loss: 0.9202 | Val Acc: 66.96%\n"
     ]
    },
    {
     "name": "stderr",
     "output_type": "stream",
     "text": [
      "Epoch [27/100] Training: 100%|██████████| 56/56 [00:15<00:00,  3.54it/s, accuracy=93.7, loss=0.192] \n",
      "Epoch [27/100] Validation: 100%|██████████| 14/14 [00:10<00:00,  1.31it/s, accuracy=68.3, loss=0.767]\n"
     ]
    },
    {
     "name": "stdout",
     "output_type": "stream",
     "text": [
      "Epoch 27/100\n",
      "Train Loss: 0.1615 | Train Acc: 93.75%\n",
      "Val Loss: 0.8965 | Val Acc: 68.30%\n"
     ]
    },
    {
     "name": "stderr",
     "output_type": "stream",
     "text": [
      "Epoch [28/100] Training: 100%|██████████| 56/56 [00:15<00:00,  3.54it/s, accuracy=93.7, loss=0.477] \n",
      "Epoch [28/100] Validation: 100%|██████████| 14/14 [00:10<00:00,  1.30it/s, accuracy=69.6, loss=0.903]\n"
     ]
    },
    {
     "name": "stdout",
     "output_type": "stream",
     "text": [
      "Epoch 28/100\n",
      "Train Loss: 0.1593 | Train Acc: 93.69%\n",
      "Val Loss: 0.8750 | Val Acc: 69.64%\n"
     ]
    },
    {
     "name": "stderr",
     "output_type": "stream",
     "text": [
      "Epoch [29/100] Training: 100%|██████████| 56/56 [00:16<00:00,  3.43it/s, accuracy=93.9, loss=0.244] \n",
      "Epoch [29/100] Validation: 100%|██████████| 14/14 [00:10<00:00,  1.31it/s, accuracy=67.6, loss=0.761]\n"
     ]
    },
    {
     "name": "stdout",
     "output_type": "stream",
     "text": [
      "Epoch 29/100\n",
      "Train Loss: 0.1577 | Train Acc: 93.86%\n",
      "Val Loss: 0.9015 | Val Acc: 67.63%\n"
     ]
    },
    {
     "name": "stderr",
     "output_type": "stream",
     "text": [
      "Epoch [30/100] Training: 100%|██████████| 56/56 [00:15<00:00,  3.56it/s, accuracy=93.5, loss=0.174] \n",
      "Epoch [30/100] Validation: 100%|██████████| 14/14 [00:10<00:00,  1.32it/s, accuracy=70.5, loss=0.765]\n"
     ]
    },
    {
     "name": "stdout",
     "output_type": "stream",
     "text": [
      "Epoch 30/100\n",
      "Train Loss: 0.1612 | Train Acc: 93.52%\n",
      "Val Loss: 0.8824 | Val Acc: 70.54%\n"
     ]
    },
    {
     "name": "stderr",
     "output_type": "stream",
     "text": [
      "Epoch [31/100] Training: 100%|██████████| 56/56 [00:15<00:00,  3.56it/s, accuracy=94.5, loss=0.142] \n",
      "Epoch [31/100] Validation: 100%|██████████| 14/14 [00:10<00:00,  1.32it/s, accuracy=69, loss=0.773]  \n"
     ]
    },
    {
     "name": "stdout",
     "output_type": "stream",
     "text": [
      "Epoch 31/100\n",
      "Train Loss: 0.1509 | Train Acc: 94.47%\n",
      "Val Loss: 0.8781 | Val Acc: 68.97%\n"
     ]
    },
    {
     "name": "stderr",
     "output_type": "stream",
     "text": [
      "Epoch [32/100] Training: 100%|██████████| 56/56 [00:15<00:00,  3.57it/s, accuracy=94, loss=0.18]    \n",
      "Epoch [32/100] Validation: 100%|██████████| 14/14 [00:10<00:00,  1.31it/s, accuracy=69.2, loss=0.923]\n"
     ]
    },
    {
     "name": "stdout",
     "output_type": "stream",
     "text": [
      "Epoch 32/100\n",
      "Train Loss: 0.1564 | Train Acc: 93.97%\n",
      "Val Loss: 0.9108 | Val Acc: 69.20%\n"
     ]
    },
    {
     "name": "stderr",
     "output_type": "stream",
     "text": [
      "Epoch [33/100] Training: 100%|██████████| 56/56 [00:15<00:00,  3.58it/s, accuracy=94, loss=0.124]   \n",
      "Epoch [33/100] Validation: 100%|██████████| 14/14 [00:10<00:00,  1.31it/s, accuracy=67.6, loss=0.907]\n"
     ]
    },
    {
     "name": "stdout",
     "output_type": "stream",
     "text": [
      "Epoch 33/100\n",
      "Train Loss: 0.1631 | Train Acc: 94.03%\n",
      "Val Loss: 0.9298 | Val Acc: 67.63%\n"
     ]
    },
    {
     "name": "stderr",
     "output_type": "stream",
     "text": [
      "Epoch [34/100] Training: 100%|██████████| 56/56 [00:15<00:00,  3.57it/s, accuracy=93.8, loss=0.0814]\n",
      "Epoch [34/100] Validation: 100%|██████████| 14/14 [00:10<00:00,  1.31it/s, accuracy=68.8, loss=0.769]\n"
     ]
    },
    {
     "name": "stdout",
     "output_type": "stream",
     "text": [
      "Epoch 34/100\n",
      "Train Loss: 0.1560 | Train Acc: 93.80%\n",
      "Val Loss: 0.8985 | Val Acc: 68.75%\n"
     ]
    },
    {
     "name": "stderr",
     "output_type": "stream",
     "text": [
      "Epoch [35/100] Training: 100%|██████████| 56/56 [00:15<00:00,  3.53it/s, accuracy=93.5, loss=0.144] \n",
      "Epoch [35/100] Validation: 100%|██████████| 14/14 [00:10<00:00,  1.32it/s, accuracy=68.8, loss=0.857]\n"
     ]
    },
    {
     "name": "stdout",
     "output_type": "stream",
     "text": [
      "Epoch 35/100\n",
      "Train Loss: 0.1677 | Train Acc: 93.47%\n",
      "Val Loss: 0.8904 | Val Acc: 68.75%\n"
     ]
    },
    {
     "name": "stderr",
     "output_type": "stream",
     "text": [
      "Epoch [36/100] Training: 100%|██████████| 56/56 [00:15<00:00,  3.60it/s, accuracy=92.9, loss=0.15]  \n",
      "Epoch [36/100] Validation: 100%|██████████| 14/14 [00:10<00:00,  1.32it/s, accuracy=70.1, loss=0.749]\n"
     ]
    },
    {
     "name": "stdout",
     "output_type": "stream",
     "text": [
      "Epoch 36/100\n",
      "Train Loss: 0.1669 | Train Acc: 92.91%\n",
      "Val Loss: 0.9011 | Val Acc: 70.09%\n"
     ]
    },
    {
     "name": "stderr",
     "output_type": "stream",
     "text": [
      "Epoch [37/100] Training: 100%|██████████| 56/56 [00:16<00:00,  3.50it/s, accuracy=93.6, loss=0.135] \n",
      "Epoch [37/100] Validation: 100%|██████████| 14/14 [00:10<00:00,  1.30it/s, accuracy=68.3, loss=0.899]\n"
     ]
    },
    {
     "name": "stdout",
     "output_type": "stream",
     "text": [
      "Epoch 37/100\n",
      "Train Loss: 0.1628 | Train Acc: 93.63%\n",
      "Val Loss: 0.8858 | Val Acc: 68.30%\n"
     ]
    },
    {
     "name": "stderr",
     "output_type": "stream",
     "text": [
      "Epoch [38/100] Training: 100%|██████████| 56/56 [00:15<00:00,  3.54it/s, accuracy=93.6, loss=0.115] \n",
      "Epoch [38/100] Validation: 100%|██████████| 14/14 [00:10<00:00,  1.27it/s, accuracy=66.3, loss=0.834]\n"
     ]
    },
    {
     "name": "stdout",
     "output_type": "stream",
     "text": [
      "Epoch 38/100\n",
      "Train Loss: 0.1642 | Train Acc: 93.63%\n",
      "Val Loss: 0.9415 | Val Acc: 66.29%\n"
     ]
    },
    {
     "name": "stderr",
     "output_type": "stream",
     "text": [
      "Epoch [39/100] Training: 100%|██████████| 56/56 [00:16<00:00,  3.41it/s, accuracy=94.5, loss=0.0791]\n",
      "Epoch [39/100] Validation: 100%|██████████| 14/14 [00:11<00:00,  1.27it/s, accuracy=68.1, loss=0.787]\n"
     ]
    },
    {
     "name": "stdout",
     "output_type": "stream",
     "text": [
      "Epoch 39/100\n",
      "Train Loss: 0.1532 | Train Acc: 94.47%\n",
      "Val Loss: 0.9210 | Val Acc: 68.08%\n"
     ]
    },
    {
     "name": "stderr",
     "output_type": "stream",
     "text": [
      "Epoch [40/100] Training: 100%|██████████| 56/56 [00:16<00:00,  3.38it/s, accuracy=93.2, loss=0.0745]\n",
      "Epoch [40/100] Validation: 100%|██████████| 14/14 [00:11<00:00,  1.24it/s, accuracy=68.5, loss=0.779]\n"
     ]
    },
    {
     "name": "stdout",
     "output_type": "stream",
     "text": [
      "Epoch 40/100\n",
      "Train Loss: 0.1726 | Train Acc: 93.24%\n",
      "Val Loss: 0.8922 | Val Acc: 68.53%\n"
     ]
    },
    {
     "name": "stderr",
     "output_type": "stream",
     "text": [
      "Epoch [41/100] Training: 100%|██████████| 56/56 [00:17<00:00,  3.27it/s, accuracy=93, loss=0.126]   \n",
      "Epoch [41/100] Validation: 100%|██████████| 14/14 [00:11<00:00,  1.24it/s, accuracy=67.6, loss=0.954]\n"
     ]
    },
    {
     "name": "stdout",
     "output_type": "stream",
     "text": [
      "Epoch 41/100\n",
      "Train Loss: 0.1670 | Train Acc: 92.96%\n",
      "Val Loss: 0.9247 | Val Acc: 67.63%\n"
     ]
    },
    {
     "name": "stderr",
     "output_type": "stream",
     "text": [
      "Epoch [42/100] Training: 100%|██████████| 56/56 [00:16<00:00,  3.45it/s, accuracy=93.3, loss=0.259] \n",
      "Epoch [42/100] Validation: 100%|██████████| 14/14 [00:10<00:00,  1.27it/s, accuracy=69, loss=0.846]  \n"
     ]
    },
    {
     "name": "stdout",
     "output_type": "stream",
     "text": [
      "Epoch 42/100\n",
      "Train Loss: 0.1640 | Train Acc: 93.30%\n",
      "Val Loss: 0.8804 | Val Acc: 68.97%\n"
     ]
    },
    {
     "name": "stderr",
     "output_type": "stream",
     "text": [
      "Epoch [43/100] Training: 100%|██████████| 56/56 [00:16<00:00,  3.39it/s, accuracy=94.1, loss=0.269] \n",
      "Epoch [43/100] Validation: 100%|██████████| 14/14 [00:11<00:00,  1.27it/s, accuracy=68.5, loss=0.737]\n"
     ]
    },
    {
     "name": "stdout",
     "output_type": "stream",
     "text": [
      "Epoch 43/100\n",
      "Train Loss: 0.1549 | Train Acc: 94.08%\n",
      "Val Loss: 0.9138 | Val Acc: 68.53%\n"
     ]
    },
    {
     "name": "stderr",
     "output_type": "stream",
     "text": [
      "Epoch [44/100] Training: 100%|██████████| 56/56 [00:16<00:00,  3.42it/s, accuracy=93.3, loss=0.134] \n",
      "Epoch [44/100] Validation: 100%|██████████| 14/14 [00:10<00:00,  1.28it/s, accuracy=68.1, loss=0.873]\n"
     ]
    },
    {
     "name": "stdout",
     "output_type": "stream",
     "text": [
      "Epoch 44/100\n",
      "Train Loss: 0.1600 | Train Acc: 93.30%\n",
      "Val Loss: 0.9432 | Val Acc: 68.08%\n"
     ]
    },
    {
     "name": "stderr",
     "output_type": "stream",
     "text": [
      "Epoch [45/100] Training: 100%|██████████| 56/56 [00:16<00:00,  3.46it/s, accuracy=93.2, loss=0.243] \n",
      "Epoch [45/100] Validation: 100%|██████████| 14/14 [00:10<00:00,  1.28it/s, accuracy=67.4, loss=0.765]\n"
     ]
    },
    {
     "name": "stdout",
     "output_type": "stream",
     "text": [
      "Epoch 45/100\n",
      "Train Loss: 0.1665 | Train Acc: 93.24%\n",
      "Val Loss: 0.9377 | Val Acc: 67.41%\n"
     ]
    },
    {
     "name": "stderr",
     "output_type": "stream",
     "text": [
      "Epoch [46/100] Training: 100%|██████████| 56/56 [00:16<00:00,  3.41it/s, accuracy=93.8, loss=0.148] \n",
      "Epoch [46/100] Validation: 100%|██████████| 14/14 [00:11<00:00,  1.25it/s, accuracy=67.9, loss=0.945]\n"
     ]
    },
    {
     "name": "stdout",
     "output_type": "stream",
     "text": [
      "Epoch 46/100\n",
      "Train Loss: 0.1550 | Train Acc: 93.80%\n",
      "Val Loss: 0.9573 | Val Acc: 67.86%\n"
     ]
    },
    {
     "name": "stderr",
     "output_type": "stream",
     "text": [
      "Epoch [47/100] Training: 100%|██████████| 56/56 [00:16<00:00,  3.47it/s, accuracy=93.3, loss=0.112] \n",
      "Epoch [47/100] Validation: 100%|██████████| 14/14 [00:11<00:00,  1.26it/s, accuracy=67, loss=0.761] \n"
     ]
    },
    {
     "name": "stdout",
     "output_type": "stream",
     "text": [
      "Epoch 47/100\n",
      "Train Loss: 0.1644 | Train Acc: 93.30%\n",
      "Val Loss: 0.9200 | Val Acc: 66.96%\n"
     ]
    },
    {
     "name": "stderr",
     "output_type": "stream",
     "text": [
      "Epoch [48/100] Training: 100%|██████████| 56/56 [00:16<00:00,  3.40it/s, accuracy=92.9, loss=0.173] \n",
      "Epoch [48/100] Validation: 100%|██████████| 14/14 [00:11<00:00,  1.24it/s, accuracy=68.8, loss=0.825]\n"
     ]
    },
    {
     "name": "stdout",
     "output_type": "stream",
     "text": [
      "Epoch 48/100\n",
      "Train Loss: 0.1668 | Train Acc: 92.91%\n",
      "Val Loss: 0.8900 | Val Acc: 68.75%\n"
     ]
    },
    {
     "name": "stderr",
     "output_type": "stream",
     "text": [
      "Epoch [49/100] Training: 100%|██████████| 56/56 [00:16<00:00,  3.45it/s, accuracy=93.7, loss=0.175] \n",
      "Epoch [49/100] Validation: 100%|██████████| 14/14 [00:11<00:00,  1.27it/s, accuracy=68.3, loss=0.846]\n"
     ]
    },
    {
     "name": "stdout",
     "output_type": "stream",
     "text": [
      "Epoch 49/100\n",
      "Train Loss: 0.1614 | Train Acc: 93.69%\n",
      "Val Loss: 0.9381 | Val Acc: 68.30%\n"
     ]
    },
    {
     "name": "stderr",
     "output_type": "stream",
     "text": [
      "Epoch [50/100] Training: 100%|██████████| 56/56 [00:16<00:00,  3.45it/s, accuracy=93.4, loss=0.251] \n",
      "Epoch [50/100] Validation: 100%|██████████| 14/14 [00:10<00:00,  1.28it/s, accuracy=69, loss=0.93]   \n"
     ]
    },
    {
     "name": "stdout",
     "output_type": "stream",
     "text": [
      "Epoch 50/100\n",
      "Train Loss: 0.1555 | Train Acc: 93.41%\n",
      "Val Loss: 0.9656 | Val Acc: 68.97%\n"
     ]
    },
    {
     "name": "stderr",
     "output_type": "stream",
     "text": [
      "Epoch [51/100] Training: 100%|██████████| 56/56 [00:16<00:00,  3.37it/s, accuracy=93.8, loss=0.118] \n",
      "Epoch [51/100] Validation: 100%|██████████| 14/14 [00:10<00:00,  1.28it/s, accuracy=69.9, loss=0.794]\n"
     ]
    },
    {
     "name": "stdout",
     "output_type": "stream",
     "text": [
      "Epoch 51/100\n",
      "Train Loss: 0.1588 | Train Acc: 93.80%\n",
      "Val Loss: 0.9046 | Val Acc: 69.87%\n"
     ]
    },
    {
     "name": "stderr",
     "output_type": "stream",
     "text": [
      "Epoch [52/100] Training: 100%|██████████| 56/56 [00:16<00:00,  3.44it/s, accuracy=93.7, loss=0.189] \n",
      "Epoch [52/100] Validation: 100%|██████████| 14/14 [00:11<00:00,  1.27it/s, accuracy=68.1, loss=0.784]\n"
     ]
    },
    {
     "name": "stdout",
     "output_type": "stream",
     "text": [
      "Epoch 52/100\n",
      "Train Loss: 0.1633 | Train Acc: 93.69%\n",
      "Val Loss: 0.8965 | Val Acc: 68.08%\n"
     ]
    },
    {
     "name": "stderr",
     "output_type": "stream",
     "text": [
      "Epoch [53/100] Training: 100%|██████████| 56/56 [00:16<00:00,  3.42it/s, accuracy=93.6, loss=0.14]  \n",
      "Epoch [53/100] Validation: 100%|██████████| 14/14 [00:11<00:00,  1.25it/s, accuracy=68.8, loss=0.933]\n"
     ]
    },
    {
     "name": "stdout",
     "output_type": "stream",
     "text": [
      "Epoch 53/100\n",
      "Train Loss: 0.1570 | Train Acc: 93.63%\n",
      "Val Loss: 0.9128 | Val Acc: 68.75%\n"
     ]
    },
    {
     "name": "stderr",
     "output_type": "stream",
     "text": [
      "Epoch [54/100] Training: 100%|██████████| 56/56 [00:16<00:00,  3.48it/s, accuracy=93.7, loss=0.209] \n",
      "Epoch [54/100] Validation: 100%|██████████| 14/14 [00:10<00:00,  1.28it/s, accuracy=69.4, loss=0.748]\n"
     ]
    },
    {
     "name": "stdout",
     "output_type": "stream",
     "text": [
      "Epoch 54/100\n",
      "Train Loss: 0.1656 | Train Acc: 93.75%\n",
      "Val Loss: 0.9074 | Val Acc: 69.42%\n"
     ]
    },
    {
     "name": "stderr",
     "output_type": "stream",
     "text": [
      "Epoch [55/100] Training: 100%|██████████| 56/56 [00:16<00:00,  3.41it/s, accuracy=94.3, loss=0.208] \n",
      "Epoch [55/100] Validation: 100%|██████████| 14/14 [00:11<00:00,  1.27it/s, accuracy=69.6, loss=0.816]\n"
     ]
    },
    {
     "name": "stdout",
     "output_type": "stream",
     "text": [
      "Epoch 55/100\n",
      "Train Loss: 0.1520 | Train Acc: 94.30%\n",
      "Val Loss: 0.9309 | Val Acc: 69.64%\n"
     ]
    },
    {
     "name": "stderr",
     "output_type": "stream",
     "text": [
      "Epoch [56/100] Training: 100%|██████████| 56/56 [00:16<00:00,  3.42it/s, accuracy=93.5, loss=0.253] \n",
      "Epoch [56/100] Validation: 100%|██████████| 14/14 [00:11<00:00,  1.25it/s, accuracy=68.1, loss=0.932]\n"
     ]
    },
    {
     "name": "stdout",
     "output_type": "stream",
     "text": [
      "Epoch 56/100\n",
      "Train Loss: 0.1571 | Train Acc: 93.47%\n",
      "Val Loss: 0.9638 | Val Acc: 68.08%\n"
     ]
    },
    {
     "name": "stderr",
     "output_type": "stream",
     "text": [
      "Epoch [57/100] Training: 100%|██████████| 56/56 [00:16<00:00,  3.38it/s, accuracy=93.1, loss=0.246] \n",
      "Epoch [57/100] Validation: 100%|██████████| 14/14 [00:11<00:00,  1.23it/s, accuracy=67.9, loss=0.858]\n"
     ]
    },
    {
     "name": "stdout",
     "output_type": "stream",
     "text": [
      "Epoch 57/100\n",
      "Train Loss: 0.1621 | Train Acc: 93.13%\n",
      "Val Loss: 0.9253 | Val Acc: 67.86%\n"
     ]
    },
    {
     "name": "stderr",
     "output_type": "stream",
     "text": [
      "Epoch [58/100] Training: 100%|██████████| 56/56 [00:16<00:00,  3.34it/s, accuracy=93.1, loss=0.184] \n",
      "Epoch [58/100] Validation: 100%|██████████| 14/14 [00:11<00:00,  1.26it/s, accuracy=67.2, loss=0.777]\n"
     ]
    },
    {
     "name": "stdout",
     "output_type": "stream",
     "text": [
      "Epoch 58/100\n",
      "Train Loss: 0.1652 | Train Acc: 93.13%\n",
      "Val Loss: 0.9025 | Val Acc: 67.19%\n"
     ]
    },
    {
     "name": "stderr",
     "output_type": "stream",
     "text": [
      "Epoch [59/100] Training: 100%|██████████| 56/56 [00:16<00:00,  3.42it/s, accuracy=94.6, loss=0.0951]\n",
      "Epoch [59/100] Validation: 100%|██████████| 14/14 [00:11<00:00,  1.26it/s, accuracy=69.2, loss=0.889]\n"
     ]
    },
    {
     "name": "stdout",
     "output_type": "stream",
     "text": [
      "Epoch 59/100\n",
      "Train Loss: 0.1540 | Train Acc: 94.58%\n",
      "Val Loss: 0.9035 | Val Acc: 69.20%\n"
     ]
    },
    {
     "name": "stderr",
     "output_type": "stream",
     "text": [
      "Epoch [60/100] Training: 100%|██████████| 56/56 [00:16<00:00,  3.41it/s, accuracy=94, loss=0.185]   \n",
      "Epoch [60/100] Validation: 100%|██████████| 14/14 [00:11<00:00,  1.23it/s, accuracy=69.2, loss=0.956]\n"
     ]
    },
    {
     "name": "stdout",
     "output_type": "stream",
     "text": [
      "Epoch 60/100\n",
      "Train Loss: 0.1615 | Train Acc: 94.03%\n",
      "Val Loss: 0.9400 | Val Acc: 69.20%\n"
     ]
    },
    {
     "name": "stderr",
     "output_type": "stream",
     "text": [
      "Epoch [61/100] Training: 100%|██████████| 56/56 [00:17<00:00,  3.28it/s, accuracy=92.9, loss=0.116] \n",
      "Epoch [61/100] Validation: 100%|██████████| 14/14 [00:11<00:00,  1.24it/s, accuracy=69.2, loss=0.979]\n"
     ]
    },
    {
     "name": "stdout",
     "output_type": "stream",
     "text": [
      "Epoch 61/100\n",
      "Train Loss: 0.1605 | Train Acc: 92.91%\n",
      "Val Loss: 0.9113 | Val Acc: 69.20%\n"
     ]
    },
    {
     "name": "stderr",
     "output_type": "stream",
     "text": [
      "Epoch [62/100] Training: 100%|██████████| 56/56 [00:16<00:00,  3.36it/s, accuracy=93.1, loss=0.358] \n",
      "Epoch [62/100] Validation: 100%|██████████| 14/14 [00:11<00:00,  1.25it/s, accuracy=68.5, loss=0.785]\n"
     ]
    },
    {
     "name": "stdout",
     "output_type": "stream",
     "text": [
      "Epoch 62/100\n",
      "Train Loss: 0.1651 | Train Acc: 93.13%\n",
      "Val Loss: 0.9182 | Val Acc: 68.53%\n"
     ]
    },
    {
     "name": "stderr",
     "output_type": "stream",
     "text": [
      "Epoch [63/100] Training: 100%|██████████| 56/56 [00:16<00:00,  3.36it/s, accuracy=93.2, loss=0.168] \n",
      "Epoch [63/100] Validation: 100%|██████████| 14/14 [00:10<00:00,  1.28it/s, accuracy=69.2, loss=0.738]\n"
     ]
    },
    {
     "name": "stdout",
     "output_type": "stream",
     "text": [
      "Epoch 63/100\n",
      "Train Loss: 0.1577 | Train Acc: 93.24%\n",
      "Val Loss: 0.8926 | Val Acc: 69.20%\n"
     ]
    },
    {
     "name": "stderr",
     "output_type": "stream",
     "text": [
      "Epoch [64/100] Training: 100%|██████████| 56/56 [00:16<00:00,  3.47it/s, accuracy=93, loss=0.0914]  \n",
      "Epoch [64/100] Validation: 100%|██████████| 14/14 [00:11<00:00,  1.25it/s, accuracy=66.7, loss=0.874]\n"
     ]
    },
    {
     "name": "stdout",
     "output_type": "stream",
     "text": [
      "Epoch 64/100\n",
      "Train Loss: 0.1575 | Train Acc: 93.02%\n",
      "Val Loss: 0.9465 | Val Acc: 66.74%\n"
     ]
    },
    {
     "name": "stderr",
     "output_type": "stream",
     "text": [
      "Epoch [65/100] Training: 100%|██████████| 56/56 [00:16<00:00,  3.33it/s, accuracy=93.6, loss=0.281] \n",
      "Epoch [65/100] Validation: 100%|██████████| 14/14 [00:11<00:00,  1.23it/s, accuracy=67.6, loss=0.75] \n"
     ]
    },
    {
     "name": "stdout",
     "output_type": "stream",
     "text": [
      "Epoch 65/100\n",
      "Train Loss: 0.1635 | Train Acc: 93.63%\n",
      "Val Loss: 0.9046 | Val Acc: 67.63%\n"
     ]
    },
    {
     "name": "stderr",
     "output_type": "stream",
     "text": [
      "Epoch [66/100] Training: 100%|██████████| 56/56 [00:17<00:00,  3.22it/s, accuracy=93.4, loss=0.236] \n",
      "Epoch [66/100] Validation: 100%|██████████| 14/14 [00:11<00:00,  1.24it/s, accuracy=69.6, loss=0.77] \n"
     ]
    },
    {
     "name": "stdout",
     "output_type": "stream",
     "text": [
      "Epoch 66/100\n",
      "Train Loss: 0.1574 | Train Acc: 93.41%\n",
      "Val Loss: 0.9027 | Val Acc: 69.64%\n"
     ]
    },
    {
     "name": "stderr",
     "output_type": "stream",
     "text": [
      "Epoch [67/100] Training: 100%|██████████| 56/56 [00:17<00:00,  3.29it/s, accuracy=93.9, loss=0.228] \n",
      "Epoch [67/100] Validation: 100%|██████████| 14/14 [00:11<00:00,  1.23it/s, accuracy=68.8, loss=0.999]\n"
     ]
    },
    {
     "name": "stdout",
     "output_type": "stream",
     "text": [
      "Epoch 67/100\n",
      "Train Loss: 0.1584 | Train Acc: 93.86%\n",
      "Val Loss: 0.9270 | Val Acc: 68.75%\n"
     ]
    },
    {
     "name": "stderr",
     "output_type": "stream",
     "text": [
      "Epoch [68/100] Training: 100%|██████████| 56/56 [00:16<00:00,  3.31it/s, accuracy=93.6, loss=0.0979]\n",
      "Epoch [68/100] Validation: 100%|██████████| 14/14 [00:11<00:00,  1.24it/s, accuracy=69.6, loss=0.893]\n"
     ]
    },
    {
     "name": "stdout",
     "output_type": "stream",
     "text": [
      "Epoch 68/100\n",
      "Train Loss: 0.1631 | Train Acc: 93.63%\n",
      "Val Loss: 0.8810 | Val Acc: 69.64%\n"
     ]
    },
    {
     "name": "stderr",
     "output_type": "stream",
     "text": [
      "Epoch [69/100] Training: 100%|██████████| 56/56 [00:16<00:00,  3.35it/s, accuracy=94, loss=0.151]   \n",
      "Epoch [69/100] Validation: 100%|██████████| 14/14 [00:11<00:00,  1.26it/s, accuracy=67.6, loss=0.819]\n"
     ]
    },
    {
     "name": "stdout",
     "output_type": "stream",
     "text": [
      "Epoch 69/100\n",
      "Train Loss: 0.1517 | Train Acc: 93.97%\n",
      "Val Loss: 0.9239 | Val Acc: 67.63%\n"
     ]
    },
    {
     "name": "stderr",
     "output_type": "stream",
     "text": [
      "Epoch [70/100] Training: 100%|██████████| 56/56 [00:16<00:00,  3.35it/s, accuracy=93.2, loss=0.0878]\n",
      "Epoch [70/100] Validation: 100%|██████████| 14/14 [00:11<00:00,  1.24it/s, accuracy=68.3, loss=0.76] \n"
     ]
    },
    {
     "name": "stdout",
     "output_type": "stream",
     "text": [
      "Epoch 70/100\n",
      "Train Loss: 0.1599 | Train Acc: 93.19%\n",
      "Val Loss: 0.9303 | Val Acc: 68.30%\n"
     ]
    },
    {
     "name": "stderr",
     "output_type": "stream",
     "text": [
      "Epoch [71/100] Training: 100%|██████████| 56/56 [00:16<00:00,  3.32it/s, accuracy=93.5, loss=0.124] \n",
      "Epoch [71/100] Validation: 100%|██████████| 14/14 [00:11<00:00,  1.21it/s, accuracy=67.9, loss=0.971]\n"
     ]
    },
    {
     "name": "stdout",
     "output_type": "stream",
     "text": [
      "Epoch 71/100\n",
      "Train Loss: 0.1615 | Train Acc: 93.47%\n",
      "Val Loss: 0.9352 | Val Acc: 67.86%\n"
     ]
    },
    {
     "name": "stderr",
     "output_type": "stream",
     "text": [
      "Epoch [72/100] Training: 100%|██████████| 56/56 [00:17<00:00,  3.20it/s, accuracy=94, loss=0.204]   \n",
      "Epoch [72/100] Validation: 100%|██████████| 14/14 [00:11<00:00,  1.26it/s, accuracy=70.3, loss=0.819]\n"
     ]
    },
    {
     "name": "stdout",
     "output_type": "stream",
     "text": [
      "Epoch 72/100\n",
      "Train Loss: 0.1566 | Train Acc: 93.97%\n",
      "Val Loss: 0.8798 | Val Acc: 70.31%\n"
     ]
    },
    {
     "name": "stderr",
     "output_type": "stream",
     "text": [
      "Epoch [73/100] Training: 100%|██████████| 56/56 [00:16<00:00,  3.35it/s, accuracy=93.8, loss=0.0867]\n",
      "Epoch [73/100] Validation: 100%|██████████| 14/14 [00:11<00:00,  1.24it/s, accuracy=69.9, loss=0.849]\n"
     ]
    },
    {
     "name": "stdout",
     "output_type": "stream",
     "text": [
      "Epoch 73/100\n",
      "Train Loss: 0.1558 | Train Acc: 93.80%\n",
      "Val Loss: 0.9096 | Val Acc: 69.87%\n"
     ]
    },
    {
     "name": "stderr",
     "output_type": "stream",
     "text": [
      "Epoch [74/100] Training: 100%|██████████| 56/56 [00:16<00:00,  3.33it/s, accuracy=93.9, loss=0.12]  \n",
      "Epoch [74/100] Validation: 100%|██████████| 14/14 [00:11<00:00,  1.26it/s, accuracy=67.4, loss=0.785]\n"
     ]
    },
    {
     "name": "stdout",
     "output_type": "stream",
     "text": [
      "Epoch 74/100\n",
      "Train Loss: 0.1583 | Train Acc: 93.91%\n",
      "Val Loss: 0.9258 | Val Acc: 67.41%\n"
     ]
    },
    {
     "name": "stderr",
     "output_type": "stream",
     "text": [
      "Epoch [75/100] Training: 100%|██████████| 56/56 [00:16<00:00,  3.35it/s, accuracy=93.2, loss=0.344] \n",
      "Epoch [75/100] Validation: 100%|██████████| 14/14 [00:11<00:00,  1.27it/s, accuracy=66.5, loss=0.875]\n"
     ]
    },
    {
     "name": "stdout",
     "output_type": "stream",
     "text": [
      "Epoch 75/100\n",
      "Train Loss: 0.1648 | Train Acc: 93.19%\n",
      "Val Loss: 0.9426 | Val Acc: 66.52%\n"
     ]
    },
    {
     "name": "stderr",
     "output_type": "stream",
     "text": [
      "Epoch [76/100] Training: 100%|██████████| 56/56 [00:16<00:00,  3.49it/s, accuracy=93.1, loss=0.145] \n",
      "Epoch [76/100] Validation: 100%|██████████| 14/14 [00:10<00:00,  1.32it/s, accuracy=69.6, loss=0.901]\n"
     ]
    },
    {
     "name": "stdout",
     "output_type": "stream",
     "text": [
      "Epoch 76/100\n",
      "Train Loss: 0.1603 | Train Acc: 93.08%\n",
      "Val Loss: 0.9234 | Val Acc: 69.64%\n"
     ]
    },
    {
     "name": "stderr",
     "output_type": "stream",
     "text": [
      "Epoch [77/100] Training: 100%|██████████| 56/56 [00:15<00:00,  3.60it/s, accuracy=94.1, loss=0.157] \n",
      "Epoch [77/100] Validation: 100%|██████████| 14/14 [00:10<00:00,  1.31it/s, accuracy=67, loss=0.846]  \n"
     ]
    },
    {
     "name": "stdout",
     "output_type": "stream",
     "text": [
      "Epoch 77/100\n",
      "Train Loss: 0.1507 | Train Acc: 94.14%\n",
      "Val Loss: 0.9399 | Val Acc: 66.96%\n"
     ]
    },
    {
     "name": "stderr",
     "output_type": "stream",
     "text": [
      "Epoch [78/100] Training: 100%|██████████| 56/56 [00:15<00:00,  3.56it/s, accuracy=92.8, loss=0.312] \n",
      "Epoch [78/100] Validation: 100%|██████████| 14/14 [00:10<00:00,  1.33it/s, accuracy=70.5, loss=0.911]\n"
     ]
    },
    {
     "name": "stdout",
     "output_type": "stream",
     "text": [
      "Epoch 78/100\n",
      "Train Loss: 0.1661 | Train Acc: 92.80%\n",
      "Val Loss: 0.8841 | Val Acc: 70.54%\n"
     ]
    },
    {
     "name": "stderr",
     "output_type": "stream",
     "text": [
      "Epoch [79/100] Training: 100%|██████████| 56/56 [00:15<00:00,  3.53it/s, accuracy=93.2, loss=0.194] \n",
      "Epoch [79/100] Validation: 100%|██████████| 14/14 [00:10<00:00,  1.32it/s, accuracy=69.6, loss=0.844]\n"
     ]
    },
    {
     "name": "stdout",
     "output_type": "stream",
     "text": [
      "Epoch 79/100\n",
      "Train Loss: 0.1543 | Train Acc: 93.19%\n",
      "Val Loss: 0.9259 | Val Acc: 69.64%\n"
     ]
    },
    {
     "name": "stderr",
     "output_type": "stream",
     "text": [
      "Epoch [80/100] Training: 100%|██████████| 56/56 [00:15<00:00,  3.62it/s, accuracy=93.3, loss=0.143] \n",
      "Epoch [80/100] Validation: 100%|██████████| 14/14 [00:10<00:00,  1.30it/s, accuracy=68.8, loss=0.96] \n"
     ]
    },
    {
     "name": "stdout",
     "output_type": "stream",
     "text": [
      "Epoch 80/100\n",
      "Train Loss: 0.1588 | Train Acc: 93.30%\n",
      "Val Loss: 0.9142 | Val Acc: 68.75%\n"
     ]
    },
    {
     "name": "stderr",
     "output_type": "stream",
     "text": [
      "Epoch [81/100] Training: 100%|██████████| 56/56 [00:15<00:00,  3.55it/s, accuracy=93.4, loss=0.314] \n",
      "Epoch [81/100] Validation: 100%|██████████| 14/14 [00:10<00:00,  1.33it/s, accuracy=67.2, loss=0.932]\n"
     ]
    },
    {
     "name": "stdout",
     "output_type": "stream",
     "text": [
      "Epoch 81/100\n",
      "Train Loss: 0.1571 | Train Acc: 93.41%\n",
      "Val Loss: 0.9151 | Val Acc: 67.19%\n"
     ]
    },
    {
     "name": "stderr",
     "output_type": "stream",
     "text": [
      "Epoch [82/100] Training: 100%|██████████| 56/56 [00:15<00:00,  3.55it/s, accuracy=93.2, loss=0.747] \n",
      "Epoch [82/100] Validation: 100%|██████████| 14/14 [00:10<00:00,  1.32it/s, accuracy=67.9, loss=0.832]\n"
     ]
    },
    {
     "name": "stdout",
     "output_type": "stream",
     "text": [
      "Epoch 82/100\n",
      "Train Loss: 0.1743 | Train Acc: 93.19%\n",
      "Val Loss: 0.9008 | Val Acc: 67.86%\n"
     ]
    },
    {
     "name": "stderr",
     "output_type": "stream",
     "text": [
      "Epoch [83/100] Training: 100%|██████████| 56/56 [00:15<00:00,  3.61it/s, accuracy=93.7, loss=0.169] \n",
      "Epoch [83/100] Validation: 100%|██████████| 14/14 [00:10<00:00,  1.32it/s, accuracy=68.1, loss=0.831]\n"
     ]
    },
    {
     "name": "stdout",
     "output_type": "stream",
     "text": [
      "Epoch 83/100\n",
      "Train Loss: 0.1511 | Train Acc: 93.69%\n",
      "Val Loss: 0.9159 | Val Acc: 68.08%\n"
     ]
    },
    {
     "name": "stderr",
     "output_type": "stream",
     "text": [
      "Epoch [84/100] Training: 100%|██████████| 56/56 [00:15<00:00,  3.58it/s, accuracy=94.2, loss=0.245] \n",
      "Epoch [84/100] Validation: 100%|██████████| 14/14 [00:10<00:00,  1.32it/s, accuracy=67.9, loss=0.656]\n"
     ]
    },
    {
     "name": "stdout",
     "output_type": "stream",
     "text": [
      "Epoch 84/100\n",
      "Train Loss: 0.1509 | Train Acc: 94.25%\n",
      "Val Loss: 0.9024 | Val Acc: 67.86%\n"
     ]
    },
    {
     "name": "stderr",
     "output_type": "stream",
     "text": [
      "Epoch [85/100] Training: 100%|██████████| 56/56 [00:15<00:00,  3.57it/s, accuracy=93.4, loss=0.0696]\n",
      "Epoch [85/100] Validation: 100%|██████████| 14/14 [00:10<00:00,  1.31it/s, accuracy=66.5, loss=0.909]\n"
     ]
    },
    {
     "name": "stdout",
     "output_type": "stream",
     "text": [
      "Epoch 85/100\n",
      "Train Loss: 0.1589 | Train Acc: 93.36%\n",
      "Val Loss: 0.8917 | Val Acc: 66.52%\n"
     ]
    },
    {
     "name": "stderr",
     "output_type": "stream",
     "text": [
      "Epoch [86/100] Training: 100%|██████████| 56/56 [00:15<00:00,  3.53it/s, accuracy=93.2, loss=0.298] \n",
      "Epoch [86/100] Validation: 100%|██████████| 14/14 [00:10<00:00,  1.32it/s, accuracy=67.4, loss=0.882]\n"
     ]
    },
    {
     "name": "stdout",
     "output_type": "stream",
     "text": [
      "Epoch 86/100\n",
      "Train Loss: 0.1628 | Train Acc: 93.24%\n",
      "Val Loss: 0.9205 | Val Acc: 67.41%\n"
     ]
    },
    {
     "name": "stderr",
     "output_type": "stream",
     "text": [
      "Epoch [87/100] Training: 100%|██████████| 56/56 [00:15<00:00,  3.56it/s, accuracy=93.6, loss=0.202] \n",
      "Epoch [87/100] Validation: 100%|██████████| 14/14 [00:10<00:00,  1.32it/s, accuracy=67.9, loss=0.802]\n"
     ]
    },
    {
     "name": "stdout",
     "output_type": "stream",
     "text": [
      "Epoch 87/100\n",
      "Train Loss: 0.1581 | Train Acc: 93.63%\n",
      "Val Loss: 0.8754 | Val Acc: 67.86%\n"
     ]
    },
    {
     "name": "stderr",
     "output_type": "stream",
     "text": [
      "Epoch [88/100] Training: 100%|██████████| 56/56 [00:15<00:00,  3.53it/s, accuracy=93.5, loss=0.269] \n",
      "Epoch [88/100] Validation: 100%|██████████| 14/14 [00:10<00:00,  1.32it/s, accuracy=68.1, loss=0.991]\n"
     ]
    },
    {
     "name": "stdout",
     "output_type": "stream",
     "text": [
      "Epoch 88/100\n",
      "Train Loss: 0.1547 | Train Acc: 93.52%\n",
      "Val Loss: 0.9209 | Val Acc: 68.08%\n"
     ]
    },
    {
     "name": "stderr",
     "output_type": "stream",
     "text": [
      "Epoch [89/100] Training: 100%|██████████| 56/56 [00:15<00:00,  3.57it/s, accuracy=94.4, loss=0.241] \n",
      "Epoch [89/100] Validation: 100%|██████████| 14/14 [00:10<00:00,  1.32it/s, accuracy=69.4, loss=0.9]  \n"
     ]
    },
    {
     "name": "stdout",
     "output_type": "stream",
     "text": [
      "Epoch 89/100\n",
      "Train Loss: 0.1556 | Train Acc: 94.42%\n",
      "Val Loss: 0.8925 | Val Acc: 69.42%\n"
     ]
    },
    {
     "name": "stderr",
     "output_type": "stream",
     "text": [
      "Epoch [90/100] Training: 100%|██████████| 56/56 [00:15<00:00,  3.55it/s, accuracy=93.2, loss=0.128] \n",
      "Epoch [90/100] Validation: 100%|██████████| 14/14 [00:10<00:00,  1.31it/s, accuracy=67.4, loss=0.981]\n"
     ]
    },
    {
     "name": "stdout",
     "output_type": "stream",
     "text": [
      "Epoch 90/100\n",
      "Train Loss: 0.1610 | Train Acc: 93.24%\n",
      "Val Loss: 0.9426 | Val Acc: 67.41%\n"
     ]
    },
    {
     "name": "stderr",
     "output_type": "stream",
     "text": [
      "Epoch [91/100] Training: 100%|██████████| 56/56 [00:15<00:00,  3.54it/s, accuracy=93.4, loss=0.136] \n",
      "Epoch [91/100] Validation: 100%|██████████| 14/14 [00:10<00:00,  1.32it/s, accuracy=69, loss=0.736]  \n"
     ]
    },
    {
     "name": "stdout",
     "output_type": "stream",
     "text": [
      "Epoch 91/100\n",
      "Train Loss: 0.1598 | Train Acc: 93.36%\n",
      "Val Loss: 0.9275 | Val Acc: 68.97%\n"
     ]
    },
    {
     "name": "stderr",
     "output_type": "stream",
     "text": [
      "Epoch [92/100] Training: 100%|██████████| 56/56 [00:15<00:00,  3.56it/s, accuracy=93.4, loss=0.131] \n",
      "Epoch [92/100] Validation: 100%|██████████| 14/14 [00:10<00:00,  1.32it/s, accuracy=69, loss=0.87]   \n"
     ]
    },
    {
     "name": "stdout",
     "output_type": "stream",
     "text": [
      "Epoch 92/100\n",
      "Train Loss: 0.1746 | Train Acc: 93.41%\n",
      "Val Loss: 0.9205 | Val Acc: 68.97%\n"
     ]
    },
    {
     "name": "stderr",
     "output_type": "stream",
     "text": [
      "Epoch [93/100] Training: 100%|██████████| 56/56 [00:15<00:00,  3.60it/s, accuracy=93.3, loss=0.194] \n",
      "Epoch [93/100] Validation: 100%|██████████| 14/14 [00:10<00:00,  1.32it/s, accuracy=69.9, loss=0.654]\n"
     ]
    },
    {
     "name": "stdout",
     "output_type": "stream",
     "text": [
      "Epoch 93/100\n",
      "Train Loss: 0.1660 | Train Acc: 93.30%\n",
      "Val Loss: 0.8826 | Val Acc: 69.87%\n"
     ]
    },
    {
     "name": "stderr",
     "output_type": "stream",
     "text": [
      "Epoch [94/100] Training: 100%|██████████| 56/56 [00:15<00:00,  3.61it/s, accuracy=94, loss=0.23]    \n",
      "Epoch [94/100] Validation: 100%|██████████| 14/14 [00:10<00:00,  1.31it/s, accuracy=65.8, loss=1.05] \n"
     ]
    },
    {
     "name": "stdout",
     "output_type": "stream",
     "text": [
      "Epoch 94/100\n",
      "Train Loss: 0.1519 | Train Acc: 94.03%\n",
      "Val Loss: 0.9868 | Val Acc: 65.85%\n"
     ]
    },
    {
     "name": "stderr",
     "output_type": "stream",
     "text": [
      "Epoch [95/100] Training: 100%|██████████| 56/56 [00:15<00:00,  3.58it/s, accuracy=94.2, loss=0.12]  \n",
      "Epoch [95/100] Validation: 100%|██████████| 14/14 [00:10<00:00,  1.32it/s, accuracy=68.3, loss=0.849]\n"
     ]
    },
    {
     "name": "stdout",
     "output_type": "stream",
     "text": [
      "Epoch 95/100\n",
      "Train Loss: 0.1532 | Train Acc: 94.25%\n",
      "Val Loss: 0.9616 | Val Acc: 68.30%\n"
     ]
    },
    {
     "name": "stderr",
     "output_type": "stream",
     "text": [
      "Epoch [96/100] Training: 100%|██████████| 56/56 [00:15<00:00,  3.56it/s, accuracy=93.9, loss=0.203] \n",
      "Epoch [96/100] Validation: 100%|██████████| 14/14 [00:10<00:00,  1.32it/s, accuracy=68.8, loss=0.795]\n"
     ]
    },
    {
     "name": "stdout",
     "output_type": "stream",
     "text": [
      "Epoch 96/100\n",
      "Train Loss: 0.1581 | Train Acc: 93.91%\n",
      "Val Loss: 0.8835 | Val Acc: 68.75%\n"
     ]
    },
    {
     "name": "stderr",
     "output_type": "stream",
     "text": [
      "Epoch [97/100] Training: 100%|██████████| 56/56 [00:15<00:00,  3.56it/s, accuracy=93.4, loss=0.191] \n",
      "Epoch [97/100] Validation: 100%|██████████| 14/14 [00:10<00:00,  1.31it/s, accuracy=67.4, loss=0.919]\n"
     ]
    },
    {
     "name": "stdout",
     "output_type": "stream",
     "text": [
      "Epoch 97/100\n",
      "Train Loss: 0.1676 | Train Acc: 93.36%\n",
      "Val Loss: 0.9256 | Val Acc: 67.41%\n"
     ]
    },
    {
     "name": "stderr",
     "output_type": "stream",
     "text": [
      "Epoch [98/100] Training: 100%|██████████| 56/56 [00:15<00:00,  3.51it/s, accuracy=93.7, loss=0.0827]\n",
      "Epoch [98/100] Validation: 100%|██████████| 14/14 [00:10<00:00,  1.32it/s, accuracy=68.5, loss=0.83] \n"
     ]
    },
    {
     "name": "stdout",
     "output_type": "stream",
     "text": [
      "Epoch 98/100\n",
      "Train Loss: 0.1585 | Train Acc: 93.75%\n",
      "Val Loss: 0.9177 | Val Acc: 68.53%\n"
     ]
    },
    {
     "name": "stderr",
     "output_type": "stream",
     "text": [
      "Epoch [99/100] Training: 100%|██████████| 56/56 [00:15<00:00,  3.61it/s, accuracy=94.2, loss=0.094] \n",
      "Epoch [99/100] Validation: 100%|██████████| 14/14 [00:10<00:00,  1.32it/s, accuracy=67.9, loss=0.81] \n"
     ]
    },
    {
     "name": "stdout",
     "output_type": "stream",
     "text": [
      "Epoch 99/100\n",
      "Train Loss: 0.1543 | Train Acc: 94.19%\n",
      "Val Loss: 0.9244 | Val Acc: 67.86%\n"
     ]
    },
    {
     "name": "stderr",
     "output_type": "stream",
     "text": [
      "Epoch [100/100] Training: 100%|██████████| 56/56 [00:15<00:00,  3.61it/s, accuracy=92.9, loss=0.162] \n",
      "Epoch [100/100] Validation: 100%|██████████| 14/14 [00:10<00:00,  1.31it/s, accuracy=68.8, loss=0.718]"
     ]
    },
    {
     "name": "stdout",
     "output_type": "stream",
     "text": [
      "Epoch 100/100\n",
      "Train Loss: 0.1603 | Train Acc: 92.91%\n",
      "Val Loss: 0.8697 | Val Acc: 68.75%\n"
     ]
    },
    {
     "name": "stderr",
     "output_type": "stream",
     "text": [
      "\n"
     ]
    }
   ],
   "source": [
    "# Training setup\n",
    "criterion = nn.CrossEntropyLoss()\n",
    "optimizer = optim.AdamW(model.parameters(), lr=1e-4, weight_decay=1e-4)\n",
    "scheduler = optim.lr_scheduler.ReduceLROnPlateau(optimizer, mode='min', patience=3, verbose=True)\n",
    "\n",
    "# Lists to store loss and accuracy for plotting\n",
    "train_losses, val_losses = [], []\n",
    "train_accuracies, val_accuracies = [], []\n",
    "\n",
    "# Training loop\n",
    "num_epochs = 100\n",
    "csv_filename = \"mobilenet_training_metrics.csv\"\n",
    "metrics_df = pd.DataFrame(columns=[\"Epoch\", \"Train Loss\", \"Train Accuracy\", \"Val Loss\", \"Val Accuracy\"])\n",
    "metrics_df.to_csv(csv_filename, index=False)\n",
    "\n",
    "for epoch in range(num_epochs):\n",
    "    # Training phase\n",
    "    model.train()\n",
    "    running_loss = 0.0\n",
    "    correct, total = 0, 0\n",
    "    \n",
    "    train_loop = tqdm(train_loader, desc=f\"Epoch [{epoch+1}/{num_epochs}] Training\")\n",
    "    for images, labels in train_loop:\n",
    "        images, labels = images.to(device), labels.to(device)\n",
    "        \n",
    "        optimizer.zero_grad()\n",
    "        outputs = model(images)\n",
    "        loss = criterion(outputs, labels)\n",
    "        loss.backward()\n",
    "        optimizer.step()\n",
    "        \n",
    "        _, predicted = torch.max(outputs.data, 1)\n",
    "        total += labels.size(0)\n",
    "        correct += (predicted == labels).sum().item()\n",
    "        running_loss += loss.item()\n",
    "        \n",
    "        train_loop.set_postfix(loss=loss.item(), accuracy=100 * correct / total)\n",
    "    \n",
    "    train_loss = running_loss / len(train_loader)\n",
    "    train_acc = 100 * correct / total\n",
    "    train_losses.append(train_loss)  # Store for plotting\n",
    "    train_accuracies.append(train_acc)  # Store for plotting\n",
    "\n",
    "    # Validation phase\n",
    "    model.eval()\n",
    "    val_running_loss = 0.0\n",
    "    correct, total = 0, 0\n",
    "    \n",
    "    val_loop = tqdm(val_loader, desc=f\"Epoch [{epoch+1}/{num_epochs}] Validation\")\n",
    "    with torch.no_grad():\n",
    "        for images, labels in val_loop:\n",
    "            images, labels = images.to(device), labels.to(device)\n",
    "            outputs = model(images)\n",
    "            loss = criterion(outputs, labels)\n",
    "            \n",
    "            val_running_loss += loss.item()\n",
    "            _, predicted = torch.max(outputs.data, 1)\n",
    "            total += labels.size(0)\n",
    "            correct += (predicted == labels).sum().item()\n",
    "            \n",
    "            val_loop.set_postfix(loss=loss.item(), accuracy=100 * correct / total)\n",
    "    \n",
    "    val_loss = val_running_loss / len(val_loader)\n",
    "    val_acc = 100 * correct / total\n",
    "    val_losses.append(val_loss)  # Store for plotting\n",
    "    val_accuracies.append(val_acc)  # Store for plotting\n",
    "\n",
    "    scheduler.step(val_loss)\n",
    "    \n",
    "    # Save metrics\n",
    "    epoch_df = pd.DataFrame([[epoch+1, train_loss, train_acc, val_loss, val_acc]],\n",
    "                           columns=[\"Epoch\", \"Train Loss\", \"Train Accuracy\", \"Val Loss\", \"Val Accuracy\"])\n",
    "    epoch_df.to_csv(csv_filename, mode='a', header=False, index=False)\n",
    "    \n",
    "    print(f\"Epoch {epoch+1}/{num_epochs}\")\n",
    "    print(f\"Train Loss: {train_loss:.4f} | Train Acc: {train_acc:.2f}%\")\n",
    "    print(f\"Val Loss: {val_loss:.4f} | Val Acc: {val_acc:.2f}%\")\n"
   ]
  },
  {
   "cell_type": "code",
   "execution_count": 11,
   "metadata": {},
   "outputs": [
    {
     "name": "stdout",
     "output_type": "stream",
     "text": [
      "Model saved successfully!\n"
     ]
    }
   ],
   "source": [
    "# Save the model's state dictionary\n",
    "torch.save(model.state_dict(), \"skin_cancer_model-RegNet.pth\")\n",
    "\n",
    "print(\"Model saved successfully!\")"
   ]
  },
  {
   "cell_type": "code",
   "execution_count": 12,
   "metadata": {},
   "outputs": [
    {
     "data": {
      "image/png": "[encoded data removed]",
      "text/plain": [
       "<Figure size 1000x500 with 1 Axes>"
      ]
     },
     "metadata": {},
     "output_type": "display_data"
    },
    {
     "data": {
      "image/png": "[encoded data removed]",
      "text/plain": [
       "<Figure size 1000x500 with 1 Axes>"
      ]
     },
     "metadata": {},
     "output_type": "display_data"
    }
   ],
   "source": [
    "import matplotlib.pyplot as plt\n",
    "\n",
    "# Plot training and validation loss\n",
    "plt.figure(figsize=(10, 5))\n",
    "plt.plot(train_losses, label='Training Loss')\n",
    "plt.plot(val_losses, label='Validation Loss')\n",
    "plt.xlabel('Epoch')\n",
    "plt.ylabel('Loss')\n",
    "plt.legend()\n",
    "plt.title('Loss Curves')\n",
    "plt.show()\n",
    "\n",
    "# Plot training and validation accuracy\n",
    "plt.figure(figsize=(10, 5))\n",
    "plt.plot(train_accuracies, label='Training Accuracy')\n",
    "plt.plot(val_accuracies, label='Validation Accuracy')\n",
    "plt.xlabel('Epoch')\n",
    "plt.ylabel('Accuracy')\n",
    "plt.legend()\n",
    "plt.title('Accuracy Curves')\n",
    "plt.show()"
   ]
  },
  {
   "cell_type": "code",
   "execution_count": 13,
   "metadata": {},
   "outputs": [
    {
     "name": "stderr",
     "output_type": "stream",
     "text": [
      "Testing ResNet: 100%|███████████████████████| 4/4 [00:05<00:00,  1.45s/it, accuracy=52.5, loss=1.62]"
     ]
    },
    {
     "name": "stdout",
     "output_type": "stream",
     "text": [
      "Test Loss: 1.6159, Test Accuracy: 52.54%\n"
     ]
    },
    {
     "name": "stderr",
     "output_type": "stream",
     "text": [
      "\n"
     ]
    }
   ],
   "source": [
    "# Ensure the model is in evaluation mode\n",
    "model.eval()\n",
    "\n",
    "# Initialize variables to track test loss and accuracy\n",
    "test_loss = 0.0\n",
    "correct = 0\n",
    "total = 0\n",
    "\n",
    "# Disable gradient computation for testing\n",
    "with torch.no_grad():\n",
    "    # Wrap test_loader with tqdm for a progress bar\n",
    "    test_loop = tqdm(test_loader, desc=\"Testing ResNet\", ncols=100)\n",
    "    for images, labels in test_loop:\n",
    "        images, labels = images.to(device), labels.to(device)\n",
    "\n",
    "        # Forward pass through the ResNet model\n",
    "        outputs = model(images)  # This will return logits directly for ResNet\n",
    "        \n",
    "        # Access the logits from the model's output object (ResNet outputs logits)\n",
    "        logits = outputs  # For ResNet, we can directly use the output as logits\n",
    "\n",
    "        # Compute loss\n",
    "        loss = criterion(logits, labels)\n",
    "\n",
    "        # Accumulate loss\n",
    "        test_loss += loss.item() * images.size(0)  # Scale loss by batch size\n",
    "\n",
    "        # Compute accuracy\n",
    "        _, predicted = torch.max(logits.detach(), 1)  # Use .detach() instead of .data\n",
    "        total += labels.size(0)\n",
    "        correct += (predicted == labels).sum().item()\n",
    "\n",
    "        # Update the progress bar with loss and accuracy\n",
    "        test_loop.set_postfix(loss=test_loss / total, accuracy=(correct / total) * 100)\n",
    "\n",
    "# Compute final test loss and accuracy\n",
    "test_loss /= total  # Normalize loss properly\n",
    "test_accuracy = 100 * correct / total\n",
    "\n",
    "# Print the results\n",
    "print(f\"Test Loss: {test_loss:.4f}, Test Accuracy: {test_accuracy:.2f}%\")\n",
    "\n"
   ]
  },
  {
   "cell_type": "code",
   "execution_count": 14,
   "metadata": {},
   "outputs": [
    {
     "data": {
      "image/png": "[encoded data removed]",
      "text/plain": [
       "<Figure size 1000x500 with 1 Axes>"
      ]
     },
     "metadata": {},
     "output_type": "display_data"
    },
    {
     "data": {
      "image/png": "[encoded data removed]",
      "text/plain": [
       "<Figure size 1000x500 with 1 Axes>"
      ]
     },
     "metadata": {},
     "output_type": "display_data"
    }
   ],
   "source": [
    "import matplotlib.pyplot as plt\n",
    "\n",
    "# Plot training, validation, and test loss\n",
    "plt.figure(figsize=(10, 5))\n",
    "plt.plot(train_losses, label='Training Loss')\n",
    "plt.plot(val_losses, label='Validation Loss')\n",
    "plt.axhline(y=test_loss, color='r', linestyle='--', label='Test Loss')  # Add test loss as a horizontal line\n",
    "plt.xlabel('Epoch')\n",
    "plt.ylabel('Loss')\n",
    "plt.legend()\n",
    "plt.title('Loss Curves')\n",
    "plt.show()\n",
    "\n",
    "# Plot training, validation, and test accuracy\n",
    "plt.figure(figsize=(10, 5))\n",
    "plt.plot(train_accuracies, label='Training Accuracy')\n",
    "plt.plot(val_accuracies, label='Validation Accuracy')\n",
    "plt.axhline(y=test_accuracy, color='r', linestyle='--', label='Test Accuracy')  # Add test accuracy as a horizontal line\n",
    "plt.xlabel('Epoch')\n",
    "plt.ylabel('Accuracy')\n",
    "plt.legend()\n",
    "plt.title('Accuracy Curves')\n",
    "plt.show()"
   ]
  },
  {
   "cell_type": "code",
   "execution_count": 15,
   "metadata": {},
   "outputs": [
    {
     "data": {
      "image/png": "[encoded data removed]",
      "text/plain": [
       "<Figure size 1000x800 with 2 Axes>"
      ]
     },
     "metadata": {},
     "output_type": "display_data"
    }
   ],
   "source": [
    "import numpy as np\n",
    "import matplotlib.pyplot as plt\n",
    "from sklearn.metrics import confusion_matrix\n",
    "import seaborn as sns\n",
    "import torch\n",
    "\n",
    "# Ensure the model is in evaluation mode\n",
    "model.eval()\n",
    "\n",
    "# Initialize lists to store predictions and labels\n",
    "all_preds = []\n",
    "all_labels = []\n",
    "\n",
    "# Disable gradient computation for evaluation\n",
    "with torch.no_grad():\n",
    "    for images, labels in test_loader:  # Use test_loader for unseen data\n",
    "        images, labels = images.to(device), labels.to(device)\n",
    "\n",
    "        # Forward pass through the ResNet model\n",
    "        outputs = model(images)  # ResNet directly outputs logits\n",
    "        \n",
    "        # Extract logits\n",
    "        logits = outputs\n",
    "\n",
    "        # Get predicted class\n",
    "        _, preds = torch.max(logits, 1)\n",
    "\n",
    "        # Store predictions and labels\n",
    "        all_preds.extend(preds.cpu().numpy())\n",
    "        all_labels.extend(labels.cpu().numpy())\n",
    "\n",
    "# Compute the confusion matrix\n",
    "cm = confusion_matrix(all_labels, all_preds)\n",
    "\n",
    "# Plot the confusion matrix\n",
    "plt.figure(figsize=(10, 8))\n",
    "sns.heatmap(cm, annot=True, fmt='d', cmap='Blues', xticklabels=test_dataset.classes, yticklabels=test_dataset.classes)\n",
    "plt.xlabel('Predicted Labels')\n",
    "plt.ylabel('True Labels')\n",
    "plt.title('Confusion Matrix for ResNet on Test Data')\n",
    "plt.show()\n",
    "\n"
   ]
  },
  {
   "cell_type": "code",
   "execution_count": 16,
   "metadata": {},
   "outputs": [
    {
     "data": {
      "image/png": "[encoded data removed]",
      "text/plain": [
       "<Figure size 1000x800 with 2 Axes>"
      ]
     },
     "metadata": {},
     "output_type": "display_data"
    }
   ],
   "source": [
    "import numpy as np\n",
    "import matplotlib.pyplot as plt\n",
    "from sklearn.metrics import confusion_matrix\n",
    "import seaborn as sns\n",
    "import torch\n",
    "\n",
    "# Ensure the model is in evaluation mode\n",
    "model.eval()\n",
    "\n",
    "# Initialize lists to store predictions and labels for test data\n",
    "all_preds_test = []\n",
    "all_labels_test = []\n",
    "\n",
    "# Disable gradient computation for test set evaluation\n",
    "with torch.no_grad():\n",
    "    for images, labels in test_loader:  # Use test_loader\n",
    "        images, labels = images.to(device), labels.to(device)\n",
    "\n",
    "        # Forward pass through the ResNet model\n",
    "        outputs = model(images)  # ResNet returns logits directly\n",
    "        \n",
    "        # Extract logits from the model's output object (ResNet's output is already logits)\n",
    "        logits = outputs\n",
    "\n",
    "        # Get predicted class\n",
    "        _, preds = torch.max(logits, 1)\n",
    "\n",
    "        # Store predictions and labels\n",
    "        all_preds_test.extend(preds.cpu().numpy())\n",
    "        all_labels_test.extend(labels.cpu().numpy())\n",
    "\n",
    "# Compute the confusion matrix for test data\n",
    "cm_test = confusion_matrix(all_labels_test, all_preds_test)\n",
    "\n",
    "# Check if test_dataset has class names\n",
    "class_names = test_dataset.classes if hasattr(test_dataset, 'classes') else [str(i) for i in range(len(cm_test))]\n",
    "\n",
    "# Plot the confusion matrix for test data\n",
    "plt.figure(figsize=(10, 8))\n",
    "sns.heatmap(cm_test, annot=True, fmt='d', cmap='Blues', xticklabels=class_names, yticklabels=class_names)\n",
    "plt.xlabel('Predicted Labels')\n",
    "plt.ylabel('True Labels')\n",
    "plt.title('Confusion Matrix (Test Set)')\n",
    "plt.show()\n",
    "\n"
   ]
  },
  {
   "cell_type": "code",
   "execution_count": 17,
   "metadata": {},
   "outputs": [
    {
     "name": "stdout",
     "output_type": "stream",
     "text": [
      "Training F1 Score: 0.945\n",
      "Training Precision: 0.9452\n",
      "Training Recall: 0.9470\n"
     ]
    }
   ],
   "source": [
    "from sklearn.metrics import f1_score, precision_score, recall_score\n",
    "\n",
    "# Ensure the model is in evaluation mode\n",
    "model.eval()\n",
    "\n",
    "# Initialize lists to store predictions and labels for training data\n",
    "all_preds_train = []\n",
    "all_labels_train = []\n",
    "\n",
    "# Disable gradient computation for training set evaluation\n",
    "with torch.no_grad():\n",
    "    for images, labels in train_loader:  # Use train_loader\n",
    "        images, labels = images.to(device), labels.to(device)\n",
    "\n",
    "        # Forward pass through the ResNet model\n",
    "        outputs = model(images)  # ResNet returns logits directly\n",
    "        \n",
    "        # Extract logits (For ResNet, logits are directly the output)\n",
    "        logits = outputs  # No need to use .logits as with transformers\n",
    "\n",
    "        # Get predicted class\n",
    "        _, preds = torch.max(logits, 1)\n",
    "\n",
    "        # Store predictions and labels\n",
    "        all_preds_train.extend(preds.cpu().numpy())\n",
    "        all_labels_train.extend(labels.cpu().numpy())\n",
    "\n",
    "# Compute F1-score, precision, and recall for training set\n",
    "f1_train = f1_score(all_labels_train, all_preds_train, average='weighted')  # Use 'macro' for equal class weighting\n",
    "precision_train = precision_score(all_labels_train, all_preds_train, average='weighted')\n",
    "recall_train = recall_score(all_labels_train, all_preds_train, average='weighted')\n",
    "\n",
    "# Print the results\n",
    "print(f\"Training F1 Score: {f1_train:.3f}\")\n",
    "print(f\"Training Precision: {precision_train:.4f}\")\n",
    "print(f\"Training Recall: {recall_train:.4f}\")\n",
    "\n"
   ]
  },
  {
   "cell_type": "code",
   "execution_count": 18,
   "metadata": {},
   "outputs": [
    {
     "name": "stdout",
     "output_type": "stream",
     "text": [
      "Test F1 Score: 0.5324\n",
      "Test Precision: 0.6852\n",
      "Test Recall: 0.5763\n"
     ]
    },
    {
     "name": "stderr",
     "output_type": "stream",
     "text": [
      "C:\\Users\\Amir\\AppData\\Roaming\\Python\\Python39\\site-packages\\sklearn\\metrics\\_classification.py:1531: UndefinedMetricWarning: Precision is ill-defined and being set to 0.0 in labels with no predicted samples. Use `zero_division` parameter to control this behavior.\n",
      "  _warn_prf(average, modifier, f\"{metric.capitalize()} is\", len(result))\n"
     ]
    }
   ],
   "source": [
    "from sklearn.metrics import f1_score, precision_score, recall_score\n",
    "\n",
    "# Ensure the model is in evaluation mode\n",
    "model.eval()\n",
    "\n",
    "# Initialize lists to store predictions and labels for test data\n",
    "all_preds_test = []\n",
    "all_labels_test = []\n",
    "\n",
    "# Disable gradient computation for test set evaluation\n",
    "with torch.no_grad():\n",
    "    for images, labels in test_loader:  # Use test_loader for evaluation\n",
    "        images, labels = images.to(device), labels.to(device)\n",
    "\n",
    "        # Forward pass through the ResNet model\n",
    "        outputs = model(images)  # ResNet directly returns logits\n",
    "        \n",
    "        # Extract logits (for ResNet, we can directly use the output as logits)\n",
    "        logits = outputs\n",
    "\n",
    "        # Get predicted class\n",
    "        _, preds = torch.max(logits, 1)\n",
    "\n",
    "        # Store predictions and labels\n",
    "        all_preds_test.extend(preds.cpu().numpy())\n",
    "        all_labels_test.extend(labels.cpu().numpy())\n",
    "\n",
    "# Compute F1-score, precision, and recall for the test set\n",
    "f1_test = f1_score(all_labels_test, all_preds_test, average='weighted')  # Use 'macro' if you prefer equal class weighting\n",
    "precision_test = precision_score(all_labels_test, all_preds_test, average='weighted')\n",
    "recall_test = recall_score(all_labels_test, all_preds_test, average='weighted')\n",
    "\n",
    "# Print the results\n",
    "print(f\"Test F1 Score: {f1_test:.4f}\")\n",
    "print(f\"Test Precision: {precision_test:.4f}\")\n",
    "print(f\"Test Recall: {recall_test:.4f}\")\n"
   ]
  }
 ],
 "metadata": {
  "kernelspec": {
   "display_name": "base",
   "language": "python",
   "name": "python3"
  },
  "language_info": {
   "codemirror_mode": {
    "name": "ipython",
    "version": 3
   },
   "file_extension": ".py",
   "mimetype": "text/x-python",
   "name": "python",
   "nbconvert_exporter": "python",
   "pygments_lexer": "ipython3",
   "version": "3.9.13"
  }
 },
 "nbformat": 4,
 "nbformat_minor": 2
}
