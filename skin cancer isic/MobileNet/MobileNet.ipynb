{
 "cells": [
  {
   "cell_type": "code",
   "execution_count": 1,
   "metadata": {},
   "outputs": [],
   "source": [
    "import torch\n",
    "import torch.nn as nn\n",
    "import torch.optim as optim\n",
    "from torch.utils.data import DataLoader\n",
    "from torchvision import datasets\n",
    "from transformers import ViTForImageClassification, ViTFeatureExtractor\n",
    "from tqdm import tqdm\n",
    "import pandas as pd\n",
    "import os\n",
    "from datasets import DatasetDict, Dataset\n",
    "from transformers import AutoImageProcessor\n",
    "from sklearn.model_selection import train_test_split\n",
    "from torch.utils.data import DataLoader, random_split\n",
    "from torchvision import datasets, transforms\n",
    "from transformers import SwinForImageClassification, AutoImageProcessor  # Updated import\n",
    "\n",
    "from torch.utils.data import DataLoader, random_split\n",
    "from torchvision import datasets, transforms\n",
    "from tqdm import tqdm\n",
    "import pandas as pd\n",
    "import os\n",
    "from torchvision import models"
   ]
  },
  {
   "cell_type": "code",
   "execution_count": 2,
   "metadata": {},
   "outputs": [],
   "source": [
    "# Define the paths to your training and testing datasets\n",
    "train_data_dir = \"C:/Users/Amir/Desktop/skin cancer paper/skin cancer isic/Skin Cancer ISIC/Skin cancer ISIC The International Skin Imaging Collaboration/train\"  # Replace with the path to your training dataset\n",
    "test_data_dir = \"C:/Users/Amir/Desktop/skin cancer paper/skin cancer isic/Skin Cancer ISIC/Skin cancer ISIC The International Skin Imaging Collaboration/test\"  # Replace with the path to your testing dataset"
   ]
  },
  {
   "cell_type": "code",
   "execution_count": 3,
   "metadata": {},
   "outputs": [
    {
     "name": "stdout",
     "output_type": "stream",
     "text": [
      "Number of classes: 9\n",
      "Train size: 1791\n",
      "Val size: 448\n",
      "Test size: 118\n"
     ]
    }
   ],
   "source": [
    "# Corrected imports\n",
    "import torch\n",
    "import torchvision.transforms as transforms\n",
    "from torchvision import datasets\n",
    "from torch.utils.data import DataLoader, random_split\n",
    "from transformers import SwinForImageClassification, AutoImageProcessor\n",
    "\n",
    "# Modified Augmentations for ResNet\n",
    "resnet_transform = transforms.Compose([\n",
    "    transforms.RandomHorizontalFlip(),\n",
    "    transforms.RandomRotation(10),\n",
    "    transforms.Resize(256),\n",
    "    transforms.CenterCrop(224),\n",
    "    transforms.ToTensor(),\n",
    "    transforms.Normalize(mean=[0.485, 0.456, 0.406], std=[0.229, 0.224, 0.225])\n",
    "])\n",
    "\n",
    "\n",
    "\n",
    "\n",
    "# ImageFolder applies `transform` to each image\n",
    "train_dataset = datasets.ImageFolder(train_data_dir, transform=resnet_transform)\n",
    "test_dataset = datasets.ImageFolder(test_data_dir, transform=resnet_transform)\n",
    "\n",
    "# Split training data into train and validation sets\n",
    "train_size = int(0.8 * len(train_dataset))\n",
    "val_size = len(train_dataset) - train_size\n",
    "train_subset, val_subset = random_split(train_dataset, [train_size, val_size])\n",
    "\n",
    "# Create DataLoaders\n",
    "train_loader = DataLoader(train_subset, batch_size=32, shuffle=True, num_workers=4)\n",
    "val_loader = DataLoader(val_subset, batch_size=32, shuffle=False, num_workers=4)\n",
    "test_loader = DataLoader(test_dataset, batch_size=32, shuffle=False, num_workers=4)\n",
    "\n",
    "# Check classes (ensure consistency)\n",
    "num_classes = len(train_dataset.classes)\n",
    "print(f\"Number of classes: {num_classes}\")\n",
    "\n",
    "# Print dataset sizes\n",
    "print(f\"Train size: {len(train_subset)}\")\n",
    "print(f\"Val size: {len(val_subset)}\")\n",
    "print(f\"Test size: {len(test_dataset)}\")\n"
   ]
  },
  {
   "cell_type": "code",
   "execution_count": 6,
   "metadata": {},
   "outputs": [
    {
     "name": "stderr",
     "output_type": "stream",
     "text": [
      "C:\\Users\\Amir\\AppData\\Roaming\\Python\\Python39\\site-packages\\torchvision\\models\\_utils.py:208: UserWarning: The parameter 'pretrained' is deprecated since 0.13 and may be removed in the future, please use 'weights' instead.\n",
      "  warnings.warn(\n",
      "C:\\Users\\Amir\\AppData\\Roaming\\Python\\Python39\\site-packages\\torchvision\\models\\_utils.py:223: UserWarning: Arguments other than a weight enum or `None` for 'weights' are deprecated since 0.13 and may be removed in the future. The current behavior is equivalent to passing `weights=MobileNet_V2_Weights.IMAGENET1K_V1`. You can also use `weights=MobileNet_V2_Weights.DEFAULT` to get the most up-to-date weights.\n",
      "  warnings.warn(msg)\n",
      "Downloading: \"https://download.pytorch.org/models/mobilenet_v2-b0353104.pth\" to C:\\Users\\Amir/.cache\\torch\\hub\\checkpoints\\mobilenet_v2-b0353104.pth\n",
      "100%|██████████| 13.6M/13.6M [00:03<00:00, 3.84MB/s]\n"
     ]
    }
   ],
   "source": [
    "# MobileNetV2 model\n",
    "model = models.mobilenet_v2(pretrained=True)\n",
    "\n",
    "# Modify final layer\n",
    "num_features = model.classifier[1].in_features\n",
    "model.classifier = nn.Sequential(\n",
    "    nn.Dropout(0.2),\n",
    "    nn.Linear(num_features, num_classes))"
   ]
  },
  {
   "cell_type": "code",
   "execution_count": 7,
   "metadata": {},
   "outputs": [
    {
     "name": "stdout",
     "output_type": "stream",
     "text": [
      "cuda\n"
     ]
    },
    {
     "data": {
      "text/plain": [
       "MobileNetV2(\n",
       "  (features): Sequential(\n",
       "    (0): Conv2dNormActivation(\n",
       "      (0): Conv2d(3, 32, kernel_size=(3, 3), stride=(2, 2), padding=(1, 1), bias=False)\n",
       "      (1): BatchNorm2d(32, eps=1e-05, momentum=0.1, affine=True, track_running_stats=True)\n",
       "      (2): ReLU6(inplace=True)\n",
       "    )\n",
       "    (1): InvertedResidual(\n",
       "      (conv): Sequential(\n",
       "        (0): Conv2dNormActivation(\n",
       "          (0): Conv2d(32, 32, kernel_size=(3, 3), stride=(1, 1), padding=(1, 1), groups=32, bias=False)\n",
       "          (1): BatchNorm2d(32, eps=1e-05, momentum=0.1, affine=True, track_running_stats=True)\n",
       "          (2): ReLU6(inplace=True)\n",
       "        )\n",
       "        (1): Conv2d(32, 16, kernel_size=(1, 1), stride=(1, 1), bias=False)\n",
       "        (2): BatchNorm2d(16, eps=1e-05, momentum=0.1, affine=True, track_running_stats=True)\n",
       "      )\n",
       "    )\n",
       "    (2): InvertedResidual(\n",
       "      (conv): Sequential(\n",
       "        (0): Conv2dNormActivation(\n",
       "          (0): Conv2d(16, 96, kernel_size=(1, 1), stride=(1, 1), bias=False)\n",
       "          (1): BatchNorm2d(96, eps=1e-05, momentum=0.1, affine=True, track_running_stats=True)\n",
       "          (2): ReLU6(inplace=True)\n",
       "        )\n",
       "        (1): Conv2dNormActivation(\n",
       "          (0): Conv2d(96, 96, kernel_size=(3, 3), stride=(2, 2), padding=(1, 1), groups=96, bias=False)\n",
       "          (1): BatchNorm2d(96, eps=1e-05, momentum=0.1, affine=True, track_running_stats=True)\n",
       "          (2): ReLU6(inplace=True)\n",
       "        )\n",
       "        (2): Conv2d(96, 24, kernel_size=(1, 1), stride=(1, 1), bias=False)\n",
       "        (3): BatchNorm2d(24, eps=1e-05, momentum=0.1, affine=True, track_running_stats=True)\n",
       "      )\n",
       "    )\n",
       "    (3): InvertedResidual(\n",
       "      (conv): Sequential(\n",
       "        (0): Conv2dNormActivation(\n",
       "          (0): Conv2d(24, 144, kernel_size=(1, 1), stride=(1, 1), bias=False)\n",
       "          (1): BatchNorm2d(144, eps=1e-05, momentum=0.1, affine=True, track_running_stats=True)\n",
       "          (2): ReLU6(inplace=True)\n",
       "        )\n",
       "        (1): Conv2dNormActivation(\n",
       "          (0): Conv2d(144, 144, kernel_size=(3, 3), stride=(1, 1), padding=(1, 1), groups=144, bias=False)\n",
       "          (1): BatchNorm2d(144, eps=1e-05, momentum=0.1, affine=True, track_running_stats=True)\n",
       "          (2): ReLU6(inplace=True)\n",
       "        )\n",
       "        (2): Conv2d(144, 24, kernel_size=(1, 1), stride=(1, 1), bias=False)\n",
       "        (3): BatchNorm2d(24, eps=1e-05, momentum=0.1, affine=True, track_running_stats=True)\n",
       "      )\n",
       "    )\n",
       "    (4): InvertedResidual(\n",
       "      (conv): Sequential(\n",
       "        (0): Conv2dNormActivation(\n",
       "          (0): Conv2d(24, 144, kernel_size=(1, 1), stride=(1, 1), bias=False)\n",
       "          (1): BatchNorm2d(144, eps=1e-05, momentum=0.1, affine=True, track_running_stats=True)\n",
       "          (2): ReLU6(inplace=True)\n",
       "        )\n",
       "        (1): Conv2dNormActivation(\n",
       "          (0): Conv2d(144, 144, kernel_size=(3, 3), stride=(2, 2), padding=(1, 1), groups=144, bias=False)\n",
       "          (1): BatchNorm2d(144, eps=1e-05, momentum=0.1, affine=True, track_running_stats=True)\n",
       "          (2): ReLU6(inplace=True)\n",
       "        )\n",
       "        (2): Conv2d(144, 32, kernel_size=(1, 1), stride=(1, 1), bias=False)\n",
       "        (3): BatchNorm2d(32, eps=1e-05, momentum=0.1, affine=True, track_running_stats=True)\n",
       "      )\n",
       "    )\n",
       "    (5): InvertedResidual(\n",
       "      (conv): Sequential(\n",
       "        (0): Conv2dNormActivation(\n",
       "          (0): Conv2d(32, 192, kernel_size=(1, 1), stride=(1, 1), bias=False)\n",
       "          (1): BatchNorm2d(192, eps=1e-05, momentum=0.1, affine=True, track_running_stats=True)\n",
       "          (2): ReLU6(inplace=True)\n",
       "        )\n",
       "        (1): Conv2dNormActivation(\n",
       "          (0): Conv2d(192, 192, kernel_size=(3, 3), stride=(1, 1), padding=(1, 1), groups=192, bias=False)\n",
       "          (1): BatchNorm2d(192, eps=1e-05, momentum=0.1, affine=True, track_running_stats=True)\n",
       "          (2): ReLU6(inplace=True)\n",
       "        )\n",
       "        (2): Conv2d(192, 32, kernel_size=(1, 1), stride=(1, 1), bias=False)\n",
       "        (3): BatchNorm2d(32, eps=1e-05, momentum=0.1, affine=True, track_running_stats=True)\n",
       "      )\n",
       "    )\n",
       "    (6): InvertedResidual(\n",
       "      (conv): Sequential(\n",
       "        (0): Conv2dNormActivation(\n",
       "          (0): Conv2d(32, 192, kernel_size=(1, 1), stride=(1, 1), bias=False)\n",
       "          (1): BatchNorm2d(192, eps=1e-05, momentum=0.1, affine=True, track_running_stats=True)\n",
       "          (2): ReLU6(inplace=True)\n",
       "        )\n",
       "        (1): Conv2dNormActivation(\n",
       "          (0): Conv2d(192, 192, kernel_size=(3, 3), stride=(1, 1), padding=(1, 1), groups=192, bias=False)\n",
       "          (1): BatchNorm2d(192, eps=1e-05, momentum=0.1, affine=True, track_running_stats=True)\n",
       "          (2): ReLU6(inplace=True)\n",
       "        )\n",
       "        (2): Conv2d(192, 32, kernel_size=(1, 1), stride=(1, 1), bias=False)\n",
       "        (3): BatchNorm2d(32, eps=1e-05, momentum=0.1, affine=True, track_running_stats=True)\n",
       "      )\n",
       "    )\n",
       "    (7): InvertedResidual(\n",
       "      (conv): Sequential(\n",
       "        (0): Conv2dNormActivation(\n",
       "          (0): Conv2d(32, 192, kernel_size=(1, 1), stride=(1, 1), bias=False)\n",
       "          (1): BatchNorm2d(192, eps=1e-05, momentum=0.1, affine=True, track_running_stats=True)\n",
       "          (2): ReLU6(inplace=True)\n",
       "        )\n",
       "        (1): Conv2dNormActivation(\n",
       "          (0): Conv2d(192, 192, kernel_size=(3, 3), stride=(2, 2), padding=(1, 1), groups=192, bias=False)\n",
       "          (1): BatchNorm2d(192, eps=1e-05, momentum=0.1, affine=True, track_running_stats=True)\n",
       "          (2): ReLU6(inplace=True)\n",
       "        )\n",
       "        (2): Conv2d(192, 64, kernel_size=(1, 1), stride=(1, 1), bias=False)\n",
       "        (3): BatchNorm2d(64, eps=1e-05, momentum=0.1, affine=True, track_running_stats=True)\n",
       "      )\n",
       "    )\n",
       "    (8): InvertedResidual(\n",
       "      (conv): Sequential(\n",
       "        (0): Conv2dNormActivation(\n",
       "          (0): Conv2d(64, 384, kernel_size=(1, 1), stride=(1, 1), bias=False)\n",
       "          (1): BatchNorm2d(384, eps=1e-05, momentum=0.1, affine=True, track_running_stats=True)\n",
       "          (2): ReLU6(inplace=True)\n",
       "        )\n",
       "        (1): Conv2dNormActivation(\n",
       "          (0): Conv2d(384, 384, kernel_size=(3, 3), stride=(1, 1), padding=(1, 1), groups=384, bias=False)\n",
       "          (1): BatchNorm2d(384, eps=1e-05, momentum=0.1, affine=True, track_running_stats=True)\n",
       "          (2): ReLU6(inplace=True)\n",
       "        )\n",
       "        (2): Conv2d(384, 64, kernel_size=(1, 1), stride=(1, 1), bias=False)\n",
       "        (3): BatchNorm2d(64, eps=1e-05, momentum=0.1, affine=True, track_running_stats=True)\n",
       "      )\n",
       "    )\n",
       "    (9): InvertedResidual(\n",
       "      (conv): Sequential(\n",
       "        (0): Conv2dNormActivation(\n",
       "          (0): Conv2d(64, 384, kernel_size=(1, 1), stride=(1, 1), bias=False)\n",
       "          (1): BatchNorm2d(384, eps=1e-05, momentum=0.1, affine=True, track_running_stats=True)\n",
       "          (2): ReLU6(inplace=True)\n",
       "        )\n",
       "        (1): Conv2dNormActivation(\n",
       "          (0): Conv2d(384, 384, kernel_size=(3, 3), stride=(1, 1), padding=(1, 1), groups=384, bias=False)\n",
       "          (1): BatchNorm2d(384, eps=1e-05, momentum=0.1, affine=True, track_running_stats=True)\n",
       "          (2): ReLU6(inplace=True)\n",
       "        )\n",
       "        (2): Conv2d(384, 64, kernel_size=(1, 1), stride=(1, 1), bias=False)\n",
       "        (3): BatchNorm2d(64, eps=1e-05, momentum=0.1, affine=True, track_running_stats=True)\n",
       "      )\n",
       "    )\n",
       "    (10): InvertedResidual(\n",
       "      (conv): Sequential(\n",
       "        (0): Conv2dNormActivation(\n",
       "          (0): Conv2d(64, 384, kernel_size=(1, 1), stride=(1, 1), bias=False)\n",
       "          (1): BatchNorm2d(384, eps=1e-05, momentum=0.1, affine=True, track_running_stats=True)\n",
       "          (2): ReLU6(inplace=True)\n",
       "        )\n",
       "        (1): Conv2dNormActivation(\n",
       "          (0): Conv2d(384, 384, kernel_size=(3, 3), stride=(1, 1), padding=(1, 1), groups=384, bias=False)\n",
       "          (1): BatchNorm2d(384, eps=1e-05, momentum=0.1, affine=True, track_running_stats=True)\n",
       "          (2): ReLU6(inplace=True)\n",
       "        )\n",
       "        (2): Conv2d(384, 64, kernel_size=(1, 1), stride=(1, 1), bias=False)\n",
       "        (3): BatchNorm2d(64, eps=1e-05, momentum=0.1, affine=True, track_running_stats=True)\n",
       "      )\n",
       "    )\n",
       "    (11): InvertedResidual(\n",
       "      (conv): Sequential(\n",
       "        (0): Conv2dNormActivation(\n",
       "          (0): Conv2d(64, 384, kernel_size=(1, 1), stride=(1, 1), bias=False)\n",
       "          (1): BatchNorm2d(384, eps=1e-05, momentum=0.1, affine=True, track_running_stats=True)\n",
       "          (2): ReLU6(inplace=True)\n",
       "        )\n",
       "        (1): Conv2dNormActivation(\n",
       "          (0): Conv2d(384, 384, kernel_size=(3, 3), stride=(1, 1), padding=(1, 1), groups=384, bias=False)\n",
       "          (1): BatchNorm2d(384, eps=1e-05, momentum=0.1, affine=True, track_running_stats=True)\n",
       "          (2): ReLU6(inplace=True)\n",
       "        )\n",
       "        (2): Conv2d(384, 96, kernel_size=(1, 1), stride=(1, 1), bias=False)\n",
       "        (3): BatchNorm2d(96, eps=1e-05, momentum=0.1, affine=True, track_running_stats=True)\n",
       "      )\n",
       "    )\n",
       "    (12): InvertedResidual(\n",
       "      (conv): Sequential(\n",
       "        (0): Conv2dNormActivation(\n",
       "          (0): Conv2d(96, 576, kernel_size=(1, 1), stride=(1, 1), bias=False)\n",
       "          (1): BatchNorm2d(576, eps=1e-05, momentum=0.1, affine=True, track_running_stats=True)\n",
       "          (2): ReLU6(inplace=True)\n",
       "        )\n",
       "        (1): Conv2dNormActivation(\n",
       "          (0): Conv2d(576, 576, kernel_size=(3, 3), stride=(1, 1), padding=(1, 1), groups=576, bias=False)\n",
       "          (1): BatchNorm2d(576, eps=1e-05, momentum=0.1, affine=True, track_running_stats=True)\n",
       "          (2): ReLU6(inplace=True)\n",
       "        )\n",
       "        (2): Conv2d(576, 96, kernel_size=(1, 1), stride=(1, 1), bias=False)\n",
       "        (3): BatchNorm2d(96, eps=1e-05, momentum=0.1, affine=True, track_running_stats=True)\n",
       "      )\n",
       "    )\n",
       "    (13): InvertedResidual(\n",
       "      (conv): Sequential(\n",
       "        (0): Conv2dNormActivation(\n",
       "          (0): Conv2d(96, 576, kernel_size=(1, 1), stride=(1, 1), bias=False)\n",
       "          (1): BatchNorm2d(576, eps=1e-05, momentum=0.1, affine=True, track_running_stats=True)\n",
       "          (2): ReLU6(inplace=True)\n",
       "        )\n",
       "        (1): Conv2dNormActivation(\n",
       "          (0): Conv2d(576, 576, kernel_size=(3, 3), stride=(1, 1), padding=(1, 1), groups=576, bias=False)\n",
       "          (1): BatchNorm2d(576, eps=1e-05, momentum=0.1, affine=True, track_running_stats=True)\n",
       "          (2): ReLU6(inplace=True)\n",
       "        )\n",
       "        (2): Conv2d(576, 96, kernel_size=(1, 1), stride=(1, 1), bias=False)\n",
       "        (3): BatchNorm2d(96, eps=1e-05, momentum=0.1, affine=True, track_running_stats=True)\n",
       "      )\n",
       "    )\n",
       "    (14): InvertedResidual(\n",
       "      (conv): Sequential(\n",
       "        (0): Conv2dNormActivation(\n",
       "          (0): Conv2d(96, 576, kernel_size=(1, 1), stride=(1, 1), bias=False)\n",
       "          (1): BatchNorm2d(576, eps=1e-05, momentum=0.1, affine=True, track_running_stats=True)\n",
       "          (2): ReLU6(inplace=True)\n",
       "        )\n",
       "        (1): Conv2dNormActivation(\n",
       "          (0): Conv2d(576, 576, kernel_size=(3, 3), stride=(2, 2), padding=(1, 1), groups=576, bias=False)\n",
       "          (1): BatchNorm2d(576, eps=1e-05, momentum=0.1, affine=True, track_running_stats=True)\n",
       "          (2): ReLU6(inplace=True)\n",
       "        )\n",
       "        (2): Conv2d(576, 160, kernel_size=(1, 1), stride=(1, 1), bias=False)\n",
       "        (3): BatchNorm2d(160, eps=1e-05, momentum=0.1, affine=True, track_running_stats=True)\n",
       "      )\n",
       "    )\n",
       "    (15): InvertedResidual(\n",
       "      (conv): Sequential(\n",
       "        (0): Conv2dNormActivation(\n",
       "          (0): Conv2d(160, 960, kernel_size=(1, 1), stride=(1, 1), bias=False)\n",
       "          (1): BatchNorm2d(960, eps=1e-05, momentum=0.1, affine=True, track_running_stats=True)\n",
       "          (2): ReLU6(inplace=True)\n",
       "        )\n",
       "        (1): Conv2dNormActivation(\n",
       "          (0): Conv2d(960, 960, kernel_size=(3, 3), stride=(1, 1), padding=(1, 1), groups=960, bias=False)\n",
       "          (1): BatchNorm2d(960, eps=1e-05, momentum=0.1, affine=True, track_running_stats=True)\n",
       "          (2): ReLU6(inplace=True)\n",
       "        )\n",
       "        (2): Conv2d(960, 160, kernel_size=(1, 1), stride=(1, 1), bias=False)\n",
       "        (3): BatchNorm2d(160, eps=1e-05, momentum=0.1, affine=True, track_running_stats=True)\n",
       "      )\n",
       "    )\n",
       "    (16): InvertedResidual(\n",
       "      (conv): Sequential(\n",
       "        (0): Conv2dNormActivation(\n",
       "          (0): Conv2d(160, 960, kernel_size=(1, 1), stride=(1, 1), bias=False)\n",
       "          (1): BatchNorm2d(960, eps=1e-05, momentum=0.1, affine=True, track_running_stats=True)\n",
       "          (2): ReLU6(inplace=True)\n",
       "        )\n",
       "        (1): Conv2dNormActivation(\n",
       "          (0): Conv2d(960, 960, kernel_size=(3, 3), stride=(1, 1), padding=(1, 1), groups=960, bias=False)\n",
       "          (1): BatchNorm2d(960, eps=1e-05, momentum=0.1, affine=True, track_running_stats=True)\n",
       "          (2): ReLU6(inplace=True)\n",
       "        )\n",
       "        (2): Conv2d(960, 160, kernel_size=(1, 1), stride=(1, 1), bias=False)\n",
       "        (3): BatchNorm2d(160, eps=1e-05, momentum=0.1, affine=True, track_running_stats=True)\n",
       "      )\n",
       "    )\n",
       "    (17): InvertedResidual(\n",
       "      (conv): Sequential(\n",
       "        (0): Conv2dNormActivation(\n",
       "          (0): Conv2d(160, 960, kernel_size=(1, 1), stride=(1, 1), bias=False)\n",
       "          (1): BatchNorm2d(960, eps=1e-05, momentum=0.1, affine=True, track_running_stats=True)\n",
       "          (2): ReLU6(inplace=True)\n",
       "        )\n",
       "        (1): Conv2dNormActivation(\n",
       "          (0): Conv2d(960, 960, kernel_size=(3, 3), stride=(1, 1), padding=(1, 1), groups=960, bias=False)\n",
       "          (1): BatchNorm2d(960, eps=1e-05, momentum=0.1, affine=True, track_running_stats=True)\n",
       "          (2): ReLU6(inplace=True)\n",
       "        )\n",
       "        (2): Conv2d(960, 320, kernel_size=(1, 1), stride=(1, 1), bias=False)\n",
       "        (3): BatchNorm2d(320, eps=1e-05, momentum=0.1, affine=True, track_running_stats=True)\n",
       "      )\n",
       "    )\n",
       "    (18): Conv2dNormActivation(\n",
       "      (0): Conv2d(320, 1280, kernel_size=(1, 1), stride=(1, 1), bias=False)\n",
       "      (1): BatchNorm2d(1280, eps=1e-05, momentum=0.1, affine=True, track_running_stats=True)\n",
       "      (2): ReLU6(inplace=True)\n",
       "    )\n",
       "  )\n",
       "  (classifier): Sequential(\n",
       "    (0): Dropout(p=0.2, inplace=False)\n",
       "    (1): Linear(in_features=1280, out_features=9, bias=True)\n",
       "  )\n",
       ")"
      ]
     },
     "execution_count": 7,
     "metadata": {},
     "output_type": "execute_result"
    }
   ],
   "source": [
    "# Move the model to the GPU if available\n",
    "device = torch.device(\"cuda\" if torch.cuda.is_available() else \"cpu\")\n",
    "print(device)\n",
    "model.to(device)"
   ]
  },
  {
   "cell_type": "code",
   "execution_count": 8,
   "metadata": {},
   "outputs": [
    {
     "name": "stderr",
     "output_type": "stream",
     "text": [
      "Epoch [1/100] Training: 100%|██████████| 56/56 [00:16<00:00,  3.37it/s, accuracy=51.9, loss=1.08] \n",
      "Epoch [1/100] Validation: 100%|██████████| 14/14 [00:11<00:00,  1.27it/s, accuracy=64.3, loss=0.922]\n"
     ]
    },
    {
     "name": "stdout",
     "output_type": "stream",
     "text": [
      "Epoch 1/100\n",
      "Train Loss: 1.4312 | Train Acc: 51.87%\n",
      "Val Loss: 1.0316 | Val Acc: 64.29%\n"
     ]
    },
    {
     "name": "stderr",
     "output_type": "stream",
     "text": [
      "Epoch [2/100] Training: 100%|██████████| 56/56 [00:16<00:00,  3.43it/s, accuracy=72, loss=0.569]  \n",
      "Epoch [2/100] Validation: 100%|██████████| 14/14 [00:11<00:00,  1.26it/s, accuracy=67.2, loss=0.959]\n"
     ]
    },
    {
     "name": "stdout",
     "output_type": "stream",
     "text": [
      "Epoch 2/100\n",
      "Train Loss: 0.8467 | Train Acc: 71.97%\n",
      "Val Loss: 0.9150 | Val Acc: 67.19%\n"
     ]
    },
    {
     "name": "stderr",
     "output_type": "stream",
     "text": [
      "Epoch [3/100] Training: 100%|██████████| 56/56 [00:16<00:00,  3.37it/s, accuracy=76.8, loss=0.81] \n",
      "Epoch [3/100] Validation: 100%|██████████| 14/14 [00:10<00:00,  1.27it/s, accuracy=70.1, loss=0.841]\n"
     ]
    },
    {
     "name": "stdout",
     "output_type": "stream",
     "text": [
      "Epoch 3/100\n",
      "Train Loss: 0.6873 | Train Acc: 76.83%\n",
      "Val Loss: 0.8296 | Val Acc: 70.09%\n"
     ]
    },
    {
     "name": "stderr",
     "output_type": "stream",
     "text": [
      "Epoch [4/100] Training: 100%|██████████| 56/56 [00:16<00:00,  3.40it/s, accuracy=80.5, loss=0.456]\n",
      "Epoch [4/100] Validation: 100%|██████████| 14/14 [00:10<00:00,  1.31it/s, accuracy=69.4, loss=0.669]\n"
     ]
    },
    {
     "name": "stdout",
     "output_type": "stream",
     "text": [
      "Epoch 4/100\n",
      "Train Loss: 0.5521 | Train Acc: 80.46%\n",
      "Val Loss: 0.7820 | Val Acc: 69.42%\n"
     ]
    },
    {
     "name": "stderr",
     "output_type": "stream",
     "text": [
      "Epoch [5/100] Training: 100%|██████████| 56/56 [00:15<00:00,  3.51it/s, accuracy=84.1, loss=0.244]\n",
      "Epoch [5/100] Validation: 100%|██████████| 14/14 [00:10<00:00,  1.33it/s, accuracy=69.9, loss=0.883]\n"
     ]
    },
    {
     "name": "stdout",
     "output_type": "stream",
     "text": [
      "Epoch 5/100\n",
      "Train Loss: 0.4571 | Train Acc: 84.09%\n",
      "Val Loss: 0.8155 | Val Acc: 69.87%\n"
     ]
    },
    {
     "name": "stderr",
     "output_type": "stream",
     "text": [
      "Epoch [6/100] Training: 100%|██████████| 56/56 [00:15<00:00,  3.54it/s, accuracy=85.8, loss=0.709]\n",
      "Epoch [6/100] Validation: 100%|██████████| 14/14 [00:10<00:00,  1.31it/s, accuracy=71.9, loss=0.705]\n"
     ]
    },
    {
     "name": "stdout",
     "output_type": "stream",
     "text": [
      "Epoch 6/100\n",
      "Train Loss: 0.3913 | Train Acc: 85.76%\n",
      "Val Loss: 0.8020 | Val Acc: 71.88%\n"
     ]
    },
    {
     "name": "stderr",
     "output_type": "stream",
     "text": [
      "Epoch [7/100] Training: 100%|██████████| 56/56 [00:15<00:00,  3.52it/s, accuracy=88.1, loss=0.249]\n",
      "Epoch [7/100] Validation: 100%|██████████| 14/14 [00:10<00:00,  1.30it/s, accuracy=70.3, loss=0.787]\n"
     ]
    },
    {
     "name": "stdout",
     "output_type": "stream",
     "text": [
      "Epoch 7/100\n",
      "Train Loss: 0.3275 | Train Acc: 88.05%\n",
      "Val Loss: 0.8443 | Val Acc: 70.31%\n"
     ]
    },
    {
     "name": "stderr",
     "output_type": "stream",
     "text": [
      "Epoch [8/100] Training: 100%|██████████| 56/56 [00:15<00:00,  3.53it/s, accuracy=89.3, loss=0.2]  \n",
      "Epoch [8/100] Validation: 100%|██████████| 14/14 [00:10<00:00,  1.30it/s, accuracy=71.2, loss=0.794]\n"
     ]
    },
    {
     "name": "stdout",
     "output_type": "stream",
     "text": [
      "Epoch 8/100\n",
      "Train Loss: 0.2942 | Train Acc: 89.34%\n",
      "Val Loss: 0.7996 | Val Acc: 71.21%\n"
     ]
    },
    {
     "name": "stderr",
     "output_type": "stream",
     "text": [
      "Epoch [9/100] Training: 100%|██████████| 56/56 [00:16<00:00,  3.40it/s, accuracy=91.3, loss=0.329] \n",
      "Epoch [9/100] Validation: 100%|██████████| 14/14 [00:10<00:00,  1.30it/s, accuracy=72.1, loss=0.718]\n"
     ]
    },
    {
     "name": "stdout",
     "output_type": "stream",
     "text": [
      "Epoch 9/100\n",
      "Train Loss: 0.2311 | Train Acc: 91.29%\n",
      "Val Loss: 0.7756 | Val Acc: 72.10%\n"
     ]
    },
    {
     "name": "stderr",
     "output_type": "stream",
     "text": [
      "Epoch [10/100] Training: 100%|██████████| 56/56 [00:16<00:00,  3.47it/s, accuracy=91.9, loss=0.149] \n",
      "Epoch [10/100] Validation: 100%|██████████| 14/14 [00:10<00:00,  1.30it/s, accuracy=72.5, loss=0.664]\n"
     ]
    },
    {
     "name": "stdout",
     "output_type": "stream",
     "text": [
      "Epoch 10/100\n",
      "Train Loss: 0.2065 | Train Acc: 91.90%\n",
      "Val Loss: 0.7721 | Val Acc: 72.54%\n"
     ]
    },
    {
     "name": "stderr",
     "output_type": "stream",
     "text": [
      "Epoch [11/100] Training: 100%|██████████| 56/56 [00:15<00:00,  3.57it/s, accuracy=92.1, loss=0.223] \n",
      "Epoch [11/100] Validation: 100%|██████████| 14/14 [00:10<00:00,  1.31it/s, accuracy=72.8, loss=0.647]\n"
     ]
    },
    {
     "name": "stdout",
     "output_type": "stream",
     "text": [
      "Epoch 11/100\n",
      "Train Loss: 0.2126 | Train Acc: 92.07%\n",
      "Val Loss: 0.7632 | Val Acc: 72.77%\n"
     ]
    },
    {
     "name": "stderr",
     "output_type": "stream",
     "text": [
      "Epoch [12/100] Training: 100%|██████████| 56/56 [00:15<00:00,  3.54it/s, accuracy=93.5, loss=0.166] \n",
      "Epoch [12/100] Validation: 100%|██████████| 14/14 [00:10<00:00,  1.32it/s, accuracy=70.8, loss=0.651]\n"
     ]
    },
    {
     "name": "stdout",
     "output_type": "stream",
     "text": [
      "Epoch 12/100\n",
      "Train Loss: 0.1902 | Train Acc: 93.47%\n",
      "Val Loss: 0.7812 | Val Acc: 70.76%\n"
     ]
    },
    {
     "name": "stderr",
     "output_type": "stream",
     "text": [
      "Epoch [13/100] Training: 100%|██████████| 56/56 [00:15<00:00,  3.56it/s, accuracy=93.5, loss=0.236]\n",
      "Epoch [13/100] Validation: 100%|██████████| 14/14 [00:10<00:00,  1.32it/s, accuracy=71.9, loss=0.66] \n"
     ]
    },
    {
     "name": "stdout",
     "output_type": "stream",
     "text": [
      "Epoch 13/100\n",
      "Train Loss: 0.1743 | Train Acc: 93.47%\n",
      "Val Loss: 0.7934 | Val Acc: 71.88%\n"
     ]
    },
    {
     "name": "stderr",
     "output_type": "stream",
     "text": [
      "Epoch [14/100] Training: 100%|██████████| 56/56 [00:15<00:00,  3.52it/s, accuracy=92.9, loss=0.131] \n",
      "Epoch [14/100] Validation: 100%|██████████| 14/14 [00:10<00:00,  1.33it/s, accuracy=71.9, loss=0.668]\n"
     ]
    },
    {
     "name": "stdout",
     "output_type": "stream",
     "text": [
      "Epoch 14/100\n",
      "Train Loss: 0.1813 | Train Acc: 92.85%\n",
      "Val Loss: 0.7622 | Val Acc: 71.88%\n"
     ]
    },
    {
     "name": "stderr",
     "output_type": "stream",
     "text": [
      "Epoch [15/100] Training: 100%|██████████| 56/56 [00:15<00:00,  3.53it/s, accuracy=93.4, loss=0.134] \n",
      "Epoch [15/100] Validation: 100%|██████████| 14/14 [00:10<00:00,  1.31it/s, accuracy=72.5, loss=0.61] \n"
     ]
    },
    {
     "name": "stdout",
     "output_type": "stream",
     "text": [
      "Epoch 15/100\n",
      "Train Loss: 0.1697 | Train Acc: 93.41%\n",
      "Val Loss: 0.7727 | Val Acc: 72.54%\n"
     ]
    },
    {
     "name": "stderr",
     "output_type": "stream",
     "text": [
      "Epoch [16/100] Training: 100%|██████████| 56/56 [00:15<00:00,  3.53it/s, accuracy=93.5, loss=0.147] \n",
      "Epoch [16/100] Validation: 100%|██████████| 14/14 [00:10<00:00,  1.32it/s, accuracy=71.2, loss=0.714]\n"
     ]
    },
    {
     "name": "stdout",
     "output_type": "stream",
     "text": [
      "Epoch 16/100\n",
      "Train Loss: 0.1752 | Train Acc: 93.52%\n",
      "Val Loss: 0.7741 | Val Acc: 71.21%\n"
     ]
    },
    {
     "name": "stderr",
     "output_type": "stream",
     "text": [
      "Epoch [17/100] Training: 100%|██████████| 56/56 [00:15<00:00,  3.58it/s, accuracy=94.2, loss=0.224] \n",
      "Epoch [17/100] Validation: 100%|██████████| 14/14 [00:10<00:00,  1.31it/s, accuracy=72.8, loss=0.721]\n"
     ]
    },
    {
     "name": "stdout",
     "output_type": "stream",
     "text": [
      "Epoch 17/100\n",
      "Train Loss: 0.1603 | Train Acc: 94.19%\n",
      "Val Loss: 0.7791 | Val Acc: 72.77%\n"
     ]
    },
    {
     "name": "stderr",
     "output_type": "stream",
     "text": [
      "Epoch [18/100] Training: 100%|██████████| 56/56 [00:16<00:00,  3.41it/s, accuracy=94.2, loss=0.191] \n",
      "Epoch [18/100] Validation: 100%|██████████| 14/14 [00:10<00:00,  1.29it/s, accuracy=74.1, loss=0.639]\n"
     ]
    },
    {
     "name": "stdout",
     "output_type": "stream",
     "text": [
      "Epoch 18/100\n",
      "Train Loss: 0.1531 | Train Acc: 94.19%\n",
      "Val Loss: 0.7473 | Val Acc: 74.11%\n"
     ]
    },
    {
     "name": "stderr",
     "output_type": "stream",
     "text": [
      "Epoch [19/100] Training: 100%|██████████| 56/56 [00:16<00:00,  3.35it/s, accuracy=92.9, loss=0.228] \n",
      "Epoch [19/100] Validation: 100%|██████████| 14/14 [00:11<00:00,  1.27it/s, accuracy=72.5, loss=0.715]\n"
     ]
    },
    {
     "name": "stdout",
     "output_type": "stream",
     "text": [
      "Epoch 19/100\n",
      "Train Loss: 0.1709 | Train Acc: 92.85%\n",
      "Val Loss: 0.7685 | Val Acc: 72.54%\n"
     ]
    },
    {
     "name": "stderr",
     "output_type": "stream",
     "text": [
      "Epoch [20/100] Training: 100%|██████████| 56/56 [00:16<00:00,  3.43it/s, accuracy=94.2, loss=0.131] \n",
      "Epoch [20/100] Validation: 100%|██████████| 14/14 [00:10<00:00,  1.28it/s, accuracy=70.1, loss=0.62] \n"
     ]
    },
    {
     "name": "stdout",
     "output_type": "stream",
     "text": [
      "Epoch 20/100\n",
      "Train Loss: 0.1552 | Train Acc: 94.25%\n",
      "Val Loss: 0.7899 | Val Acc: 70.09%\n"
     ]
    },
    {
     "name": "stderr",
     "output_type": "stream",
     "text": [
      "Epoch [21/100] Training: 100%|██████████| 56/56 [00:16<00:00,  3.41it/s, accuracy=94.4, loss=0.185] \n",
      "Epoch [21/100] Validation: 100%|██████████| 14/14 [00:10<00:00,  1.28it/s, accuracy=70.3, loss=0.741]\n"
     ]
    },
    {
     "name": "stdout",
     "output_type": "stream",
     "text": [
      "Epoch 21/100\n",
      "Train Loss: 0.1517 | Train Acc: 94.36%\n",
      "Val Loss: 0.8168 | Val Acc: 70.31%\n"
     ]
    },
    {
     "name": "stderr",
     "output_type": "stream",
     "text": [
      "Epoch [22/100] Training: 100%|██████████| 56/56 [00:16<00:00,  3.40it/s, accuracy=93.5, loss=0.0941]\n",
      "Epoch [22/100] Validation: 100%|██████████| 14/14 [00:11<00:00,  1.27it/s, accuracy=71.4, loss=0.69] \n"
     ]
    },
    {
     "name": "stdout",
     "output_type": "stream",
     "text": [
      "Epoch 22/100\n",
      "Train Loss: 0.1592 | Train Acc: 93.52%\n",
      "Val Loss: 0.8207 | Val Acc: 71.43%\n"
     ]
    },
    {
     "name": "stderr",
     "output_type": "stream",
     "text": [
      "Epoch [23/100] Training: 100%|██████████| 56/56 [00:16<00:00,  3.30it/s, accuracy=93.6, loss=0.39]  \n",
      "Epoch [23/100] Validation: 100%|██████████| 14/14 [00:10<00:00,  1.29it/s, accuracy=71.9, loss=0.868]\n"
     ]
    },
    {
     "name": "stdout",
     "output_type": "stream",
     "text": [
      "Epoch 23/100\n",
      "Train Loss: 0.1538 | Train Acc: 93.58%\n",
      "Val Loss: 0.8270 | Val Acc: 71.88%\n"
     ]
    },
    {
     "name": "stderr",
     "output_type": "stream",
     "text": [
      "Epoch [24/100] Training: 100%|██████████| 56/56 [00:16<00:00,  3.45it/s, accuracy=94.1, loss=0.237] \n",
      "Epoch [24/100] Validation: 100%|██████████| 14/14 [00:11<00:00,  1.27it/s, accuracy=70.8, loss=0.755]\n"
     ]
    },
    {
     "name": "stdout",
     "output_type": "stream",
     "text": [
      "Epoch 24/100\n",
      "Train Loss: 0.1485 | Train Acc: 94.14%\n",
      "Val Loss: 0.8605 | Val Acc: 70.76%\n"
     ]
    },
    {
     "name": "stderr",
     "output_type": "stream",
     "text": [
      "Epoch [25/100] Training: 100%|██████████| 56/56 [00:16<00:00,  3.38it/s, accuracy=95, loss=0.157]   \n",
      "Epoch [25/100] Validation: 100%|██████████| 14/14 [00:10<00:00,  1.27it/s, accuracy=71.2, loss=0.763]\n"
     ]
    },
    {
     "name": "stdout",
     "output_type": "stream",
     "text": [
      "Epoch 25/100\n",
      "Train Loss: 0.1436 | Train Acc: 94.97%\n",
      "Val Loss: 0.7921 | Val Acc: 71.21%\n"
     ]
    },
    {
     "name": "stderr",
     "output_type": "stream",
     "text": [
      "Epoch [26/100] Training: 100%|██████████| 56/56 [00:16<00:00,  3.44it/s, accuracy=94.3, loss=0.187] \n",
      "Epoch [26/100] Validation: 100%|██████████| 14/14 [00:10<00:00,  1.30it/s, accuracy=70.8, loss=0.655]\n"
     ]
    },
    {
     "name": "stdout",
     "output_type": "stream",
     "text": [
      "Epoch 26/100\n",
      "Train Loss: 0.1442 | Train Acc: 94.30%\n",
      "Val Loss: 0.8289 | Val Acc: 70.76%\n"
     ]
    },
    {
     "name": "stderr",
     "output_type": "stream",
     "text": [
      "Epoch [27/100] Training: 100%|██████████| 56/56 [00:16<00:00,  3.48it/s, accuracy=94.4, loss=0.0701]\n",
      "Epoch [27/100] Validation: 100%|██████████| 14/14 [00:10<00:00,  1.29it/s, accuracy=71.2, loss=0.723]\n"
     ]
    },
    {
     "name": "stdout",
     "output_type": "stream",
     "text": [
      "Epoch 27/100\n",
      "Train Loss: 0.1474 | Train Acc: 94.36%\n",
      "Val Loss: 0.8177 | Val Acc: 71.21%\n"
     ]
    },
    {
     "name": "stderr",
     "output_type": "stream",
     "text": [
      "Epoch [28/100] Training: 100%|██████████| 56/56 [00:15<00:00,  3.51it/s, accuracy=94.3, loss=0.23]  \n",
      "Epoch [28/100] Validation: 100%|██████████| 14/14 [00:10<00:00,  1.29it/s, accuracy=71.9, loss=0.621]\n"
     ]
    },
    {
     "name": "stdout",
     "output_type": "stream",
     "text": [
      "Epoch 28/100\n",
      "Train Loss: 0.1448 | Train Acc: 94.30%\n",
      "Val Loss: 0.7555 | Val Acc: 71.88%\n"
     ]
    },
    {
     "name": "stderr",
     "output_type": "stream",
     "text": [
      "Epoch [29/100] Training: 100%|██████████| 56/56 [00:16<00:00,  3.38it/s, accuracy=94.1, loss=0.189] \n",
      "Epoch [29/100] Validation: 100%|██████████| 14/14 [00:11<00:00,  1.25it/s, accuracy=69, loss=0.778]  \n"
     ]
    },
    {
     "name": "stdout",
     "output_type": "stream",
     "text": [
      "Epoch 29/100\n",
      "Train Loss: 0.1462 | Train Acc: 94.14%\n",
      "Val Loss: 0.8052 | Val Acc: 68.97%\n"
     ]
    },
    {
     "name": "stderr",
     "output_type": "stream",
     "text": [
      "Epoch [30/100] Training: 100%|██████████| 56/56 [00:16<00:00,  3.40it/s, accuracy=93.9, loss=0.317] \n",
      "Epoch [30/100] Validation: 100%|██████████| 14/14 [00:10<00:00,  1.30it/s, accuracy=72.8, loss=0.696]\n"
     ]
    },
    {
     "name": "stdout",
     "output_type": "stream",
     "text": [
      "Epoch 30/100\n",
      "Train Loss: 0.1413 | Train Acc: 93.86%\n",
      "Val Loss: 0.7911 | Val Acc: 72.77%\n"
     ]
    },
    {
     "name": "stderr",
     "output_type": "stream",
     "text": [
      "Epoch [31/100] Training: 100%|██████████| 56/56 [00:15<00:00,  3.51it/s, accuracy=94.1, loss=0.131] \n",
      "Epoch [31/100] Validation: 100%|██████████| 14/14 [00:10<00:00,  1.30it/s, accuracy=71.7, loss=0.735]\n"
     ]
    },
    {
     "name": "stdout",
     "output_type": "stream",
     "text": [
      "Epoch 31/100\n",
      "Train Loss: 0.1468 | Train Acc: 94.08%\n",
      "Val Loss: 0.8056 | Val Acc: 71.65%\n"
     ]
    },
    {
     "name": "stderr",
     "output_type": "stream",
     "text": [
      "Epoch [32/100] Training: 100%|██████████| 56/56 [00:16<00:00,  3.46it/s, accuracy=94, loss=0.106]   \n",
      "Epoch [32/100] Validation: 100%|██████████| 14/14 [00:11<00:00,  1.26it/s, accuracy=70.8, loss=0.667]\n"
     ]
    },
    {
     "name": "stdout",
     "output_type": "stream",
     "text": [
      "Epoch 32/100\n",
      "Train Loss: 0.1447 | Train Acc: 94.03%\n",
      "Val Loss: 0.7992 | Val Acc: 70.76%\n"
     ]
    },
    {
     "name": "stderr",
     "output_type": "stream",
     "text": [
      "Epoch [33/100] Training: 100%|██████████| 56/56 [00:16<00:00,  3.41it/s, accuracy=93.9, loss=0.115] \n",
      "Epoch [33/100] Validation: 100%|██████████| 14/14 [00:11<00:00,  1.27it/s, accuracy=69, loss=0.784]  \n"
     ]
    },
    {
     "name": "stdout",
     "output_type": "stream",
     "text": [
      "Epoch 33/100\n",
      "Train Loss: 0.1504 | Train Acc: 93.86%\n",
      "Val Loss: 0.7904 | Val Acc: 68.97%\n"
     ]
    },
    {
     "name": "stderr",
     "output_type": "stream",
     "text": [
      "Epoch [34/100] Training: 100%|██████████| 56/56 [00:16<00:00,  3.44it/s, accuracy=94.2, loss=0.114] \n",
      "Epoch [34/100] Validation: 100%|██████████| 14/14 [00:10<00:00,  1.31it/s, accuracy=71.2, loss=0.707]\n"
     ]
    },
    {
     "name": "stdout",
     "output_type": "stream",
     "text": [
      "Epoch 34/100\n",
      "Train Loss: 0.1444 | Train Acc: 94.19%\n",
      "Val Loss: 0.8154 | Val Acc: 71.21%\n"
     ]
    },
    {
     "name": "stderr",
     "output_type": "stream",
     "text": [
      "Epoch [35/100] Training: 100%|██████████| 56/56 [00:16<00:00,  3.48it/s, accuracy=93.9, loss=0.23]  \n",
      "Epoch [35/100] Validation: 100%|██████████| 14/14 [00:10<00:00,  1.29it/s, accuracy=72.8, loss=0.604]\n"
     ]
    },
    {
     "name": "stdout",
     "output_type": "stream",
     "text": [
      "Epoch 35/100\n",
      "Train Loss: 0.1533 | Train Acc: 93.91%\n",
      "Val Loss: 0.7691 | Val Acc: 72.77%\n"
     ]
    },
    {
     "name": "stderr",
     "output_type": "stream",
     "text": [
      "Epoch [36/100] Training: 100%|██████████| 56/56 [00:16<00:00,  3.42it/s, accuracy=94.4, loss=0.164] \n",
      "Epoch [36/100] Validation: 100%|██████████| 14/14 [00:11<00:00,  1.25it/s, accuracy=72.5, loss=0.725]\n"
     ]
    },
    {
     "name": "stdout",
     "output_type": "stream",
     "text": [
      "Epoch 36/100\n",
      "Train Loss: 0.1427 | Train Acc: 94.42%\n",
      "Val Loss: 0.7898 | Val Acc: 72.54%\n"
     ]
    },
    {
     "name": "stderr",
     "output_type": "stream",
     "text": [
      "Epoch [37/100] Training: 100%|██████████| 56/56 [00:16<00:00,  3.44it/s, accuracy=93.6, loss=0.156] \n",
      "Epoch [37/100] Validation: 100%|██████████| 14/14 [00:10<00:00,  1.29it/s, accuracy=72.1, loss=0.782]\n"
     ]
    },
    {
     "name": "stdout",
     "output_type": "stream",
     "text": [
      "Epoch 37/100\n",
      "Train Loss: 0.1566 | Train Acc: 93.58%\n",
      "Val Loss: 0.8150 | Val Acc: 72.10%\n"
     ]
    },
    {
     "name": "stderr",
     "output_type": "stream",
     "text": [
      "Epoch [38/100] Training: 100%|██████████| 56/56 [00:16<00:00,  3.42it/s, accuracy=93.4, loss=0.101] \n",
      "Epoch [38/100] Validation: 100%|██████████| 14/14 [00:11<00:00,  1.27it/s, accuracy=69.4, loss=0.735]\n"
     ]
    },
    {
     "name": "stdout",
     "output_type": "stream",
     "text": [
      "Epoch 38/100\n",
      "Train Loss: 0.1555 | Train Acc: 93.41%\n",
      "Val Loss: 0.8212 | Val Acc: 69.42%\n"
     ]
    },
    {
     "name": "stderr",
     "output_type": "stream",
     "text": [
      "Epoch [39/100] Training: 100%|██████████| 56/56 [00:16<00:00,  3.33it/s, accuracy=93.4, loss=0.0768]\n",
      "Epoch [39/100] Validation: 100%|██████████| 14/14 [00:10<00:00,  1.29it/s, accuracy=73.9, loss=0.778]\n"
     ]
    },
    {
     "name": "stdout",
     "output_type": "stream",
     "text": [
      "Epoch 39/100\n",
      "Train Loss: 0.1520 | Train Acc: 93.36%\n",
      "Val Loss: 0.7914 | Val Acc: 73.88%\n"
     ]
    },
    {
     "name": "stderr",
     "output_type": "stream",
     "text": [
      "Epoch [40/100] Training: 100%|██████████| 56/56 [00:16<00:00,  3.40it/s, accuracy=94.3, loss=0.195] \n",
      "Epoch [40/100] Validation: 100%|██████████| 14/14 [00:10<00:00,  1.27it/s, accuracy=73.4, loss=0.713]\n"
     ]
    },
    {
     "name": "stdout",
     "output_type": "stream",
     "text": [
      "Epoch 40/100\n",
      "Train Loss: 0.1442 | Train Acc: 94.30%\n",
      "Val Loss: 0.7920 | Val Acc: 73.44%\n"
     ]
    },
    {
     "name": "stderr",
     "output_type": "stream",
     "text": [
      "Epoch [41/100] Training: 100%|██████████| 56/56 [00:16<00:00,  3.48it/s, accuracy=93.4, loss=0.141] \n",
      "Epoch [41/100] Validation: 100%|██████████| 14/14 [00:10<00:00,  1.29it/s, accuracy=70.3, loss=0.568]\n"
     ]
    },
    {
     "name": "stdout",
     "output_type": "stream",
     "text": [
      "Epoch 41/100\n",
      "Train Loss: 0.1505 | Train Acc: 93.36%\n",
      "Val Loss: 0.7992 | Val Acc: 70.31%\n"
     ]
    },
    {
     "name": "stderr",
     "output_type": "stream",
     "text": [
      "Epoch [42/100] Training: 100%|██████████| 56/56 [00:16<00:00,  3.48it/s, accuracy=93.8, loss=0.244] \n",
      "Epoch [42/100] Validation: 100%|██████████| 14/14 [00:10<00:00,  1.30it/s, accuracy=71.4, loss=0.727]\n"
     ]
    },
    {
     "name": "stdout",
     "output_type": "stream",
     "text": [
      "Epoch 42/100\n",
      "Train Loss: 0.1485 | Train Acc: 93.80%\n",
      "Val Loss: 0.8178 | Val Acc: 71.43%\n"
     ]
    },
    {
     "name": "stderr",
     "output_type": "stream",
     "text": [
      "Epoch [43/100] Training: 100%|██████████| 56/56 [00:16<00:00,  3.48it/s, accuracy=94.1, loss=0.284] \n",
      "Epoch [43/100] Validation: 100%|██████████| 14/14 [00:10<00:00,  1.30it/s, accuracy=70.3, loss=0.654]\n"
     ]
    },
    {
     "name": "stdout",
     "output_type": "stream",
     "text": [
      "Epoch 43/100\n",
      "Train Loss: 0.1467 | Train Acc: 94.08%\n",
      "Val Loss: 0.7863 | Val Acc: 70.31%\n"
     ]
    },
    {
     "name": "stderr",
     "output_type": "stream",
     "text": [
      "Epoch [44/100] Training: 100%|██████████| 56/56 [00:15<00:00,  3.53it/s, accuracy=94.8, loss=0.153] \n",
      "Epoch [44/100] Validation: 100%|██████████| 14/14 [00:10<00:00,  1.30it/s, accuracy=69.2, loss=0.759]\n"
     ]
    },
    {
     "name": "stdout",
     "output_type": "stream",
     "text": [
      "Epoch 44/100\n",
      "Train Loss: 0.1387 | Train Acc: 94.75%\n",
      "Val Loss: 0.8458 | Val Acc: 69.20%\n"
     ]
    },
    {
     "name": "stderr",
     "output_type": "stream",
     "text": [
      "Epoch [45/100] Training: 100%|██████████| 56/56 [00:15<00:00,  3.50it/s, accuracy=93.7, loss=0.151] \n",
      "Epoch [45/100] Validation: 100%|██████████| 14/14 [00:10<00:00,  1.30it/s, accuracy=68.8, loss=0.76]\n"
     ]
    },
    {
     "name": "stdout",
     "output_type": "stream",
     "text": [
      "Epoch 45/100\n",
      "Train Loss: 0.1496 | Train Acc: 93.69%\n",
      "Val Loss: 0.8358 | Val Acc: 68.75%\n"
     ]
    },
    {
     "name": "stderr",
     "output_type": "stream",
     "text": [
      "Epoch [46/100] Training: 100%|██████████| 56/56 [00:15<00:00,  3.51it/s, accuracy=94.5, loss=0.165] \n",
      "Epoch [46/100] Validation: 100%|██████████| 14/14 [00:10<00:00,  1.31it/s, accuracy=70.3, loss=0.679]\n"
     ]
    },
    {
     "name": "stdout",
     "output_type": "stream",
     "text": [
      "Epoch 46/100\n",
      "Train Loss: 0.1539 | Train Acc: 94.53%\n",
      "Val Loss: 0.8120 | Val Acc: 70.31%\n"
     ]
    },
    {
     "name": "stderr",
     "output_type": "stream",
     "text": [
      "Epoch [47/100] Training: 100%|██████████| 56/56 [00:15<00:00,  3.55it/s, accuracy=94.3, loss=0.116] \n",
      "Epoch [47/100] Validation: 100%|██████████| 14/14 [00:10<00:00,  1.31it/s, accuracy=71.7, loss=0.834]\n"
     ]
    },
    {
     "name": "stdout",
     "output_type": "stream",
     "text": [
      "Epoch 47/100\n",
      "Train Loss: 0.1420 | Train Acc: 94.30%\n",
      "Val Loss: 0.8272 | Val Acc: 71.65%\n"
     ]
    },
    {
     "name": "stderr",
     "output_type": "stream",
     "text": [
      "Epoch [48/100] Training: 100%|██████████| 56/56 [00:15<00:00,  3.56it/s, accuracy=94, loss=0.205]   \n",
      "Epoch [48/100] Validation: 100%|██████████| 14/14 [00:10<00:00,  1.31it/s, accuracy=71.9, loss=0.788]\n"
     ]
    },
    {
     "name": "stdout",
     "output_type": "stream",
     "text": [
      "Epoch 48/100\n",
      "Train Loss: 0.1480 | Train Acc: 94.03%\n",
      "Val Loss: 0.8315 | Val Acc: 71.88%\n"
     ]
    },
    {
     "name": "stderr",
     "output_type": "stream",
     "text": [
      "Epoch [49/100] Training: 100%|██████████| 56/56 [00:16<00:00,  3.47it/s, accuracy=94, loss=0.0813]  \n",
      "Epoch [49/100] Validation: 100%|██████████| 14/14 [00:10<00:00,  1.29it/s, accuracy=71, loss=0.767]  \n"
     ]
    },
    {
     "name": "stdout",
     "output_type": "stream",
     "text": [
      "Epoch 49/100\n",
      "Train Loss: 0.1421 | Train Acc: 94.03%\n",
      "Val Loss: 0.7963 | Val Acc: 70.98%\n"
     ]
    },
    {
     "name": "stderr",
     "output_type": "stream",
     "text": [
      "Epoch [50/100] Training: 100%|██████████| 56/56 [00:16<00:00,  3.47it/s, accuracy=94.4, loss=0.0989]\n",
      "Epoch [50/100] Validation: 100%|██████████| 14/14 [00:10<00:00,  1.31it/s, accuracy=71.2, loss=0.696]\n"
     ]
    },
    {
     "name": "stdout",
     "output_type": "stream",
     "text": [
      "Epoch 50/100\n",
      "Train Loss: 0.1482 | Train Acc: 94.36%\n",
      "Val Loss: 0.8222 | Val Acc: 71.21%\n"
     ]
    },
    {
     "name": "stderr",
     "output_type": "stream",
     "text": [
      "Epoch [51/100] Training: 100%|██████████| 56/56 [00:16<00:00,  3.48it/s, accuracy=93.9, loss=0.194] \n",
      "Epoch [51/100] Validation: 100%|██████████| 14/14 [00:10<00:00,  1.30it/s, accuracy=70.5, loss=0.705]\n"
     ]
    },
    {
     "name": "stdout",
     "output_type": "stream",
     "text": [
      "Epoch 51/100\n",
      "Train Loss: 0.1557 | Train Acc: 93.91%\n",
      "Val Loss: 0.8010 | Val Acc: 70.54%\n"
     ]
    },
    {
     "name": "stderr",
     "output_type": "stream",
     "text": [
      "Epoch [52/100] Training: 100%|██████████| 56/56 [00:16<00:00,  3.41it/s, accuracy=94, loss=0.13]    \n",
      "Epoch [52/100] Validation: 100%|██████████| 14/14 [00:11<00:00,  1.24it/s, accuracy=71.2, loss=0.672]\n"
     ]
    },
    {
     "name": "stdout",
     "output_type": "stream",
     "text": [
      "Epoch 52/100\n",
      "Train Loss: 0.1460 | Train Acc: 93.97%\n",
      "Val Loss: 0.8109 | Val Acc: 71.21%\n"
     ]
    },
    {
     "name": "stderr",
     "output_type": "stream",
     "text": [
      "Epoch [53/100] Training: 100%|██████████| 56/56 [00:15<00:00,  3.50it/s, accuracy=94.5, loss=0.159] \n",
      "Epoch [53/100] Validation: 100%|██████████| 14/14 [00:10<00:00,  1.31it/s, accuracy=69.6, loss=0.733]\n"
     ]
    },
    {
     "name": "stdout",
     "output_type": "stream",
     "text": [
      "Epoch 53/100\n",
      "Train Loss: 0.1525 | Train Acc: 94.47%\n",
      "Val Loss: 0.8325 | Val Acc: 69.64%\n"
     ]
    },
    {
     "name": "stderr",
     "output_type": "stream",
     "text": [
      "Epoch [54/100] Training: 100%|██████████| 56/56 [00:16<00:00,  3.49it/s, accuracy=94.3, loss=0.131] \n",
      "Epoch [54/100] Validation: 100%|██████████| 14/14 [00:10<00:00,  1.30it/s, accuracy=72.3, loss=0.736]\n"
     ]
    },
    {
     "name": "stdout",
     "output_type": "stream",
     "text": [
      "Epoch 54/100\n",
      "Train Loss: 0.1493 | Train Acc: 94.30%\n",
      "Val Loss: 0.7910 | Val Acc: 72.32%\n"
     ]
    },
    {
     "name": "stderr",
     "output_type": "stream",
     "text": [
      "Epoch [55/100] Training: 100%|██████████| 56/56 [00:15<00:00,  3.52it/s, accuracy=94.3, loss=0.17]  \n",
      "Epoch [55/100] Validation: 100%|██████████| 14/14 [00:10<00:00,  1.30it/s, accuracy=69.6, loss=0.75] \n"
     ]
    },
    {
     "name": "stdout",
     "output_type": "stream",
     "text": [
      "Epoch 55/100\n",
      "Train Loss: 0.1443 | Train Acc: 94.30%\n",
      "Val Loss: 0.8591 | Val Acc: 69.64%\n"
     ]
    },
    {
     "name": "stderr",
     "output_type": "stream",
     "text": [
      "Epoch [56/100] Training: 100%|██████████| 56/56 [00:15<00:00,  3.53it/s, accuracy=93.6, loss=0.159] \n",
      "Epoch [56/100] Validation: 100%|██████████| 14/14 [00:10<00:00,  1.30it/s, accuracy=70.5, loss=0.68] \n"
     ]
    },
    {
     "name": "stdout",
     "output_type": "stream",
     "text": [
      "Epoch 56/100\n",
      "Train Loss: 0.1488 | Train Acc: 93.58%\n",
      "Val Loss: 0.8171 | Val Acc: 70.54%\n"
     ]
    },
    {
     "name": "stderr",
     "output_type": "stream",
     "text": [
      "Epoch [57/100] Training: 100%|██████████| 56/56 [00:16<00:00,  3.46it/s, accuracy=94.1, loss=0.275] \n",
      "Epoch [57/100] Validation: 100%|██████████| 14/14 [00:10<00:00,  1.30it/s, accuracy=71.2, loss=0.723]\n"
     ]
    },
    {
     "name": "stdout",
     "output_type": "stream",
     "text": [
      "Epoch 57/100\n",
      "Train Loss: 0.1498 | Train Acc: 94.14%\n",
      "Val Loss: 0.8272 | Val Acc: 71.21%\n"
     ]
    },
    {
     "name": "stderr",
     "output_type": "stream",
     "text": [
      "Epoch [58/100] Training: 100%|██████████| 56/56 [00:15<00:00,  3.51it/s, accuracy=94.2, loss=0.123] \n",
      "Epoch [58/100] Validation: 100%|██████████| 14/14 [00:10<00:00,  1.31it/s, accuracy=70.3, loss=0.616]\n"
     ]
    },
    {
     "name": "stdout",
     "output_type": "stream",
     "text": [
      "Epoch 58/100\n",
      "Train Loss: 0.1450 | Train Acc: 94.25%\n",
      "Val Loss: 0.8467 | Val Acc: 70.31%\n"
     ]
    },
    {
     "name": "stderr",
     "output_type": "stream",
     "text": [
      "Epoch [59/100] Training: 100%|██████████| 56/56 [00:16<00:00,  3.44it/s, accuracy=94.5, loss=0.169] \n",
      "Epoch [59/100] Validation: 100%|██████████| 14/14 [00:10<00:00,  1.30it/s, accuracy=69.9, loss=0.679]\n"
     ]
    },
    {
     "name": "stdout",
     "output_type": "stream",
     "text": [
      "Epoch 59/100\n",
      "Train Loss: 0.1476 | Train Acc: 94.47%\n",
      "Val Loss: 0.8546 | Val Acc: 69.87%\n"
     ]
    },
    {
     "name": "stderr",
     "output_type": "stream",
     "text": [
      "Epoch [60/100] Training: 100%|██████████| 56/56 [00:16<00:00,  3.49it/s, accuracy=94.6, loss=0.118] \n",
      "Epoch [60/100] Validation: 100%|██████████| 14/14 [00:10<00:00,  1.31it/s, accuracy=69.9, loss=0.802]\n"
     ]
    },
    {
     "name": "stdout",
     "output_type": "stream",
     "text": [
      "Epoch 60/100\n",
      "Train Loss: 0.1427 | Train Acc: 94.64%\n",
      "Val Loss: 0.8447 | Val Acc: 69.87%\n"
     ]
    },
    {
     "name": "stderr",
     "output_type": "stream",
     "text": [
      "Epoch [61/100] Training: 100%|██████████| 56/56 [00:16<00:00,  3.49it/s, accuracy=94.6, loss=0.19]  \n",
      "Epoch [61/100] Validation: 100%|██████████| 14/14 [00:10<00:00,  1.30it/s, accuracy=70.5, loss=0.663]\n"
     ]
    },
    {
     "name": "stdout",
     "output_type": "stream",
     "text": [
      "Epoch 61/100\n",
      "Train Loss: 0.1404 | Train Acc: 94.58%\n",
      "Val Loss: 0.8374 | Val Acc: 70.54%\n"
     ]
    },
    {
     "name": "stderr",
     "output_type": "stream",
     "text": [
      "Epoch [62/100] Training: 100%|██████████| 56/56 [00:15<00:00,  3.53it/s, accuracy=94.4, loss=0.103] \n",
      "Epoch [62/100] Validation: 100%|██████████| 14/14 [00:10<00:00,  1.30it/s, accuracy=70.8, loss=0.733]\n"
     ]
    },
    {
     "name": "stdout",
     "output_type": "stream",
     "text": [
      "Epoch 62/100\n",
      "Train Loss: 0.1398 | Train Acc: 94.42%\n",
      "Val Loss: 0.8037 | Val Acc: 70.76%\n"
     ]
    },
    {
     "name": "stderr",
     "output_type": "stream",
     "text": [
      "Epoch [63/100] Training: 100%|██████████| 56/56 [00:16<00:00,  3.46it/s, accuracy=93.9, loss=0.0625]\n",
      "Epoch [63/100] Validation: 100%|██████████| 14/14 [00:11<00:00,  1.27it/s, accuracy=69, loss=0.863]  \n"
     ]
    },
    {
     "name": "stdout",
     "output_type": "stream",
     "text": [
      "Epoch 63/100\n",
      "Train Loss: 0.1527 | Train Acc: 93.86%\n",
      "Val Loss: 0.8359 | Val Acc: 68.97%\n"
     ]
    },
    {
     "name": "stderr",
     "output_type": "stream",
     "text": [
      "Epoch [64/100] Training: 100%|██████████| 56/56 [00:16<00:00,  3.39it/s, accuracy=93.9, loss=0.13]  \n",
      "Epoch [64/100] Validation: 100%|██████████| 14/14 [00:11<00:00,  1.26it/s, accuracy=71.4, loss=0.622]\n"
     ]
    },
    {
     "name": "stdout",
     "output_type": "stream",
     "text": [
      "Epoch 64/100\n",
      "Train Loss: 0.1495 | Train Acc: 93.86%\n",
      "Val Loss: 0.8219 | Val Acc: 71.43%\n"
     ]
    },
    {
     "name": "stderr",
     "output_type": "stream",
     "text": [
      "Epoch [65/100] Training: 100%|██████████| 56/56 [00:16<00:00,  3.40it/s, accuracy=94.1, loss=0.118] \n",
      "Epoch [65/100] Validation: 100%|██████████| 14/14 [00:10<00:00,  1.30it/s, accuracy=71, loss=0.863]  \n"
     ]
    },
    {
     "name": "stdout",
     "output_type": "stream",
     "text": [
      "Epoch 65/100\n",
      "Train Loss: 0.1487 | Train Acc: 94.14%\n",
      "Val Loss: 0.8154 | Val Acc: 70.98%\n"
     ]
    },
    {
     "name": "stderr",
     "output_type": "stream",
     "text": [
      "Epoch [66/100] Training: 100%|██████████| 56/56 [00:15<00:00,  3.52it/s, accuracy=94.2, loss=0.247] \n",
      "Epoch [66/100] Validation: 100%|██████████| 14/14 [00:10<00:00,  1.31it/s, accuracy=69.6, loss=0.739]\n"
     ]
    },
    {
     "name": "stdout",
     "output_type": "stream",
     "text": [
      "Epoch 66/100\n",
      "Train Loss: 0.1415 | Train Acc: 94.25%\n",
      "Val Loss: 0.8126 | Val Acc: 69.64%\n"
     ]
    },
    {
     "name": "stderr",
     "output_type": "stream",
     "text": [
      "Epoch [67/100] Training: 100%|██████████| 56/56 [00:15<00:00,  3.51it/s, accuracy=94, loss=0.116]   \n",
      "Epoch [67/100] Validation: 100%|██████████| 14/14 [00:10<00:00,  1.31it/s, accuracy=68.8, loss=0.754]\n"
     ]
    },
    {
     "name": "stdout",
     "output_type": "stream",
     "text": [
      "Epoch 67/100\n",
      "Train Loss: 0.1527 | Train Acc: 93.97%\n",
      "Val Loss: 0.8371 | Val Acc: 68.75%\n"
     ]
    },
    {
     "name": "stderr",
     "output_type": "stream",
     "text": [
      "Epoch [68/100] Training: 100%|██████████| 56/56 [00:15<00:00,  3.51it/s, accuracy=93.7, loss=0.0807]\n",
      "Epoch [68/100] Validation: 100%|██████████| 14/14 [00:10<00:00,  1.28it/s, accuracy=69, loss=0.698]  \n"
     ]
    },
    {
     "name": "stdout",
     "output_type": "stream",
     "text": [
      "Epoch 68/100\n",
      "Train Loss: 0.1521 | Train Acc: 93.69%\n",
      "Val Loss: 0.8307 | Val Acc: 68.97%\n"
     ]
    },
    {
     "name": "stderr",
     "output_type": "stream",
     "text": [
      "Epoch [69/100] Training: 100%|██████████| 56/56 [00:16<00:00,  3.39it/s, accuracy=93.7, loss=0.154] \n",
      "Epoch [69/100] Validation: 100%|██████████| 14/14 [00:10<00:00,  1.29it/s, accuracy=70.1, loss=0.727]\n"
     ]
    },
    {
     "name": "stdout",
     "output_type": "stream",
     "text": [
      "Epoch 69/100\n",
      "Train Loss: 0.1521 | Train Acc: 93.75%\n",
      "Val Loss: 0.8071 | Val Acc: 70.09%\n"
     ]
    },
    {
     "name": "stderr",
     "output_type": "stream",
     "text": [
      "Epoch [70/100] Training: 100%|██████████| 56/56 [00:16<00:00,  3.47it/s, accuracy=94.6, loss=0.181] \n",
      "Epoch [70/100] Validation: 100%|██████████| 14/14 [00:11<00:00,  1.24it/s, accuracy=71, loss=0.719]  \n"
     ]
    },
    {
     "name": "stdout",
     "output_type": "stream",
     "text": [
      "Epoch 70/100\n",
      "Train Loss: 0.1423 | Train Acc: 94.64%\n",
      "Val Loss: 0.8303 | Val Acc: 70.98%\n"
     ]
    },
    {
     "name": "stderr",
     "output_type": "stream",
     "text": [
      "Epoch [71/100] Training: 100%|██████████| 56/56 [00:16<00:00,  3.42it/s, accuracy=94.5, loss=0.113] \n",
      "Epoch [71/100] Validation: 100%|██████████| 14/14 [00:10<00:00,  1.28it/s, accuracy=71.9, loss=0.601]\n"
     ]
    },
    {
     "name": "stdout",
     "output_type": "stream",
     "text": [
      "Epoch 71/100\n",
      "Train Loss: 0.1412 | Train Acc: 94.47%\n",
      "Val Loss: 0.8477 | Val Acc: 71.88%\n"
     ]
    },
    {
     "name": "stderr",
     "output_type": "stream",
     "text": [
      "Epoch [72/100] Training: 100%|██████████| 56/56 [00:17<00:00,  3.20it/s, accuracy=93.9, loss=0.154] \n",
      "Epoch [72/100] Validation: 100%|██████████| 14/14 [00:11<00:00,  1.24it/s, accuracy=70.3, loss=0.655]\n"
     ]
    },
    {
     "name": "stdout",
     "output_type": "stream",
     "text": [
      "Epoch 72/100\n",
      "Train Loss: 0.1547 | Train Acc: 93.91%\n",
      "Val Loss: 0.8056 | Val Acc: 70.31%\n"
     ]
    },
    {
     "name": "stderr",
     "output_type": "stream",
     "text": [
      "Epoch [73/100] Training: 100%|██████████| 56/56 [00:16<00:00,  3.50it/s, accuracy=94, loss=0.173]   \n",
      "Epoch [73/100] Validation: 100%|██████████| 14/14 [00:10<00:00,  1.31it/s, accuracy=70.8, loss=0.756]\n"
     ]
    },
    {
     "name": "stdout",
     "output_type": "stream",
     "text": [
      "Epoch 73/100\n",
      "Train Loss: 0.1487 | Train Acc: 94.03%\n",
      "Val Loss: 0.8234 | Val Acc: 70.76%\n"
     ]
    },
    {
     "name": "stderr",
     "output_type": "stream",
     "text": [
      "Epoch [74/100] Training: 100%|██████████| 56/56 [00:16<00:00,  3.38it/s, accuracy=94.2, loss=0.0952]\n",
      "Epoch [74/100] Validation: 100%|██████████| 14/14 [00:10<00:00,  1.29it/s, accuracy=71.7, loss=0.719]\n"
     ]
    },
    {
     "name": "stdout",
     "output_type": "stream",
     "text": [
      "Epoch 74/100\n",
      "Train Loss: 0.1406 | Train Acc: 94.25%\n",
      "Val Loss: 0.8256 | Val Acc: 71.65%\n"
     ]
    },
    {
     "name": "stderr",
     "output_type": "stream",
     "text": [
      "Epoch [75/100] Training: 100%|██████████| 56/56 [00:16<00:00,  3.43it/s, accuracy=93.9, loss=0.183] \n",
      "Epoch [75/100] Validation: 100%|██████████| 14/14 [00:10<00:00,  1.29it/s, accuracy=69.6, loss=0.674]\n"
     ]
    },
    {
     "name": "stdout",
     "output_type": "stream",
     "text": [
      "Epoch 75/100\n",
      "Train Loss: 0.1481 | Train Acc: 93.91%\n",
      "Val Loss: 0.8469 | Val Acc: 69.64%\n"
     ]
    },
    {
     "name": "stderr",
     "output_type": "stream",
     "text": [
      "Epoch [76/100] Training: 100%|██████████| 56/56 [00:16<00:00,  3.46it/s, accuracy=94.1, loss=0.227] \n",
      "Epoch [76/100] Validation: 100%|██████████| 14/14 [00:11<00:00,  1.27it/s, accuracy=70.1, loss=0.687]\n"
     ]
    },
    {
     "name": "stdout",
     "output_type": "stream",
     "text": [
      "Epoch 76/100\n",
      "Train Loss: 0.1478 | Train Acc: 94.14%\n",
      "Val Loss: 0.8142 | Val Acc: 70.09%\n"
     ]
    },
    {
     "name": "stderr",
     "output_type": "stream",
     "text": [
      "Epoch [77/100] Training: 100%|██████████| 56/56 [00:16<00:00,  3.47it/s, accuracy=94.9, loss=0.069] \n",
      "Epoch [77/100] Validation: 100%|██████████| 14/14 [00:11<00:00,  1.27it/s, accuracy=69.9, loss=0.816]\n"
     ]
    },
    {
     "name": "stdout",
     "output_type": "stream",
     "text": [
      "Epoch 77/100\n",
      "Train Loss: 0.1479 | Train Acc: 94.92%\n",
      "Val Loss: 0.8437 | Val Acc: 69.87%\n"
     ]
    },
    {
     "name": "stderr",
     "output_type": "stream",
     "text": [
      "Epoch [78/100] Training: 100%|██████████| 56/56 [00:16<00:00,  3.49it/s, accuracy=93.9, loss=0.171] \n",
      "Epoch [78/100] Validation: 100%|██████████| 14/14 [00:11<00:00,  1.27it/s, accuracy=70.5, loss=0.788]\n"
     ]
    },
    {
     "name": "stdout",
     "output_type": "stream",
     "text": [
      "Epoch 78/100\n",
      "Train Loss: 0.1498 | Train Acc: 93.86%\n",
      "Val Loss: 0.8422 | Val Acc: 70.54%\n"
     ]
    },
    {
     "name": "stderr",
     "output_type": "stream",
     "text": [
      "Epoch [79/100] Training: 100%|██████████| 56/56 [00:16<00:00,  3.46it/s, accuracy=93.8, loss=0.268] \n",
      "Epoch [79/100] Validation: 100%|██████████| 14/14 [00:10<00:00,  1.30it/s, accuracy=70.1, loss=0.7]  \n"
     ]
    },
    {
     "name": "stdout",
     "output_type": "stream",
     "text": [
      "Epoch 79/100\n",
      "Train Loss: 0.1564 | Train Acc: 93.80%\n",
      "Val Loss: 0.8220 | Val Acc: 70.09%\n"
     ]
    },
    {
     "name": "stderr",
     "output_type": "stream",
     "text": [
      "Epoch [80/100] Training: 100%|██████████| 56/56 [00:15<00:00,  3.54it/s, accuracy=94.4, loss=0.0739]\n",
      "Epoch [80/100] Validation: 100%|██████████| 14/14 [00:11<00:00,  1.25it/s, accuracy=71, loss=0.725]  \n"
     ]
    },
    {
     "name": "stdout",
     "output_type": "stream",
     "text": [
      "Epoch 80/100\n",
      "Train Loss: 0.1480 | Train Acc: 94.36%\n",
      "Val Loss: 0.7776 | Val Acc: 70.98%\n"
     ]
    },
    {
     "name": "stderr",
     "output_type": "stream",
     "text": [
      "Epoch [81/100] Training: 100%|██████████| 56/56 [00:16<00:00,  3.42it/s, accuracy=94.2, loss=0.253] \n",
      "Epoch [81/100] Validation: 100%|██████████| 14/14 [00:11<00:00,  1.27it/s, accuracy=70.1, loss=0.706]\n"
     ]
    },
    {
     "name": "stdout",
     "output_type": "stream",
     "text": [
      "Epoch 81/100\n",
      "Train Loss: 0.1504 | Train Acc: 94.25%\n",
      "Val Loss: 0.8153 | Val Acc: 70.09%\n"
     ]
    },
    {
     "name": "stderr",
     "output_type": "stream",
     "text": [
      "Epoch [82/100] Training: 100%|██████████| 56/56 [00:16<00:00,  3.46it/s, accuracy=94.8, loss=0.137] \n",
      "Epoch [82/100] Validation: 100%|██████████| 14/14 [00:10<00:00,  1.28it/s, accuracy=72.5, loss=0.588]\n"
     ]
    },
    {
     "name": "stdout",
     "output_type": "stream",
     "text": [
      "Epoch 82/100\n",
      "Train Loss: 0.1450 | Train Acc: 94.81%\n",
      "Val Loss: 0.7851 | Val Acc: 72.54%\n"
     ]
    },
    {
     "name": "stderr",
     "output_type": "stream",
     "text": [
      "Epoch [83/100] Training: 100%|██████████| 56/56 [00:16<00:00,  3.44it/s, accuracy=93.7, loss=0.0789]\n",
      "Epoch [83/100] Validation: 100%|██████████| 14/14 [00:10<00:00,  1.28it/s, accuracy=69, loss=0.703]  \n"
     ]
    },
    {
     "name": "stdout",
     "output_type": "stream",
     "text": [
      "Epoch 83/100\n",
      "Train Loss: 0.1486 | Train Acc: 93.69%\n",
      "Val Loss: 0.8216 | Val Acc: 68.97%\n"
     ]
    },
    {
     "name": "stderr",
     "output_type": "stream",
     "text": [
      "Epoch [84/100] Training: 100%|██████████| 56/56 [00:15<00:00,  3.50it/s, accuracy=94, loss=0.117]   \n",
      "Epoch [84/100] Validation: 100%|██████████| 14/14 [00:10<00:00,  1.30it/s, accuracy=70.3, loss=0.694]\n"
     ]
    },
    {
     "name": "stdout",
     "output_type": "stream",
     "text": [
      "Epoch 84/100\n",
      "Train Loss: 0.1430 | Train Acc: 93.97%\n",
      "Val Loss: 0.8043 | Val Acc: 70.31%\n"
     ]
    },
    {
     "name": "stderr",
     "output_type": "stream",
     "text": [
      "Epoch [85/100] Training: 100%|██████████| 56/56 [00:16<00:00,  3.45it/s, accuracy=93.5, loss=0.179] \n",
      "Epoch [85/100] Validation: 100%|██████████| 14/14 [00:10<00:00,  1.30it/s, accuracy=69.9, loss=0.704]\n"
     ]
    },
    {
     "name": "stdout",
     "output_type": "stream",
     "text": [
      "Epoch 85/100\n",
      "Train Loss: 0.1490 | Train Acc: 93.47%\n",
      "Val Loss: 0.8430 | Val Acc: 69.87%\n"
     ]
    },
    {
     "name": "stderr",
     "output_type": "stream",
     "text": [
      "Epoch [86/100] Training: 100%|██████████| 56/56 [00:16<00:00,  3.47it/s, accuracy=93.9, loss=0.0768]\n",
      "Epoch [86/100] Validation: 100%|██████████| 14/14 [00:10<00:00,  1.28it/s, accuracy=70.8, loss=0.655]\n"
     ]
    },
    {
     "name": "stdout",
     "output_type": "stream",
     "text": [
      "Epoch 86/100\n",
      "Train Loss: 0.1506 | Train Acc: 93.91%\n",
      "Val Loss: 0.8315 | Val Acc: 70.76%\n"
     ]
    },
    {
     "name": "stderr",
     "output_type": "stream",
     "text": [
      "Epoch [87/100] Training: 100%|██████████| 56/56 [00:16<00:00,  3.44it/s, accuracy=93.9, loss=0.157] \n",
      "Epoch [87/100] Validation: 100%|██████████| 14/14 [00:10<00:00,  1.30it/s, accuracy=69.2, loss=0.732]\n"
     ]
    },
    {
     "name": "stdout",
     "output_type": "stream",
     "text": [
      "Epoch 87/100\n",
      "Train Loss: 0.1514 | Train Acc: 93.86%\n",
      "Val Loss: 0.8445 | Val Acc: 69.20%\n"
     ]
    },
    {
     "name": "stderr",
     "output_type": "stream",
     "text": [
      "Epoch [88/100] Training: 100%|██████████| 56/56 [00:15<00:00,  3.50it/s, accuracy=94.2, loss=0.121] \n",
      "Epoch [88/100] Validation: 100%|██████████| 14/14 [00:10<00:00,  1.29it/s, accuracy=72.1, loss=0.738]\n"
     ]
    },
    {
     "name": "stdout",
     "output_type": "stream",
     "text": [
      "Epoch 88/100\n",
      "Train Loss: 0.1487 | Train Acc: 94.25%\n",
      "Val Loss: 0.8129 | Val Acc: 72.10%\n"
     ]
    },
    {
     "name": "stderr",
     "output_type": "stream",
     "text": [
      "Epoch [89/100] Training: 100%|██████████| 56/56 [00:16<00:00,  3.49it/s, accuracy=94.1, loss=0.132] \n",
      "Epoch [89/100] Validation: 100%|██████████| 14/14 [00:10<00:00,  1.29it/s, accuracy=71.4, loss=0.663]\n"
     ]
    },
    {
     "name": "stdout",
     "output_type": "stream",
     "text": [
      "Epoch 89/100\n",
      "Train Loss: 0.1367 | Train Acc: 94.14%\n",
      "Val Loss: 0.7953 | Val Acc: 71.43%\n"
     ]
    },
    {
     "name": "stderr",
     "output_type": "stream",
     "text": [
      "Epoch [90/100] Training: 100%|██████████| 56/56 [00:16<00:00,  3.37it/s, accuracy=93.9, loss=0.163] \n",
      "Epoch [90/100] Validation: 100%|██████████| 14/14 [00:10<00:00,  1.29it/s, accuracy=70.5, loss=0.691]\n"
     ]
    },
    {
     "name": "stdout",
     "output_type": "stream",
     "text": [
      "Epoch 90/100\n",
      "Train Loss: 0.1497 | Train Acc: 93.91%\n",
      "Val Loss: 0.8519 | Val Acc: 70.54%\n"
     ]
    },
    {
     "name": "stderr",
     "output_type": "stream",
     "text": [
      "Epoch [91/100] Training: 100%|██████████| 56/56 [00:16<00:00,  3.42it/s, accuracy=94, loss=0.206]   \n",
      "Epoch [91/100] Validation: 100%|██████████| 14/14 [00:10<00:00,  1.28it/s, accuracy=72.3, loss=0.634]\n"
     ]
    },
    {
     "name": "stdout",
     "output_type": "stream",
     "text": [
      "Epoch 91/100\n",
      "Train Loss: 0.1478 | Train Acc: 93.97%\n",
      "Val Loss: 0.8318 | Val Acc: 72.32%\n"
     ]
    },
    {
     "name": "stderr",
     "output_type": "stream",
     "text": [
      "Epoch [92/100] Training: 100%|██████████| 56/56 [00:16<00:00,  3.47it/s, accuracy=94, loss=0.0968]  \n",
      "Epoch [92/100] Validation: 100%|██████████| 14/14 [00:10<00:00,  1.30it/s, accuracy=69.9, loss=0.767]\n"
     ]
    },
    {
     "name": "stdout",
     "output_type": "stream",
     "text": [
      "Epoch 92/100\n",
      "Train Loss: 0.1459 | Train Acc: 94.03%\n",
      "Val Loss: 0.8260 | Val Acc: 69.87%\n"
     ]
    },
    {
     "name": "stderr",
     "output_type": "stream",
     "text": [
      "Epoch [93/100] Training: 100%|██████████| 56/56 [00:16<00:00,  3.44it/s, accuracy=93.9, loss=0.123] \n",
      "Epoch [93/100] Validation: 100%|██████████| 14/14 [00:11<00:00,  1.26it/s, accuracy=69.9, loss=0.798]\n"
     ]
    },
    {
     "name": "stdout",
     "output_type": "stream",
     "text": [
      "Epoch 93/100\n",
      "Train Loss: 0.1504 | Train Acc: 93.91%\n",
      "Val Loss: 0.8168 | Val Acc: 69.87%\n"
     ]
    },
    {
     "name": "stderr",
     "output_type": "stream",
     "text": [
      "Epoch [94/100] Training: 100%|██████████| 56/56 [00:16<00:00,  3.37it/s, accuracy=94, loss=0.112]   \n",
      "Epoch [94/100] Validation: 100%|██████████| 14/14 [00:12<00:00,  1.11it/s, accuracy=69.4, loss=0.652]\n"
     ]
    },
    {
     "name": "stdout",
     "output_type": "stream",
     "text": [
      "Epoch 94/100\n",
      "Train Loss: 0.1515 | Train Acc: 94.03%\n",
      "Val Loss: 0.8248 | Val Acc: 69.42%\n"
     ]
    },
    {
     "name": "stderr",
     "output_type": "stream",
     "text": [
      "Epoch [95/100] Training: 100%|██████████| 56/56 [00:16<00:00,  3.39it/s, accuracy=93.5, loss=0.155] \n",
      "Epoch [95/100] Validation: 100%|██████████| 14/14 [00:10<00:00,  1.28it/s, accuracy=70.1, loss=0.732]\n"
     ]
    },
    {
     "name": "stdout",
     "output_type": "stream",
     "text": [
      "Epoch 95/100\n",
      "Train Loss: 0.1526 | Train Acc: 93.47%\n",
      "Val Loss: 0.8422 | Val Acc: 70.09%\n"
     ]
    },
    {
     "name": "stderr",
     "output_type": "stream",
     "text": [
      "Epoch [96/100] Training: 100%|██████████| 56/56 [00:16<00:00,  3.39it/s, accuracy=94.2, loss=0.141] \n",
      "Epoch [96/100] Validation: 100%|██████████| 14/14 [00:10<00:00,  1.30it/s, accuracy=70.1, loss=0.777]\n"
     ]
    },
    {
     "name": "stdout",
     "output_type": "stream",
     "text": [
      "Epoch 96/100\n",
      "Train Loss: 0.1479 | Train Acc: 94.19%\n",
      "Val Loss: 0.8324 | Val Acc: 70.09%\n"
     ]
    },
    {
     "name": "stderr",
     "output_type": "stream",
     "text": [
      "Epoch [97/100] Training: 100%|██████████| 56/56 [00:16<00:00,  3.44it/s, accuracy=94.2, loss=0.113] \n",
      "Epoch [97/100] Validation: 100%|██████████| 14/14 [00:10<00:00,  1.30it/s, accuracy=69.6, loss=0.65] \n"
     ]
    },
    {
     "name": "stdout",
     "output_type": "stream",
     "text": [
      "Epoch 97/100\n",
      "Train Loss: 0.1417 | Train Acc: 94.25%\n",
      "Val Loss: 0.8474 | Val Acc: 69.64%\n"
     ]
    },
    {
     "name": "stderr",
     "output_type": "stream",
     "text": [
      "Epoch [98/100] Training: 100%|██████████| 56/56 [00:16<00:00,  3.46it/s, accuracy=94.1, loss=0.0513]\n",
      "Epoch [98/100] Validation: 100%|██████████| 14/14 [00:10<00:00,  1.29it/s, accuracy=71.4, loss=0.762]\n"
     ]
    },
    {
     "name": "stdout",
     "output_type": "stream",
     "text": [
      "Epoch 98/100\n",
      "Train Loss: 0.1489 | Train Acc: 94.08%\n",
      "Val Loss: 0.8056 | Val Acc: 71.43%\n"
     ]
    },
    {
     "name": "stderr",
     "output_type": "stream",
     "text": [
      "Epoch [99/100] Training: 100%|██████████| 56/56 [00:16<00:00,  3.40it/s, accuracy=94.2, loss=0.109] \n",
      "Epoch [99/100] Validation: 100%|██████████| 14/14 [00:11<00:00,  1.24it/s, accuracy=70.1, loss=0.676]\n"
     ]
    },
    {
     "name": "stdout",
     "output_type": "stream",
     "text": [
      "Epoch 99/100\n",
      "Train Loss: 0.1505 | Train Acc: 94.25%\n",
      "Val Loss: 0.8279 | Val Acc: 70.09%\n"
     ]
    },
    {
     "name": "stderr",
     "output_type": "stream",
     "text": [
      "Epoch [100/100] Training: 100%|██████████| 56/56 [00:16<00:00,  3.39it/s, accuracy=93.5, loss=0.18]  \n",
      "Epoch [100/100] Validation: 100%|██████████| 14/14 [00:11<00:00,  1.26it/s, accuracy=70.5, loss=0.768]"
     ]
    },
    {
     "name": "stdout",
     "output_type": "stream",
     "text": [
      "Epoch 100/100\n",
      "Train Loss: 0.1559 | Train Acc: 93.47%\n",
      "Val Loss: 0.8031 | Val Acc: 70.54%\n"
     ]
    },
    {
     "name": "stderr",
     "output_type": "stream",
     "text": [
      "\n"
     ]
    }
   ],
   "source": [
    "# Training setup\n",
    "criterion = nn.CrossEntropyLoss()\n",
    "optimizer = optim.AdamW(model.parameters(), lr=1e-4, weight_decay=1e-4)\n",
    "scheduler = optim.lr_scheduler.ReduceLROnPlateau(optimizer, mode='min', patience=3, verbose=True)\n",
    "\n",
    "# Lists to store loss and accuracy for plotting\n",
    "train_losses, val_losses = [], []\n",
    "train_accuracies, val_accuracies = [], []\n",
    "\n",
    "# Training loop\n",
    "num_epochs = 100\n",
    "csv_filename = \"mobilenet_training_metrics.csv\"\n",
    "metrics_df = pd.DataFrame(columns=[\"Epoch\", \"Train Loss\", \"Train Accuracy\", \"Val Loss\", \"Val Accuracy\"])\n",
    "metrics_df.to_csv(csv_filename, index=False)\n",
    "\n",
    "for epoch in range(num_epochs):\n",
    "    # Training phase\n",
    "    model.train()\n",
    "    running_loss = 0.0\n",
    "    correct, total = 0, 0\n",
    "    \n",
    "    train_loop = tqdm(train_loader, desc=f\"Epoch [{epoch+1}/{num_epochs}] Training\")\n",
    "    for images, labels in train_loop:\n",
    "        images, labels = images.to(device), labels.to(device)\n",
    "        \n",
    "        optimizer.zero_grad()\n",
    "        outputs = model(images)\n",
    "        loss = criterion(outputs, labels)\n",
    "        loss.backward()\n",
    "        optimizer.step()\n",
    "        \n",
    "        _, predicted = torch.max(outputs.data, 1)\n",
    "        total += labels.size(0)\n",
    "        correct += (predicted == labels).sum().item()\n",
    "        running_loss += loss.item()\n",
    "        \n",
    "        train_loop.set_postfix(loss=loss.item(), accuracy=100 * correct / total)\n",
    "    \n",
    "    train_loss = running_loss / len(train_loader)\n",
    "    train_acc = 100 * correct / total\n",
    "    train_losses.append(train_loss)  # Store for plotting\n",
    "    train_accuracies.append(train_acc)  # Store for plotting\n",
    "\n",
    "    # Validation phase\n",
    "    model.eval()\n",
    "    val_running_loss = 0.0\n",
    "    correct, total = 0, 0\n",
    "    \n",
    "    val_loop = tqdm(val_loader, desc=f\"Epoch [{epoch+1}/{num_epochs}] Validation\")\n",
    "    with torch.no_grad():\n",
    "        for images, labels in val_loop:\n",
    "            images, labels = images.to(device), labels.to(device)\n",
    "            outputs = model(images)\n",
    "            loss = criterion(outputs, labels)\n",
    "            \n",
    "            val_running_loss += loss.item()\n",
    "            _, predicted = torch.max(outputs.data, 1)\n",
    "            total += labels.size(0)\n",
    "            correct += (predicted == labels).sum().item()\n",
    "            \n",
    "            val_loop.set_postfix(loss=loss.item(), accuracy=100 * correct / total)\n",
    "    \n",
    "    val_loss = val_running_loss / len(val_loader)\n",
    "    val_acc = 100 * correct / total\n",
    "    val_losses.append(val_loss)  # Store for plotting\n",
    "    val_accuracies.append(val_acc)  # Store for plotting\n",
    "\n",
    "    scheduler.step(val_loss)\n",
    "    \n",
    "    # Save metrics\n",
    "    epoch_df = pd.DataFrame([[epoch+1, train_loss, train_acc, val_loss, val_acc]],\n",
    "                           columns=[\"Epoch\", \"Train Loss\", \"Train Accuracy\", \"Val Loss\", \"Val Accuracy\"])\n",
    "    epoch_df.to_csv(csv_filename, mode='a', header=False, index=False)\n",
    "    \n",
    "    print(f\"Epoch {epoch+1}/{num_epochs}\")\n",
    "    print(f\"Train Loss: {train_loss:.4f} | Train Acc: {train_acc:.2f}%\")\n",
    "    print(f\"Val Loss: {val_loss:.4f} | Val Acc: {val_acc:.2f}%\")\n"
   ]
  },
  {
   "cell_type": "code",
   "execution_count": 10,
   "metadata": {},
   "outputs": [
    {
     "name": "stdout",
     "output_type": "stream",
     "text": [
      "Model saved successfully!\n"
     ]
    }
   ],
   "source": [
    "# Save the model's state dictionary\n",
    "torch.save(model.state_dict(), \"skin_cancer_model-MobileNet.pth\")\n",
    "\n",
    "print(\"Model saved successfully!\")"
   ]
  },
  {
   "cell_type": "code",
   "execution_count": 11,
   "metadata": {},
   "outputs": [
    {
     "data": {
      "image/png": "[encoded data removed]",
      "text/plain": [
       "<Figure size 1000x500 with 1 Axes>"
      ]
     },
     "metadata": {},
     "output_type": "display_data"
    },
    {
     "data": {
      "image/png": "[encoded data removed]",
      "text/plain": [
       "<Figure size 1000x500 with 1 Axes>"
      ]
     },
     "metadata": {},
     "output_type": "display_data"
    }
   ],
   "source": [
    "import matplotlib.pyplot as plt\n",
    "\n",
    "# Plot training and validation loss\n",
    "plt.figure(figsize=(10, 5))\n",
    "plt.plot(train_losses, label='Training Loss')\n",
    "plt.plot(val_losses, label='Validation Loss')\n",
    "plt.xlabel('Epoch')\n",
    "plt.ylabel('Loss')\n",
    "plt.legend()\n",
    "plt.title('Loss Curves')\n",
    "plt.show()\n",
    "\n",
    "# Plot training and validation accuracy\n",
    "plt.figure(figsize=(10, 5))\n",
    "plt.plot(train_accuracies, label='Training Accuracy')\n",
    "plt.plot(val_accuracies, label='Validation Accuracy')\n",
    "plt.xlabel('Epoch')\n",
    "plt.ylabel('Accuracy')\n",
    "plt.legend()\n",
    "plt.title('Accuracy Curves')\n",
    "plt.show()"
   ]
  },
  {
   "cell_type": "code",
   "execution_count": 12,
   "metadata": {},
   "outputs": [
    {
     "name": "stderr",
     "output_type": "stream",
     "text": [
      "Testing ResNet: 100%|███████████████████████| 4/4 [00:06<00:00,  1.56s/it, accuracy=56.8, loss=1.56]"
     ]
    },
    {
     "name": "stdout",
     "output_type": "stream",
     "text": [
      "Test Loss: 1.5618, Test Accuracy: 56.78%\n"
     ]
    },
    {
     "name": "stderr",
     "output_type": "stream",
     "text": [
      "\n"
     ]
    }
   ],
   "source": [
    "# Ensure the model is in evaluation mode\n",
    "model.eval()\n",
    "\n",
    "# Initialize variables to track test loss and accuracy\n",
    "test_loss = 0.0\n",
    "correct = 0\n",
    "total = 0\n",
    "\n",
    "# Disable gradient computation for testing\n",
    "with torch.no_grad():\n",
    "    # Wrap test_loader with tqdm for a progress bar\n",
    "    test_loop = tqdm(test_loader, desc=\"Testing ResNet\", ncols=100)\n",
    "    for images, labels in test_loop:\n",
    "        images, labels = images.to(device), labels.to(device)\n",
    "\n",
    "        # Forward pass through the ResNet model\n",
    "        outputs = model(images)  # This will return logits directly for ResNet\n",
    "        \n",
    "        # Access the logits from the model's output object (ResNet outputs logits)\n",
    "        logits = outputs  # For ResNet, we can directly use the output as logits\n",
    "\n",
    "        # Compute loss\n",
    "        loss = criterion(logits, labels)\n",
    "\n",
    "        # Accumulate loss\n",
    "        test_loss += loss.item() * images.size(0)  # Scale loss by batch size\n",
    "\n",
    "        # Compute accuracy\n",
    "        _, predicted = torch.max(logits.detach(), 1)  # Use .detach() instead of .data\n",
    "        total += labels.size(0)\n",
    "        correct += (predicted == labels).sum().item()\n",
    "\n",
    "        # Update the progress bar with loss and accuracy\n",
    "        test_loop.set_postfix(loss=test_loss / total, accuracy=(correct / total) * 100)\n",
    "\n",
    "# Compute final test loss and accuracy\n",
    "test_loss /= total  # Normalize loss properly\n",
    "test_accuracy = 100 * correct / total\n",
    "\n",
    "# Print the results\n",
    "print(f\"Test Loss: {test_loss:.4f}, Test Accuracy: {test_accuracy:.2f}%\")\n",
    "\n"
   ]
  },
  {
   "cell_type": "code",
   "execution_count": 13,
   "metadata": {},
   "outputs": [
    {
     "data": {
      "image/png": "[encoded data removed]",
      "text/plain": [
       "<Figure size 1000x500 with 1 Axes>"
      ]
     },
     "metadata": {},
     "output_type": "display_data"
    },
    {
     "data": {
      "image/png": "[encoded data removed]",
      "text/plain": [
       "<Figure size 1000x500 with 1 Axes>"
      ]
     },
     "metadata": {},
     "output_type": "display_data"
    }
   ],
   "source": [
    "import matplotlib.pyplot as plt\n",
    "\n",
    "# Plot training, validation, and test loss\n",
    "plt.figure(figsize=(10, 5))\n",
    "plt.plot(train_losses, label='Training Loss')\n",
    "plt.plot(val_losses, label='Validation Loss')\n",
    "plt.axhline(y=test_loss, color='r', linestyle='--', label='Test Loss')  # Add test loss as a horizontal line\n",
    "plt.xlabel('Epoch')\n",
    "plt.ylabel('Loss')\n",
    "plt.legend()\n",
    "plt.title('Loss Curves')\n",
    "plt.show()\n",
    "\n",
    "# Plot training, validation, and test accuracy\n",
    "plt.figure(figsize=(10, 5))\n",
    "plt.plot(train_accuracies, label='Training Accuracy')\n",
    "plt.plot(val_accuracies, label='Validation Accuracy')\n",
    "plt.axhline(y=test_accuracy, color='r', linestyle='--', label='Test Accuracy')  # Add test accuracy as a horizontal line\n",
    "plt.xlabel('Epoch')\n",
    "plt.ylabel('Accuracy')\n",
    "plt.legend()\n",
    "plt.title('Accuracy Curves')\n",
    "plt.show()"
   ]
  },
  {
   "cell_type": "code",
   "execution_count": 14,
   "metadata": {},
   "outputs": [
    {
     "data": {
      "image/png": "[encoded data removed]",
      "text/plain": [
       "<Figure size 1000x800 with 2 Axes>"
      ]
     },
     "metadata": {},
     "output_type": "display_data"
    }
   ],
   "source": [
    "import numpy as np\n",
    "import matplotlib.pyplot as plt\n",
    "from sklearn.metrics import confusion_matrix\n",
    "import seaborn as sns\n",
    "import torch\n",
    "\n",
    "# Ensure the model is in evaluation mode\n",
    "model.eval()\n",
    "\n",
    "# Initialize lists to store predictions and labels\n",
    "all_preds = []\n",
    "all_labels = []\n",
    "\n",
    "# Disable gradient computation for evaluation\n",
    "with torch.no_grad():\n",
    "    for images, labels in test_loader:  # Use test_loader for unseen data\n",
    "        images, labels = images.to(device), labels.to(device)\n",
    "\n",
    "        # Forward pass through the ResNet model\n",
    "        outputs = model(images)  # ResNet directly outputs logits\n",
    "        \n",
    "        # Extract logits\n",
    "        logits = outputs\n",
    "\n",
    "        # Get predicted class\n",
    "        _, preds = torch.max(logits, 1)\n",
    "\n",
    "        # Store predictions and labels\n",
    "        all_preds.extend(preds.cpu().numpy())\n",
    "        all_labels.extend(labels.cpu().numpy())\n",
    "\n",
    "# Compute the confusion matrix\n",
    "cm = confusion_matrix(all_labels, all_preds)\n",
    "\n",
    "# Plot the confusion matrix\n",
    "plt.figure(figsize=(10, 8))\n",
    "sns.heatmap(cm, annot=True, fmt='d', cmap='Blues', xticklabels=test_dataset.classes, yticklabels=test_dataset.classes)\n",
    "plt.xlabel('Predicted Labels')\n",
    "plt.ylabel('True Labels')\n",
    "plt.title('Confusion Matrix for ResNet on Test Data')\n",
    "plt.show()\n",
    "\n"
   ]
  },
  {
   "cell_type": "code",
   "execution_count": 15,
   "metadata": {},
   "outputs": [
    {
     "data": {
      "image/png": "[encoded data removed]",
      "text/plain": [
       "<Figure size 1000x800 with 2 Axes>"
      ]
     },
     "metadata": {},
     "output_type": "display_data"
    }
   ],
   "source": [
    "import numpy as np\n",
    "import matplotlib.pyplot as plt\n",
    "from sklearn.metrics import confusion_matrix\n",
    "import seaborn as sns\n",
    "import torch\n",
    "\n",
    "# Ensure the model is in evaluation mode\n",
    "model.eval()\n",
    "\n",
    "# Initialize lists to store predictions and labels for test data\n",
    "all_preds_test = []\n",
    "all_labels_test = []\n",
    "\n",
    "# Disable gradient computation for test set evaluation\n",
    "with torch.no_grad():\n",
    "    for images, labels in test_loader:  # Use test_loader\n",
    "        images, labels = images.to(device), labels.to(device)\n",
    "\n",
    "        # Forward pass through the ResNet model\n",
    "        outputs = model(images)  # ResNet returns logits directly\n",
    "        \n",
    "        # Extract logits from the model's output object (ResNet's output is already logits)\n",
    "        logits = outputs\n",
    "\n",
    "        # Get predicted class\n",
    "        _, preds = torch.max(logits, 1)\n",
    "\n",
    "        # Store predictions and labels\n",
    "        all_preds_test.extend(preds.cpu().numpy())\n",
    "        all_labels_test.extend(labels.cpu().numpy())\n",
    "\n",
    "# Compute the confusion matrix for test data\n",
    "cm_test = confusion_matrix(all_labels_test, all_preds_test)\n",
    "\n",
    "# Check if test_dataset has class names\n",
    "class_names = test_dataset.classes if hasattr(test_dataset, 'classes') else [str(i) for i in range(len(cm_test))]\n",
    "\n",
    "# Plot the confusion matrix for test data\n",
    "plt.figure(figsize=(10, 8))\n",
    "sns.heatmap(cm_test, annot=True, fmt='d', cmap='Blues', xticklabels=class_names, yticklabels=class_names)\n",
    "plt.xlabel('Predicted Labels')\n",
    "plt.ylabel('True Labels')\n",
    "plt.title('Confusion Matrix (Test Set)')\n",
    "plt.show()\n",
    "\n"
   ]
  },
  {
   "cell_type": "code",
   "execution_count": 16,
   "metadata": {},
   "outputs": [
    {
     "name": "stdout",
     "output_type": "stream",
     "text": [
      "Training F1 Score: 0.948\n",
      "Training Precision: 0.9491\n",
      "Training Recall: 0.9514\n"
     ]
    }
   ],
   "source": [
    "from sklearn.metrics import f1_score, precision_score, recall_score\n",
    "\n",
    "# Ensure the model is in evaluation mode\n",
    "model.eval()\n",
    "\n",
    "# Initialize lists to store predictions and labels for training data\n",
    "all_preds_train = []\n",
    "all_labels_train = []\n",
    "\n",
    "# Disable gradient computation for training set evaluation\n",
    "with torch.no_grad():\n",
    "    for images, labels in train_loader:  # Use train_loader\n",
    "        images, labels = images.to(device), labels.to(device)\n",
    "\n",
    "        # Forward pass through the ResNet model\n",
    "        outputs = model(images)  # ResNet returns logits directly\n",
    "        \n",
    "        # Extract logits (For ResNet, logits are directly the output)\n",
    "        logits = outputs  # No need to use .logits as with transformers\n",
    "\n",
    "        # Get predicted class\n",
    "        _, preds = torch.max(logits, 1)\n",
    "\n",
    "        # Store predictions and labels\n",
    "        all_preds_train.extend(preds.cpu().numpy())\n",
    "        all_labels_train.extend(labels.cpu().numpy())\n",
    "\n",
    "# Compute F1-score, precision, and recall for training set\n",
    "f1_train = f1_score(all_labels_train, all_preds_train, average='weighted')  # Use 'macro' for equal class weighting\n",
    "precision_train = precision_score(all_labels_train, all_preds_train, average='weighted')\n",
    "recall_train = recall_score(all_labels_train, all_preds_train, average='weighted')\n",
    "\n",
    "# Print the results\n",
    "print(f\"Training F1 Score: {f1_train:.3f}\")\n",
    "print(f\"Training Precision: {precision_train:.4f}\")\n",
    "print(f\"Training Recall: {recall_train:.4f}\")\n",
    "\n"
   ]
  },
  {
   "cell_type": "code",
   "execution_count": 17,
   "metadata": {},
   "outputs": [
    {
     "name": "stdout",
     "output_type": "stream",
     "text": [
      "Test F1 Score: 0.5374\n",
      "Test Precision: 0.6289\n",
      "Test Recall: 0.5678\n"
     ]
    },
    {
     "name": "stderr",
     "output_type": "stream",
     "text": [
      "C:\\Users\\Amir\\AppData\\Roaming\\Python\\Python39\\site-packages\\sklearn\\metrics\\_classification.py:1531: UndefinedMetricWarning: Precision is ill-defined and being set to 0.0 in labels with no predicted samples. Use `zero_division` parameter to control this behavior.\n",
      "  _warn_prf(average, modifier, f\"{metric.capitalize()} is\", len(result))\n"
     ]
    }
   ],
   "source": [
    "from sklearn.metrics import f1_score, precision_score, recall_score\n",
    "\n",
    "# Ensure the model is in evaluation mode\n",
    "model.eval()\n",
    "\n",
    "# Initialize lists to store predictions and labels for test data\n",
    "all_preds_test = []\n",
    "all_labels_test = []\n",
    "\n",
    "# Disable gradient computation for test set evaluation\n",
    "with torch.no_grad():\n",
    "    for images, labels in test_loader:  # Use test_loader for evaluation\n",
    "        images, labels = images.to(device), labels.to(device)\n",
    "\n",
    "        # Forward pass through the ResNet model\n",
    "        outputs = model(images)  # ResNet directly returns logits\n",
    "        \n",
    "        # Extract logits (for ResNet, we can directly use the output as logits)\n",
    "        logits = outputs\n",
    "\n",
    "        # Get predicted class\n",
    "        _, preds = torch.max(logits, 1)\n",
    "\n",
    "        # Store predictions and labels\n",
    "        all_preds_test.extend(preds.cpu().numpy())\n",
    "        all_labels_test.extend(labels.cpu().numpy())\n",
    "\n",
    "# Compute F1-score, precision, and recall for the test set\n",
    "f1_test = f1_score(all_labels_test, all_preds_test, average='weighted')  # Use 'macro' if you prefer equal class weighting\n",
    "precision_test = precision_score(all_labels_test, all_preds_test, average='weighted')\n",
    "recall_test = recall_score(all_labels_test, all_preds_test, average='weighted')\n",
    "\n",
    "# Print the results\n",
    "print(f\"Test F1 Score: {f1_test:.4f}\")\n",
    "print(f\"Test Precision: {precision_test:.4f}\")\n",
    "print(f\"Test Recall: {recall_test:.4f}\")\n"
   ]
  }
 ],
 "metadata": {
  "kernelspec": {
   "display_name": "base",
   "language": "python",
   "name": "python3"
  },
  "language_info": {
   "codemirror_mode": {
    "name": "ipython",
    "version": 3
   },
   "file_extension": ".py",
   "mimetype": "text/x-python",
   "name": "python",
   "nbconvert_exporter": "python",
   "pygments_lexer": "ipython3",
   "version": "3.9.13"
  }
 },
 "nbformat": 4,
 "nbformat_minor": 2
}
